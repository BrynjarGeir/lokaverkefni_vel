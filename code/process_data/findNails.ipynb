{
 "cells": [
  {
   "cell_type": "code",
   "execution_count": 2,
   "metadata": {},
   "outputs": [],
   "source": [
    "import pandas as pd, os\n",
    "from utils.util import is_laptop\n",
    "from datetime import date"
   ]
  },
  {
   "cell_type": "code",
   "execution_count": 3,
   "metadata": {},
   "outputs": [],
   "source": [
    "folder_path = 'D:/Skoli/Mastersverkefni/lokaverkefni_vel/data/' if is_laptop() else 'E:/Skóli/HÍ/Vélaverkfræði Master HÍ/Lokaverkefni/data/'\n",
    "hourly_path = folder_path + 'Measured/combined_klst/' + max(os.listdir(folder_path + 'Measured/combined_klst/'), key = lambda f: os.path.getmtime(folder_path + 'Measured/combined_klst/' + f))\n",
    "merged_path = folder_path + 'Combined/' + max((f for f in os.listdir(os.path.join(folder_path, 'Combined')) if os.path.isfile(os.path.join(folder_path, 'Combined', f))), key=lambda f: os.path.getmtime(os.path.join(folder_path, 'Combined', f)))"
   ]
  },
  {
   "cell_type": "code",
   "execution_count": 4,
   "metadata": {},
   "outputs": [],
   "source": [
    "hourly_df = pd.read_feather(hourly_path)\n",
    "merged_df = pd.read_feather(merged_path)"
   ]
  },
  {
   "cell_type": "code",
   "execution_count": 5,
   "metadata": {},
   "outputs": [],
   "source": [
    "# Rounds to next hour so as to be able to directly compare with the vedur klst file\n",
    "def next_hour(time):\n",
    "    return time.ceil('h')"
   ]
  },
  {
   "cell_type": "code",
   "execution_count": 6,
   "metadata": {},
   "outputs": [],
   "source": [
    "hourly_df.stod = pd.to_numeric(hourly_df.stod, errors = 'coerce')\n",
    "hourly_df.timi = pd.to_datetime(hourly_df.timi, errors = 'coerce')\n",
    "hourly_df.fx = pd.to_numeric(hourly_df.fx, errors = 'coerce')\n",
    "hourly_df.fg = pd.to_numeric(hourly_df.fg, errors = 'coerce')\n",
    "hourly_df.f = pd.to_numeric(hourly_df.f, errors = 'coerce')\n",
    "#hourly_df = hourly_df[(hourly_df.fx < 65) & (hourly_df.fg < 75)]\n",
    " \n",
    "merged_df['timi'] = merged_df.time.apply(next_hour)"
   ]
  },
  {
   "cell_type": "code",
   "execution_count": 22,
   "metadata": {},
   "outputs": [
    {
     "data": {
      "text/plain": [
       "(69467, 30)"
      ]
     },
     "execution_count": 22,
     "metadata": {},
     "output_type": "execute_result"
    }
   ],
   "source": [
    "merged_df.shape"
   ]
  },
  {
   "cell_type": "code",
   "execution_count": 7,
   "metadata": {},
   "outputs": [
    {
     "data": {
      "text/plain": [
       "(46476897, 6)"
      ]
     },
     "execution_count": 7,
     "metadata": {},
     "output_type": "execute_result"
    }
   ],
   "source": [
    "hourly_df.shape"
   ]
  },
  {
   "cell_type": "code",
   "execution_count": 7,
   "metadata": {},
   "outputs": [],
   "source": [
    "combined_df = pd.merge(merged_df, hourly_df, on = ['stod', 'timi'], how = 'inner', suffixes=('_merged', '_hourly'))\n",
    "#combined_df = combined_df.dropna(subset=['fg_hourly'])"
   ]
  },
  {
   "cell_type": "code",
   "execution_count": 11,
   "metadata": {},
   "outputs": [
    {
     "data": {
      "text/plain": [
       "(68621, 34)"
      ]
     },
     "execution_count": 11,
     "metadata": {},
     "output_type": "execute_result"
    }
   ],
   "source": [
    "combined_df.shape"
   ]
  },
  {
   "cell_type": "code",
   "execution_count": 8,
   "metadata": {},
   "outputs": [],
   "source": [
    "nails_df = combined_df[~(abs(combined_df.f_merged - combined_df.fx) <= 0.1)]"
   ]
  },
  {
   "cell_type": "code",
   "execution_count": 9,
   "metadata": {},
   "outputs": [],
   "source": [
    "from matplotlib import pyplot as plt\n",
    "import os, numpy as np, seaborn as sns, pandas as pd\n",
    "from math import exp, log, log10"
   ]
  },
  {
   "cell_type": "code",
   "execution_count": 10,
   "metadata": {},
   "outputs": [
    {
     "data": {
      "text/plain": [
       "152"
      ]
     },
     "execution_count": 10,
     "metadata": {},
     "output_type": "execute_result"
    }
   ],
   "source": [
    "len(nails_df.stod.unique())"
   ]
  },
  {
   "cell_type": "code",
   "execution_count": 11,
   "metadata": {},
   "outputs": [
    {
     "data": {
      "text/plain": [
       "318"
      ]
     },
     "execution_count": 11,
     "metadata": {},
     "output_type": "execute_result"
    }
   ],
   "source": [
    "len(combined_df.stod.unique())"
   ]
  },
  {
   "cell_type": "code",
   "execution_count": 12,
   "metadata": {},
   "outputs": [
    {
     "data": {
      "text/plain": [
       "318"
      ]
     },
     "execution_count": 12,
     "metadata": {},
     "output_type": "execute_result"
    }
   ],
   "source": [
    "len(merged_df.stod.unique())"
   ]
  },
  {
   "cell_type": "code",
   "execution_count": 13,
   "metadata": {},
   "outputs": [
    {
     "data": {
      "text/plain": [
       "351"
      ]
     },
     "execution_count": 13,
     "metadata": {},
     "output_type": "execute_result"
    }
   ],
   "source": [
    "len(hourly_df.stod.unique())"
   ]
  },
  {
   "cell_type": "code",
   "execution_count": 18,
   "metadata": {},
   "outputs": [
    {
     "name": "stdout",
     "output_type": "stream",
     "text": [
      "Matching files in folder 1: []\n",
      "Matching files in folder 2: []\n",
      "Number of matching files: 0\n"
     ]
    }
   ],
   "source": [
    "import os\n",
    "\n",
    "def extract_number(filename):\n",
    "    \"\"\"Extracts the number from the filename.\"\"\"\n",
    "    # Split the filename by non-digit characters and return the first group of digits found\n",
    "    return ''.join(filter(str.isdigit, filename))\n",
    "\n",
    "def find_matching_files(folder1, folder2):\n",
    "    \"\"\"Finds matching files in two folders based on extracted numbers.\"\"\"\n",
    "    files1 = os.listdir(folder1)\n",
    "    files2 = os.listdir(folder2)\n",
    "    \n",
    "    # Extract numbers from filenames and store them in sets\n",
    "    numbers1 = {extract_number(file) for file in files1}\n",
    "    numbers2 = {extract_number(file) for file in files2}\n",
    "    \n",
    "    # Find common numbers (matching files)\n",
    "    matching_numbers = numbers1.intersection(numbers2)\n",
    "    \n",
    "    # Filter files with matching numbers\n",
    "    matching_files1 = [file for file in files1 if extract_number(file) in matching_numbers]\n",
    "    matching_files2 = [file for file in files2 if extract_number(file) in matching_numbers]\n",
    "    \n",
    "    return matching_files1, matching_files2\n",
    "\n",
    "# Example usage\n",
    "folder1 = 'D:/Skoli/Mastersverkefni/lokaverkefni_vel/data/Measured/10min'\n",
    "folder2 = 'D:/Skoli/Mastersverkefni/lokaverkefni_vel/data/Measured/klst'\n",
    "\n",
    "matching_files1, matching_files2 = find_matching_files(folder1, folder2)\n",
    "\n",
    "print(\"Matching files in folder 1:\", matching_files1)\n",
    "print(\"Matching files in folder 2:\", matching_files2)\n",
    "print(\"Number of matching files:\", len(matching_files1))  # or len(matching_files2), they should be the same\n"
   ]
  },
  {
   "cell_type": "code",
   "execution_count": 19,
   "metadata": {},
   "outputs": [
    {
     "name": "stdout",
     "output_type": "stream",
     "text": [
      "Matching files in folder 1: ['f_10min_1350.txt', 'f_10min_1361.txt', 'f_10min_1362.txt', 'f_10min_1368.txt', 'f_10min_1370.txt', 'f_10min_1391.txt', 'f_10min_1395.txt', 'f_10min_1453.txt', 'f_10min_1469.txt', 'f_10min_1470.txt', 'f_10min_1471.txt', 'f_10min_1472.txt', 'f_10min_1473.txt', 'f_10min_1474.txt', 'f_10min_1475.txt', 'f_10min_1477.txt', 'f_10min_1478.txt', 'f_10min_1479.txt', 'f_10min_1480.txt', 'f_10min_1481.txt', 'f_10min_1482.txt', 'f_10min_1483.txt', 'f_10min_1486.txt', 'f_10min_1487.txt', 'f_10min_1490.txt', 'f_10min_1493.txt', 'f_10min_1496.txt', 'f_10min_1570.txt', 'f_10min_1578.txt', 'f_10min_1590.txt', 'f_10min_1596.txt', 'f_10min_1672.txt', 'f_10min_1673.txt', 'f_10min_1679.txt', 'f_10min_1685.txt', 'f_10min_1689.txt', 'f_10min_1777.txt', 'f_10min_1779.txt', 'f_10min_1781.txt', 'f_10min_1868.txt', 'f_10min_1881.txt', 'f_10min_1919.txt', 'f_10min_1924.txt', 'f_10min_1925.txt', 'f_10min_1936.txt', 'f_10min_1938.txt', 'f_10min_2050.txt', 'f_10min_2175.txt', 'f_10min_2197.txt', 'f_10min_2266.txt', 'f_10min_2304.txt', 'f_10min_2315.txt', 'f_10min_2318.txt', 'f_10min_2319.txt', 'f_10min_2320.txt', 'f_10min_2323.txt', 'f_10min_2370.txt', 'f_10min_2390.txt', 'f_10min_2428.txt', 'f_10min_2480.txt', 'f_10min_2481.txt', 'f_10min_2530.txt', 'f_10min_2630.txt', 'f_10min_2631.txt', 'f_10min_2636.txt', 'f_10min_2641.txt', 'f_10min_2642.txt', 'f_10min_2643.txt', 'f_10min_2646.txt', 'f_10min_2655.txt', 'f_10min_2691.txt', 'f_10min_2692.txt', 'f_10min_2738.txt', 'f_10min_2841.txt', 'f_10min_2862.txt', 'f_10min_2941.txt', 'f_10min_3007.txt', 'f_10min_3054.txt', 'f_10min_3103.txt', 'f_10min_3122.txt', 'f_10min_3128.txt', 'f_10min_3223.txt', 'f_10min_3225.txt', 'f_10min_3242.txt', 'f_10min_3292.txt', 'f_10min_3317.txt', 'f_10min_3371.txt', 'f_10min_3380.txt', 'f_10min_3433.txt', 'f_10min_3463.txt', 'f_10min_3470.txt', 'f_10min_3471.txt', 'f_10min_3474.txt', 'f_10min_3477.txt', 'f_10min_3490.txt', 'f_10min_3585.txt', 'f_10min_3591.txt', 'f_10min_3595.txt', 'f_10min_3596.txt', 'f_10min_3658.txt', 'f_10min_3662.txt', 'f_10min_3691.txt', 'f_10min_3692.txt', 'f_10min_3695.txt', 'f_10min_3696.txt', 'f_10min_3720.txt', 'f_10min_3751.txt', 'f_10min_3752.txt', 'f_10min_3754.txt', 'f_10min_3779.txt', 'f_10min_3797.txt', 'f_10min_3975.txt', 'f_10min_3976.txt', 'f_10min_4019.txt', 'f_10min_4060.txt', 'f_10min_4180.txt', 'f_10min_4182.txt', 'f_10min_4193.txt', 'f_10min_4271.txt', 'f_10min_4275.txt', 'f_10min_4276.txt', 'f_10min_4300.txt', 'f_10min_4303.txt', 'f_10min_4323.txt', 'f_10min_4404.txt', 'f_10min_4406.txt', 'f_10min_4455.txt', 'f_10min_4472.txt', 'f_10min_4500.txt', 'f_10min_4614.txt', 'f_10min_4652.txt', 'f_10min_4828.txt', 'f_10min_4830.txt', 'f_10min_4867.txt', 'f_10min_4912.txt', 'f_10min_4921.txt', 'f_10min_5210.txt', 'f_10min_5309.txt', 'f_10min_5544.txt', 'f_10min_5548.txt', 'f_10min_5552.txt', 'f_10min_5777.txt', 'f_10min_5825.txt', 'f_10min_5847.txt', 'f_10min_5860.txt', 'f_10min_5872.txt', 'f_10min_5885.txt', 'f_10min_5932.txt', 'f_10min_5933.txt', 'f_10min_5940.txt', 'f_10min_5943.txt', 'f_10min_5960.txt', 'f_10min_5965.txt', 'f_10min_5968.txt', 'f_10min_5969.txt', 'f_10min_5970.txt', 'f_10min_5975.txt', 'f_10min_5981.txt', 'f_10min_5982.txt', 'f_10min_5988.txt', 'f_10min_5990.txt', 'f_10min_5993.txt', 'f_10min_6012.txt', 'f_10min_6015.txt', 'f_10min_6016.txt', 'f_10min_6017.txt', 'f_10min_6045.txt', 'f_10min_6134.txt', 'f_10min_6176.txt', 'f_10min_6208.txt', 'f_10min_6222.txt', 'f_10min_6235.txt', 'f_10min_6237.txt', 'f_10min_6272.txt', 'f_10min_6300.txt', 'f_10min_6310.txt', 'f_10min_6315.txt', 'f_10min_6393.txt', 'f_10min_6420.txt', 'f_10min_6424.txt', 'f_10min_6430.txt', 'f_10min_6459.txt', 'f_10min_6472.txt', 'f_10min_6499.txt', 'f_10min_6515.txt', 'f_10min_6546.txt', 'f_10min_6657.txt', 'f_10min_6670.txt', 'f_10min_6745.txt', 'f_10min_6748.txt', 'f_10min_6760.txt', 'f_10min_6776.txt', 'f_10min_6802.txt', 'f_10min_6935.txt', 'f_10min_6975.txt', 'f_10min_7001.txt', 'f_10min_7091.txt', 'f_10min_7092.txt', 'f_10min_7093.txt', 'f_10min_7094.txt', 'f_10min_7365.txt', 'f_10min_7366.txt', 'f_10min_7370.txt', 'f_10min_7472.txt', 'f_10min_7475.txt', 'f_10min_7477.txt', 'f_10min_7633.txt', 'f_10min_7636.txt', 'f_10min_7711.txt', 'f_10min_7738.txt', 'f_10min_7752.txt', 'f_10min_7790.txt']\n",
      "Matching files in folder 2: ['f_klst_1350.txt', 'f_klst_1361.txt', 'f_klst_1362.txt', 'f_klst_1368.txt', 'f_klst_1370.txt', 'f_klst_1391.txt', 'f_klst_1395.txt', 'f_klst_1453.txt', 'f_klst_1469.txt', 'f_klst_1470.txt', 'f_klst_1471.txt', 'f_klst_1472.txt', 'f_klst_1473.txt', 'f_klst_1474.txt', 'f_klst_1475.txt', 'f_klst_1477.txt', 'f_klst_1478.txt', 'f_klst_1479.txt', 'f_klst_1480.txt', 'f_klst_1481.txt', 'f_klst_1482.txt', 'f_klst_1483.txt', 'f_klst_1486.txt', 'f_klst_1487.txt', 'f_klst_1490.txt', 'f_klst_1493.txt', 'f_klst_1496.txt', 'f_klst_1570.txt', 'f_klst_1578.txt', 'f_klst_1590.txt', 'f_klst_1596.txt', 'f_klst_1672.txt', 'f_klst_1673.txt', 'f_klst_1679.txt', 'f_klst_1685.txt', 'f_klst_1689.txt', 'f_klst_1777.txt', 'f_klst_1779.txt', 'f_klst_1781.txt', 'f_klst_1868.txt', 'f_klst_1881.txt', 'f_klst_1919.txt', 'f_klst_1924.txt', 'f_klst_1925.txt', 'f_klst_1936.txt', 'f_klst_1938.txt', 'f_klst_2050.txt', 'f_klst_2175.txt', 'f_klst_2197.txt', 'f_klst_2266.txt', 'f_klst_2304.txt', 'f_klst_2315.txt', 'f_klst_2318.txt', 'f_klst_2319.txt', 'f_klst_2320.txt', 'f_klst_2323.txt', 'f_klst_2370.txt', 'f_klst_2390.txt', 'f_klst_2428.txt', 'f_klst_2480.txt', 'f_klst_2481.txt', 'f_klst_2530.txt', 'f_klst_2630.txt', 'f_klst_2631.txt', 'f_klst_2636.txt', 'f_klst_2641.txt', 'f_klst_2642.txt', 'f_klst_2643.txt', 'f_klst_2646.txt', 'f_klst_2655.txt', 'f_klst_2691.txt', 'f_klst_2692.txt', 'f_klst_2738.txt', 'f_klst_2841.txt', 'f_klst_2862.txt', 'f_klst_2941.txt', 'f_klst_3007.txt', 'f_klst_3054.txt', 'f_klst_3103.txt', 'f_klst_3122.txt', 'f_klst_3128.txt', 'f_klst_3223.txt', 'f_klst_3225.txt', 'f_klst_3242.txt', 'f_klst_3292.txt', 'f_klst_3317.txt', 'f_klst_3371.txt', 'f_klst_3380.txt', 'f_klst_3433.txt', 'f_klst_3463.txt', 'f_klst_3470.txt', 'f_klst_3471.txt', 'f_klst_3474.txt', 'f_klst_3477.txt', 'f_klst_3490.txt', 'f_klst_3585.txt', 'f_klst_3591.txt', 'f_klst_3595.txt', 'f_klst_3596.txt', 'f_klst_3658.txt', 'f_klst_3662.txt', 'f_klst_3691.txt', 'f_klst_3692.txt', 'f_klst_3695.txt', 'f_klst_3696.txt', 'f_klst_3720.txt', 'f_klst_3751.txt', 'f_klst_3752.txt', 'f_klst_3754.txt', 'f_klst_3779.txt', 'f_klst_3797.txt', 'f_klst_3975.txt', 'f_klst_3976.txt', 'f_klst_4019.txt', 'f_klst_4060.txt', 'f_klst_4180.txt', 'f_klst_4182.txt', 'f_klst_4193.txt', 'f_klst_4271.txt', 'f_klst_4275.txt', 'f_klst_4276.txt', 'f_klst_4300.txt', 'f_klst_4303.txt', 'f_klst_4323.txt', 'f_klst_4404.txt', 'f_klst_4406.txt', 'f_klst_4455.txt', 'f_klst_4472.txt', 'f_klst_4500.txt', 'f_klst_4614.txt', 'f_klst_4652.txt', 'f_klst_4828.txt', 'f_klst_4830.txt', 'f_klst_4867.txt', 'f_klst_4912.txt', 'f_klst_4921.txt', 'f_klst_5210.txt', 'f_klst_5309.txt', 'f_klst_5544.txt', 'f_klst_5548.txt', 'f_klst_5552.txt', 'f_klst_5777.txt', 'f_klst_5825.txt', 'f_klst_5847.txt', 'f_klst_5860.txt', 'f_klst_5872.txt', 'f_klst_5885.txt', 'f_klst_5932.txt', 'f_klst_5933.txt', 'f_klst_5940.txt', 'f_klst_5943.txt', 'f_klst_5960.txt', 'f_klst_5965.txt', 'f_klst_5968.txt', 'f_klst_5969.txt', 'f_klst_5970.txt', 'f_klst_5975.txt', 'f_klst_5981.txt', 'f_klst_5982.txt', 'f_klst_5988.txt', 'f_klst_5990.txt', 'f_klst_5993.txt', 'f_klst_6012.txt', 'f_klst_6015.txt', 'f_klst_6016.txt', 'f_klst_6017.txt', 'f_klst_6045.txt', 'f_klst_6134.txt', 'f_klst_6176.txt', 'f_klst_6208.txt', 'f_klst_6222.txt', 'f_klst_6235.txt', 'f_klst_6237.txt', 'f_klst_6272.txt', 'f_klst_6300.txt', 'f_klst_6310.txt', 'f_klst_6315.txt', 'f_klst_6393.txt', 'f_klst_6420.txt', 'f_klst_6424.txt', 'f_klst_6430.txt', 'f_klst_6459.txt', 'f_klst_6472.txt', 'f_klst_6499.txt', 'f_klst_6515.txt', 'f_klst_6546.txt', 'f_klst_6657.txt', 'f_klst_6670.txt', 'f_klst_6745.txt', 'f_klst_6748.txt', 'f_klst_6760.txt', 'f_klst_6776.txt', 'f_klst_6802.txt', 'f_klst_6935.txt', 'f_klst_6975.txt', 'f_klst_7001.txt', 'f_klst_7091.txt', 'f_klst_7092.txt', 'f_klst_7093.txt', 'f_klst_7094.txt', 'f_klst_7365.txt', 'f_klst_7366.txt', 'f_klst_7370.txt', 'f_klst_7472.txt', 'f_klst_7475.txt', 'f_klst_7477.txt', 'f_klst_7633.txt', 'f_klst_7636.txt', 'f_klst_7711.txt', 'f_klst_7738.txt', 'f_klst_7752.txt', 'f_klst_7790.txt']\n",
      "Number of matching files: 212\n"
     ]
    }
   ],
   "source": [
    "import os\n",
    "\n",
    "def extract_number(filename):\n",
    "    \"\"\"Extracts the number from the filename.\"\"\"\n",
    "    # Split the filename by '_' and return the last part\n",
    "    return filename.split('_')[-1].split('.')[0]\n",
    "\n",
    "def find_matching_files(folder1, folder2):\n",
    "    \"\"\"Finds matching files in two folders based on extracted numbers.\"\"\"\n",
    "    files1 = os.listdir(folder1)\n",
    "    files2 = os.listdir(folder2)\n",
    "    \n",
    "    # Extract numbers from filenames and store them in sets\n",
    "    numbers1 = {extract_number(file) for file in files1}\n",
    "    numbers2 = {extract_number(file) for file in files2}\n",
    "    \n",
    "    # Find common numbers (matching files)\n",
    "    matching_numbers = numbers1.intersection(numbers2)\n",
    "    \n",
    "    # Filter files with matching numbers\n",
    "    matching_files1 = [file for file in files1 if extract_number(file) in matching_numbers]\n",
    "    matching_files2 = [file for file in files2 if extract_number(file) in matching_numbers]\n",
    "    \n",
    "    return matching_files1, matching_files2\n",
    "\n",
    "# Example usage\n",
    "folder1 = 'D:/Skoli/Mastersverkefni/lokaverkefni_vel/data/Measured/10min'\n",
    "folder2 = 'D:/Skoli/Mastersverkefni/lokaverkefni_vel/data/Measured/klst'\n",
    "\n",
    "matching_files1, matching_files2 = find_matching_files(folder1, folder2)\n",
    "\n",
    "print(\"Matching files in folder 1:\", matching_files1)\n",
    "print(\"Matching files in folder 2:\", matching_files2)\n",
    "print(\"Number of matching files:\", len(matching_files1))  # or len(matching_files2), they should be the same\n"
   ]
  },
  {
   "cell_type": "code",
   "execution_count": 20,
   "metadata": {},
   "outputs": [
    {
     "name": "stdout",
     "output_type": "stream",
     "text": [
      "Matching files in folder 1: ['f_10min_31109.txt', 'f_10min_31122.txt', 'f_10min_31363.txt', 'f_10min_31364.txt', 'f_10min_31365.txt', 'f_10min_31380.txt', 'f_10min_31387.txt', 'f_10min_31392.txt', 'f_10min_31399.txt', 'f_10min_31474.txt', 'f_10min_31475.txt', 'f_10min_31484.txt', 'f_10min_31488.txt', 'f_10min_31561.txt', 'f_10min_31562.txt', 'f_10min_31572.txt', 'f_10min_31577.txt', 'f_10min_31578.txt', 'f_10min_31579.txt', 'f_10min_31591.txt', 'f_10min_31599.txt', 'f_10min_31640.txt', 'f_10min_31674.txt', 'f_10min_31840.txt', 'f_10min_31882.txt', 'f_10min_31931.txt', 'f_10min_31932.txt', 'f_10min_31942.txt', 'f_10min_31943.txt', 'f_10min_31948.txt', 'f_10min_31950.txt', 'f_10min_31958.txt', 'f_10min_31985.txt', 'f_10min_31986.txt', 'f_10min_32097.txt', 'f_10min_32179.txt', 'f_10min_32190.txt', 'f_10min_32224.txt', 'f_10min_32250.txt', 'f_10min_32282.txt', 'f_10min_32322.txt', 'f_10min_32355.txt', 'f_10min_32365.txt', 'f_10min_32372.txt', 'f_10min_32377.txt', 'f_10min_32390.txt', 'f_10min_32474.txt', 'f_10min_32533.txt', 'f_10min_32635.txt', 'f_10min_32643.txt', 'f_10min_32654.txt', 'f_10min_33023.txt', 'f_10min_33142.txt', 'f_10min_33204.txt', 'f_10min_33357.txt', 'f_10min_33394.txt', 'f_10min_33419.txt', 'f_10min_33424.txt', 'f_10min_33431.txt', 'f_10min_33451.txt', 'f_10min_33480.txt', 'f_10min_33487.txt', 'f_10min_33495.txt', 'f_10min_33563.txt', 'f_10min_33576.txt', 'f_10min_33643.txt', 'f_10min_33652.txt', 'f_10min_33654.txt', 'f_10min_33661.txt', 'f_10min_33750.txt', 'f_10min_33751.txt', 'f_10min_34073.txt', 'f_10min_34075.txt', 'f_10min_34081.txt', 'f_10min_34087.txt', 'f_10min_34148.txt', 'f_10min_34175.txt', 'f_10min_34238.txt', 'f_10min_34326.txt', 'f_10min_34347.txt', 'f_10min_34348.txt', 'f_10min_34382.txt', 'f_10min_34413.txt', 'f_10min_34415.txt', 'f_10min_34450.txt', 'f_10min_34559.txt', 'f_10min_34700.txt', 'f_10min_34732.txt', 'f_10min_34733.txt', 'f_10min_35107.txt', 'f_10min_35116.txt', 'f_10min_35305.txt', 'f_10min_35315.txt', 'f_10min_35553.txt', 'f_10min_35666.txt', 'f_10min_35769.txt', 'f_10min_35880.txt', 'f_10min_35884.txt', 'f_10min_35963.txt', 'f_10min_35965.txt', 'f_10min_35978.txt', 'f_10min_35985.txt', 'f_10min_36049.txt', 'f_10min_36122.txt', 'f_10min_36127.txt', 'f_10min_36132.txt', 'f_10min_36156.txt', 'f_10min_36270.txt', 'f_10min_36308.txt', 'f_10min_36386.txt', 'f_10min_36391.txt', 'f_10min_36411.txt', 'f_10min_36415.txt', 'f_10min_36504.txt', 'f_10min_36519.txt']\n",
      "Matching files in folder 2: ['f_vg_31109.txt', 'f_vg_31122.txt', 'f_vg_31363.txt', 'f_vg_31364.txt', 'f_vg_31365.txt', 'f_vg_31380.txt', 'f_vg_31387.txt', 'f_vg_31392.txt', 'f_vg_31399.txt', 'f_vg_31474.txt', 'f_vg_31475.txt', 'f_vg_31484.txt', 'f_vg_31488.txt', 'f_vg_31561.txt', 'f_vg_31562.txt', 'f_vg_31572.txt', 'f_vg_31577.txt', 'f_vg_31578.txt', 'f_vg_31579.txt', 'f_vg_31591.txt', 'f_vg_31599.txt', 'f_vg_31640.txt', 'f_vg_31674.txt', 'f_vg_31840.txt', 'f_vg_31882.txt', 'f_vg_31931.txt', 'f_vg_31932.txt', 'f_vg_31942.txt', 'f_vg_31943.txt', 'f_vg_31948.txt', 'f_vg_31950.txt', 'f_vg_31958.txt', 'f_vg_31985.txt', 'f_vg_31986.txt', 'f_vg_32097.txt', 'f_vg_32179.txt', 'f_vg_32190.txt', 'f_vg_32224.txt', 'f_vg_32250.txt', 'f_vg_32282.txt', 'f_vg_32322.txt', 'f_vg_32355.txt', 'f_vg_32365.txt', 'f_vg_32372.txt', 'f_vg_32377.txt', 'f_vg_32390.txt', 'f_vg_32474.txt', 'f_vg_32533.txt', 'f_vg_32635.txt', 'f_vg_32643.txt', 'f_vg_32654.txt', 'f_vg_33023.txt', 'f_vg_33142.txt', 'f_vg_33204.txt', 'f_vg_33357.txt', 'f_vg_33394.txt', 'f_vg_33419.txt', 'f_vg_33424.txt', 'f_vg_33431.txt', 'f_vg_33451.txt', 'f_vg_33480.txt', 'f_vg_33487.txt', 'f_vg_33495.txt', 'f_vg_33563.txt', 'f_vg_33576.txt', 'f_vg_33643.txt', 'f_vg_33652.txt', 'f_vg_33654.txt', 'f_vg_33661.txt', 'f_vg_33750.txt', 'f_vg_33751.txt', 'f_vg_34073.txt', 'f_vg_34075.txt', 'f_vg_34081.txt', 'f_vg_34087.txt', 'f_vg_34148.txt', 'f_vg_34175.txt', 'f_vg_34238.txt', 'f_vg_34326.txt', 'f_vg_34347.txt', 'f_vg_34348.txt', 'f_vg_34382.txt', 'f_vg_34413.txt', 'f_vg_34415.txt', 'f_vg_34450.txt', 'f_vg_34559.txt', 'f_vg_34700.txt', 'f_vg_34732.txt', 'f_vg_34733.txt', 'f_vg_35107.txt', 'f_vg_35116.txt', 'f_vg_35305.txt', 'f_vg_35315.txt', 'f_vg_35553.txt', 'f_vg_35666.txt', 'f_vg_35769.txt', 'f_vg_35880.txt', 'f_vg_35884.txt', 'f_vg_35963.txt', 'f_vg_35965.txt', 'f_vg_35978.txt', 'f_vg_35985.txt', 'f_vg_36049.txt', 'f_vg_36122.txt', 'f_vg_36127.txt', 'f_vg_36132.txt', 'f_vg_36156.txt', 'f_vg_36270.txt', 'f_vg_36308.txt', 'f_vg_36386.txt', 'f_vg_36391.txt', 'f_vg_36411.txt', 'f_vg_36415.txt', 'f_vg_36504.txt', 'f_vg_36519.txt']\n",
      "Number of matching files: 115\n"
     ]
    }
   ],
   "source": [
    "import os\n",
    "\n",
    "def extract_number(filename):\n",
    "    \"\"\"Extracts the number from the filename.\"\"\"\n",
    "    # Split the filename by '_' and return the last part\n",
    "    return filename.split('_')[-1].split('.')[0]\n",
    "\n",
    "def find_matching_files(folder1, folder2):\n",
    "    \"\"\"Finds matching files in two folders based on extracted numbers.\"\"\"\n",
    "    files1 = os.listdir(folder1)\n",
    "    files2 = os.listdir(folder2)\n",
    "    \n",
    "    # Extract numbers from filenames and store them in sets\n",
    "    numbers1 = {extract_number(file) for file in files1}\n",
    "    numbers2 = {extract_number(file) for file in files2}\n",
    "    \n",
    "    # Find common numbers (matching files)\n",
    "    matching_numbers = numbers1.intersection(numbers2)\n",
    "    \n",
    "    # Filter files with matching numbers\n",
    "    matching_files1 = [file for file in files1 if extract_number(file) in matching_numbers]\n",
    "    matching_files2 = [file for file in files2 if extract_number(file) in matching_numbers]\n",
    "    \n",
    "    return matching_files1, matching_files2\n",
    "\n",
    "# Example usage\n",
    "folder1 = 'D:/Skoli/Mastersverkefni/lokaverkefni_vel/data/Measured/10min'\n",
    "folder2 = 'D:/Skoli/Mastersverkefni/lokaverkefni_vel/data/Measured/vg'\n",
    "\n",
    "matching_files1, matching_files2 = find_matching_files(folder1, folder2)\n",
    "\n",
    "print(\"Matching files in folder 1:\", matching_files1)\n",
    "print(\"Matching files in folder 2:\", matching_files2)\n",
    "print(\"Number of matching files:\", len(matching_files1))  # or len(matching_files2), they should be the same\n"
   ]
  },
  {
   "cell_type": "code",
   "execution_count": 109,
   "metadata": {},
   "outputs": [
    {
     "data": {
      "image/png": "[encoded data removed]",
      "text/plain": [
       "<Figure size 640x480 with 1 Axes>"
      ]
     },
     "metadata": {},
     "output_type": "display_data"
    }
   ],
   "source": [
    "# Combine value counts from both DataFrames to ensure all values are present\n",
    "combined_value_counts = pd.concat([nails_df.stod.value_counts(), combined_df.stod.value_counts()], axis=1, keys=['nails', 'combined']).fillna(0)\n",
    "\n",
    "# Calculate the quotient of percentages\n",
    "quotient = (combined_value_counts['nails'] / combined_value_counts['combined']).fillna(0)\n",
    "\n",
    "# Automatically set ranges based on the quotient values\n",
    "min_val = quotient.min()\n",
    "max_val = quotient.max()\n",
    "n = 25\n",
    "range_width = (max_val - min_val) / n  # Divide into n ranges\n",
    "ranges = np.logspace(-3, np.log10(max_val), num=n)\n",
    "ranges = [(0, ranges[0])] + [(ranges[i], ranges[i+1]) for i in range(len(ranges)-1)]\n",
    "\n",
    "# Calculate the quotient of percentages falling into each range\n",
    "quotient_ranges = {}\n",
    "for lower, upper in ranges:\n",
    "    quotient_range = (combined_value_counts['nails'] / combined_value_counts['combined']).between(lower, upper).sum()\n",
    "    quotient_ranges[f'{lower*100:.0f}-{upper*100:.0f}%'] = quotient_range\n",
    "\n",
    "# Plot the graph\n",
    "plt.bar(quotient_ranges.keys(), quotient_ranges.values(), color='skyblue')\n",
    "plt.xlabel('Percentage Range')\n",
    "plt.ylabel('Number of Stations')\n",
    "plt.xticks(rotation=45)\n",
    "plt.yticks(range(0, 19, 3))\n",
    "\n",
    "plt.savefig('../visualization/outputs/png/error_count.png')\n",
    "\n",
    "plt.show()"
   ]
  },
  {
   "cell_type": "code",
   "execution_count": 25,
   "metadata": {},
   "outputs": [],
   "source": [
    "nailStripped_df = combined_df[abs(combined_df.f_merged - combined_df.fx) <= 0.1]\n",
    "assert nailStripped_df.f_merged.max() < 65"
   ]
  },
  {
   "cell_type": "code",
   "execution_count": 29,
   "metadata": {},
   "outputs": [
    {
     "data": {
      "text/plain": [
       "Index(['X', 'Y', 'time', 'ws_15', 'ws_250', 'ws_500', 'wd_15', 'wd_250',\n",
       "       'wd_500', 'p_15', 'p_250', 'p_500', 't_15', 't_250', 't_500', 'stod',\n",
       "       'f_merged', 'fg_merged', 'd_merged', 'Ri_01', 'Ri_12', 'Ri_02', 'N_01',\n",
       "       'N_12', 'N_02'],\n",
       "      dtype='object')"
      ]
     },
     "execution_count": 29,
     "metadata": {},
     "output_type": "execute_result"
    }
   ],
   "source": [
    "df_toWrite = nailStripped_df[['X', 'Y', 'time', 'ws_15', 'ws_250', 'ws_500', 'wd_15',\n",
    "       'wd_250', 'wd_500', 'p_15', 'p_250', 'p_500', 't_15', 't_250', 't_500',\n",
    "       'stod', 'f_merged', 'fg_merged', 'd_merged', 'Ri_01', 'Ri_12', 'Ri_02', 'N_01', 'N_12', 'N_02']]\n",
    "\n",
    "df_toWrite.columns"
   ]
  },
  {
   "cell_type": "code",
   "execution_count": 30,
   "metadata": {},
   "outputs": [
    {
     "data": {
      "text/plain": [
       "Index(['X', 'Y', 'time', 'ws_15', 'ws_250', 'ws_500', 'wd_15', 'wd_250',\n",
       "       'wd_500', 'p_15', 'p_250', 'p_500', 't_15', 't_250', 't_500', 'stod',\n",
       "       'f', 'fg', 'd', 'Ri_01', 'Ri_12', 'Ri_02', 'N_01', 'N_12', 'N_02'],\n",
       "      dtype='object')"
      ]
     },
     "execution_count": 30,
     "metadata": {},
     "output_type": "execute_result"
    }
   ],
   "source": [
    "df_toWrite = df_toWrite.rename({'f_merged':'f', 'fg_merged':'fg', 'd_merged':'d'}, axis = 1)\n",
    "\n",
    "df_toWrite.columns"
   ]
  },
  {
   "cell_type": "code",
   "execution_count": 31,
   "metadata": {},
   "outputs": [],
   "source": [
    "outputpath = folder_path + f'NailStripped/merged_stripped_{date.today()}.feather'\n",
    "df_toWrite.to_feather(outputpath)"
   ]
  }
 ],
 "metadata": {
  "kernelspec": {
   "display_name": ".venv",
   "language": "python",
   "name": "python3"
  },
  "language_info": {
   "codemirror_mode": {
    "name": "ipython",
    "version": 3
   },
   "file_extension": ".py",
   "mimetype": "text/x-python",
   "name": "python",
   "nbconvert_exporter": "python",
   "pygments_lexer": "ipython3",
   "version": "3.11.2"
  }
 },
 "nbformat": 4,
 "nbformat_minor": 2
}
