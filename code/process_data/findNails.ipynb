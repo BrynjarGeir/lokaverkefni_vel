{
 "cells": [
  {
   "cell_type": "code",
   "execution_count": 1,
   "metadata": {},
   "outputs": [],
   "source": [
    "import pandas as pd, os\n",
    "from utils.util import is_laptop\n",
    "from datetime import date"
   ]
  },
  {
   "cell_type": "code",
   "execution_count": 2,
   "metadata": {},
   "outputs": [],
   "source": [
    "folder_path = 'D:/Skoli/Mastersverkefni/lokaverkefni_vel/data/' if is_laptop() else 'E:/Skóli/HÍ/Vélaverkfræði Master HÍ/Lokaverkefni/data/'\n",
    "hourly_path = folder_path + 'Measured/combined_klst/' + max(os.listdir(folder_path + 'Measured/combined_klst/'), key = lambda f: os.path.getmtime(folder_path + 'Measured/combined_klst/' + f))\n",
    "merged_path = folder_path + 'Combined/' + max((f for f in os.listdir(os.path.join(folder_path, 'Combined')) if os.path.isfile(os.path.join(folder_path, 'Combined', f))), key=lambda f: os.path.getmtime(os.path.join(folder_path, 'Combined', f)))"
   ]
  },
  {
   "cell_type": "code",
   "execution_count": 18,
   "metadata": {},
   "outputs": [],
   "source": [
    "hourly_df = pd.read_feather(hourly_path)\n",
    "merged_df = pd.read_feather(merged_path)"
   ]
  },
  {
   "cell_type": "code",
   "execution_count": 4,
   "metadata": {},
   "outputs": [],
   "source": [
    "# Rounds to next hour so as to be able to directly compare with the vedur klst file\n",
    "def next_hour(time):\n",
    "    return time.ceil('h')"
   ]
  },
  {
   "cell_type": "code",
   "execution_count": 20,
   "metadata": {},
   "outputs": [],
   "source": [
    "hourly_df.stod = pd.to_numeric(hourly_df.stod, errors = 'coerce')\n",
    "hourly_df.timi = pd.to_datetime(hourly_df.timi, errors = 'coerce')\n",
    "hourly_df.fx = pd.to_numeric(hourly_df.fx, errors = 'coerce')\n",
    "hourly_df.fg = pd.to_numeric(hourly_df.fg, errors = 'coerce')\n",
    "hourly_df.f = pd.to_numeric(hourly_df.f, errors = 'coerce')\n",
    "hourly_df = hourly_df[(hourly_df.fx < 65) & (hourly_df.fg < 75)]\n",
    " \n",
    "merged_df['timi'] = merged_df.time.apply(next_hour)"
   ]
  },
  {
   "cell_type": "code",
   "execution_count": 22,
   "metadata": {},
   "outputs": [
    {
     "data": {
      "text/plain": [
       "(69467, 30)"
      ]
     },
     "execution_count": 22,
     "metadata": {},
     "output_type": "execute_result"
    }
   ],
   "source": [
    "merged_df.shape"
   ]
  },
  {
   "cell_type": "code",
   "execution_count": 23,
   "metadata": {},
   "outputs": [],
   "source": [
    "combined_df = pd.merge(merged_df, hourly_df, on = ['stod', 'timi'], how = 'inner', suffixes=('_merged', '_hourly'))\n",
    "combined_df = combined_df.dropna(subset=['fg_hourly'])"
   ]
  },
  {
   "cell_type": "code",
   "execution_count": 24,
   "metadata": {},
   "outputs": [
    {
     "data": {
      "text/plain": [
       "(67513, 34)"
      ]
     },
     "execution_count": 24,
     "metadata": {},
     "output_type": "execute_result"
    }
   ],
   "source": [
    "combined_df.shape"
   ]
  },
  {
   "cell_type": "code",
   "execution_count": 25,
   "metadata": {},
   "outputs": [],
   "source": [
    "nailStripped_df = combined_df[abs(combined_df.f_merged - combined_df.fx) <= 0.1]\n",
    "assert nailStripped_df.f_merged.max() < 65"
   ]
  },
  {
   "cell_type": "code",
   "execution_count": 29,
   "metadata": {},
   "outputs": [
    {
     "data": {
      "text/plain": [
       "Index(['X', 'Y', 'time', 'ws_15', 'ws_250', 'ws_500', 'wd_15', 'wd_250',\n",
       "       'wd_500', 'p_15', 'p_250', 'p_500', 't_15', 't_250', 't_500', 'stod',\n",
       "       'f_merged', 'fg_merged', 'd_merged', 'Ri_01', 'Ri_12', 'Ri_02', 'N_01',\n",
       "       'N_12', 'N_02'],\n",
       "      dtype='object')"
      ]
     },
     "execution_count": 29,
     "metadata": {},
     "output_type": "execute_result"
    }
   ],
   "source": [
    "df_toWrite = nailStripped_df[['X', 'Y', 'time', 'ws_15', 'ws_250', 'ws_500', 'wd_15',\n",
    "       'wd_250', 'wd_500', 'p_15', 'p_250', 'p_500', 't_15', 't_250', 't_500',\n",
    "       'stod', 'f_merged', 'fg_merged', 'd_merged', 'Ri_01', 'Ri_12', 'Ri_02', 'N_01', 'N_12', 'N_02']]\n",
    "\n",
    "df_toWrite.columns"
   ]
  },
  {
   "cell_type": "code",
   "execution_count": 30,
   "metadata": {},
   "outputs": [
    {
     "data": {
      "text/plain": [
       "Index(['X', 'Y', 'time', 'ws_15', 'ws_250', 'ws_500', 'wd_15', 'wd_250',\n",
       "       'wd_500', 'p_15', 'p_250', 'p_500', 't_15', 't_250', 't_500', 'stod',\n",
       "       'f', 'fg', 'd', 'Ri_01', 'Ri_12', 'Ri_02', 'N_01', 'N_12', 'N_02'],\n",
       "      dtype='object')"
      ]
     },
     "execution_count": 30,
     "metadata": {},
     "output_type": "execute_result"
    }
   ],
   "source": [
    "df_toWrite = df_toWrite.rename({'f_merged':'f', 'fg_merged':'fg', 'd_merged':'d'}, axis = 1)\n",
    "\n",
    "df_toWrite.columns"
   ]
  },
  {
   "cell_type": "code",
   "execution_count": 31,
   "metadata": {},
   "outputs": [],
   "source": [
    "outputpath = folder_path + f'NailStripped/merged_stripped_{date.today()}.feather'\n",
    "df_toWrite.to_feather(outputpath)"
   ]
  }
 ],
 "metadata": {
  "kernelspec": {
   "display_name": ".venv",
   "language": "python",
   "name": "python3"
  },
  "language_info": {
   "codemirror_mode": {
    "name": "ipython",
    "version": 3
   },
   "file_extension": ".py",
   "mimetype": "text/x-python",
   "name": "python",
   "nbconvert_exporter": "python",
   "pygments_lexer": "ipython3",
   "version": "3.11.2"
  }
 },
 "nbformat": 4,
 "nbformat_minor": 2
}
