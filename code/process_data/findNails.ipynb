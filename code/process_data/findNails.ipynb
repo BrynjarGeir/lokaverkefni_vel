{
 "cells": [
  {
   "cell_type": "code",
   "execution_count": 1,
   "metadata": {},
   "outputs": [],
   "source": [
    "import pandas as pd"
   ]
  },
  {
   "cell_type": "code",
   "execution_count": 2,
   "metadata": {},
   "outputs": [],
   "source": [
    "# For laptop\n",
    "hourly_path = 'D:/Skóli/lokaverkefni_vel/data/Vedurstofa/combined_klst.feather'\n",
    "ten_minute_path = 'D:/Skóli/lokaverkefni_vel/data/merged_measured_reanalysis_landscape_2sectors_25ms_24hr_25_3_24.feather'"
   ]
  },
  {
   "cell_type": "code",
   "execution_count": null,
   "metadata": {},
   "outputs": [],
   "source": [
    "# For PC\n",
    "hourly_path = 'E:/Skóli/HÍ/Vélaverkfræði Master HÍ/Lokaverkefni/Data/combined_klst.feather'\n",
    "ten_minute_path = 'E:/Skóli/HÍ/Vélaverkfræði Master Hí/Lokaverkefni/Data/merged_measured_reanalysis_landscape_2sectors_25ms_24hr_25_3_24.feather'"
   ]
  },
  {
   "cell_type": "code",
   "execution_count": 3,
   "metadata": {},
   "outputs": [],
   "source": [
    "hourly_df = pd.read_feather(hourly_path)\n",
    "ten_minute_df = pd.read_feather(ten_minute_path)"
   ]
  },
  {
   "cell_type": "code",
   "execution_count": 4,
   "metadata": {},
   "outputs": [],
   "source": [
    "# Rounds to next hour so as to be able to directly compare with the vedur klst file\n",
    "def next_hour(time):\n",
    "    return time.ceil('h')"
   ]
  },
  {
   "cell_type": "code",
   "execution_count": 38,
   "metadata": {},
   "outputs": [],
   "source": [
    "ten_minute_df['timi'] = ten_minute_df.time.apply(next_hour)\n",
    "ten_minute_df['fx'] = ten_minute_df.f.round(1)\n",
    "hourly_df.stod = pd.to_numeric(hourly_df.stod, errors = 'coerce')\n",
    "hourly_df.timi = pd.to_datetime(hourly_df.timi, errors = 'coerce')\n",
    "hourly_df.fx = pd.to_numeric(hourly_df.fx, errors = 'coerce')"
   ]
  },
  {
   "cell_type": "code",
   "execution_count": 41,
   "metadata": {},
   "outputs": [],
   "source": [
    "merged_df = pd.merge(ten_minute_df, hourly_df, on = ['stod', 'timi'], how = 'inner', suffixes=('_10min', '_hourly'))"
   ]
  },
  {
   "cell_type": "code",
   "execution_count": 42,
   "metadata": {},
   "outputs": [
    {
     "data": {
      "text/plain": [
       "(17971, 38)"
      ]
     },
     "execution_count": 42,
     "metadata": {},
     "output_type": "execute_result"
    }
   ],
   "source": [
    "merged_df.shape"
   ]
  },
  {
   "cell_type": "code",
   "execution_count": 58,
   "metadata": {},
   "outputs": [],
   "source": [
    "nailStripped_df = merged_df[abs(merged_df.fx_10min - merged_df.fx_hourly) <= 0.1]"
   ]
  },
  {
   "cell_type": "code",
   "execution_count": 60,
   "metadata": {},
   "outputs": [
    {
     "data": {
      "text/plain": [
       "Index(['X', 'Y', 'time', 'p_15', 'p_250', 'p_500', 't_15', 't_250', 't_500',\n",
       "       'wd_15', 'wd_250', 'wd_500', 'ws_15', 'ws_250', 'ws_500', 'yr_month',\n",
       "       'stod', 'f_10min', 'fg_10min', 'd_10min', 'Ri_01', 'Ri_12', 'Ri_02',\n",
       "       'N_01_real', 'N_12_real', 'N_02_real', 'N_01_imag', 'N_12_imag',\n",
       "       'N_02_imag', 'station_elevation', 'landscape_points', 'elevation',\n",
       "       'timi', 'fx_10min', 'f_hourly', 'fx_hourly', 'fg_hourly', 'd_hourly'],\n",
       "      dtype='object')"
      ]
     },
     "execution_count": 60,
     "metadata": {},
     "output_type": "execute_result"
    }
   ],
   "source": [
    "nailStripped_df.columns"
   ]
  },
  {
   "cell_type": "code",
   "execution_count": 63,
   "metadata": {},
   "outputs": [
    {
     "data": {
      "text/plain": [
       "Index(['X', 'Y', 'time', 'ws_15', 'ws_250', 'ws_500', 'wd_15', 'wd_250',\n",
       "       'wd_500', 'p_15', 'p_250', 'p_500', 't_15', 't_250', 't_500', 'stod',\n",
       "       'f_10min', 'fg_10min', 'd_10min', 'Ri_01', 'Ri_12', 'Ri_02',\n",
       "       'N_01_real', 'N_01_imag', 'N_12_real', 'N_12_imag', 'N_02_real',\n",
       "       'N_02_imag', 'station_elevation', 'landscape_points', 'elevation'],\n",
       "      dtype='object')"
      ]
     },
     "execution_count": 63,
     "metadata": {},
     "output_type": "execute_result"
    }
   ],
   "source": [
    "df_toWrite = nailStripped_df[['X', 'Y', 'time', 'ws_15', 'ws_250', 'ws_500', 'wd_15',\n",
    "       'wd_250', 'wd_500', 'p_15', 'p_250', 'p_500', 't_15', 't_250', 't_500',\n",
    "       'stod', 'f_10min', 'fg_10min', 'd_10min', 'Ri_01', 'Ri_12', 'Ri_02', 'N_01_real', 'N_01_imag', 'N_12_real', 'N_12_imag', 'N_02_real', 'N_02_imag',\n",
    "       'station_elevation', 'landscape_points', 'elevation']]\n",
    "\n",
    "df_toWrite.columns"
   ]
  },
  {
   "cell_type": "code",
   "execution_count": 64,
   "metadata": {},
   "outputs": [
    {
     "data": {
      "text/plain": [
       "Index(['X', 'Y', 'time', 'ws_15', 'ws_250', 'ws_500', 'wd_15', 'wd_250',\n",
       "       'wd_500', 'p_15', 'p_250', 'p_500', 't_15', 't_250', 't_500', 'stod',\n",
       "       'f', 'fg', 'd', 'Ri_01', 'Ri_12', 'Ri_02', 'N_01_real', 'N_01_imag',\n",
       "       'N_12_real', 'N_12_imag', 'N_02_real', 'N_02_imag', 'station_elevation',\n",
       "       'landscape_points', 'elevation'],\n",
       "      dtype='object')"
      ]
     },
     "execution_count": 64,
     "metadata": {},
     "output_type": "execute_result"
    }
   ],
   "source": [
    "df_toWrite = df_toWrite.rename({'f_10min':'f', 'fg_10min':'fg', 'd_10min':'d'}, axis = 1)\n",
    "\n",
    "df_toWrite.columns"
   ]
  },
  {
   "cell_type": "code",
   "execution_count": null,
   "metadata": {},
   "outputs": [],
   "source": [
    "# PC\n",
    "df_toWrite.to_feather('E:/Skóli/HÍ/Vélaverkfræði Master HÍ/Lokaverkefni/Data/merged-full-W-Landscape-And-Station-Elevations-2-sectors-25ms-24hr-18-3-24-stripped-with-klst.feather')"
   ]
  },
  {
   "cell_type": "code",
   "execution_count": 65,
   "metadata": {},
   "outputs": [],
   "source": [
    "# Laptop\n",
    "df_toWrite.to_feather('D:/Skóli/lokaverkefni_vel/data/merged_measured_reanalysis_landscape_2sectors_25ms_24hr_25_3_24_nailStripped.feather')"
   ]
  }
 ],
 "metadata": {
  "kernelspec": {
   "display_name": ".venv",
   "language": "python",
   "name": "python3"
  },
  "language_info": {
   "codemirror_mode": {
    "name": "ipython",
    "version": 3
   },
   "file_extension": ".py",
   "mimetype": "text/x-python",
   "name": "python",
   "nbconvert_exporter": "python",
   "pygments_lexer": "ipython3",
   "version": "3.11.2"
  }
 },
 "nbformat": 4,
 "nbformat_minor": 2
}
