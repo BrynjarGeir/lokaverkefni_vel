{
 "cells": [
  {
   "cell_type": "code",
   "execution_count": 1,
   "metadata": {},
   "outputs": [],
   "source": [
    "import pandas as pd, numpy as np"
   ]
  },
  {
   "cell_type": "code",
   "execution_count": null,
   "metadata": {},
   "outputs": [],
   "source": [
    "# For laptop\n",
    "measurement_path = 'D:\\Skóli\\lokaverkefni_vel\\data\\Vedurstofa\\combined_klst.feather'\n",
    "reanalysis_path = 'D:\\Skóli\\lokaverkefni_vel\\data\\merged-full-W-Landscape-And-Station-Elevations-25ms-24hr-11-3-24.feather'"
   ]
  },
  {
   "cell_type": "code",
   "execution_count": 2,
   "metadata": {},
   "outputs": [],
   "source": [
    "# For PC\n",
    "measurement_path = 'E:/Skóli/HÍ/Vélaverkfræði Master HÍ/Lokaverkefni/Data/combined_klst.feather'\n",
    "reanalysis_path = 'E:/Skóli/HÍ/Vélaverkfræði Master Hí/Lokaverkefni/Data/merged-full-W-Landscape-And-Station-Elevations-2-sectors-25ms-24hr-18-3-24.feather'"
   ]
  },
  {
   "cell_type": "code",
   "execution_count": 3,
   "metadata": {},
   "outputs": [],
   "source": [
    "measurement_df = pd.read_feather(measurement_path)\n",
    "reanalysis_df = pd.read_feather(reanalysis_path)"
   ]
  },
  {
   "cell_type": "code",
   "execution_count": 7,
   "metadata": {},
   "outputs": [],
   "source": [
    "# Rounds to next hour so as to be able to directly compare with the vedur klst file\n",
    "def next_hour(time):\n",
    "    return time.ceil('h')"
   ]
  },
  {
   "cell_type": "code",
   "execution_count": 16,
   "metadata": {},
   "outputs": [],
   "source": [
    "merged_df = pd.merge(reanalysis_df, measurement_df, on = ['stod', 'timi'], how = 'inner', suffixes=('_reanalysis', '_hourly_measurement'))"
   ]
  },
  {
   "cell_type": "code",
   "execution_count": 20,
   "metadata": {},
   "outputs": [],
   "source": [
    "df_final = merged_df[abs(merged_df.f_reanalysis - merged_df.fx) <= 0]"
   ]
  },
  {
   "cell_type": "code",
   "execution_count": null,
   "metadata": {},
   "outputs": [],
   "source": [
    "df_toWrite = df_final[['X_reanalysis', 'Y_reanalysis', 'time', 'ws_15', 'ws_250', 'ws_500', 'wd_15',\n",
    "       'wd_250', 'wd_500', 'p_15', 'p_250', 'p_500', 't_15', 't_250', 't_500',\n",
    "       'stod', 'f_reanalysis', 'fg_reanalysis', 'd_reanalysis', 'longitude_reanalysis', 'latitude_reanalysis', 'Ri_01', 'Ri_12', 'Ri_02', 'N_01', 'N_12', 'N_02',\n",
    "       'station_elevation', 'landscape_points', 'elevations']]\n",
    "\n",
    "df_toWrite.columns"
   ]
  },
  {
   "cell_type": "code",
   "execution_count": null,
   "metadata": {},
   "outputs": [],
   "source": [
    "df_toWrite = df_toWrite.rename({'X_reanalysis':'X', 'Y_reanalysis':'Y', 'f_reanalysis':'f', 'fg_reanalysis':'fg', 'd_reanalysis':'d', 'longitude_reanalysis':'longitude', 'latitude_reanalysis':'latitude'}, axis = 1)\n",
    "\n",
    "df_toWrite.columns"
   ]
  },
  {
   "cell_type": "code",
   "execution_count": null,
   "metadata": {},
   "outputs": [],
   "source": [
    "df_toWrite.to_feather('E:/Skóli/HÍ/Vélaverkfræði Master HÍ/Lokaverkefni/Data/merged-full-W-Landscape-And-Station-Elevations-2-sectors-25ms-24hr-18-3-24-stripped-with-klst.feather')"
   ]
  }
 ],
 "metadata": {
  "kernelspec": {
   "display_name": ".venv",
   "language": "python",
   "name": "python3"
  },
  "language_info": {
   "codemirror_mode": {
    "name": "ipython",
    "version": 3
   },
   "file_extension": ".py",
   "mimetype": "text/x-python",
   "name": "python",
   "nbconvert_exporter": "python",
   "pygments_lexer": "ipython3",
   "version": "3.12.2"
  }
 },
 "nbformat": 4,
 "nbformat_minor": 2
}
