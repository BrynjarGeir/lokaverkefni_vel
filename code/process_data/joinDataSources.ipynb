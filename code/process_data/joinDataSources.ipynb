{
 "cells": [
  {
   "cell_type": "code",
   "execution_count": 1,
   "metadata": {},
   "outputs": [],
   "source": [
    "import pandas as pd, dill as pickle, os\n",
    "from utils.calculateConstants import *\n",
    "from utils.util import is_laptop\n",
    "from datetime import date"
   ]
  },
  {
   "cell_type": "code",
   "execution_count": 2,
   "metadata": {},
   "outputs": [],
   "source": [
    "folder_path =  'E:/Skóli/HÍ/Vélaverkfræði Master HÍ/Lokaverkefni/Data/' if not is_laptop() else 'D:\\Skoli\\Mastersverkefni\\lokaverkefni_vel'\n",
    "stationsLonLatXY_path = folder_path + 'Measured/stationsLonLatXY.pkl'\n",
    "measured_path = folder_path + 'Measured/combined_10min/' + max(os.listdir(folder_path + 'Measured/combined_10min/'), key = lambda f: os.path.getmtime(folder_path + 'Measured/combined_10min/' + f))\n",
    "reanalysis_path = folder_path + 'Reanalysis/' + max([file for file in os.listdir(folder_path + 'Reanalysis/') if file.endswith('.feather')], key = lambda f: os.path.getmtime(folder_path + 'Reanalysis/' + f))"
   ]
  },
  {
   "cell_type": "code",
   "execution_count": 3,
   "metadata": {},
   "outputs": [],
   "source": [
    "def addXYtoMeasured(row, stationsLonLatXY):\n",
    "    station = row.stod\n",
    "    values = stationsLonLatXY.get(station, [None, None, None, None])\n",
    "    return pd.Series(values[2:])"
   ]
  },
  {
   "cell_type": "code",
   "execution_count": 4,
   "metadata": {},
   "outputs": [],
   "source": [
    "with open(stationsLonLatXY_path, 'rb') as f:\n",
    "    stationsLonLatXY = pickle.load(f)"
   ]
  },
  {
   "cell_type": "code",
   "execution_count": 5,
   "metadata": {},
   "outputs": [],
   "source": [
    "decimal_places = 4"
   ]
  },
  {
   "cell_type": "code",
   "execution_count": 6,
   "metadata": {},
   "outputs": [],
   "source": [
    "measured_df = pd.read_feather(measured_path)\n",
    "reanalysis_df = pd.read_feather(reanalysis_path)"
   ]
  },
  {
   "cell_type": "code",
   "execution_count": 8,
   "metadata": {},
   "outputs": [],
   "source": [
    "measured_df = measured_df.rename(columns = {'timi':'time'})\n",
    "measured_df[['X', 'Y']] = measured_df.apply(addXYtoMeasured, args=[stationsLonLatXY], axis = 1)\n",
    "measured_df = measured_df.round(decimal_places)"
   ]
  },
  {
   "cell_type": "code",
   "execution_count": 9,
   "metadata": {},
   "outputs": [],
   "source": [
    "reanalysis_df = reanalysis_df.rename(columns = {'lat':'Y', 'lon':'X', 'Wind speed':'ws', 'Wind direction': 'wd', 'Pressure':'p', 'Temperature':'t'})\n",
    "reanalysis_df = reanalysis_df.drop_duplicates(subset=['X', 'Y', 'time', 'height_level'])\n",
    "reanalysis_df = reanalysis_df.pivot(index = ['X', 'Y', 'time'], columns = 'height_level')\n",
    "reanalysis_df = reanalysis_df.drop(columns='yr_month')\n",
    "reanalysis_df.columns = [f'{col[0]}_{col[1]}' for col in reanalysis_df.columns]\n",
    "reanalysis_df = reanalysis_df.reset_index()\n",
    "reanalysis_df.time = pd.to_datetime(reanalysis_df.time)\n",
    "reanalysis_df = reanalysis_df.round(4)\n",
    "reanalysis_df[['Ri_01', 'Ri_12', 'Ri_02']] = reanalysis_df.apply(rowRichardson, axis = 1).apply(pd.Series)\n",
    "reanalysis_df[['N_01', 'N_12', 'N_02']] = reanalysis_df.apply(rowBruntVaisala, axis = 1).apply(pd.Series)"
   ]
  },
  {
   "cell_type": "code",
   "execution_count": 10,
   "metadata": {},
   "outputs": [],
   "source": [
    "merged_df = pd.merge(measured_df, reanalysis_df, on = ['time', 'X', 'Y'], how = 'inner')\n",
    "merged_df[['N_01', 'N_12', 'N_02']] = merged_df[['N_01', 'N_12', 'N_02']].map(lambda x: (x.real, x.imag))\n",
    "merged_df = merged_df.drop(['fsdev', 'dsdev'], axis = 1)\n",
    "merged_df.to_feather(folder_path + 'Combined/' + f'merged_{date.today()}.feather')"
   ]
  },
  {
   "cell_type": "markdown",
   "metadata": {},
   "source": [
    "# To go other direction with complex numbers\n",
    "# df[['column2', 'column3']] = df[['column2', 'column3']].map(lambda x: complex(*x))\n"
   ]
  }
 ],
 "metadata": {
  "kernelspec": {
   "display_name": ".venv",
   "language": "python",
   "name": "python3"
  },
  "language_info": {
   "codemirror_mode": {
    "name": "ipython",
    "version": 3
   },
   "file_extension": ".py",
   "mimetype": "text/x-python",
   "name": "python",
   "nbconvert_exporter": "python",
   "pygments_lexer": "ipython3",
   "version": "3.12.2"
  }
 },
 "nbformat": 4,
 "nbformat_minor": 2
}
