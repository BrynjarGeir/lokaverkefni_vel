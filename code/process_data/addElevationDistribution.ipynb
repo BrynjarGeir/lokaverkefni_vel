{
 "cells": [
  {
   "cell_type": "markdown",
   "metadata": {},
   "source": [
    "# Generate landscape and elevation points for a dataframe that already contains the Veðurstofu measurement and Carra reanalysis\n",
    "\n",
    "The type of landscape distribution to be generated can be changed by changing the imports from utils.elevation"
   ]
  },
  {
   "cell_type": "code",
   "execution_count": 6,
   "metadata": {},
   "outputs": [],
   "source": [
    "import pandas as pd, rasterio\n",
    "from utils.elevation import generateLandscapeDistribution2Sectors, generateElevationDistribution\n",
    "\n",
    "mergedPath = \"E:/Skóli/HÍ/Vélaverkfræði Master Hí/Lokaverkefni/Data/merged-full-W-Landscape-And-Station-Elevations-25ms-24hr-18-3-24.feather\"\n",
    "elevationPath = \"E:/Skóli/HÍ/Vélaverkfræði Master Hí/Lokaverkefni/Data/IslandsDEMv1.0_20x20m_isn93_zmasl.tif\"\n",
    "outputPath = \"E:/Skóli/HÍ/Vélaverkfræði Master Hí/Lokaverkefni/Data/merged-full-W-Landscape-And-Station-Elevations-2-sectors-25ms-24hr-18-3-24.feather\""
   ]
  },
  {
   "cell_type": "code",
   "execution_count": 2,
   "metadata": {},
   "outputs": [],
   "source": [
    "df = pd.read_feather(mergedPath)\n",
    "\n",
    "with rasterio.open(elevationPath) as dataset:\n",
    "    elevation = dataset.read(1)\n",
    "    index = dataset.index\n",
    "    transform = dataset.transform\n",
    "\n",
    "df['landscape_points'] = df.apply(generateLandscapeDistribution2Sectors, axis = 1)\n",
    "\n",
    "df['elevations']  = df.apply(generateElevationDistribution, args = (transform, index, elevation), axis = 1)"
   ]
  },
  {
   "cell_type": "code",
   "execution_count": 7,
   "metadata": {},
   "outputs": [],
   "source": [
    "df.to_feather(outputPath)"
   ]
  }
 ],
 "metadata": {
  "kernelspec": {
   "display_name": ".venv",
   "language": "python",
   "name": "python3"
  },
  "language_info": {
   "codemirror_mode": {
    "name": "ipython",
    "version": 3
   },
   "file_extension": ".py",
   "mimetype": "text/x-python",
   "name": "python",
   "nbconvert_exporter": "python",
   "pygments_lexer": "ipython3",
   "version": "3.12.2"
  }
 },
 "nbformat": 4,
 "nbformat_minor": 2
}
