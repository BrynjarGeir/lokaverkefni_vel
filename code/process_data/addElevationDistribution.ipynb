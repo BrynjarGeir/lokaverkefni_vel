{
 "cells": [
  {
   "cell_type": "markdown",
   "metadata": {},
   "source": [
    "# Generate landscape and elevation points for a dataframe that already contains the Veðurstofu measurement and Carra reanalysis\n",
    "\n",
    "The type of landscape distribution to be generated can be changed by changing the imports from utils.elevation"
   ]
  },
  {
   "cell_type": "code",
   "execution_count": 1,
   "metadata": {},
   "outputs": [],
   "source": [
    "from utils.elevation import generateLandscapeDistribution2Sectors, generateElevationDistribution, findLandscapeElevation\n",
    "from utils.util import is_laptop\n",
    "from datetime import date\n",
    "\n",
    "import pandas as pd, rasterio, os"
   ]
  },
  {
   "cell_type": "code",
   "execution_count": 2,
   "metadata": {},
   "outputs": [],
   "source": [
    "folder_path = 'D:/Skoli/Mastersverkefni/lokaverkefni_vel/data/' if is_laptop() else 'E:/Skóli/HÍ/Vélaverkfræði Master HÍ/Lokaverkefni/data/'\n",
    "merged_nailstripped_path = folder_path + 'NailStripped/' + max(os.listdir(folder_path + 'NailStripped/'), key = lambda f: os.path.getmtime(folder_path + 'NailStripped/' + f))\n",
    "elevationPath = folder_path + \"Elevation/IslandsDEMv1.0_20x20m_isn93_zmasl.tif\"\n",
    "outputPath = folder_path + \"NailStripped_W_Elevation/\" + f'merged_stripped_elevation_{date.today()}.feather'"
   ]
  },
  {
   "cell_type": "code",
   "execution_count": 3,
   "metadata": {},
   "outputs": [],
   "source": [
    "df = pd.read_feather(merged_nailstripped_path)\n",
    "\n",
    "with rasterio.open(elevationPath) as dataset:\n",
    "    elevation = dataset.read(1)\n",
    "    index = dataset.index\n",
    "    transform = dataset.transform"
   ]
  },
  {
   "cell_type": "code",
   "execution_count": 4,
   "metadata": {},
   "outputs": [],
   "source": [
    "def addPointElevation(row, transform, index, elevation):\n",
    "    X, Y = row.X, row.Y\n",
    "    return findLandscapeElevation((X,Y), transform, index, elevation)"
   ]
  },
  {
   "cell_type": "code",
   "execution_count": 5,
   "metadata": {},
   "outputs": [],
   "source": [
    "df['station_elevation'] = df.apply(addPointElevation, args = (transform, index, elevation), axis = 1)\n",
    "df['landscape_points'] = df.apply(generateLandscapeDistribution2Sectors, axis = 1)\n",
    "df['elevations']  = df.apply(generateElevationDistribution, args = (transform, index, elevation), axis = 1)"
   ]
  },
  {
   "cell_type": "code",
   "execution_count": 6,
   "metadata": {},
   "outputs": [],
   "source": [
    "df.to_feather(outputPath)"
   ]
  }
 ],
 "metadata": {
  "kernelspec": {
   "display_name": ".venv",
   "language": "python",
   "name": "python3"
  },
  "language_info": {
   "codemirror_mode": {
    "name": "ipython",
    "version": 3
   },
   "file_extension": ".py",
   "mimetype": "text/x-python",
   "name": "python",
   "nbconvert_exporter": "python",
   "pygments_lexer": "ipython3",
   "version": "3.11.2"
  }
 },
 "nbformat": 4,
 "nbformat_minor": 2
}
