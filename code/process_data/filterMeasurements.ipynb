{
 "cells": [
  {
   "cell_type": "code",
   "execution_count": 2,
   "id": "a9b5be49",
   "metadata": {
    "lines_to_next_cell": 1
   },
   "outputs": [],
   "source": [
    "import pandas as pd, os, dill as pickle, csv\n",
    "from tqdm import tqdm, trange\n",
    "from utils.transform import getVedurLonLatInISN93\n",
    "from datetime import date\n",
    "from itertools import islice"
   ]
  },
  {
   "cell_type": "code",
   "execution_count": null,
   "id": "62d37dd7",
   "metadata": {
    "lines_to_next_cell": 1
   },
   "outputs": [],
   "source": [
    "def createStationsLonLatXY(stodTxtPath: str = 'D:/Skóli/lokaverkefni_vel/data/Vedurstofa/stod.txt', outputPath: str = 'D:/Skóli/lokaverkefni_vel/data/Vedurstofa/stationsLonLatXY.pkl', encoding: str = 'ISO-8859-1'):\n",
    "    stationsDict = {}\n",
    "    with open(stodTxtPath, 'r', encoding = encoding) as f:\n",
    "        stations = [a.strip().split(',') for a in f.readlines()][1:]\n",
    "        stations = [[int(a[0]), a[1], float(a[2]), float(a[3]), float(a[4]) if a[4].isnumeric() else a[4], a[5]] for a in stations]\n",
    "    for station in stations:\n",
    "        latitude, longitude = station[2], station[3]\n",
    "        x, y = getVedurLonLatInISN93(longitude, latitude)\n",
    "        stationsDict[station[0]] = (-longitude, latitude, x, y)\n",
    "\n",
    "    with open(outputPath, 'wb') as f:\n",
    "        pickle.dump(stationsDict, f)"
   ]
  },
  {
   "cell_type": "code",
   "execution_count": null,
   "id": "387af1cf",
   "metadata": {
    "lines_to_next_cell": 1
   },
   "outputs": [],
   "source": [
    "def tooClose(dt1, dt2, threshold):\n",
    "    return abs((dt1 - dt2)) < pd.Timedelta(threshold, 's')"
   ]
  },
  {
   "cell_type": "code",
   "execution_count": null,
   "id": "0dc28333",
   "metadata": {
    "lines_to_next_cell": 1
   },
   "outputs": [],
   "source": [
    "#def combine10min(path_10min: str = 'E:/Skóli/HÍ/Vélaverkfræði Master HÍ/Lokaverkefni/Data/Vedurstofa/10min/', outputpath: str = 'E:/Skóli/HÍ/Vélaverkfræði Master HÍ/Lokaverkefni/Data/Vedurstofa/combined_10min_20ms.feather') -> None:\n",
    "def combine10min(path_10min: str = 'D:/Skoli/Mastersverkefni/lokaverkefni_vel/data/Measured/10min/', outputpath: str = 'D:/Skóli/lokaverkefni_vel/data/Vedurstofa/combined_10min_20ms_25_3_24.feather'):\n",
    "    files = [os.path.join(path_10min, file) for file in os.listdir(path_10min)]\n",
    "    columns, df = None, None\n",
    "\n",
    "    for file in tqdm(files, total = len(files)):\n",
    "        with open(file, 'r') as f:\n",
    "            reader = list(csv.reader(f))\n",
    "            \n",
    "        if not columns:\n",
    "            columns = reader[0]\n",
    "        \n",
    "        lines = reader[1:]\n",
    "\n",
    "        if df is None:\n",
    "            df = pd.DataFrame(lines, columns = columns)\n",
    "        else:\n",
    "            df = pd.concat([df, pd.DataFrame(lines, columns = columns)])\n",
    "        \n",
    "        df.f = pd.to_numeric(df.f, errors = 'coerce')\n",
    "        #df = df[df.f >= 20]\n",
    "\n",
    "    df.timi = pd.to_datetime(df.timi)\n",
    "    df.stod = df.stod.astype(int)\n",
    "    df.f = pd.to_numeric(df.f, errors = 'coerce')\n",
    "    df.fg = pd.to_numeric(df.fg, errors = 'coerce')\n",
    "    df.fsdev = pd.to_numeric(df.fsdev, errors = 'coerce')\n",
    "    df.d = pd.to_numeric(df.d, errors = 'coerce')\n",
    "    df.dsdev = pd.to_numeric(df.dsdev, errors = 'coerce')\n",
    "\n",
    "    df.to_feather(outputpath)"
   ]
  },
  {
   "cell_type": "code",
   "execution_count": 1,
   "id": "46a6ab5d",
   "metadata": {},
   "outputs": [],
   "source": [
    "#def combine10min(path_10min: str = 'E:/Skóli/HÍ/Vélaverkfræði Master HÍ/Lokaverkefni/Data/Vedurstofa/10min/', outputpath: str = 'E:/Skóli/HÍ/Vélaverkfræði Master HÍ/Lokaverkefni/Data/Vedurstofa/combined_10min_20ms.feather') -> None:\n",
    "def combine10minText(path_10min: str = 'D:/Skoli/Mastersverkefni/lokaverkefni_vel/data/Measured/10min/', outputpath: str = 'D:/Skoli/Mastersverkefni/lokaverkefni_vel/data/Measured/combined_10min/combined_10min.txt'):\n",
    "    files = [os.path.join(path_10min, file) for file in os.listdir(path_10min)]\n",
    "\n",
    "    for file in tqdm(files, total = len(files)):\n",
    "        with open(file, 'r') as f:\n",
    "            lines = f.readlines()\n",
    "        \n",
    "        lines = lines[1:]\n",
    "        print(lines[0])\n",
    "        with open(outputpath, 'a+') as f:\n",
    "            f.writelines(lines)"
   ]
  },
  {
   "cell_type": "code",
   "execution_count": 4,
   "id": "8f35be0f",
   "metadata": {},
   "outputs": [],
   "source": [
    "# https://stackoverflow.com/questions/6335839/python-how-to-read-n-number-of-lines-at-a-time\n",
    "def convertTimiF_Combined10min_toFeather(text_path: str = 'D:/Skoli/Mastersverkefni/lokaverkefni_vel/data/Measured/combined_10min/combined_10min.txt', \n",
    "                                         outputpath: str = 'D:/Skoli/Mastersverkefni/lokaverkefni_vel/data/Measured/combined_10min/combined_10min'):\n",
    "    chunk_size = int(1e6)\n",
    "    times, windspeeds, j = [], [], 0\n",
    "    to_break = False\n",
    "    with open(text_path, 'r') as f:\n",
    "        while True:\n",
    "            next_chunk = [f.readline() for _ in range(chunk_size)]\n",
    "            if '' in next_chunk:\n",
    "                next_chunk = [item for item in next_chunk if item]\n",
    "                to_break = True\n",
    "            next_chunk = [item.rstrip().split(',') for item in next_chunk]\n",
    "            try:\n",
    "                timi = [item[0] for item in next_chunk]\n",
    "                windspeed = [item[2] for item in next_chunk]\n",
    "            except:\n",
    "                print(f'Something went wrong in the {j}th section:')\n",
    "                print(next_chunk)\n",
    "                return\n",
    "\n",
    "            times.extend(timi)\n",
    "            windspeeds.extend(windspeed)\n",
    "            if to_break:\n",
    "                break\n",
    "            j += 1\n",
    "\n",
    "    print(f\"Finished all {j-1} sections\")\n",
    "    time_df = pd.DataFrame(times, columns = ['timi'])\n",
    "    time_df.timi = pd.to_datetime(time_df.timi, errors = 'coerce')\n",
    "    fs_df = pd.DataFrame(windspeeds, columns = ['f'])\n",
    "    fs_df.f = pd.to_numeric(fs_df.f, errors = 'coerce')\n",
    "\n",
    "    time_df.to_feather(outputpath + '-timi-' + date.today().strftime(\"%Y-%m-%d\") + '.feather')\n",
    "    fs_df.to_feather(outputpath + '-fs-' + date.today().strftime(\"%Y-%m-%d\") + '.feather')\n",
    "\n",
    "    print(f\"Done writing all times and wind speeds\")\n",
    "\n",
    "\n"
   ]
  },
  {
   "cell_type": "code",
   "execution_count": null,
   "id": "db4a4caa",
   "metadata": {},
   "outputs": [],
   "source": [
    "def combineKLST(directory: str = 'D:/Skoli/Mastersverkefni/lokaverkefni_vel/data/Vedurstofa/', outputpath: str = 'D:/Skoli/Mastersverkefni/lokaverkefni_vel/data/Vedurstofa/combined_klst.feather'):\n",
    "    files = []\n",
    "    for folder in ['klst/', 'vg/']:\n",
    "        files.extend([directory + folder + file for file in os.listdir(directory + folder)])\n",
    "\n",
    "    columns = ['timi','stod','f','fx','fg','d']\n",
    "    data = []\n",
    "    for file in tqdm(files, total = len(files)):\n",
    "        with open(file, 'r') as f:\n",
    "            lines = [line for line in csv.reader(f)]\n",
    "        if 'dsdev' in lines[0]:\n",
    "            lines = [line[:-1] for line in lines]\n",
    "        lines = lines[1:]\n",
    "        data.extend(lines)\n",
    "\n",
    "    df = pd.DataFrame(data, columns = columns)\n",
    "    df.stod = pd.to_numeric(df.stod, errors = 'coerce')\n",
    "    df.timi = pd.to_datetime(df.timi, errors = 'coerce')\n",
    "    df.fx = pd.to_numeric(df.fx, errors = 'coerce')\n",
    "    df.f = pd.to_numeric(df.f, errors = 'coerce')\n",
    "    df.fg = pd.to_numeric(df.fg, errors = 'coerce')\n",
    "    df.d = pd.to_numeric(df.d, errors = 'coerce')\n",
    "    df.to_feather(outputpath)"
   ]
  },
  {
   "cell_type": "code",
   "execution_count": null,
   "id": "c692812e",
   "metadata": {
    "lines_to_next_cell": 2
   },
   "outputs": [],
   "source": [
    "#def filterWithThreshold(vedurPath: str = 'E:/Skóli/HÍ/Vélaverkfræði Master HÍ/Lokaverkefni/Data/Vedurstofa/combined_10min_20ms.feather', outputpath: str = 'E:/Skóli/HÍ/Vélaverkfræði Master HÍ/Lokaverkefni/Data/Vedurstofa/combined_10min_20ms_24hr.feather', threshold: str = '1 day'):\n",
    "def filterWithThreshold(vedurPath: str = 'D:/Skoli/lokaverkefni_vel/data/Vedurstofa/combined_10min_20ms_25_3_24.feather', outputpath: str = 'D:/Skóli/lokaverkefni_vel/data/Vedurstofa/combined_10min_20ms_25_3_24_24hr.feather', threshold: str = '1 day'):\n",
    "    vedur_df = pd.read_feather(vedurPath)\n",
    "    filtered_data, columns, stations = [], vedur_df.columns, vedur_df.stod.unique()\n",
    "\n",
    "    print(f'The shape of the unfiltered dataframe is {vedur_df.shape}')\n",
    "\n",
    "    for station in tqdm(stations, total = len(stations)):\n",
    "        subset_df = vedur_df[station == vedur_df.stod]\n",
    "        subset_df = subset_df.reset_index(drop = True)\n",
    "\n",
    "        while not subset_df.empty:\n",
    "            idx = subset_df.f.idxmax()\n",
    "            time_of_max = subset_df.iloc[idx].timi\n",
    "\n",
    "            filtered_data.append(subset_df.iloc[idx])\n",
    "\n",
    "            subset_df = subset_df[abs(subset_df.timi - time_of_max) >= pd.Timedelta(threshold)]\n",
    "\n",
    "            subset_df = subset_df.reset_index(drop = True)\n",
    "\n",
    "    filtered_df = pd.DataFrame(filtered_data, columns=columns)\n",
    "\n",
    "    filtered_df = filtered_df.sort_values(by=['stod', 'timi'])\n",
    "\n",
    "    filtered_df = filtered_df.reset_index(drop=True)\n",
    "\n",
    "    print(f'The shape of the filtered dataframe is {filtered_df.shape}')\n",
    "\n",
    "    filtered_df.to_feather(outputpath)"
   ]
  },
  {
   "cell_type": "code",
   "execution_count": null,
   "id": "a17bbab0",
   "metadata": {},
   "outputs": [],
   "source": [
    "combine10min()"
   ]
  },
  {
   "cell_type": "code",
   "execution_count": null,
   "id": "5f7d1848",
   "metadata": {},
   "outputs": [],
   "source": [
    "combineKLST()"
   ]
  },
  {
   "cell_type": "code",
   "execution_count": null,
   "id": "2cbcf1dc",
   "metadata": {},
   "outputs": [],
   "source": [
    "filterWithThreshold()"
   ]
  },
  {
   "cell_type": "code",
   "execution_count": 3,
   "id": "8c717f03",
   "metadata": {},
   "outputs": [
    {
     "name": "stderr",
     "output_type": "stream",
     "text": [
      "  0%|          | 0/327 [00:00<?, ?it/s]"
     ]
    },
    {
     "name": "stdout",
     "output_type": "stream",
     "text": [
      "2005-02-09 16:00:00,1350,1.81,6.33,2.17,197.6,26.1\n",
      "\n"
     ]
    },
    {
     "name": "stderr",
     "output_type": "stream",
     "text": [
      "  0%|          | 1/327 [00:02<12:20,  2.27s/it]"
     ]
    },
    {
     "name": "stdout",
     "output_type": "stream",
     "text": [
      "2008-09-12 18:20:00,1361,8.91,13.46,1.68,142.2,6.7\n",
      "\n"
     ]
    },
    {
     "name": "stderr",
     "output_type": "stream",
     "text": [
      "  1%|          | 3/327 [00:04<06:48,  1.26s/it]"
     ]
    },
    {
     "name": "stdout",
     "output_type": "stream",
     "text": [
      "2005-08-24 10:40:00,1362,10.5,14.7,,17,14.9\n",
      "\n"
     ]
    },
    {
     "name": "stderr",
     "output_type": "stream",
     "text": [
      "  1%|          | 4/327 [00:04<04:36,  1.17it/s]"
     ]
    },
    {
     "name": "stdout",
     "output_type": "stream",
     "text": [
      "2005-08-22 22:10:00,1368,5.61,7.15,0.7,153.5,6.9\n",
      "\n",
      "2005-08-22 21:10:00,1370,3.04,4.73,0.52,152.1,7.2\n",
      "\n"
     ]
    },
    {
     "name": "stderr",
     "output_type": "stream",
     "text": [
      "  2%|▏         | 5/327 [00:05<04:18,  1.24it/s]"
     ]
    },
    {
     "name": "stdout",
     "output_type": "stream",
     "text": [
      "2005-08-24 10:10:00,1391,8.9,13.2,,6,8.9\n",
      "\n"
     ]
    },
    {
     "name": "stderr",
     "output_type": "stream",
     "text": [
      "  2%|▏         | 6/327 [00:05<03:44,  1.43it/s]"
     ]
    },
    {
     "name": "stdout",
     "output_type": "stream",
     "text": [
      "2005-10-06 17:40:00,1395,5.85,7.57,1,205.6,6.1\n",
      "\n"
     ]
    },
    {
     "name": "stderr",
     "output_type": "stream",
     "text": [
      "  2%|▏         | 7/327 [00:07<05:21,  1.00s/it]"
     ]
    },
    {
     "name": "stdout",
     "output_type": "stream",
     "text": [
      "2005-08-22 22:10:00,1453,3.51,5.09,,125.9,7\n",
      "\n"
     ]
    },
    {
     "name": "stderr",
     "output_type": "stream",
     "text": [
      "  3%|▎         | 9/327 [00:09<05:18,  1.00s/it]"
     ]
    },
    {
     "name": "stdout",
     "output_type": "stream",
     "text": [
      "2022-08-22 11:00:00,1469,1.7,3.8,,83,\n",
      "\n",
      "2021-05-19 16:30:00,1470,0,0,0,0,0\n",
      "\n"
     ]
    },
    {
     "name": "stderr",
     "output_type": "stream",
     "text": [
      "  3%|▎         | 10/327 [00:10<04:05,  1.29it/s]"
     ]
    },
    {
     "name": "stdout",
     "output_type": "stream",
     "text": [
      "2019-12-10 11:40:00,1471,9.3,11.6,,330,\n",
      "\n"
     ]
    },
    {
     "name": "stderr",
     "output_type": "stream",
     "text": [
      "  4%|▎         | 12/327 [00:10<02:43,  1.93it/s]"
     ]
    },
    {
     "name": "stdout",
     "output_type": "stream",
     "text": [
      "2021-11-02 15:50:00,1472,4.8,8.89,1.67,357.6,21.6\n",
      "\n",
      "2005-08-22 22:10:00,1473,5.15,8.59,0.99,156.4,7.4\n",
      "\n"
     ]
    },
    {
     "name": "stderr",
     "output_type": "stream",
     "text": [
      "  4%|▍         | 13/327 [00:12<04:46,  1.09it/s]"
     ]
    },
    {
     "name": "stdout",
     "output_type": "stream",
     "text": [
      "2019-02-11 09:00:00,1474,5.1,9.8,,59,\n",
      "\n"
     ]
    },
    {
     "name": "stderr",
     "output_type": "stream",
     "text": [
      "  4%|▍         | 14/327 [00:12<03:57,  1.32it/s]"
     ]
    },
    {
     "name": "stdout",
     "output_type": "stream",
     "text": [
      "2005-08-22 22:10:00,1475,2.8,4.44,0.5,137.5,10.7\n",
      "\n"
     ]
    },
    {
     "name": "stderr",
     "output_type": "stream",
     "text": [
      "  5%|▍         | 15/327 [00:15<06:16,  1.21s/it]"
     ]
    },
    {
     "name": "stdout",
     "output_type": "stream",
     "text": [
      "2005-08-22 19:20:00,1477,3.24,4.31,0.4,143.7,6.2\n",
      "\n"
     ]
    },
    {
     "name": "stderr",
     "output_type": "stream",
     "text": [
      "  5%|▍         | 16/327 [00:16<07:00,  1.35s/it]"
     ]
    },
    {
     "name": "stdout",
     "output_type": "stream",
     "text": [
      "2019-09-27 12:00:00,1478,1.56,2.05,0.26,168.5,11\n",
      "\n"
     ]
    },
    {
     "name": "stderr",
     "output_type": "stream",
     "text": [
      "  5%|▌         | 17/327 [00:17<05:28,  1.06s/it]"
     ]
    },
    {
     "name": "stdout",
     "output_type": "stream",
     "text": [
      "2005-08-22 22:10:00,1479,3.15,4.24,,129.4,8.3\n",
      "\n"
     ]
    },
    {
     "name": "stderr",
     "output_type": "stream",
     "text": [
      "  6%|▌         | 18/327 [00:19<06:56,  1.35s/it]"
     ]
    },
    {
     "name": "stdout",
     "output_type": "stream",
     "text": [
      "2005-08-22 22:10:00,1480,4.61,6.01,0.46,101.9,5.3\n",
      "\n"
     ]
    },
    {
     "name": "stderr",
     "output_type": "stream",
     "text": [
      "  6%|▌         | 19/327 [00:21<07:43,  1.51s/it]"
     ]
    },
    {
     "name": "stdout",
     "output_type": "stream",
     "text": [
      "2006-01-10 18:00:00,1481,6.11,7.87,0.64,88.4,3.6\n",
      "\n"
     ]
    },
    {
     "name": "stderr",
     "output_type": "stream",
     "text": [
      "  6%|▌         | 20/327 [00:23<08:49,  1.72s/it]"
     ]
    },
    {
     "name": "stdout",
     "output_type": "stream",
     "text": [
      "2018-11-28 16:40:00,1482,7.7,13.46,2.19,33.3,11.6\n",
      "\n"
     ]
    },
    {
     "name": "stderr",
     "output_type": "stream",
     "text": [
      "  6%|▋         | 21/327 [00:23<06:58,  1.37s/it]"
     ]
    },
    {
     "name": "stdout",
     "output_type": "stream",
     "text": [
      "2005-08-22 21:10:00,1483,4.04,5.25,0.51,128.7,5.9\n",
      "\n"
     ]
    },
    {
     "name": "stderr",
     "output_type": "stream",
     "text": [
      "  7%|▋         | 22/327 [00:24<05:46,  1.14s/it]"
     ]
    },
    {
     "name": "stdout",
     "output_type": "stream",
     "text": [
      "2005-05-01 00:00:00,1486,6.66,8.59,,40.2,4.9\n",
      "\n"
     ]
    },
    {
     "name": "stderr",
     "output_type": "stream",
     "text": [
      "  7%|▋         | 23/327 [00:26<07:15,  1.43s/it]"
     ]
    },
    {
     "name": "stdout",
     "output_type": "stream",
     "text": [
      "2005-08-22 22:10:00,1487,8.8,11.4,1.13,157.8,8.2\n",
      "\n"
     ]
    },
    {
     "name": "stderr",
     "output_type": "stream",
     "text": [
      "  7%|▋         | 24/327 [00:28<08:21,  1.66s/it]"
     ]
    },
    {
     "name": "stdout",
     "output_type": "stream",
     "text": [
      "2005-08-22 21:10:00,1490,7.07,12.35,1.08,162.6,10.4\n",
      "\n"
     ]
    },
    {
     "name": "stderr",
     "output_type": "stream",
     "text": [
      "  8%|▊         | 25/327 [00:30<08:15,  1.64s/it]"
     ]
    },
    {
     "name": "stdout",
     "output_type": "stream",
     "text": [
      "2005-08-22 21:10:00,1493,5.95,8.17,0.91,180.4,6\n",
      "\n"
     ]
    },
    {
     "name": "stderr",
     "output_type": "stream",
     "text": [
      "  8%|▊         | 26/327 [00:32<08:16,  1.65s/it]"
     ]
    },
    {
     "name": "stdout",
     "output_type": "stream",
     "text": [
      "2006-06-21 14:30:00,1496,10.44,12.64,1.26,30.8,8.3\n",
      "\n"
     ]
    },
    {
     "name": "stderr",
     "output_type": "stream",
     "text": [
      "  9%|▊         | 28/327 [00:33<06:12,  1.25s/it]"
     ]
    },
    {
     "name": "stdout",
     "output_type": "stream",
     "text": [
      "2005-08-24 11:00:00,1570,9.8,13.2,,24,8.8\n",
      "\n",
      "2005-08-22 22:10:00,1578,7.61,10.78,1.07,113.7,7\n",
      "\n"
     ]
    },
    {
     "name": "stderr",
     "output_type": "stream",
     "text": [
      "  9%|▉         | 29/327 [00:35<07:10,  1.45s/it]"
     ]
    },
    {
     "name": "stdout",
     "output_type": "stream",
     "text": [
      "2005-08-22 22:10:00,1590,10.94,12.32,0.47,0,0\n",
      "\n"
     ]
    },
    {
     "name": "stderr",
     "output_type": "stream",
     "text": [
      "  9%|▉         | 30/327 [00:37<07:15,  1.46s/it]"
     ]
    },
    {
     "name": "stdout",
     "output_type": "stream",
     "text": [
      "2005-08-22 22:10:00,1596,2.57,5.42,1.29,150.3,13.1\n",
      "\n"
     ]
    },
    {
     "name": "stderr",
     "output_type": "stream",
     "text": [
      "  9%|▉         | 31/327 [00:39<06:17,  1.28s/it]\n"
     ]
    },
    {
     "ename": "KeyboardInterrupt",
     "evalue": "",
     "output_type": "error",
     "traceback": [
      "\u001b[1;31m---------------------------------------------------------------------------\u001b[0m",
      "\u001b[1;31mKeyboardInterrupt\u001b[0m                         Traceback (most recent call last)",
      "Cell \u001b[1;32mIn[3], line 1\u001b[0m\n\u001b[1;32m----> 1\u001b[0m \u001b[43mcombine10minText\u001b[49m\u001b[43m(\u001b[49m\u001b[43m)\u001b[49m\n",
      "Cell \u001b[1;32mIn[1], line 6\u001b[0m, in \u001b[0;36mcombine10minText\u001b[1;34m(path_10min, outputpath)\u001b[0m\n\u001b[0;32m      3\u001b[0m files \u001b[38;5;241m=\u001b[39m [os\u001b[38;5;241m.\u001b[39mpath\u001b[38;5;241m.\u001b[39mjoin(path_10min, file) \u001b[38;5;28;01mfor\u001b[39;00m file \u001b[38;5;129;01min\u001b[39;00m os\u001b[38;5;241m.\u001b[39mlistdir(path_10min)]\n\u001b[0;32m      5\u001b[0m \u001b[38;5;28;01mfor\u001b[39;00m file \u001b[38;5;129;01min\u001b[39;00m tqdm(files, total \u001b[38;5;241m=\u001b[39m \u001b[38;5;28mlen\u001b[39m(files)):\n\u001b[1;32m----> 6\u001b[0m     \u001b[38;5;28;01mwith\u001b[39;00m \u001b[38;5;28;43mopen\u001b[39;49m\u001b[43m(\u001b[49m\u001b[43mfile\u001b[49m\u001b[43m,\u001b[49m\u001b[43m \u001b[49m\u001b[38;5;124;43m'\u001b[39;49m\u001b[38;5;124;43mr\u001b[39;49m\u001b[38;5;124;43m'\u001b[39;49m\u001b[43m)\u001b[49m \u001b[38;5;28;01mas\u001b[39;00m f:\n\u001b[0;32m      7\u001b[0m         lines \u001b[38;5;241m=\u001b[39m f\u001b[38;5;241m.\u001b[39mreadlines()\n\u001b[0;32m      9\u001b[0m     lines \u001b[38;5;241m=\u001b[39m lines[\u001b[38;5;241m1\u001b[39m:]\n",
      "File \u001b[1;32md:\\Skoli\\Mastersverkefni\\lokaverkefni_vel\\code\\.venv\\Lib\\site-packages\\IPython\\core\\interactiveshell.py:324\u001b[0m, in \u001b[0;36m_modified_open\u001b[1;34m(file, *args, **kwargs)\u001b[0m\n\u001b[0;32m    317\u001b[0m \u001b[38;5;28;01mif\u001b[39;00m file \u001b[38;5;129;01min\u001b[39;00m {\u001b[38;5;241m0\u001b[39m, \u001b[38;5;241m1\u001b[39m, \u001b[38;5;241m2\u001b[39m}:\n\u001b[0;32m    318\u001b[0m     \u001b[38;5;28;01mraise\u001b[39;00m \u001b[38;5;167;01mValueError\u001b[39;00m(\n\u001b[0;32m    319\u001b[0m         \u001b[38;5;124mf\u001b[39m\u001b[38;5;124m\"\u001b[39m\u001b[38;5;124mIPython won\u001b[39m\u001b[38;5;124m'\u001b[39m\u001b[38;5;124mt let you open fd=\u001b[39m\u001b[38;5;132;01m{\u001b[39;00mfile\u001b[38;5;132;01m}\u001b[39;00m\u001b[38;5;124m by default \u001b[39m\u001b[38;5;124m\"\u001b[39m\n\u001b[0;32m    320\u001b[0m         \u001b[38;5;124m\"\u001b[39m\u001b[38;5;124mas it is likely to crash IPython. If you know what you are doing, \u001b[39m\u001b[38;5;124m\"\u001b[39m\n\u001b[0;32m    321\u001b[0m         \u001b[38;5;124m\"\u001b[39m\u001b[38;5;124myou can use builtins\u001b[39m\u001b[38;5;124m'\u001b[39m\u001b[38;5;124m open.\u001b[39m\u001b[38;5;124m\"\u001b[39m\n\u001b[0;32m    322\u001b[0m     )\n\u001b[1;32m--> 324\u001b[0m \u001b[38;5;28;01mreturn\u001b[39;00m \u001b[43mio_open\u001b[49m\u001b[43m(\u001b[49m\u001b[43mfile\u001b[49m\u001b[43m,\u001b[49m\u001b[43m \u001b[49m\u001b[38;5;241;43m*\u001b[39;49m\u001b[43margs\u001b[49m\u001b[43m,\u001b[49m\u001b[43m \u001b[49m\u001b[38;5;241;43m*\u001b[39;49m\u001b[38;5;241;43m*\u001b[39;49m\u001b[43mkwargs\u001b[49m\u001b[43m)\u001b[49m\n",
      "File \u001b[1;32m<frozen codecs>:260\u001b[0m, in \u001b[0;36m__init__\u001b[1;34m(self, errors)\u001b[0m\n",
      "\u001b[1;31mKeyboardInterrupt\u001b[0m: "
     ]
    }
   ],
   "source": [
    "combine10minText()"
   ]
  },
  {
   "cell_type": "code",
   "execution_count": 90,
   "id": "964a2dba",
   "metadata": {},
   "outputs": [],
   "source": [
    "convertTimiF_Combined10min_toFeather()"
   ]
  },
  {
   "cell_type": "code",
   "execution_count": 22,
   "id": "57b36731",
   "metadata": {},
   "outputs": [],
   "source": [
    "timi_df = pd.read_feather('D:/Skoli/Mastersverkefni/lokaverkefni_vel/data/Measured/combined_10min/combined_10min' + '-timi-' + date.today().strftime(\"%Y-%m-%d\") + '.feather')"
   ]
  },
  {
   "cell_type": "code",
   "execution_count": 6,
   "id": "57d6700d",
   "metadata": {},
   "outputs": [],
   "source": [
    "df = pd.read_feather('D:/Skoli/Mastersverkefni/lokaverkefni_vel/data/Measured/combined_10min_20ms_25_3_24.feather')"
   ]
  },
  {
   "cell_type": "code",
   "execution_count": 10,
   "id": "f7575cf6",
   "metadata": {},
   "outputs": [],
   "source": [
    "yr = df.timi.dt.year"
   ]
  },
  {
   "cell_type": "code",
   "execution_count": 20,
   "id": "9b0c33ca",
   "metadata": {},
   "outputs": [
    {
     "name": "stdout",
     "output_type": "stream",
     "text": [
      "1 742\n",
      "2 554\n",
      "3 372\n",
      "4 151\n",
      "5 76\n",
      "6 44\n",
      "7 129\n",
      "8 1607\n",
      "9 5268\n",
      "10 5338\n",
      "11 5391\n",
      "12 8276\n"
     ]
    }
   ],
   "source": [
    "mt = df[df.timi.dt.year == 2005].timi.dt.month\n",
    "# September 2005 - September 2023\n",
    "for i in range(1, 13):\n",
    "    print(i, sum(mt == i))"
   ]
  },
  {
   "cell_type": "code",
   "execution_count": 21,
   "id": "0839034a",
   "metadata": {},
   "outputs": [
    {
     "name": "stdout",
     "output_type": "stream",
     "text": [
      "1 10757\n",
      "2 6363\n",
      "3 5004\n",
      "4 4661\n",
      "5 1815\n",
      "6 877\n",
      "7 674\n",
      "8 517\n",
      "9 1951\n",
      "10 5719\n",
      "11 25330\n",
      "12 16186\n"
     ]
    }
   ],
   "source": [
    "mt = df[df.timi.dt.year == 2006].timi.dt.month\n",
    "\n",
    "for i in range(1, 13):\n",
    "    print(i, sum(mt == i))"
   ]
  },
  {
   "cell_type": "code",
   "execution_count": 22,
   "id": "450aa131",
   "metadata": {},
   "outputs": [
    {
     "name": "stdout",
     "output_type": "stream",
     "text": [
      "1 5688\n",
      "2 6352\n",
      "3 16162\n",
      "4 5649\n",
      "5 1249\n",
      "6 1470\n",
      "7 156\n",
      "8 855\n",
      "9 8929\n",
      "10 7632\n",
      "11 16048\n",
      "12 23608\n"
     ]
    }
   ],
   "source": [
    "mt = df[df.timi.dt.year == 2007].timi.dt.month\n",
    "\n",
    "for i in range(1, 13):\n",
    "    print(i, sum(mt == i))"
   ]
  },
  {
   "cell_type": "code",
   "execution_count": 23,
   "id": "2a2677fa",
   "metadata": {},
   "outputs": [
    {
     "name": "stdout",
     "output_type": "stream",
     "text": [
      "1 18990\n",
      "2 24849\n",
      "3 11414\n",
      "4 4310\n",
      "5 7748\n",
      "6 641\n",
      "7 631\n",
      "8 218\n",
      "9 8035\n",
      "10 5224\n",
      "11 0\n",
      "12 0\n"
     ]
    }
   ],
   "source": [
    "mt = df[df.timi.dt.year == 2023].timi.dt.month\n",
    "\n",
    "for i in range(1, 13):\n",
    "    print(i, sum(mt == i))"
   ]
  },
  {
   "cell_type": "code",
   "execution_count": 19,
   "id": "d0db2268",
   "metadata": {},
   "outputs": [
    {
     "name": "stdout",
     "output_type": "stream",
     "text": [
      "1999 1\n",
      "2000 0\n",
      "2001 0\n",
      "2002 0\n",
      "2003 0\n",
      "2004 4426\n",
      "2005 27948\n",
      "2006 79854\n",
      "2007 93798\n",
      "2008 94950\n",
      "2009 70620\n",
      "2010 60451\n",
      "2011 93325\n",
      "2012 102673\n",
      "2013 98368\n",
      "2014 119997\n",
      "2015 129890\n",
      "2016 83973\n",
      "2017 81094\n",
      "2018 114891\n",
      "2019 105737\n",
      "2020 184632\n",
      "2021 87488\n",
      "2022 143982\n",
      "2023 82060\n"
     ]
    }
   ],
   "source": [
    "from matplotlib import pyplot as plt\n",
    "import numpy as np\n",
    "\n",
    "# Birta þetta 2006-2023 sem sú\n",
    "\n",
    "a = np.bincount(yr)\n",
    "\n",
    "for i in range(1999, 2024):\n",
    "    print(i, sum(yr == i)) "
   ]
  },
  {
   "cell_type": "code",
   "execution_count": 15,
   "id": "d61aec29",
   "metadata": {},
   "outputs": [
    {
     "data": {
      "text/plain": [
       "1"
      ]
     },
     "execution_count": 15,
     "metadata": {},
     "output_type": "execute_result"
    }
   ],
   "source": [
    "sum(yr < 2004)"
   ]
  },
  {
   "cell_type": "code",
   "execution_count": 13,
   "id": "4f073bfc",
   "metadata": {},
   "outputs": [
    {
     "data": {
      "text/plain": [
       "1860158"
      ]
     },
     "execution_count": 13,
     "metadata": {},
     "output_type": "execute_result"
    }
   ],
   "source": [
    "len(yr)"
   ]
  }
 ],
 "metadata": {
  "jupytext": {
   "cell_metadata_filter": "-all",
   "main_language": "python",
   "notebook_metadata_filter": "-all"
  },
  "kernelspec": {
   "display_name": ".venv",
   "language": "python",
   "name": "python3"
  },
  "language_info": {
   "codemirror_mode": {
    "name": "ipython",
    "version": 3
   },
   "file_extension": ".py",
   "mimetype": "text/x-python",
   "name": "python",
   "nbconvert_exporter": "python",
   "pygments_lexer": "ipython3",
   "version": "3.11.2"
  }
 },
 "nbformat": 4,
 "nbformat_minor": 5
}
