{
 "cells": [
  {
   "cell_type": "code",
   "execution_count": 1,
   "id": "a9b5be49",
   "metadata": {
    "lines_to_next_cell": 1
   },
   "outputs": [],
   "source": [
    "import pandas as pd, os, dill as pickle, csv\n",
    "from tqdm import tqdm\n",
    "from utils.transform import getVedurLonLatInISN93"
   ]
  },
  {
   "cell_type": "code",
   "execution_count": null,
   "id": "62d37dd7",
   "metadata": {
    "lines_to_next_cell": 1
   },
   "outputs": [],
   "source": [
    "def createStationsLonLatXY(stodTxtPath: str = 'D:/Skóli/lokaverkefni_vel/data/Vedurstofa/stod.txt', outputPath: str = 'D:/Skóli/lokaverkefni_vel/data/Vedurstofa/stationsLonLatXY.pkl', encoding: str = 'ISO-8859-1'):\n",
    "    stationsDict = {}\n",
    "    with open(stodTxtPath, 'r', encoding = encoding) as f:\n",
    "        stations = [a.strip().split(',') for a in f.readlines()][1:]\n",
    "        stations = [[int(a[0]), a[1], float(a[2]), float(a[3]), float(a[4]) if a[4].isnumeric() else a[4], a[5]] for a in stations]\n",
    "    for station in stations:\n",
    "        latitude, longitude = station[2], station[3]\n",
    "        x, y = getVedurLonLatInISN93(longitude, latitude)\n",
    "        stationsDict[station[0]] = (-longitude, latitude, x, y)\n",
    "\n",
    "    with open(outputPath, 'wb') as f:\n",
    "        pickle.dump(stationsDict, f)"
   ]
  },
  {
   "cell_type": "code",
   "execution_count": null,
   "id": "387af1cf",
   "metadata": {
    "lines_to_next_cell": 1
   },
   "outputs": [],
   "source": [
    "def tooClose(dt1, dt2, threshold):\n",
    "    return abs((dt1 - dt2)) < pd.Timedelta(threshold, 's')"
   ]
  },
  {
   "cell_type": "code",
   "execution_count": 3,
   "id": "0dc28333",
   "metadata": {
    "lines_to_next_cell": 1
   },
   "outputs": [],
   "source": [
    "#def combine10min(path_10min: str = 'E:/Skóli/HÍ/Vélaverkfræði Master HÍ/Lokaverkefni/Data/Vedurstofa/10min/', outputpath: str = 'E:/Skóli/HÍ/Vélaverkfræði Master HÍ/Lokaverkefni/Data/Vedurstofa/combined_10min_20ms.feather') -> None:\n",
    "def combine10min(path_10min: str = 'D:/Skóli/lokaverkefni_vel/data/Vedurstofa/10min/', outputpath: str = 'D:/Skóli/lokaverkefni_vel/data/Vedurstofa/combined_10min_20ms_25_3_24.feather'):\n",
    "    files = [os.path.join(path_10min, file) for file in os.listdir(path_10min)]\n",
    "    columns, df = None, None\n",
    "\n",
    "    for file in tqdm(files, total = len(files)):\n",
    "        with open(file, 'r') as f:\n",
    "            reader = list(csv.reader(f))\n",
    "            \n",
    "        if not columns:\n",
    "            columns = reader[0]\n",
    "        \n",
    "        lines = reader[1:]\n",
    "\n",
    "        if df is None:\n",
    "            df = pd.DataFrame(lines, columns = columns)\n",
    "        else:\n",
    "            df = pd.concat([df, pd.DataFrame(lines, columns = columns)])\n",
    "        \n",
    "        df.f = pd.to_numeric(df.f, errors = 'coerce')\n",
    "        df = df[df.f >= 20]\n",
    "\n",
    "    df.timi = pd.to_datetime(df.timi)\n",
    "    df.stod = df.stod.astype(int)\n",
    "    df.f = pd.to_numeric(df.f, errors = 'coerce')\n",
    "    df.fg = pd.to_numeric(df.fg, errors = 'coerce')\n",
    "    df.fsdev = pd.to_numeric(df.fsdev, errors = 'coerce')\n",
    "    df.d = pd.to_numeric(df.d, errors = 'coerce')\n",
    "    df.dsdev = pd.to_numeric(df.dsdev, errors = 'coerce')\n",
    "\n",
    "    df.to_feather(outputpath)"
   ]
  },
  {
   "cell_type": "code",
   "execution_count": null,
   "id": "db4a4caa",
   "metadata": {},
   "outputs": [],
   "source": [
    "def combineKLST(directory: str = 'D:/Skoli/Mastersverkefni/lokaverkefni_vel/data/Vedurstofa/', outputpath: str = 'D:/Skoli/Mastersverkefni/lokaverkefni_vel/data/Vedurstofa/combined_klst.feather'):\n",
    "    files = []\n",
    "    for folder in ['klst/', 'vg/']:\n",
    "        files.extend([directory + folder + file for file in os.listdir(directory + folder)])\n",
    "\n",
    "    columns = ['timi','stod','f','fx','fg','d']\n",
    "    data = []\n",
    "    for file in tqdm(files, total = len(files)):\n",
    "        with open(file, 'r') as f:\n",
    "            lines = [line for line in csv.reader(f)]\n",
    "        if 'dsdev' in lines[0]:\n",
    "            lines = [line[:-1] for line in lines]\n",
    "        lines = lines[1:]\n",
    "        data.extend(lines)\n",
    "\n",
    "    df = pd.DataFrame(data, columns = columns)\n",
    "    df.stod = pd.to_numeric(df.stod, errors = 'coerce')\n",
    "    df.timi = pd.to_datetime(df.timi, errors = 'coerce')\n",
    "    df.fx = pd.to_numeric(df.fx, errors = 'coerce')\n",
    "    df.f = pd.to_numeric(df.f, errors = 'coerce')\n",
    "    df.fg = pd.to_numeric(df.fg, errors = 'coerce')\n",
    "    df.d = pd.to_numeric(df.d, errors = 'coerce')\n",
    "    df.to_feather(outputpath)"
   ]
  },
  {
   "cell_type": "code",
   "execution_count": 3,
   "id": "c692812e",
   "metadata": {
    "lines_to_next_cell": 2
   },
   "outputs": [],
   "source": [
    "#def filterWithThreshold(vedurPath: str = 'E:/Skóli/HÍ/Vélaverkfræði Master HÍ/Lokaverkefni/Data/Vedurstofa/combined_10min_20ms.feather', outputpath: str = 'E:/Skóli/HÍ/Vélaverkfræði Master HÍ/Lokaverkefni/Data/Vedurstofa/combined_10min_20ms_24hr.feather', threshold: str = '1 day'):\n",
    "def filterWithThreshold(vedurPath: str = 'D:/Skóli/lokaverkefni_vel/data/Vedurstofa/combined_10min_20ms_25_3_24.feather', outputpath: str = 'D:/Skóli/lokaverkefni_vel/data/Vedurstofa/combined_10min_20ms_25_3_24_24hr.feather', threshold: str = '1 day'):\n",
    "    vedur_df = pd.read_feather(vedurPath)\n",
    "    filtered_data, columns, stations = [], vedur_df.columns, vedur_df.stod.unique()\n",
    "\n",
    "    print(f'The shape of the unfiltered dataframe is {vedur_df.shape}')\n",
    "\n",
    "    for station in tqdm(stations, total = len(stations)):\n",
    "        subset_df = vedur_df[station == vedur_df.stod]\n",
    "        subset_df = subset_df.reset_index(drop = True)\n",
    "\n",
    "        while not subset_df.empty:\n",
    "            idx = subset_df.f.idxmax()\n",
    "            time_of_max = subset_df.iloc[idx].timi\n",
    "\n",
    "            filtered_data.append(subset_df.iloc[idx])\n",
    "\n",
    "            subset_df = subset_df[abs(subset_df.timi - time_of_max) >= pd.Timedelta(threshold)]\n",
    "\n",
    "            subset_df = subset_df.reset_index(drop = True)\n",
    "\n",
    "    filtered_df = pd.DataFrame(filtered_data, columns=columns)\n",
    "\n",
    "    filtered_df = filtered_df.sort_values(by=['stod', 'timi'])\n",
    "\n",
    "    filtered_df = filtered_df.reset_index(drop=True)\n",
    "\n",
    "    print(f'The shape of the filtered dataframe is {filtered_df.shape}')\n",
    "\n",
    "    filtered_df.to_feather(outputpath)"
   ]
  },
  {
   "cell_type": "code",
   "execution_count": 5,
   "id": "a17bbab0",
   "metadata": {},
   "outputs": [
    {
     "name": "stderr",
     "output_type": "stream",
     "text": [
      "100%|██████████| 327/327 [20:45<00:00,  3.81s/it]\n"
     ]
    }
   ],
   "source": [
    "combine10min()"
   ]
  },
  {
   "cell_type": "code",
   "execution_count": null,
   "id": "5f7d1848",
   "metadata": {},
   "outputs": [],
   "source": [
    "combineKLST()"
   ]
  },
  {
   "cell_type": "code",
   "execution_count": 6,
   "id": "2cbcf1dc",
   "metadata": {},
   "outputs": [
    {
     "name": "stdout",
     "output_type": "stream",
     "text": [
      "The shape of the unfiltered dataframe is (1860158, 7)\n"
     ]
    },
    {
     "name": "stderr",
     "output_type": "stream",
     "text": [
      "100%|██████████| 318/318 [01:17<00:00,  4.10it/s]\n"
     ]
    },
    {
     "name": "stdout",
     "output_type": "stream",
     "text": [
      "The shape of the filtered dataframe is (69972, 7)\n"
     ]
    }
   ],
   "source": [
    "filterWithThreshold()"
   ]
  }
 ],
 "metadata": {
  "jupytext": {
   "cell_metadata_filter": "-all",
   "main_language": "python",
   "notebook_metadata_filter": "-all"
  },
  "kernelspec": {
   "display_name": ".venv",
   "language": "python",
   "name": "python3"
  },
  "language_info": {
   "codemirror_mode": {
    "name": "ipython",
    "version": 3
   },
   "file_extension": ".py",
   "mimetype": "text/x-python",
   "name": "python",
   "nbconvert_exporter": "python",
   "pygments_lexer": "ipython3",
   "version": "3.11.2"
  }
 },
 "nbformat": 4,
 "nbformat_minor": 5
}
