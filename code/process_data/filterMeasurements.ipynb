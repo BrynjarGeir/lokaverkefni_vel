{
 "cells": [
  {
   "cell_type": "code",
   "execution_count": 1,
   "id": "a9b5be49",
   "metadata": {
    "lines_to_next_cell": 1
   },
   "outputs": [],
   "source": [
    "import pandas as pd, os, dill as pickle, csv, numpy as np\n",
    "from tqdm import tqdm, trange\n",
    "from utils.transform import getVedurLonLatInISN93\n",
    "from datetime import date\n",
    "from itertools import islice"
   ]
  },
  {
   "cell_type": "code",
   "execution_count": null,
   "id": "62d37dd7",
   "metadata": {
    "lines_to_next_cell": 1
   },
   "outputs": [],
   "source": [
    "def createStationsLonLatXY(stodTxtPath: str = 'D:/Skóli/lokaverkefni_vel/data/Vedurstofa/stod.txt', outputPath: str = 'D:/Skóli/lokaverkefni_vel/data/Vedurstofa/stationsLonLatXY.pkl', encoding: str = 'ISO-8859-1'):\n",
    "    stationsDict = {}\n",
    "    with open(stodTxtPath, 'r', encoding = encoding) as f:\n",
    "        stations = [a.strip().split(',') for a in f.readlines()][1:]\n",
    "        stations = [[int(a[0]), a[1], float(a[2]), float(a[3]), float(a[4]) if a[4].isnumeric() else a[4], a[5]] for a in stations]\n",
    "    for station in stations:\n",
    "        latitude, longitude = station[2], station[3]\n",
    "        x, y = getVedurLonLatInISN93(longitude, latitude)\n",
    "        stationsDict[station[0]] = (-longitude, latitude, x, y)\n",
    "\n",
    "    with open(outputPath, 'wb') as f:\n",
    "        pickle.dump(stationsDict, f)"
   ]
  },
  {
   "cell_type": "code",
   "execution_count": null,
   "id": "387af1cf",
   "metadata": {
    "lines_to_next_cell": 1
   },
   "outputs": [],
   "source": [
    "def tooClose(dt1, dt2, threshold):\n",
    "    return abs((dt1 - dt2)) < pd.Timedelta(threshold, 's')"
   ]
  },
  {
   "cell_type": "code",
   "execution_count": null,
   "id": "0dc28333",
   "metadata": {
    "lines_to_next_cell": 1
   },
   "outputs": [],
   "source": [
    "#def combine10min(path_10min: str = 'E:/Skóli/HÍ/Vélaverkfræði Master HÍ/Lokaverkefni/Data/Vedurstofa/10min/', outputpath: str = 'E:/Skóli/HÍ/Vélaverkfræði Master HÍ/Lokaverkefni/Data/Vedurstofa/combined_10min_20ms.feather') -> None:\n",
    "def combine10min(path_10min: str = 'D:/Skoli/Mastersverkefni/lokaverkefni_vel/data/Measured/10min/', outputpath: str = 'D:/Skóli/lokaverkefni_vel/data/Vedurstofa/combined_10min_20ms_25_3_24.feather'):\n",
    "    files = [os.path.join(path_10min, file) for file in os.listdir(path_10min)]\n",
    "    columns, df = None, None\n",
    "\n",
    "    for file in tqdm(files, total = len(files)):\n",
    "        with open(file, 'r') as f:\n",
    "            reader = list(csv.reader(f))\n",
    "            \n",
    "        if not columns:\n",
    "            columns = reader[0]\n",
    "        \n",
    "        lines = reader[1:]\n",
    "\n",
    "        if df is None:\n",
    "            df = pd.DataFrame(lines, columns = columns)\n",
    "        else:\n",
    "            df = pd.concat([df, pd.DataFrame(lines, columns = columns)])\n",
    "        \n",
    "        df.f = pd.to_numeric(df.f, errors = 'coerce')\n",
    "        #df = df[df.f >= 20]\n",
    "\n",
    "    df.timi = pd.to_datetime(df.timi)\n",
    "    df.stod = df.stod.astype(int)\n",
    "    df.f = pd.to_numeric(df.f, errors = 'coerce')\n",
    "    df.fg = pd.to_numeric(df.fg, errors = 'coerce')\n",
    "    df.fsdev = pd.to_numeric(df.fsdev, errors = 'coerce')\n",
    "    df.d = pd.to_numeric(df.d, errors = 'coerce')\n",
    "    df.dsdev = pd.to_numeric(df.dsdev, errors = 'coerce')\n",
    "\n",
    "    df.to_feather(outputpath)"
   ]
  },
  {
   "cell_type": "code",
   "execution_count": null,
   "id": "46a6ab5d",
   "metadata": {},
   "outputs": [],
   "source": [
    "#def combine10min(path_10min: str = 'E:/Skóli/HÍ/Vélaverkfræði Master HÍ/Lokaverkefni/Data/Vedurstofa/10min/', outputpath: str = 'E:/Skóli/HÍ/Vélaverkfræði Master HÍ/Lokaverkefni/Data/Vedurstofa/combined_10min_20ms.feather') -> None:\n",
    "def combine10minText(path_10min: str = 'D:/Skoli/Mastersverkefni/lokaverkefni_vel/data/Measured/10min/', outputpath: str = 'D:/Skoli/Mastersverkefni/lokaverkefni_vel/data/Measured/combined_10min/combined_10min.txt'):\n",
    "    files = [os.path.join(path_10min, file) for file in os.listdir(path_10min)]\n",
    "\n",
    "    for file in tqdm(files, total = len(files)):\n",
    "        with open(file, 'r') as f:\n",
    "            lines = f.readlines()\n",
    "        \n",
    "        lines = lines[1:]\n",
    "        print(lines[0])\n",
    "        with open(outputpath, 'a+') as f:\n",
    "            f.writelines(lines)"
   ]
  },
  {
   "cell_type": "code",
   "execution_count": null,
   "id": "8f35be0f",
   "metadata": {},
   "outputs": [],
   "source": [
    "# https://stackoverflow.com/questions/6335839/python-how-to-read-n-number-of-lines-at-a-time\n",
    "def convertTimiF_Combined10min_toFeather(text_path: str = 'D:/Skoli/Mastersverkefni/lokaverkefni_vel/data/Measured/combined_10min/combined_10min.txt', \n",
    "                                         outputpath: str = 'D:/Skoli/Mastersverkefni/lokaverkefni_vel/data/Measured/combined_10min/combined_10min'):\n",
    "    chunk_size = int(1e6)\n",
    "    times, gustspeeds, j = [], [], 0\n",
    "    to_break = False\n",
    "    with open(text_path, 'r') as f:\n",
    "        while True:\n",
    "            next_chunk = [f.readline() for _ in range(chunk_size)]\n",
    "            if '' in next_chunk:\n",
    "                next_chunk = [item for item in next_chunk if item]\n",
    "                to_break = True\n",
    "            next_chunk = [item.rstrip().split(',') for item in next_chunk]\n",
    "            try:\n",
    "                timi = [item[0] for item in next_chunk]\n",
    "                windspeed = [item[2] for item in next_chunk]\n",
    "            except:\n",
    "                print(f'Something went wrong in the {j}th section:')\n",
    "                print(next_chunk)\n",
    "                return\n",
    "\n",
    "            times.extend(timi)\n",
    "            gustspeeds.extend(windspeed)\n",
    "            if to_break:\n",
    "                break\n",
    "            j += 1\n",
    "\n",
    "    print(f\"Finished all {j-1} sections\")\n",
    "    time_df = pd.DataFrame(times, columns = ['timi'])\n",
    "    time_df.timi = pd.to_datetime(time_df.timi, errors = 'coerce')\n",
    "    fs_df = pd.DataFrame(gustspeeds, columns = ['f'])\n",
    "    fs_df.f = pd.to_numeric(fs_df.f, errors = 'coerce')\n",
    "\n",
    "    time_df.to_feather(outputpath + '-timi-' + date.today().strftime(\"%Y-%m-%d\") + '.feather')\n",
    "    fs_df.to_feather(outputpath + '-fs-' + date.today().strftime(\"%Y-%m-%d\") + '.feather')\n",
    "\n",
    "    print(f\"Done writing all times and wind speeds\")\n",
    "\n",
    "\n"
   ]
  },
  {
   "cell_type": "code",
   "execution_count": 2,
   "id": "c2e2dfa8",
   "metadata": {},
   "outputs": [],
   "source": [
    "def safe_float_conversion(string):\n",
    "    try:\n",
    "        return float(string)\n",
    "    except ValueError:\n",
    "        return np.nan"
   ]
  },
  {
   "cell_type": "code",
   "execution_count": 21,
   "id": "556b93a4",
   "metadata": {},
   "outputs": [],
   "source": [
    "def safe_int_conversion(string):\n",
    "    try:\n",
    "        return int(string)\n",
    "    except ValueError:\n",
    "        return np.nan"
   ]
  },
  {
   "cell_type": "code",
   "execution_count": 6,
   "id": "90265f9d",
   "metadata": {},
   "outputs": [
    {
     "name": "stderr",
     "output_type": "stream",
     "text": [
      "  0%|          | 0/270000000 [00:00<?, ?it/s]"
     ]
    },
    {
     "name": "stderr",
     "output_type": "stream",
     "text": [
      "  4%|▎         | 10033530/270000000 [00:41<17:27, 248121.62it/s]"
     ]
    },
    {
     "name": "stdout",
     "output_type": "stream",
     "text": [
      "At line number 10000000\n"
     ]
    },
    {
     "name": "stderr",
     "output_type": "stream",
     "text": [
      "  7%|▋         | 20048215/270000000 [01:22<16:48, 247837.32it/s]"
     ]
    },
    {
     "name": "stdout",
     "output_type": "stream",
     "text": [
      "At line number 20000000\n"
     ]
    },
    {
     "name": "stderr",
     "output_type": "stream",
     "text": [
      " 11%|█         | 30057976/270000000 [02:02<16:02, 249162.79it/s]"
     ]
    },
    {
     "name": "stdout",
     "output_type": "stream",
     "text": [
      "At line number 30000000\n"
     ]
    },
    {
     "name": "stderr",
     "output_type": "stream",
     "text": [
      " 15%|█▍        | 40050064/270000000 [02:43<15:39, 244778.49it/s]"
     ]
    },
    {
     "name": "stdout",
     "output_type": "stream",
     "text": [
      "At line number 40000000\n"
     ]
    },
    {
     "name": "stderr",
     "output_type": "stream",
     "text": [
      " 19%|█▊        | 50049569/270000000 [03:25<15:00, 244358.32it/s] "
     ]
    },
    {
     "name": "stdout",
     "output_type": "stream",
     "text": [
      "At line number 50000000\n"
     ]
    },
    {
     "name": "stderr",
     "output_type": "stream",
     "text": [
      " 22%|██▏       | 60049809/270000000 [04:06<13:53, 251861.09it/s]"
     ]
    },
    {
     "name": "stdout",
     "output_type": "stream",
     "text": [
      "At line number 60000000\n"
     ]
    },
    {
     "name": "stderr",
     "output_type": "stream",
     "text": [
      " 26%|██▌       | 70028771/270000000 [05:05<18:01, 184969.65it/s]"
     ]
    },
    {
     "name": "stdout",
     "output_type": "stream",
     "text": [
      "At line number 70000000\n"
     ]
    },
    {
     "name": "stderr",
     "output_type": "stream",
     "text": [
      " 30%|██▉       | 80019919/270000000 [06:00<21:21, 148209.19it/s]"
     ]
    },
    {
     "name": "stdout",
     "output_type": "stream",
     "text": [
      "At line number 80000000\n"
     ]
    },
    {
     "name": "stderr",
     "output_type": "stream",
     "text": [
      " 33%|███▎      | 90036224/270000000 [06:55<16:51, 177989.79it/s]"
     ]
    },
    {
     "name": "stdout",
     "output_type": "stream",
     "text": [
      "At line number 90000000\n"
     ]
    },
    {
     "name": "stderr",
     "output_type": "stream",
     "text": [
      " 37%|███▋      | 100024068/270000000 [07:49<19:59, 141706.46it/s]"
     ]
    },
    {
     "name": "stdout",
     "output_type": "stream",
     "text": [
      "At line number 100000000\n"
     ]
    },
    {
     "name": "stderr",
     "output_type": "stream",
     "text": [
      " 41%|████      | 110020083/270000000 [08:45<14:48, 179961.90it/s]"
     ]
    },
    {
     "name": "stdout",
     "output_type": "stream",
     "text": [
      "At line number 110000000\n"
     ]
    },
    {
     "name": "stderr",
     "output_type": "stream",
     "text": [
      " 44%|████▍     | 120027694/270000000 [09:41<14:39, 170607.70it/s]"
     ]
    },
    {
     "name": "stdout",
     "output_type": "stream",
     "text": [
      "At line number 120000000\n"
     ]
    },
    {
     "name": "stderr",
     "output_type": "stream",
     "text": [
      " 48%|████▊     | 130024663/270000000 [10:35<12:29, 186856.16it/s]"
     ]
    },
    {
     "name": "stdout",
     "output_type": "stream",
     "text": [
      "At line number 130000000\n"
     ]
    },
    {
     "name": "stderr",
     "output_type": "stream",
     "text": [
      " 52%|█████▏    | 140024428/270000000 [11:27<11:11, 193481.29it/s]"
     ]
    },
    {
     "name": "stdout",
     "output_type": "stream",
     "text": [
      "At line number 140000000\n"
     ]
    },
    {
     "name": "stderr",
     "output_type": "stream",
     "text": [
      " 56%|█████▌    | 150034504/270000000 [12:22<10:25, 191802.75it/s]"
     ]
    },
    {
     "name": "stdout",
     "output_type": "stream",
     "text": [
      "At line number 150000000\n"
     ]
    },
    {
     "name": "stderr",
     "output_type": "stream",
     "text": [
      " 59%|█████▉    | 160020625/270000000 [13:16<09:23, 195135.19it/s]"
     ]
    },
    {
     "name": "stdout",
     "output_type": "stream",
     "text": [
      "At line number 160000000\n"
     ]
    },
    {
     "name": "stderr",
     "output_type": "stream",
     "text": [
      " 63%|██████▎   | 170020922/270000000 [14:09<07:31, 221666.78it/s]"
     ]
    },
    {
     "name": "stdout",
     "output_type": "stream",
     "text": [
      "At line number 170000000\n"
     ]
    },
    {
     "name": "stderr",
     "output_type": "stream",
     "text": [
      " 67%|██████▋   | 180019700/270000000 [14:50<06:08, 244324.76it/s]"
     ]
    },
    {
     "name": "stdout",
     "output_type": "stream",
     "text": [
      "At line number 180000000\n"
     ]
    },
    {
     "name": "stderr",
     "output_type": "stream",
     "text": [
      " 70%|███████   | 190035914/270000000 [15:33<06:21, 209654.48it/s]"
     ]
    },
    {
     "name": "stdout",
     "output_type": "stream",
     "text": [
      "At line number 190000000\n"
     ]
    },
    {
     "name": "stderr",
     "output_type": "stream",
     "text": [
      " 74%|███████▍  | 200038001/270000000 [16:16<04:45, 244956.12it/s]"
     ]
    },
    {
     "name": "stdout",
     "output_type": "stream",
     "text": [
      "At line number 200000000\n"
     ]
    },
    {
     "name": "stderr",
     "output_type": "stream",
     "text": [
      " 78%|███████▊  | 210032121/270000000 [17:00<04:12, 237853.97it/s]"
     ]
    },
    {
     "name": "stdout",
     "output_type": "stream",
     "text": [
      "At line number 210000000\n"
     ]
    },
    {
     "name": "stderr",
     "output_type": "stream",
     "text": [
      " 82%|████████▏ | 220050249/270000000 [17:42<03:41, 225004.44it/s]"
     ]
    },
    {
     "name": "stdout",
     "output_type": "stream",
     "text": [
      "At line number 220000000\n"
     ]
    },
    {
     "name": "stderr",
     "output_type": "stream",
     "text": [
      " 85%|████████▌ | 230063957/270000000 [18:25<02:45, 241978.98it/s]"
     ]
    },
    {
     "name": "stdout",
     "output_type": "stream",
     "text": [
      "At line number 230000000\n"
     ]
    },
    {
     "name": "stderr",
     "output_type": "stream",
     "text": [
      " 89%|████████▉ | 240034623/270000000 [19:05<02:04, 239996.71it/s]"
     ]
    },
    {
     "name": "stdout",
     "output_type": "stream",
     "text": [
      "At line number 240000000\n"
     ]
    },
    {
     "name": "stderr",
     "output_type": "stream",
     "text": [
      " 93%|█████████▎| 250047310/270000000 [19:47<01:19, 252113.84it/s]"
     ]
    },
    {
     "name": "stdout",
     "output_type": "stream",
     "text": [
      "At line number 250000000\n"
     ]
    },
    {
     "name": "stderr",
     "output_type": "stream",
     "text": [
      " 96%|█████████▋| 260049509/270000000 [20:28<00:42, 236152.22it/s]"
     ]
    },
    {
     "name": "stdout",
     "output_type": "stream",
     "text": [
      "At line number 260000000\n"
     ]
    },
    {
     "name": "stderr",
     "output_type": "stream",
     "text": [
      "270033978it [21:09, 252995.98it/s]                               "
     ]
    },
    {
     "name": "stdout",
     "output_type": "stream",
     "text": [
      "At line number 270000000\n"
     ]
    },
    {
     "name": "stderr",
     "output_type": "stream",
     "text": [
      "273032281it [21:21, 213012.71it/s]"
     ]
    },
    {
     "name": "stdout",
     "output_type": "stream",
     "text": [
      "{'[0-5[': 137612844, '[5, 10[': 91570041, '[10, 15[': 32956616, '[15, 20[': 8587420, '[20, 25[': 1837888, '[25, 30[': 365971, '[30, 35[': 74480, '[35, 40[': 16188, '[40, [': 10833, 'missing': 0}\n",
      "//////////////////////\n",
      "{'1990': 125, '1991': 0, '1992': 0, '1993': 0, '1994': 0, '1995': 0, '1996': 0, '1997': 0, '1998': 1, '1999': 10, '2000': 227, '2001': 37, '2002': 48, '2003': 150, '2004': 252944, '2005': 4903369, '2006': 13305344, '2007': 13612773, '2008': 13263057, '2009': 13489478, '2010': 13759339, '2011': 14182174, '2012': 14792483, '2013': 14828985, '2014': 15007480, '2015': 15024936, '2016': 15132573, '2017': 15344912, '2018': 15481906, '2019': 16254150, '2020': 16695370, '2021': 17047984, '2022': 17071603, '2023': 13580822, '0020': 1}\n",
      "/////////////////////\n",
      "{'[0-5[': 92051125, '[5, 10[': 91728381, '[10, 15[': 53856454, '[15, 20[': 23205689, '[20, 25[': 8327687, '[25, 30[': 2608662, '[30, 35[': 758990, '[35, 40[': 216099, '[40, 45[': 64112, '[45, 50[': 20690, '[50, [': 194392, 'missing': 0}\n",
      "////////////////////\n",
      "{0: 16591404, 15: 14707211, 30: 14806945, 45: 14397946, 60: 13973778, 75: 14758510, 90: 13185049, 105: 12643620, 120: 12513414, 135: 12338816, 150: 11582182, 165: 11441733, 180: 11449615, 195: 11715734, 210: 11285894, 225: 9667528, 240: 8421919, 255: 7730834, 270: 7284665, 285: 7395350, 300: 7763127, 315: 7864433, 330: 8936981, 345: 10403666}\n"
     ]
    },
    {
     "name": "stderr",
     "output_type": "stream",
     "text": [
      "\n"
     ]
    }
   ],
   "source": [
    "windspeeds = {'[0-5[':0, '[5, 10[':0, '[10, 15[':0, '[15, 20[':0, '[20, 25[':0, '[25, 30[':0, '[30, 35[':0, '[35, 40[':0, '[40, [':0, 'missing': 0}\n",
    "gustspeeds = {'[0-5[':0, '[5, 10[':0, '[10, 15[':0, '[15, 20[':0, '[20, 25[':0, '[25, 30[':0, '[30, 35[':0, '[35, 40[':0, '[40, 45[':0, '[45, 50[': 0, '[45, 50[':0, '[50, [':0, 'missing': 0}\n",
    "years = {str(year): 0 for year in range(1990,2024)}\n",
    "winddirections = {d: 0 for d in range(0, 360, 15)}\n",
    "\n",
    "with open('D:/Skoli/Mastersverkefni/lokaverkefni_vel/data/Measured/combined_10min/combined_10min.txt', 'r') as f:\n",
    "    n_line = 0\n",
    "    chunk_size = int(1e7)\n",
    "    for line in tqdm(f, total = int(2.7 * 1e8)):\n",
    "        line = line.split(',')\n",
    "        windspeed = safe_float_conversion(line[2])\n",
    "        year = line[0][:4]\n",
    "        winddirection = safe_float_conversion(line[5])\n",
    "        gustspeed = safe_float_conversion(line[3])\n",
    "        if winddirection == np.nan:\n",
    "                winddirections['missing'] += 1\n",
    "        else:\n",
    "            for wd in range(15, 375, 15):\n",
    "                if winddirection <= wd:\n",
    "                    winddirections[wd-15] += 1\n",
    "                    break\n",
    "        if windspeed == np.nan:\n",
    "            windspeeds['missing'] += 1\n",
    "        elif windspeed < 5:\n",
    "            windspeeds['[0-5['] += 1\n",
    "        elif windspeed < 10:\n",
    "            windspeeds['[5, 10['] += 1\n",
    "        elif windspeed < 15:\n",
    "            windspeeds['[10, 15['] += 1\n",
    "        elif windspeed < 20:\n",
    "            windspeeds['[15, 20['] += 1\n",
    "        elif windspeed < 25:\n",
    "            windspeeds['[20, 25['] += 1\n",
    "        elif windspeed < 30:\n",
    "            windspeeds['[25, 30['] += 1\n",
    "        elif windspeed < 35:\n",
    "            windspeeds['[30, 35['] += 1\n",
    "        elif windspeed < 40:\n",
    "            windspeeds['[35, 40['] += 1\n",
    "        else:\n",
    "            windspeeds['[40, ['] += 1\n",
    "        \n",
    "        if gustspeed == np.nan:\n",
    "            gustspeeds['missing'] += 1\n",
    "        elif gustspeed < 5:\n",
    "            gustspeeds['[0-5['] += 1\n",
    "        elif gustspeed < 10:\n",
    "            gustspeeds['[5, 10['] += 1\n",
    "        elif gustspeed < 15:\n",
    "            gustspeeds['[10, 15['] += 1\n",
    "        elif gustspeed < 20:\n",
    "            gustspeeds['[15, 20['] += 1\n",
    "        elif gustspeed < 25:\n",
    "            gustspeeds['[20, 25['] += 1\n",
    "        elif gustspeed < 30:\n",
    "            gustspeeds['[25, 30['] += 1\n",
    "        elif gustspeed < 35:\n",
    "            gustspeeds['[30, 35['] += 1\n",
    "        elif gustspeed < 40:\n",
    "            gustspeeds['[35, 40['] += 1\n",
    "        elif gustspeed < 45:\n",
    "            gustspeeds['[40, 45['] += 1\n",
    "        elif gustspeed < 50:\n",
    "            gustspeeds['[45, 50['] += 1\n",
    "        else:\n",
    "            gustspeeds['[50, ['] += 1\n",
    "        if year not in years:\n",
    "            years[year] = 1\n",
    "        else:\n",
    "            years[year] += 1\n",
    "\n",
    "        #line = f.readline()\n",
    "        n_line += 1\n",
    "\n",
    "        if not n_line % chunk_size:\n",
    "            print(f'At line number {n_line}')\n",
    "    \n",
    "with open('D:/Skoli/Mastersverkefni/lokaverkefni_vel/data/Measured/combined_10min/windspeeds_stats.pkl', 'wb') as f:\n",
    "    pickle.dump(windspeeds, f)\n",
    "with open('D:/Skoli/Mastersverkefni/lokaverkefni_vel/data/Measured/combined_10min/years_stats.pkl', 'wb') as f:\n",
    "    pickle.dump(years, f)\n",
    "with open('D:/Skoli/Mastersverkefni/lokaverkefni_vel/data/Measured/combined_10min/gustspeeds_stats.pkl', 'wb') as f:\n",
    "    pickle.dump(gustspeeds, f)\n",
    "with open('D:/Skoli/Mastersverkefni/lokaverkefni_vel/data/Measured/combined_10min/winddirections_stats.pkl', 'wb') as f:\n",
    "    pickle.dump(winddirections, f)"
   ]
  },
  {
   "cell_type": "code",
   "execution_count": 22,
   "id": "637c9922",
   "metadata": {},
   "outputs": [
    {
     "name": "stderr",
     "output_type": "stream",
     "text": [
      "  4%|▎         | 9954713/280000000 [00:13<06:43, 668599.87it/s]"
     ]
    },
    {
     "name": "stdout",
     "output_type": "stream",
     "text": [
      "At line number 10000000\n"
     ]
    },
    {
     "name": "stderr",
     "output_type": "stream",
     "text": [
      "  7%|▋         | 20096336/280000000 [00:30<07:08, 606997.69it/s]"
     ]
    },
    {
     "name": "stdout",
     "output_type": "stream",
     "text": [
      "At line number 20000000\n"
     ]
    },
    {
     "name": "stderr",
     "output_type": "stream",
     "text": [
      " 11%|█         | 30113791/280000000 [00:48<06:05, 683691.98it/s]"
     ]
    },
    {
     "name": "stdout",
     "output_type": "stream",
     "text": [
      "At line number 30000000\n"
     ]
    },
    {
     "name": "stderr",
     "output_type": "stream",
     "text": [
      " 14%|█▍        | 40099054/280000000 [01:02<05:31, 723670.92it/s]"
     ]
    },
    {
     "name": "stdout",
     "output_type": "stream",
     "text": [
      "At line number 40000000\n"
     ]
    },
    {
     "name": "stderr",
     "output_type": "stream",
     "text": [
      " 18%|█▊        | 50147561/280000000 [01:17<05:37, 681534.76it/s]"
     ]
    },
    {
     "name": "stdout",
     "output_type": "stream",
     "text": [
      "At line number 50000000\n"
     ]
    },
    {
     "name": "stderr",
     "output_type": "stream",
     "text": [
      " 21%|██▏       | 60134000/280000000 [01:32<05:13, 700724.25it/s]"
     ]
    },
    {
     "name": "stdout",
     "output_type": "stream",
     "text": [
      "At line number 60000000\n"
     ]
    },
    {
     "name": "stderr",
     "output_type": "stream",
     "text": [
      " 25%|██▌       | 70095817/280000000 [01:47<04:54, 713701.56it/s]"
     ]
    },
    {
     "name": "stdout",
     "output_type": "stream",
     "text": [
      "At line number 70000000\n"
     ]
    },
    {
     "name": "stderr",
     "output_type": "stream",
     "text": [
      " 29%|██▊       | 80109812/280000000 [02:02<04:46, 696808.65it/s]"
     ]
    },
    {
     "name": "stdout",
     "output_type": "stream",
     "text": [
      "At line number 80000000\n"
     ]
    },
    {
     "name": "stderr",
     "output_type": "stream",
     "text": [
      " 32%|███▏      | 90039574/280000000 [02:20<04:48, 658509.88it/s]"
     ]
    },
    {
     "name": "stdout",
     "output_type": "stream",
     "text": [
      "At line number 90000000\n"
     ]
    },
    {
     "name": "stderr",
     "output_type": "stream",
     "text": [
      " 36%|███▌      | 100079163/280000000 [02:35<04:03, 738521.62it/s]"
     ]
    },
    {
     "name": "stdout",
     "output_type": "stream",
     "text": [
      "At line number 100000000\n"
     ]
    },
    {
     "name": "stderr",
     "output_type": "stream",
     "text": [
      " 39%|███▉      | 110154077/280000000 [02:49<03:52, 730710.21it/s]"
     ]
    },
    {
     "name": "stdout",
     "output_type": "stream",
     "text": [
      "At line number 110000000\n"
     ]
    },
    {
     "name": "stderr",
     "output_type": "stream",
     "text": [
      " 43%|████▎     | 120053022/280000000 [03:10<05:17, 504072.78it/s]"
     ]
    },
    {
     "name": "stdout",
     "output_type": "stream",
     "text": [
      "At line number 120000000\n"
     ]
    },
    {
     "name": "stderr",
     "output_type": "stream",
     "text": [
      " 46%|████▋     | 130088757/280000000 [03:29<04:02, 618391.76it/s]"
     ]
    },
    {
     "name": "stdout",
     "output_type": "stream",
     "text": [
      "At line number 130000000\n"
     ]
    },
    {
     "name": "stderr",
     "output_type": "stream",
     "text": [
      " 50%|█████     | 140091761/280000000 [03:46<03:54, 596170.92it/s]"
     ]
    },
    {
     "name": "stdout",
     "output_type": "stream",
     "text": [
      "At line number 140000000\n"
     ]
    },
    {
     "name": "stderr",
     "output_type": "stream",
     "text": [
      " 54%|█████▎    | 150113263/280000000 [04:02<03:27, 625346.20it/s]"
     ]
    },
    {
     "name": "stdout",
     "output_type": "stream",
     "text": [
      "At line number 150000000\n"
     ]
    },
    {
     "name": "stderr",
     "output_type": "stream",
     "text": [
      " 57%|█████▋    | 160073883/280000000 [04:19<03:21, 593886.21it/s]"
     ]
    },
    {
     "name": "stdout",
     "output_type": "stream",
     "text": [
      "At line number 160000000\n"
     ]
    },
    {
     "name": "stderr",
     "output_type": "stream",
     "text": [
      " 61%|██████    | 170121001/280000000 [04:35<03:00, 609164.27it/s]"
     ]
    },
    {
     "name": "stdout",
     "output_type": "stream",
     "text": [
      "At line number 170000000\n"
     ]
    },
    {
     "name": "stderr",
     "output_type": "stream",
     "text": [
      " 64%|██████▍   | 180076099/280000000 [04:52<02:47, 598174.94it/s]"
     ]
    },
    {
     "name": "stdout",
     "output_type": "stream",
     "text": [
      "At line number 180000000\n"
     ]
    },
    {
     "name": "stderr",
     "output_type": "stream",
     "text": [
      " 68%|██████▊   | 190101767/280000000 [05:09<02:33, 584075.48it/s]"
     ]
    },
    {
     "name": "stdout",
     "output_type": "stream",
     "text": [
      "At line number 190000000\n"
     ]
    },
    {
     "name": "stderr",
     "output_type": "stream",
     "text": [
      " 71%|███████▏  | 200055862/280000000 [05:27<02:18, 575821.91it/s]"
     ]
    },
    {
     "name": "stdout",
     "output_type": "stream",
     "text": [
      "At line number 200000000\n"
     ]
    },
    {
     "name": "stderr",
     "output_type": "stream",
     "text": [
      " 75%|███████▌  | 210060285/280000000 [05:45<02:09, 538794.63it/s]"
     ]
    },
    {
     "name": "stdout",
     "output_type": "stream",
     "text": [
      "At line number 210000000\n"
     ]
    },
    {
     "name": "stderr",
     "output_type": "stream",
     "text": [
      " 79%|███████▊  | 220039017/280000000 [06:08<05:02, 198111.10it/s]"
     ]
    },
    {
     "name": "stdout",
     "output_type": "stream",
     "text": [
      "At line number 220000000\n"
     ]
    },
    {
     "name": "stderr",
     "output_type": "stream",
     "text": [
      " 82%|████████▏ | 230071680/280000000 [06:27<01:43, 480108.81it/s]"
     ]
    },
    {
     "name": "stdout",
     "output_type": "stream",
     "text": [
      "At line number 230000000\n"
     ]
    },
    {
     "name": "stderr",
     "output_type": "stream",
     "text": [
      " 86%|████████▌ | 240060610/280000000 [06:47<01:49, 364236.14it/s]"
     ]
    },
    {
     "name": "stdout",
     "output_type": "stream",
     "text": [
      "At line number 240000000\n"
     ]
    },
    {
     "name": "stderr",
     "output_type": "stream",
     "text": [
      " 89%|████████▉ | 250101055/280000000 [07:06<00:52, 568534.54it/s]"
     ]
    },
    {
     "name": "stdout",
     "output_type": "stream",
     "text": [
      "At line number 250000000\n"
     ]
    },
    {
     "name": "stderr",
     "output_type": "stream",
     "text": [
      " 93%|█████████▎| 260090473/280000000 [07:23<00:33, 602412.95it/s]"
     ]
    },
    {
     "name": "stdout",
     "output_type": "stream",
     "text": [
      "At line number 260000000\n"
     ]
    },
    {
     "name": "stderr",
     "output_type": "stream",
     "text": [
      " 96%|█████████▋| 270082813/280000000 [07:43<00:17, 554388.52it/s]"
     ]
    },
    {
     "name": "stdout",
     "output_type": "stream",
     "text": [
      "At line number 270000000\n"
     ]
    },
    {
     "name": "stderr",
     "output_type": "stream",
     "text": [
      " 98%|█████████▊| 273032281/280000000 [07:51<00:12, 579632.45it/s]"
     ]
    },
    {
     "name": "stdout",
     "output_type": "stream",
     "text": [
      "{2: 20878611, 3: 23018360, 4: 22342280, 5: 23164081, 6: 22454589, 7: 23158995, 8: 23465821, 9: 23441829, 10: 23261634, 11: 22114591, 12: 22897751, 1: 22833739}\n"
     ]
    },
    {
     "name": "stderr",
     "output_type": "stream",
     "text": [
      "\n"
     ]
    }
   ],
   "source": [
    "months = {}\n",
    "\n",
    "with open('D:/Skoli/Mastersverkefni/lokaverkefni_vel/data/Measured/combined_10min/combined_10min.txt', 'r') as f:\n",
    "    for line in tqdm(f, total = int(2.8 * 1e8)):\n",
    "        line = line.split(',')\n",
    "        month = safe_int_conversion(line[0][5:7])\n",
    "        if month not in months:\n",
    "            months[month] = 1\n",
    "        else:\n",
    "            months[month] += 1\n",
    "\n",
    "print(months)\n",
    "\n",
    "with open('D:/Skoli/Mastersverkefni/lokaverkefni_vel/data/Measured/combined_10min/months_stats.pkl', 'wb') as f:\n",
    "    pickle.dump(months, f)"
   ]
  },
  {
   "cell_type": "code",
   "execution_count": 8,
   "id": "5ea3e369",
   "metadata": {},
   "outputs": [],
   "source": [
    "with open('D:/Skoli/Mastersverkefni/lokaverkefni_vel/data/Measured/combined_10min/windspeeds_stats.pkl', 'rb') as f:\n",
    "    windspeeds = pickle.load(f)\n",
    "with open('D:/Skoli/Mastersverkefni/lokaverkefni_vel/data/Measured/combined_10min/years_stats.pkl', 'rb') as f:\n",
    "    years = pickle.load(f)\n",
    "with open('D:/Skoli/Mastersverkefni/lokaverkefni_vel/data/Measured/combined_10min/gustspeeds_stats.pkl', 'rb') as f:\n",
    "    gusts = pickle.load(f)\n",
    "with open('D:/Skoli/Mastersverkefni/lokaverkefni_vel/data/Measured/combined_10min/winddirections_stats.pkl', 'rb') as f:\n",
    "    directions = pickle.load(f)\n"
   ]
  },
  {
   "cell_type": "code",
   "execution_count": 27,
   "id": "fb059e70",
   "metadata": {},
   "outputs": [],
   "source": [
    "with open('D:/Skoli/Mastersverkefni/lokaverkefni_vel/data/Measured/combined_10min/months_stats.pkl', 'rb') as f:\n",
    "    months = pickle.load(f)"
   ]
  },
  {
   "cell_type": "code",
   "execution_count": 25,
   "id": "8a1a8f67",
   "metadata": {},
   "outputs": [],
   "source": [
    "with open('D:/Skoli/Mastersverkefni/lokaverkefni_vel/data/Measured/combined_10min/months_stats.pkl', 'wb') as f:\n",
    "    pickle.dump(months, f)"
   ]
  },
  {
   "cell_type": "code",
   "execution_count": 13,
   "id": "bf0f8f4a",
   "metadata": {},
   "outputs": [
    {
     "data": {
      "image/png": "[encoded data removed]",
      "text/plain": [
       "<Figure size 640x480 with 1 Axes>"
      ]
     },
     "metadata": {},
     "output_type": "display_data"
    }
   ],
   "source": [
    "from matplotlib import pyplot as plt\n",
    "\n",
    "plt.bar(windspeeds.keys(), windspeeds.values())\n",
    "plt.xticks(rotation = 45)\n",
    "plt.yscale('log')\n",
    "plt.show()"
   ]
  },
  {
   "cell_type": "code",
   "execution_count": 14,
   "id": "6d0d2704",
   "metadata": {},
   "outputs": [
    {
     "data": {
      "image/png": "[encoded data removed]",
      "text/plain": [
       "<Figure size 640x480 with 1 Axes>"
      ]
     },
     "metadata": {},
     "output_type": "display_data"
    }
   ],
   "source": [
    "plt.bar(years.keys(), years.values())\n",
    "plt.xticks(rotation = 45)\n",
    "plt.yscale('log')\n",
    "plt.show()"
   ]
  },
  {
   "cell_type": "code",
   "execution_count": 15,
   "id": "ef913183",
   "metadata": {},
   "outputs": [
    {
     "data": {
      "image/png": "[encoded data removed]",
      "text/plain": [
       "<Figure size 640x480 with 1 Axes>"
      ]
     },
     "metadata": {},
     "output_type": "display_data"
    }
   ],
   "source": [
    "plt.bar(gusts.keys(), gusts.values())\n",
    "plt.xticks(rotation = 45)\n",
    "plt.yscale('log')\n",
    "plt.show()"
   ]
  },
  {
   "cell_type": "code",
   "execution_count": 16,
   "id": "782538e2",
   "metadata": {},
   "outputs": [
    {
     "data": {
      "image/png": "[encoded data removed]",
      "text/plain": [
       "<Figure size 640x480 with 1 Axes>"
      ]
     },
     "metadata": {},
     "output_type": "display_data"
    }
   ],
   "source": [
    "plt.bar(winddirections.keys(), winddirections.values())\n",
    "plt.xticks(rotation = 45)\n",
    "plt.yscale('log')\n",
    "plt.show()"
   ]
  },
  {
   "cell_type": "code",
   "execution_count": null,
   "id": "db4a4caa",
   "metadata": {},
   "outputs": [],
   "source": [
    "def combineKLST(directory: str = 'D:/Skoli/Mastersverkefni/lokaverkefni_vel/data/Vedurstofa/', outputpath: str = 'D:/Skoli/Mastersverkefni/lokaverkefni_vel/data/Vedurstofa/combined_klst.feather'):\n",
    "    files = []\n",
    "    for folder in ['klst/', 'vg/']:\n",
    "        files.extend([directory + folder + file for file in os.listdir(directory + folder)])\n",
    "\n",
    "    columns = ['timi','stod','f','fx','fg','d']\n",
    "    data = []\n",
    "    for file in tqdm(files, total = len(files)):\n",
    "        with open(file, 'r') as f:\n",
    "            lines = [line for line in csv.reader(f)]\n",
    "        if 'dsdev' in lines[0]:\n",
    "            lines = [line[:-1] for line in lines]\n",
    "        lines = lines[1:]\n",
    "        data.extend(lines)\n",
    "\n",
    "    df = pd.DataFrame(data, columns = columns)\n",
    "    df.stod = pd.to_numeric(df.stod, errors = 'coerce')\n",
    "    df.timi = pd.to_datetime(df.timi, errors = 'coerce')\n",
    "    df.fx = pd.to_numeric(df.fx, errors = 'coerce')\n",
    "    df.f = pd.to_numeric(df.f, errors = 'coerce')\n",
    "    df.fg = pd.to_numeric(df.fg, errors = 'coerce')\n",
    "    df.d = pd.to_numeric(df.d, errors = 'coerce')\n",
    "    df.to_feather(outputpath)"
   ]
  },
  {
   "cell_type": "code",
   "execution_count": null,
   "id": "c692812e",
   "metadata": {
    "lines_to_next_cell": 2
   },
   "outputs": [],
   "source": [
    "#def filterWithThreshold(vedurPath: str = 'E:/Skóli/HÍ/Vélaverkfræði Master HÍ/Lokaverkefni/Data/Vedurstofa/combined_10min_20ms.feather', outputpath: str = 'E:/Skóli/HÍ/Vélaverkfræði Master HÍ/Lokaverkefni/Data/Vedurstofa/combined_10min_20ms_24hr.feather', threshold: str = '1 day'):\n",
    "def filterWithThreshold(vedurPath: str = 'D:/Skoli/lokaverkefni_vel/data/Vedurstofa/combined_10min_20ms_25_3_24.feather', outputpath: str = 'D:/Skóli/lokaverkefni_vel/data/Vedurstofa/combined_10min_20ms_25_3_24_24hr.feather', threshold: str = '1 day'):\n",
    "    vedur_df = pd.read_feather(vedurPath)\n",
    "    filtered_data, columns, stations = [], vedur_df.columns, vedur_df.stod.unique()\n",
    "\n",
    "    print(f'The shape of the unfiltered dataframe is {vedur_df.shape}')\n",
    "\n",
    "    for station in tqdm(stations, total = len(stations)):\n",
    "        subset_df = vedur_df[station == vedur_df.stod]\n",
    "        subset_df = subset_df.reset_index(drop = True)\n",
    "\n",
    "        while not subset_df.empty:\n",
    "            idx = subset_df.f.idxmax()\n",
    "            time_of_max = subset_df.iloc[idx].timi\n",
    "\n",
    "            filtered_data.append(subset_df.iloc[idx])\n",
    "\n",
    "            subset_df = subset_df[abs(subset_df.timi - time_of_max) >= pd.Timedelta(threshold)]\n",
    "\n",
    "            subset_df = subset_df.reset_index(drop = True)\n",
    "\n",
    "    filtered_df = pd.DataFrame(filtered_data, columns=columns)\n",
    "\n",
    "    filtered_df = filtered_df.sort_values(by=['stod', 'timi'])\n",
    "\n",
    "    filtered_df = filtered_df.reset_index(drop=True)\n",
    "\n",
    "    print(f'The shape of the filtered dataframe is {filtered_df.shape}')\n",
    "\n",
    "    filtered_df.to_feather(outputpath)"
   ]
  },
  {
   "cell_type": "code",
   "execution_count": null,
   "id": "a17bbab0",
   "metadata": {},
   "outputs": [],
   "source": [
    "combine10min()"
   ]
  },
  {
   "cell_type": "code",
   "execution_count": null,
   "id": "5f7d1848",
   "metadata": {},
   "outputs": [],
   "source": [
    "combineKLST()"
   ]
  },
  {
   "cell_type": "code",
   "execution_count": null,
   "id": "2cbcf1dc",
   "metadata": {},
   "outputs": [],
   "source": [
    "filterWithThreshold()"
   ]
  },
  {
   "cell_type": "code",
   "execution_count": null,
   "id": "964a2dba",
   "metadata": {},
   "outputs": [],
   "source": [
    "convertTimiF_Combined10min_toFeather()"
   ]
  }
 ],
 "metadata": {
  "jupytext": {
   "cell_metadata_filter": "-all",
   "main_language": "python",
   "notebook_metadata_filter": "-all"
  },
  "kernelspec": {
   "display_name": ".venv",
   "language": "python",
   "name": "python3"
  },
  "language_info": {
   "codemirror_mode": {
    "name": "ipython",
    "version": 3
   },
   "file_extension": ".py",
   "mimetype": "text/x-python",
   "name": "python",
   "nbconvert_exporter": "python",
   "pygments_lexer": "ipython3",
   "version": "3.11.2"
  }
 },
 "nbformat": 4,
 "nbformat_minor": 5
}
