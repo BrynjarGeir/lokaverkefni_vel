{
 "cells": [
  {
   "cell_type": "code",
   "execution_count": 1,
   "metadata": {},
   "outputs": [],
   "source": [
    "from matplotlib import pyplot as plt\n",
    "from windrose import WindroseAxes\n",
    "from matplotlib import pyplot as plt\n",
    "from utils.data import get_data\n",
    "from utils.util import getTopLevelPath\n",
    "from tqdm.notebook import tqdm\n",
    "from sklearn.metrics import mean_absolute_error, mean_absolute_percentage_error\n",
    "from mpl_toolkits.basemap import Basemap\n",
    "import os, numpy as np, pandas as pd"
   ]
  },
  {
   "cell_type": "code",
   "execution_count": 2,
   "metadata": {},
   "outputs": [],
   "source": [
    "chunks_path = getTopLevelPath() + 'data/Model/chunks/'\n",
    "chunk_files = [chunks_path + chunk for chunk in os.listdir(chunks_path) if chunk.endswith('.feather')]"
   ]
  },
  {
   "cell_type": "code",
   "execution_count": null,
   "metadata": {},
   "outputs": [],
   "source": [
    "def mae(x):\n",
    "    if len(x) > 1:\n",
    "        MAE = mean_absolute_error(x.f, x.ws_15)\n",
    "    else:\n",
    "        MAE = np.nan\n",
    "    return x.stod.iloc[0], x.lon.iloc[0], x.lat.iloc[0], MAE, len(x)"
   ]
  },
  {
   "cell_type": "code",
   "execution_count": null,
   "metadata": {},
   "outputs": [],
   "source": [
    "def mape(x):\n",
    "    if len(x) > 1:\n",
    "        MAPE = mean_absolute_percentage_error(x.f, x.ws_15)\n",
    "    else:\n",
    "        MAPE = np.nan\n",
    "    return x.stod.iloc[0], x.lon.iloc[0], x.lat.iloc[0], MAPE, len(x)"
   ]
  },
  {
   "cell_type": "code",
   "execution_count": null,
   "metadata": {},
   "outputs": [],
   "source": [
    "tqdm.pandas(desc = 'Calculate MAPE for each group')\n",
    "df = df[df.f > 0]\n",
    "res = df.groupby('stod').progress_apply(mape)"
   ]
  },
  {
   "cell_type": "code",
   "execution_count": null,
   "metadata": {},
   "outputs": [],
   "source": [
    "bins = [i for i in range(0, 30, 5)] + [np.inf]"
   ]
  },
  {
   "cell_type": "code",
   "execution_count": null,
   "metadata": {},
   "outputs": [],
   "source": [
    "cut_f = pd.cut(df.f, bins = bins).value_counts().sort_index()\n",
    "cut_ws_15 = pd.cut(df.ws_15, bins = bins).value_counts().sort_index()"
   ]
  },
  {
   "cell_type": "code",
   "execution_count": null,
   "metadata": {},
   "outputs": [],
   "source": [
    "fig, ax = plt.subplots()\n",
    "width = 0.35  # width of the bars\n",
    "\n",
    "bins_labels = [f'[{bins[i]}, {bins[i+1]}[' for i in range(len(bins) - 1)]\n",
    "x = range(len(bins_labels))\n",
    "\n",
    "ax.bar(x, cut_f, width, label='Measured wind speed')\n",
    "ax.bar([i + width for i in x], cut_ws_15, width, label='Reanalysis wind speed')\n",
    "\n",
    "ax.set_xlabel('Wind speed range [m/s]')\n",
    "ax.set_ylabel('Frequency')\n",
    "ax.set_title('Frequency of Values by Bins')\n",
    "ax.set_xticks([i + width / 2 for i in x])\n",
    "ax.set_xticklabels(bins_labels, rotation=45, ha='right')\n",
    "ax.legend()\n",
    "outputpath = getTopLevelPath() + 'data/Visualization/png/freqMeasuredVsReanalysis.png'\n",
    "plt.tight_layout()\n",
    "plt.savefig(outputpath)\n",
    "plt.show()\n"
   ]
  },
  {
   "cell_type": "code",
   "execution_count": null,
   "metadata": {},
   "outputs": [],
   "source": [
    "# Define coordinates and MAE values (replace with your data)\n",
    "lons, lats, mape_values = [r[1] for r in res], [r[2] for r in res], [r[3] for r in res]# Replace with actual longitudes"
   ]
  },
  {
   "cell_type": "code",
   "execution_count": null,
   "metadata": {},
   "outputs": [],
   "source": [
    "# Create Basemap instance for Iceland\n",
    "plt.figure(figsize = (10, 10)) \n",
    "m = Basemap(projection='merc', llcrnrlat=63.2, urcrnrlat=66.8, llcrnrlon=-24.7, urcrnrlon=-13.3, resolution='h')\n",
    "\n",
    "# Draw coastline and boundaries of Iceland\n",
    "m.drawcoastlines()\n",
    "m.drawcountries()\n",
    "m.drawmapboundary()\n",
    "\n",
    "# Convert latitudes and longitudes to Basemap coordinates\n",
    "x, y = m(lons, lats)\n",
    "\n",
    "# Plot MAE values as colored points\n",
    "m.scatter(x, y, c=mape_values, cmap='OrRd', edgecolors='none', alpha=0.9)\n",
    "\n",
    "# Add colorbar\n",
    "plt.colorbar(label='MAPE', fraction = 0.035, pad = 0.04)\n",
    "plt.tight_layout()\n",
    "# Show plot\n",
    "outputpath = getTopLevelPath() + 'data/Visualization/png/MAPEoverIceland.png'\n",
    "plt.savefig(outputpath)\n",
    "plt.show()\n"
   ]
  },
  {
   "cell_type": "code",
   "execution_count": null,
   "metadata": {},
   "outputs": [],
   "source": [
    "data = get_data()"
   ]
  },
  {
   "cell_type": "code",
   "execution_count": null,
   "metadata": {},
   "outputs": [],
   "source": [
    "data = data.drop([i for i in range(720)], axis = 1)"
   ]
  },
  {
   "cell_type": "code",
   "execution_count": null,
   "metadata": {},
   "outputs": [],
   "source": [
    "def plotAllScatterFVFg(dirpath = './data/parts/'):\n",
    "    files = [dirpath + file for file in os.listdir(dirpath) if file.endswith('.feather')]\n",
    "\n",
    "    for file in files:\n",
    "        data = pd.read_feather(file)\n",
    "        data = data[data.f < data.fg]\n",
    "        data = data[data.fg <= 75]\n",
    "        plt.scatter(data.f, data.fg, s = 0.1, c = 'grey', marker = 'x')\n",
    "\n",
    "    plt.xlabel('f')\n",
    "    plt.ylabel('fg')\n",
    "    plt.show()"
   ]
  },
  {
   "cell_type": "code",
   "execution_count": null,
   "metadata": {},
   "outputs": [],
   "source": [
    "# Plot wind rose\n",
    "ax = WindroseAxes.from_ax()\n",
    "ax.bar(data.d, data.f, normed=True, opening=0.8, edgecolor='white')\n",
    "ax.set_legend()\n",
    "plt.title('Wind Rose Plot')\n",
    "plt.show()"
   ]
  },
  {
   "cell_type": "code",
   "execution_count": null,
   "metadata": {},
   "outputs": [],
   "source": [
    "import seaborn as sns\n",
    "correlation_matrix = data[['f', 'ws_15', 'ws_250', 'ws_500']].corr()\n",
    "# Plot correlation heatmap\n",
    "plt.figure(figsize=(20, 15))\n",
    "sns.heatmap(correlation_matrix, annot=True, cmap='coolwarm', fmt=\".2f\")\n",
    "plt.title('Correlation Heatmap')\n",
    "plt.show()"
   ]
  },
  {
   "cell_type": "code",
   "execution_count": null,
   "metadata": {},
   "outputs": [],
   "source": [
    "# Calculate the difference in wind direction between reanalysis and measured data\n",
    "wind_direction_difference = data['wd_15'] - data['d']\n",
    "\n",
    "# Remove potential wrap-around (e.g., if wind direction is 350 degrees and 10 degrees)\n",
    "wind_direction_difference = np.where(wind_direction_difference > 180, wind_direction_difference - 360, wind_direction_difference)\n",
    "wind_direction_difference = np.where(wind_direction_difference < -180, wind_direction_difference + 360, wind_direction_difference)\n",
    "\n",
    "wind_direction_difference = abs(wind_direction_difference)\n",
    "\n",
    "# Plot histogram of wind direction difference\n",
    "plt.figure(figsize=(8, 6))\n",
    "sns.histplot(wind_direction_difference, bins=40, kde=True, color='skyblue', edgecolor='black')\n",
    "plt.xlabel('Munur á vindátt')\n",
    "plt.ylabel('Fjöldi')\n",
    "#plt.savefig('./data/figures/wind_direction_difference.png')\n",
    "plt.show()\n"
   ]
  },
  {
   "cell_type": "code",
   "execution_count": null,
   "metadata": {},
   "outputs": [],
   "source": [
    "# Plot histograms of wind speed from measurement and reanalysis data\n",
    "plt.figure(figsize=(10, 6))\n",
    "diff_15 = abs(data.f - data.ws_15)\n",
    "diff_250 = abs(data.f - data.ws_250)\n",
    "diff_500 = abs(data.f - data.ws_500)\n",
    "sns.histplot(diff_15, bins=20, kde=True, color='blue', label='Difference for 15 meters')\n",
    "sns.histplot(diff_250, bins=20, kde=True, color='green', label='Difference for 250 meters')\n",
    "sns.histplot(diff_500, bins=20, kde=True, color='yellow', label='Difference for 500 meters')\n",
    "plt.xlabel('Wind speed (m/s)')\n",
    "plt.ylabel('Frequency')\n",
    "plt.legend()\n",
    "#plt.savefig('./data/figures/wind_speed_difference_each_en.png')\n",
    "plt.show()"
   ]
  },
  {
   "cell_type": "code",
   "execution_count": null,
   "metadata": {},
   "outputs": [],
   "source": [
    "# Plot histograms of wind speed from measurement and reanalysis data\n",
    "plt.figure(figsize=(10, 6))\n",
    "sns.histplot(data.f, bins=20, kde=True, color='blue', label='Measured at 10 meters')\n",
    "sns.histplot(data.ws_15, bins=20, kde=True, color='orange', label='Reanalysis at 15 meters')\n",
    "plt.xlabel('Wind speed (m/s)')\n",
    "plt.ylabel('Frequency')\n",
    "plt.legend()\n",
    "#plt.savefig('./data/figures/wind_speed_difference_en.png')\n",
    "plt.show()"
   ]
  },
  {
   "cell_type": "code",
   "execution_count": null,
   "metadata": {},
   "outputs": [],
   "source": [
    "data[data.stod == 1350]"
   ]
  },
  {
   "cell_type": "code",
   "execution_count": null,
   "metadata": {},
   "outputs": [],
   "source": [
    "abDiff = np.abs(data.f - data.ws_15)\n",
    "skew = 3*(np.mean(abDiff) - np.median(abDiff))/np.std(abDiff)\n",
    "\n",
    "skew"
   ]
  },
  {
   "cell_type": "code",
   "execution_count": null,
   "metadata": {},
   "outputs": [],
   "source": [
    "# Plot histograms of wind speed from measurement and reanalysis data\n",
    "plt.figure(figsize=(10, 6))\n",
    "sns.histplot(data[data.stod == 1350].f, bins=20, kde=True, color='blue', label='Measured at 10 meters')\n",
    "sns.histplot(data[data.stod == 1350].ws_15, bins=20, kde=True, color='orange', label='Reanalysis at 15 meters')\n",
    "plt.xlabel('Wind speed (m/s)')\n",
    "plt.ylabel('Frequency')\n",
    "plt.legend()\n",
    "#plt.savefig('./data/figures/wind_speed_difference_en.png')\n",
    "plt.show()"
   ]
  }
 ],
 "metadata": {
  "kernelspec": {
   "display_name": "Python 3",
   "language": "python",
   "name": "python3"
  },
  "language_info": {
   "codemirror_mode": {
    "name": "ipython",
    "version": 3
   },
   "file_extension": ".py",
   "mimetype": "text/x-python",
   "name": "python",
   "nbconvert_exporter": "python",
   "pygments_lexer": "ipython3",
   "version": "3.12.3"
  }
 },
 "nbformat": 4,
 "nbformat_minor": 2
}
