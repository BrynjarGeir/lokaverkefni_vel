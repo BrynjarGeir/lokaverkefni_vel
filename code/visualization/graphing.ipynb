{
 "cells": [
  {
   "cell_type": "code",
   "execution_count": 1,
   "metadata": {},
   "outputs": [],
   "source": [
    "from graphviz import Digraph"
   ]
  },
  {
   "cell_type": "code",
   "execution_count": 37,
   "metadata": {},
   "outputs": [],
   "source": [
    "graph = Digraph('data-preprocessing', comment = 'Flow of preprocess of data')"
   ]
  },
  {
   "cell_type": "code",
   "execution_count": 38,
   "metadata": {},
   "outputs": [],
   "source": [
    "graph.node('Veðurstofa', shape = 'box')\n",
    "graph.node('Elevation', shape = 'ellipse')\n",
    "graph.node('10 min', shape = 'ellipse')\n",
    "graph.node('Hourly', shape = 'ellipse')\n",
    "\n",
    "graph.node('Copernicus', shape = 'box')\n",
    "graph.node('CARRA', shape = 'box')\n",
    "\n",
    "graph.node('Merged Reanalysis & 10 min', shape = 'ellipse')\n",
    "graph.node('Nailstripped merged', shape = 'ellipse')\n",
    "graph.node('Nailstripped with elevation', shape = 'ellipse')"
   ]
  },
  {
   "cell_type": "code",
   "execution_count": 3,
   "metadata": {},
   "outputs": [
    {
     "ename": "NameError",
     "evalue": "name 'graph' is not defined",
     "output_type": "error",
     "traceback": [
      "\u001b[1;31m---------------------------------------------------------------------------\u001b[0m",
      "\u001b[1;31mNameError\u001b[0m                                 Traceback (most recent call last)",
      "Cell \u001b[1;32mIn[3], line 1\u001b[0m\n\u001b[1;32m----> 1\u001b[0m \u001b[43mgraph\u001b[49m\u001b[38;5;241m.\u001b[39medges([(\u001b[38;5;124m'\u001b[39m\u001b[38;5;124mVeðurstofa\u001b[39m\u001b[38;5;124m'\u001b[39m, \u001b[38;5;124m'\u001b[39m\u001b[38;5;124m10 min TXT\u001b[39m\u001b[38;5;124m'\u001b[39m, label \u001b[38;5;241m:=\u001b[39m \u001b[38;5;124m'\u001b[39m\u001b[38;5;124mProvided\u001b[39m\u001b[38;5;124m'\u001b[39m), (\u001b[38;5;124m'\u001b[39m\u001b[38;5;124mVeðurstofa\u001b[39m\u001b[38;5;124m'\u001b[39m, \u001b[38;5;124m'\u001b[39m\u001b[38;5;124mHourly TXT\u001b[39m\u001b[38;5;124m'\u001b[39m), (\u001b[38;5;124m'\u001b[39m\u001b[38;5;124mVeðurstofa\u001b[39m\u001b[38;5;124m'\u001b[39m, \u001b[38;5;124m'\u001b[39m\u001b[38;5;124mElevation GeoTif\u001b[39m\u001b[38;5;124m'\u001b[39m), (\u001b[38;5;124m'\u001b[39m\u001b[38;5;124mCopernicus\u001b[39m\u001b[38;5;124m'\u001b[39m, \u001b[38;5;124m'\u001b[39m\u001b[38;5;124mCARRA\u001b[39m\u001b[38;5;124m'\u001b[39m), (\u001b[38;5;124m'\u001b[39m\u001b[38;5;124m10 min TXT\u001b[39m\u001b[38;5;124m'\u001b[39m, \u001b[38;5;124m'\u001b[39m\u001b[38;5;124mCopernicus\u001b[39m\u001b[38;5;124m'\u001b[39m),\n\u001b[0;32m      2\u001b[0m               (\u001b[38;5;124m'\u001b[39m\u001b[38;5;124m10 min TXT\u001b[39m\u001b[38;5;124m'\u001b[39m, \u001b[38;5;124m'\u001b[39m\u001b[38;5;124mMerged Reanalysis & 10 min\u001b[39m\u001b[38;5;124m'\u001b[39m), (\u001b[38;5;124m'\u001b[39m\u001b[38;5;124mCARRA\u001b[39m\u001b[38;5;124m'\u001b[39m, \u001b[38;5;124m'\u001b[39m\u001b[38;5;124mMerged Reanalysis & 10 min\u001b[39m\u001b[38;5;124m'\u001b[39m), (\u001b[38;5;124m'\u001b[39m\u001b[38;5;124mHourly TXT\u001b[39m\u001b[38;5;124m'\u001b[39m, \u001b[38;5;124m'\u001b[39m\u001b[38;5;124mNailstripped merged\u001b[39m\u001b[38;5;124m'\u001b[39m), \n\u001b[0;32m      3\u001b[0m               (\u001b[38;5;124m'\u001b[39m\u001b[38;5;124mMerged Reanalysis & 10 min\u001b[39m\u001b[38;5;124m'\u001b[39m, \u001b[38;5;124m'\u001b[39m\u001b[38;5;124mNailstripped merged\u001b[39m\u001b[38;5;124m'\u001b[39m), (\u001b[38;5;124m'\u001b[39m\u001b[38;5;124mNailstripped merged\u001b[39m\u001b[38;5;124m'\u001b[39m, \u001b[38;5;124m'\u001b[39m\u001b[38;5;124mNailstripped with elevation\u001b[39m\u001b[38;5;124m'\u001b[39m), (\u001b[38;5;124m'\u001b[39m\u001b[38;5;124mElevation GeoTif\u001b[39m\u001b[38;5;124m'\u001b[39m, \u001b[38;5;124m'\u001b[39m\u001b[38;5;124mNailstripped with elevation\u001b[39m\u001b[38;5;124m'\u001b[39m)])\n",
      "\u001b[1;31mNameError\u001b[0m: name 'graph' is not defined"
     ]
    }
   ],
   "source": [
    "graph.edges([('Veðurstofa', '10 min TXT'), ('Veðurstofa', 'Hourly TXT'), ('Veðurstofa', 'Elevation GeoTif'),\n",
    "                ('Copernicus', 'CARRA'), ('10 min TXT', 'Copernicus'), ('10 min TXT', 'Merged Reanalysis & 10 min'),\n",
    "                ('CARRA', 'Merged Reanalysis & 10 min'), ('Hourly TXT', 'Nailstripped merged'), \n",
    "                ('Merged Reanalysis & 10 min', 'Nailstripped merged'), ('Nailstripped merged', 'Nailstripped with elevation'),\n",
    "                ('Elevation GeoTif', 'Nailstripped with elevation')])"
   ]
  },
  {
   "cell_type": "code",
   "execution_count": 39,
   "metadata": {},
   "outputs": [],
   "source": [
    "graph.edge('Veðurstofa', '10 min')\n",
    "graph.edge('Veðurstofa', 'Hourly')\n",
    "graph.edge('Veðurstofa', 'Elevation')\n",
    "graph.edge('Copernicus', 'CARRA', label = 'Python')\n",
    "graph.edge('10 min', 'Copernicus', label = 'JSON API')\n",
    "graph.edge('10 min', 'Merged Reanalysis & 10 min', label = 'Python')\n",
    "graph.edge('CARRA', 'Merged Reanalysis & 10 min', label  = 'Python')\n",
    "graph.edge('Hourly', 'Nailstripped merged', label = 'Python')\n",
    "graph.edge('Merged Reanalysis & 10 min', 'Nailstripped merged', label = 'Python')\n",
    "graph.edge('Elevation', 'Nailstripped with elevation', label = 'Python')\n",
    "graph.edge('Nailstripped merged', 'Nailstripped with elevation', label = 'Python')\n"
   ]
  },
  {
   "cell_type": "code",
   "execution_count": 41,
   "metadata": {},
   "outputs": [
    {
     "data": {
      "text/plain": [
       "'outputs\\\\png\\\\data-preprocessin-flow-chart-2024-04-08.png'"
      ]
     },
     "execution_count": 41,
     "metadata": {},
     "output_type": "execute_result"
    }
   ],
   "source": [
    "graph.render('./outputs/png/data-preprocessin-flow-chart-2024-04-08', format='png', cleanup= True)\n",
    "#graph.render('./graph', format='png', cleanup= True)"
   ]
  },
  {
   "cell_type": "code",
   "execution_count": 40,
   "metadata": {},
   "outputs": [
    {
     "data": {
      "image/svg+xml": [
       "<?xml version=\"1.0\" encoding=\"UTF-8\" standalone=\"no\"?>\n",
       "<!DOCTYPE svg PUBLIC \"-//W3C//DTD SVG 1.1//EN\"\n",
       " \"http://www.w3.org/Graphics/SVG/1.1/DTD/svg11.dtd\">\n",
       "<!-- Generated by graphviz version 10.0.1 (20240210.2158)\n",
       " -->\n",
       "<!-- Title: data&#45;preprocessing Pages: 1 -->\n",
       "<svg width=\"427pt\" height=\"596pt\"\n",
       " viewBox=\"0.00 0.00 427.20 596.25\" xmlns=\"http://www.w3.org/2000/svg\" xmlns:xlink=\"http://www.w3.org/1999/xlink\">\n",
       "<g id=\"graph0\" class=\"graph\" transform=\"scale(1 1) rotate(0) translate(4 592.25)\">\n",
       "<title>data&#45;preprocessing</title>\n",
       "<polygon fill=\"white\" stroke=\"none\" points=\"-4,4 -4,-592.25 423.2,-592.25 423.2,4 -4,4\"/>\n",
       "<!-- Veðurstofa -->\n",
       "<g id=\"node1\" class=\"node\">\n",
       "<title>Veðurstofa</title>\n",
       "<polygon fill=\"none\" stroke=\"black\" points=\"252.57,-588.25 174.32,-588.25 174.32,-552.25 252.57,-552.25 252.57,-588.25\"/>\n",
       "<text text-anchor=\"middle\" x=\"213.45\" y=\"-564.83\" font-family=\"Times New Roman,serif\" font-size=\"14.00\">Veðurstofa</text>\n",
       "</g>\n",
       "<!-- Elevation -->\n",
       "<g id=\"node2\" class=\"node\">\n",
       "<title>Elevation</title>\n",
       "<ellipse fill=\"none\" stroke=\"black\" cx=\"107.45\" cy=\"-443.25\" rx=\"44.58\" ry=\"18\"/>\n",
       "<text text-anchor=\"middle\" x=\"107.45\" y=\"-437.82\" font-family=\"Times New Roman,serif\" font-size=\"14.00\">Elevation</text>\n",
       "</g>\n",
       "<!-- Veðurstofa&#45;&gt;Elevation -->\n",
       "<g id=\"edge3\" class=\"edge\">\n",
       "<title>Veðurstofa&#45;&gt;Elevation</title>\n",
       "<path fill=\"none\" stroke=\"black\" d=\"M198.71,-551.87C180.55,-530.46 149.56,-493.91 128.8,-469.42\"/>\n",
       "<polygon fill=\"black\" stroke=\"black\" points=\"131.5,-467.21 122.37,-461.84 126.16,-471.73 131.5,-467.21\"/>\n",
       "</g>\n",
       "<!-- 10 min -->\n",
       "<g id=\"node3\" class=\"node\">\n",
       "<title>10 min</title>\n",
       "<ellipse fill=\"none\" stroke=\"black\" cx=\"213.45\" cy=\"-497.25\" rx=\"35.6\" ry=\"18\"/>\n",
       "<text text-anchor=\"middle\" x=\"213.45\" y=\"-491.82\" font-family=\"Times New Roman,serif\" font-size=\"14.00\">10 min</text>\n",
       "</g>\n",
       "<!-- Veðurstofa&#45;&gt;10 min -->\n",
       "<g id=\"edge1\" class=\"edge\">\n",
       "<title>Veðurstofa&#45;&gt;10 min</title>\n",
       "<path fill=\"none\" stroke=\"black\" d=\"M213.45,-552.06C213.45,-544.48 213.45,-535.35 213.45,-526.79\"/>\n",
       "<polygon fill=\"black\" stroke=\"black\" points=\"216.95,-526.79 213.45,-516.79 209.95,-526.79 216.95,-526.79\"/>\n",
       "</g>\n",
       "<!-- Hourly -->\n",
       "<g id=\"node4\" class=\"node\">\n",
       "<title>Hourly</title>\n",
       "<ellipse fill=\"none\" stroke=\"black\" cx=\"357.45\" cy=\"-335.25\" rx=\"36.09\" ry=\"18\"/>\n",
       "<text text-anchor=\"middle\" x=\"357.45\" y=\"-329.82\" font-family=\"Times New Roman,serif\" font-size=\"14.00\">Hourly</text>\n",
       "</g>\n",
       "<!-- Veðurstofa&#45;&gt;Hourly -->\n",
       "<g id=\"edge2\" class=\"edge\">\n",
       "<title>Veðurstofa&#45;&gt;Hourly</title>\n",
       "<path fill=\"none\" stroke=\"black\" d=\"M229.33,-551.92C238.38,-541.64 249.63,-528.14 258.45,-515.25 293.52,-463.98 326.88,-399.21 344.5,-363.32\"/>\n",
       "<polygon fill=\"black\" stroke=\"black\" points=\"347.55,-365.04 348.78,-354.52 341.26,-361.98 347.55,-365.04\"/>\n",
       "</g>\n",
       "<!-- Nailstripped with elevation -->\n",
       "<g id=\"node9\" class=\"node\">\n",
       "<title>Nailstripped with elevation</title>\n",
       "<ellipse fill=\"none\" stroke=\"black\" cx=\"108.45\" cy=\"-18\" rx=\"108.45\" ry=\"18\"/>\n",
       "<text text-anchor=\"middle\" x=\"108.45\" y=\"-12.57\" font-family=\"Times New Roman,serif\" font-size=\"14.00\">Nailstripped with elevation</text>\n",
       "</g>\n",
       "<!-- Elevation&#45;&gt;Nailstripped with elevation -->\n",
       "<g id=\"edge10\" class=\"edge\">\n",
       "<title>Elevation&#45;&gt;Nailstripped with elevation</title>\n",
       "<path fill=\"none\" stroke=\"black\" d=\"M103.51,-425.1C99.06,-404.22 92.45,-367.85 92.45,-336.25 92.45,-336.25 92.45,-336.25 92.45,-104.75 92.45,-85.37 96.44,-63.95 100.44,-47.36\"/>\n",
       "<polygon fill=\"black\" stroke=\"black\" points=\"103.83,-48.25 102.92,-37.7 97.05,-46.52 103.83,-48.25\"/>\n",
       "<text text-anchor=\"middle\" x=\"112.32\" y=\"-231.95\" font-family=\"Times New Roman,serif\" font-size=\"14.00\">Python</text>\n",
       "</g>\n",
       "<!-- Copernicus -->\n",
       "<g id=\"node5\" class=\"node\">\n",
       "<title>Copernicus</title>\n",
       "<polygon fill=\"none\" stroke=\"black\" points=\"220.7,-407.25 140.2,-407.25 140.2,-371.25 220.7,-371.25 220.7,-407.25\"/>\n",
       "<text text-anchor=\"middle\" x=\"180.45\" y=\"-383.82\" font-family=\"Times New Roman,serif\" font-size=\"14.00\">Copernicus</text>\n",
       "</g>\n",
       "<!-- 10 min&#45;&gt;Copernicus -->\n",
       "<g id=\"edge5\" class=\"edge\">\n",
       "<title>10 min&#45;&gt;Copernicus</title>\n",
       "<path fill=\"none\" stroke=\"black\" d=\"M193.42,-482.04C187.08,-476.38 180.84,-469.28 177.45,-461.25 171.84,-447.98 171.97,-432.04 173.78,-418.63\"/>\n",
       "<polygon fill=\"black\" stroke=\"black\" points=\"177.17,-419.57 175.43,-409.12 170.27,-418.37 177.17,-419.57\"/>\n",
       "<text text-anchor=\"middle\" x=\"207.45\" y=\"-437.82\" font-family=\"Times New Roman,serif\" font-size=\"14.00\">JSON API</text>\n",
       "</g>\n",
       "<!-- Merged Reanalysis &amp; 10 min -->\n",
       "<g id=\"node7\" class=\"node\">\n",
       "<title>Merged Reanalysis &amp; 10 min</title>\n",
       "<ellipse fill=\"none\" stroke=\"black\" cx=\"238.45\" cy=\"-193.5\" rx=\"118.43\" ry=\"18\"/>\n",
       "<text text-anchor=\"middle\" x=\"238.45\" y=\"-188.07\" font-family=\"Times New Roman,serif\" font-size=\"14.00\">Merged Reanalysis &amp; 10 min</text>\n",
       "</g>\n",
       "<!-- 10 min&#45;&gt;Merged Reanalysis &amp; 10 min -->\n",
       "<g id=\"edge6\" class=\"edge\">\n",
       "<title>10 min&#45;&gt;Merged Reanalysis &amp; 10 min</title>\n",
       "<path fill=\"none\" stroke=\"black\" d=\"M227.39,-480.24C231.44,-474.61 235.34,-468 237.45,-461.25 263.44,-377.93 251.71,-272.72 243.7,-223.01\"/>\n",
       "<polygon fill=\"black\" stroke=\"black\" points=\"247.19,-222.65 242.08,-213.38 240.29,-223.82 247.19,-222.65\"/>\n",
       "<text text-anchor=\"middle\" x=\"272.32\" y=\"-329.82\" font-family=\"Times New Roman,serif\" font-size=\"14.00\">Python</text>\n",
       "</g>\n",
       "<!-- Nailstripped merged -->\n",
       "<g id=\"node8\" class=\"node\">\n",
       "<title>Nailstripped merged</title>\n",
       "<ellipse fill=\"none\" stroke=\"black\" cx=\"238.45\" cy=\"-105.75\" rx=\"85.49\" ry=\"18\"/>\n",
       "<text text-anchor=\"middle\" x=\"238.45\" y=\"-100.33\" font-family=\"Times New Roman,serif\" font-size=\"14.00\">Nailstripped merged</text>\n",
       "</g>\n",
       "<!-- Hourly&#45;&gt;Nailstripped merged -->\n",
       "<g id=\"edge8\" class=\"edge\">\n",
       "<title>Hourly&#45;&gt;Nailstripped merged</title>\n",
       "<path fill=\"none\" stroke=\"black\" d=\"M363.95,-317.5C374.69,-286.86 392.43,-220.78 365.45,-175.5 351.08,-151.38 324.97,-135.2 300.15,-124.64\"/>\n",
       "<polygon fill=\"black\" stroke=\"black\" points=\"301.62,-121.46 291.04,-121.01 299.03,-127.96 301.62,-121.46\"/>\n",
       "<text text-anchor=\"middle\" x=\"399.32\" y=\"-231.95\" font-family=\"Times New Roman,serif\" font-size=\"14.00\">Python</text>\n",
       "</g>\n",
       "<!-- CARRA -->\n",
       "<g id=\"node6\" class=\"node\">\n",
       "<title>CARRA</title>\n",
       "<polygon fill=\"none\" stroke=\"black\" points=\"218.82,-299.25 154.07,-299.25 154.07,-263.25 218.82,-263.25 218.82,-299.25\"/>\n",
       "<text text-anchor=\"middle\" x=\"186.45\" y=\"-275.82\" font-family=\"Times New Roman,serif\" font-size=\"14.00\">CARRA</text>\n",
       "</g>\n",
       "<!-- Copernicus&#45;&gt;CARRA -->\n",
       "<g id=\"edge4\" class=\"edge\">\n",
       "<title>Copernicus&#45;&gt;CARRA</title>\n",
       "<path fill=\"none\" stroke=\"black\" d=\"M181.41,-371.22C182.33,-355.01 183.73,-330.31 184.82,-311.04\"/>\n",
       "<polygon fill=\"black\" stroke=\"black\" points=\"188.31,-311.28 185.38,-301.1 181.32,-310.89 188.31,-311.28\"/>\n",
       "<text text-anchor=\"middle\" x=\"204.32\" y=\"-329.82\" font-family=\"Times New Roman,serif\" font-size=\"14.00\">Python</text>\n",
       "</g>\n",
       "<!-- CARRA&#45;&gt;Merged Reanalysis &amp; 10 min -->\n",
       "<g id=\"edge7\" class=\"edge\">\n",
       "<title>CARRA&#45;&gt;Merged Reanalysis &amp; 10 min</title>\n",
       "<path fill=\"none\" stroke=\"black\" d=\"M187.56,-262.78C188.86,-252.49 191.67,-239.56 197.7,-229.5 199.84,-225.93 202.47,-222.54 205.36,-219.38\"/>\n",
       "<polygon fill=\"black\" stroke=\"black\" points=\"207.59,-222.09 212.34,-212.62 202.72,-217.05 207.59,-222.09\"/>\n",
       "<text text-anchor=\"middle\" x=\"218.32\" y=\"-231.95\" font-family=\"Times New Roman,serif\" font-size=\"14.00\">Python</text>\n",
       "</g>\n",
       "<!-- Merged Reanalysis &amp; 10 min&#45;&gt;Nailstripped merged -->\n",
       "<g id=\"edge9\" class=\"edge\">\n",
       "<title>Merged Reanalysis &amp; 10 min&#45;&gt;Nailstripped merged</title>\n",
       "<path fill=\"none\" stroke=\"black\" d=\"M238.45,-175.15C238.45,-163.76 238.45,-148.59 238.45,-135.43\"/>\n",
       "<polygon fill=\"black\" stroke=\"black\" points=\"241.95,-135.59 238.45,-125.59 234.95,-135.59 241.95,-135.59\"/>\n",
       "<text text-anchor=\"middle\" x=\"258.32\" y=\"-144.2\" font-family=\"Times New Roman,serif\" font-size=\"14.00\">Python</text>\n",
       "</g>\n",
       "<!-- Nailstripped merged&#45;&gt;Nailstripped with elevation -->\n",
       "<g id=\"edge11\" class=\"edge\">\n",
       "<title>Nailstripped merged&#45;&gt;Nailstripped with elevation</title>\n",
       "<path fill=\"none\" stroke=\"black\" d=\"M213.38,-88.22C193.46,-75.07 165.36,-56.54 143.26,-41.96\"/>\n",
       "<polygon fill=\"black\" stroke=\"black\" points=\"145.42,-39.19 135.14,-36.61 141.56,-45.04 145.42,-39.19\"/>\n",
       "<text text-anchor=\"middle\" x=\"205.32\" y=\"-56.45\" font-family=\"Times New Roman,serif\" font-size=\"14.00\">Python</text>\n",
       "</g>\n",
       "</g>\n",
       "</svg>\n"
      ],
      "text/plain": [
       "<graphviz.graphs.Digraph at 0x2b1c3ada7d0>"
      ]
     },
     "execution_count": 40,
     "metadata": {},
     "output_type": "execute_result"
    }
   ],
   "source": [
    "graph"
   ]
  }
 ],
 "metadata": {
  "kernelspec": {
   "display_name": ".venv",
   "language": "python",
   "name": "python3"
  },
  "language_info": {
   "codemirror_mode": {
    "name": "ipython",
    "version": 3
   },
   "file_extension": ".py",
   "mimetype": "text/x-python",
   "name": "python",
   "nbconvert_exporter": "python",
   "pygments_lexer": "ipython3",
   "version": "3.11.2"
  }
 },
 "nbformat": 4,
 "nbformat_minor": 2
}
