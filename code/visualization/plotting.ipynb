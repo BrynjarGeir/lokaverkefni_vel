{
 "cells": [
  {
   "cell_type": "code",
   "execution_count": 1,
   "metadata": {},
   "outputs": [],
   "source": [
    "from matplotlib import pyplot as plt\n",
    "from utils.data import get_data\n",
    "import os, numpy as np, seaborn as sns, pandas as pd"
   ]
  },
  {
   "cell_type": "code",
   "execution_count": 2,
   "metadata": {},
   "outputs": [],
   "source": [
    "data = get_data()"
   ]
  },
  {
   "cell_type": "code",
   "execution_count": null,
   "metadata": {},
   "outputs": [],
   "source": [
    "def plot_history(history, file):\n",
    "    # Plot training & validation loss values\n",
    "    #plt.subplot(1, 2, 1)\n",
    "    plt.plot(history['loss'], label='Training Loss')\n",
    "    plt.plot(history['val_loss'], label='Validation Loss')\n",
    "\n",
    "    first = np.gradient(history['loss'])\n",
    "    second = np.gradient(first)\n",
    "    elbow_index = np.where(np.diff(np.sign(second)) > 0)[0][0]\n",
    "    training_end_index = np.where(np.diff(np.sign(first)) > 0)[0][0]\n",
    "    plt.title(file)\n",
    "    plt.xlabel('Epoch')\n",
    "    plt.ylabel('Loss')\n",
    "    plt.legend()\n",
    "    plt.grid(True)\n",
    "\n",
    "    plt.scatter(elbow_index, history['loss'][elbow_index], color='r')\n",
    "    plt.text(elbow_index, history['loss'][elbow_index], 'Training slows down', color='r')\n",
    "\n",
    "    plt.scatter(training_end_index, history['loss'][training_end_index], color='g')\n",
    "    plt.text(training_end_index, history['loss'][training_end_index], 'Loss increase', color='g')\n",
    "\n",
    "\n",
    "    # Plot training & validation accuracy values\n",
    "    #plt.subplot(1, 2, 2)\n",
    "    #plt.plot(history['accuracy'], label='Training Accuracy')\n",
    "    #plt.plot(history['val_accuracy'], label='Validation Accuracy')\n",
    "    #plt.title('Model Accuracy')\n",
    "    #plt.xlabel('Epoch')\n",
    "    #plt.ylabel('Accuracy')\n",
    "    #plt.legend()\n",
    "\n",
    "    #plt.tight_layout()\n",
    "    plt.show()"
   ]
  },
  {
   "cell_type": "code",
   "execution_count": null,
   "metadata": {},
   "outputs": [],
   "source": [
    "# Save and plot a boxplot showing the deviation in values for parameters\n",
    "def boxplot(df):\n",
    "    plt.boxplot(df.values, notch = True, vert = True, patch_artist = True, labels = df.columns)\n",
    "    plt.title('Boxplot for parameters and target')\n",
    "    plt.xlabel('Parameters')\n",
    "    plt.ylabel('Observed values')\n",
    "\n",
    "    plt.savefig('./png/boxplot.png')\n",
    "    plt.show()"
   ]
  },
  {
   "cell_type": "code",
   "execution_count": null,
   "metadata": {},
   "outputs": [],
   "source": [
    "def pairplot():\n",
    "    return"
   ]
  },
  {
   "cell_type": "code",
   "execution_count": 6,
   "metadata": {},
   "outputs": [],
   "source": [
    "def histogram(df: pd.DataFrame, variable: str) -> None:\n",
    "    plt.hist(df[variable], bins = 40)\n",
    "    plt.title(variable + ' histogram')\n",
    "    plt.ylabel('Occurrences')\n",
    "    plt.xlabel('Value')\n",
    "    plt.grid(True)\n",
    "\n",
    "    #plt.savefig('./outputs/png/histogram_' + variable + '.png')\n",
    "    plt.show()\n",
    "    return"
   ]
  },
  {
   "cell_type": "code",
   "execution_count": null,
   "metadata": {},
   "outputs": [],
   "source": [
    "def completeHistogram(df) -> None:\n",
    "    plt.figure(figsize=(20, 20))\n",
    "    df = df.drop([f'e{i}' for i in range(140)] + ['Ri_01', 'Ri_12', 'Ri_02', 'N_01_real', 'N_12_real', 'N_02_real', 'N_01_imag', 'N_12_imag', 'N_02_imag', 'station_elevation', 'd', 'X', 'Y'], axis = 1)\n",
    "    plt.hist(df, bins = 100, stacked = True, label = df.columns)\n",
    "    plt.title('Stacked Histogram')\n",
    "    plt.ylabel('Intensity')\n",
    "    plt.xlabel('Value')\n",
    "    plt.grid(True)\n",
    "    plt.legend()\n",
    "\n",
    "    plt.savefig('./outputs/png/histogram_stacked.png')\n",
    "    plt.show()\n"
   ]
  },
  {
   "cell_type": "code",
   "execution_count": null,
   "metadata": {},
   "outputs": [],
   "source": [
    "# Save and plot a correlation heatmap for the data.\n",
    "def correlation_plot(df) -> None:\n",
    "    df = df[df.f > 0]\n",
    "    df['gust_factor'] = df.fg / df.f\n",
    "    print(type(df.f.iloc[0]))\n",
    "    print(min(df.gust_factor),max(df.gust_factor))\n",
    "    correlation_matrix = df.corr()\n",
    "    plt.figure(figsize=(20, 20))\n",
    "    sns.heatmap(correlation_matrix, annot = True, cmap = 'coolwarm', fmt = '.4f')\n",
    "    plt.title('Correlation Heatmap')\n",
    "    plt.savefig('./outputs/png/correlation_heatmap.png')\n",
    "    plt.show()"
   ]
  },
  {
   "cell_type": "code",
   "execution_count": 7,
   "metadata": {},
   "outputs": [
    {
     "data": {
      "image/png": "[encoded data removed]",
      "text/plain": [
       "<Figure size 640x480 with 1 Axes>"
      ]
     },
     "metadata": {},
     "output_type": "display_data"
    }
   ],
   "source": [
    "histogram(data, 'f')"
   ]
  }
 ],
 "metadata": {
  "kernelspec": {
   "display_name": ".venv",
   "language": "python",
   "name": "python3"
  },
  "language_info": {
   "codemirror_mode": {
    "name": "ipython",
    "version": 3
   },
   "file_extension": ".py",
   "mimetype": "text/x-python",
   "name": "python",
   "nbconvert_exporter": "python",
   "pygments_lexer": "ipython3",
   "version": "3.11.2"
  }
 },
 "nbformat": 4,
 "nbformat_minor": 2
}
