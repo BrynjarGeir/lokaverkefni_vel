{
 "cells": [
  {
   "cell_type": "markdown",
   "metadata": {},
   "source": [
    "### New data came late (probably will be unused)"
   ]
  },
  {
   "cell_type": "code",
   "execution_count": null,
   "metadata": {},
   "outputs": [],
   "source": [
    "from python.preprocess.downloadMeasurements import downloadMeasurements\n",
    "\n",
    "downloadMeasurements()"
   ]
  },
  {
   "cell_type": "markdown",
   "metadata": {},
   "source": [
    "### Take the 10 min text files and combine them in chunks (because of size) into feather files\n",
    "### Take the hourly data and combine them into one feather file (to be used to nailstrip)"
   ]
  },
  {
   "cell_type": "code",
   "execution_count": 1,
   "metadata": {},
   "outputs": [
    {
     "name": "stderr",
     "output_type": "stream",
     "text": [
      "100%|██████████| 16/16 [00:36<00:00,  2.31s/it]\n",
      "100%|██████████| 16/16 [00:26<00:00,  1.68s/it]\n",
      "100%|██████████| 16/16 [00:58<00:00,  3.68s/it]\n",
      "100%|██████████| 16/16 [00:26<00:00,  1.68s/it]\n",
      "100%|██████████| 16/16 [00:25<00:00,  1.61s/it]\n",
      "100%|██████████| 16/16 [00:29<00:00,  1.86s/it]\n",
      "100%|██████████| 16/16 [00:25<00:00,  1.57s/it]\n",
      "100%|██████████| 16/16 [00:28<00:00,  1.78s/it]\n",
      "100%|██████████| 16/16 [00:29<00:00,  1.86s/it]\n",
      "100%|██████████| 16/16 [00:28<00:00,  1.77s/it]\n",
      "100%|██████████| 16/16 [01:40<00:00,  6.31s/it]\n",
      "100%|██████████| 16/16 [00:31<00:00,  1.97s/it]\n",
      "100%|██████████| 16/16 [00:25<00:00,  1.59s/it]\n",
      "100%|██████████| 16/16 [00:23<00:00,  1.45s/it]\n",
      "100%|██████████| 16/16 [00:24<00:00,  1.53s/it]\n",
      "100%|██████████| 16/16 [00:28<00:00,  1.78s/it]\n",
      "100%|██████████| 16/16 [00:27<00:00,  1.71s/it]\n",
      "100%|██████████| 16/16 [01:01<00:00,  3.84s/it]\n",
      "100%|██████████| 16/16 [00:35<00:00,  2.22s/it]\n",
      "100%|██████████| 16/16 [00:23<00:00,  1.44s/it]\n",
      "100%|██████████| 20/20 [24:23<00:00, 73.19s/it]\n",
      "100%|██████████| 16/16 [00:18<00:00,  1.15s/it]\n",
      "100%|██████████| 16/16 [00:24<00:00,  1.56s/it]\n",
      "100%|██████████| 16/16 [00:28<00:00,  1.78s/it]\n",
      "100%|██████████| 16/16 [00:23<00:00,  1.50s/it]\n",
      "100%|██████████| 16/16 [00:26<00:00,  1.64s/it]\n",
      "100%|██████████| 16/16 [00:18<00:00,  1.15s/it]\n",
      "100%|██████████| 16/16 [00:22<00:00,  1.39s/it]\n",
      "100%|██████████| 16/16 [00:33<00:00,  2.09s/it]\n",
      "100%|██████████| 16/16 [00:27<00:00,  1.72s/it]\n",
      "100%|██████████| 16/16 [00:26<00:00,  1.65s/it]\n",
      "100%|██████████| 16/16 [00:27<00:00,  1.75s/it]\n",
      "100%|██████████| 16/16 [00:24<00:00,  1.50s/it]\n",
      "100%|██████████| 16/16 [00:26<00:00,  1.67s/it]\n",
      "100%|██████████| 16/16 [00:23<00:00,  1.49s/it]\n",
      "100%|██████████| 16/16 [00:24<00:00,  1.53s/it]\n",
      "100%|██████████| 16/16 [00:29<00:00,  1.84s/it]\n",
      "100%|██████████| 16/16 [00:28<00:00,  1.79s/it]\n",
      "100%|██████████| 16/16 [00:28<00:00,  1.81s/it]\n",
      "100%|██████████| 16/16 [00:29<00:00,  1.86s/it]\n",
      "100%|██████████| 16/16 [00:16<00:00,  1.01s/it]\n",
      "100%|██████████| 20/20 [19:51<00:00, 59.57s/it]\n",
      "100%|██████████| 351/351 [19:57<00:00,  3.41s/it]   \n"
     ]
    }
   ],
   "source": [
    "from python.preprocess.processMeasurements import combine10minChunks, combineKLST\n",
    "\n",
    "combine10minChunks()\n",
    "combineKLST()"
   ]
  },
  {
   "cell_type": "markdown",
   "metadata": {},
   "source": [
    "### Nailstrip 10 minute data using hourly data"
   ]
  },
  {
   "cell_type": "code",
   "execution_count": 2,
   "metadata": {},
   "outputs": [
    {
     "data": {
      "application/vnd.jupyter.widget-view+json": {
       "model_id": "bed02a00bf384ea9bc730defbe1fb5d2",
       "version_major": 2,
       "version_minor": 0
      },
      "text/plain": [
       "  0%|          | 0/20 [00:00<?, ?it/s]"
      ]
     },
     "metadata": {},
     "output_type": "display_data"
    }
   ],
   "source": [
    "from python.preprocess.nailstripData import nailstripBase10min\n",
    "\n",
    "nailstripBase10min()"
   ]
  },
  {
   "cell_type": "markdown",
   "metadata": {},
   "source": [
    "### Filter the 10 minute measurements, first with the minimum average wind speed limit and then using the time interval\n",
    "Done in this order to speed up (Should be the same end result)"
   ]
  },
  {
   "cell_type": "code",
   "execution_count": 3,
   "metadata": {},
   "outputs": [
    {
     "data": {
      "application/vnd.jupyter.widget-view+json": {
       "model_id": "06cd93d1c3564fcb855b8d1e24c3eca7",
       "version_major": 2,
       "version_minor": 0
      },
      "text/plain": [
       "Looping over nailstripped files...:   0%|          | 0/20 [00:00<?, ?it/s]"
      ]
     },
     "metadata": {},
     "output_type": "display_data"
    },
    {
     "data": {
      "application/vnd.jupyter.widget-view+json": {
       "model_id": "fe59a5d1bee544bd94f261f8d7fc2c2d",
       "version_major": 2,
       "version_minor": 0
      },
      "text/plain": [
       "Looping over substations...:   0%|          | 0/14 [00:00<?, ?it/s]"
      ]
     },
     "metadata": {},
     "output_type": "display_data"
    },
    {
     "data": {
      "application/vnd.jupyter.widget-view+json": {
       "model_id": "5419fdda605a4174b16285e77bd6ea75",
       "version_major": 2,
       "version_minor": 0
      },
      "text/plain": [
       "Looping over substations...:   0%|          | 0/16 [00:00<?, ?it/s]"
      ]
     },
     "metadata": {},
     "output_type": "display_data"
    },
    {
     "data": {
      "application/vnd.jupyter.widget-view+json": {
       "model_id": "d1a972f8c99e4bfaa9f0d282df00069f",
       "version_major": 2,
       "version_minor": 0
      },
      "text/plain": [
       "Looping over substations...:   0%|          | 0/16 [00:00<?, ?it/s]"
      ]
     },
     "metadata": {},
     "output_type": "display_data"
    },
    {
     "data": {
      "application/vnd.jupyter.widget-view+json": {
       "model_id": "aa50755797d4465894f0a41d4f324a7b",
       "version_major": 2,
       "version_minor": 0
      },
      "text/plain": [
       "Looping over substations...:   0%|          | 0/16 [00:00<?, ?it/s]"
      ]
     },
     "metadata": {},
     "output_type": "display_data"
    },
    {
     "data": {
      "application/vnd.jupyter.widget-view+json": {
       "model_id": "27a2cae3b3004e02abcea71b6ce163e2",
       "version_major": 2,
       "version_minor": 0
      },
      "text/plain": [
       "Looping over substations...:   0%|          | 0/16 [00:00<?, ?it/s]"
      ]
     },
     "metadata": {},
     "output_type": "display_data"
    },
    {
     "data": {
      "application/vnd.jupyter.widget-view+json": {
       "model_id": "93e4d173486d43ebaae7b00882812da2",
       "version_major": 2,
       "version_minor": 0
      },
      "text/plain": [
       "Looping over substations...:   0%|          | 0/16 [00:00<?, ?it/s]"
      ]
     },
     "metadata": {},
     "output_type": "display_data"
    },
    {
     "data": {
      "application/vnd.jupyter.widget-view+json": {
       "model_id": "cb697816d6d94e2c9acc41b73862f4e5",
       "version_major": 2,
       "version_minor": 0
      },
      "text/plain": [
       "Looping over substations...:   0%|          | 0/16 [00:00<?, ?it/s]"
      ]
     },
     "metadata": {},
     "output_type": "display_data"
    },
    {
     "data": {
      "application/vnd.jupyter.widget-view+json": {
       "model_id": "e472e44a0a3c480384d45a4f5d5f6eed",
       "version_major": 2,
       "version_minor": 0
      },
      "text/plain": [
       "Looping over substations...:   0%|          | 0/14 [00:00<?, ?it/s]"
      ]
     },
     "metadata": {},
     "output_type": "display_data"
    },
    {
     "data": {
      "application/vnd.jupyter.widget-view+json": {
       "model_id": "bdd78f7d751346fcb664041ff91e06c2",
       "version_major": 2,
       "version_minor": 0
      },
      "text/plain": [
       "Looping over substations...:   0%|          | 0/16 [00:00<?, ?it/s]"
      ]
     },
     "metadata": {},
     "output_type": "display_data"
    },
    {
     "data": {
      "application/vnd.jupyter.widget-view+json": {
       "model_id": "45da398626b845bf83a9b10fd1f44ee2",
       "version_major": 2,
       "version_minor": 0
      },
      "text/plain": [
       "Looping over substations...:   0%|          | 0/16 [00:00<?, ?it/s]"
      ]
     },
     "metadata": {},
     "output_type": "display_data"
    },
    {
     "data": {
      "application/vnd.jupyter.widget-view+json": {
       "model_id": "e92e55acc75a45bd9d41a0d01b932aed",
       "version_major": 2,
       "version_minor": 0
      },
      "text/plain": [
       "Looping over substations...:   0%|          | 0/15 [00:00<?, ?it/s]"
      ]
     },
     "metadata": {},
     "output_type": "display_data"
    },
    {
     "data": {
      "application/vnd.jupyter.widget-view+json": {
       "model_id": "8f58a4b437d84a2f8d3a78d5085710d2",
       "version_major": 2,
       "version_minor": 0
      },
      "text/plain": [
       "Looping over substations...:   0%|          | 0/16 [00:00<?, ?it/s]"
      ]
     },
     "metadata": {},
     "output_type": "display_data"
    },
    {
     "data": {
      "application/vnd.jupyter.widget-view+json": {
       "model_id": "b0b22c2c1bca416fa4943a3a58a5728e",
       "version_major": 2,
       "version_minor": 0
      },
      "text/plain": [
       "Looping over substations...:   0%|          | 0/15 [00:00<?, ?it/s]"
      ]
     },
     "metadata": {},
     "output_type": "display_data"
    },
    {
     "data": {
      "application/vnd.jupyter.widget-view+json": {
       "model_id": "cf534c338f7245c484e0c8615064ea91",
       "version_major": 2,
       "version_minor": 0
      },
      "text/plain": [
       "Looping over substations...:   0%|          | 0/14 [00:00<?, ?it/s]"
      ]
     },
     "metadata": {},
     "output_type": "display_data"
    },
    {
     "data": {
      "application/vnd.jupyter.widget-view+json": {
       "model_id": "21d1c743bc7a4a75964969054166eb68",
       "version_major": 2,
       "version_minor": 0
      },
      "text/plain": [
       "Looping over substations...:   0%|          | 0/15 [00:00<?, ?it/s]"
      ]
     },
     "metadata": {},
     "output_type": "display_data"
    },
    {
     "data": {
      "application/vnd.jupyter.widget-view+json": {
       "model_id": "34e8b11b2e76473a8ebe0a6266ceaf10",
       "version_major": 2,
       "version_minor": 0
      },
      "text/plain": [
       "Looping over substations...:   0%|          | 0/15 [00:00<?, ?it/s]"
      ]
     },
     "metadata": {},
     "output_type": "display_data"
    },
    {
     "data": {
      "application/vnd.jupyter.widget-view+json": {
       "model_id": "e0c23fb7461f472eafcb2f9630b1e25b",
       "version_major": 2,
       "version_minor": 0
      },
      "text/plain": [
       "Looping over substations...:   0%|          | 0/14 [00:00<?, ?it/s]"
      ]
     },
     "metadata": {},
     "output_type": "display_data"
    },
    {
     "data": {
      "application/vnd.jupyter.widget-view+json": {
       "model_id": "7961d7bce011421eac8bda0969ddf72d",
       "version_major": 2,
       "version_minor": 0
      },
      "text/plain": [
       "Looping over substations...:   0%|          | 0/16 [00:00<?, ?it/s]"
      ]
     },
     "metadata": {},
     "output_type": "display_data"
    },
    {
     "data": {
      "application/vnd.jupyter.widget-view+json": {
       "model_id": "bdc09592409d478db194b47a164f8c49",
       "version_major": 2,
       "version_minor": 0
      },
      "text/plain": [
       "Looping over substations...:   0%|          | 0/16 [00:00<?, ?it/s]"
      ]
     },
     "metadata": {},
     "output_type": "display_data"
    },
    {
     "data": {
      "application/vnd.jupyter.widget-view+json": {
       "model_id": "bd9e953ef66546eaab616c53e961ba65",
       "version_major": 2,
       "version_minor": 0
      },
      "text/plain": [
       "Looping over substations...:   0%|          | 0/16 [00:00<?, ?it/s]"
      ]
     },
     "metadata": {},
     "output_type": "display_data"
    },
    {
     "ename": "TypeError",
     "evalue": "listdir: path should be string, bytes, os.PathLike or None, not function",
     "output_type": "error",
     "traceback": [
      "\u001b[1;31m---------------------------------------------------------------------------\u001b[0m",
      "\u001b[1;31mTypeError\u001b[0m                                 Traceback (most recent call last)",
      "Cell \u001b[1;32mIn[3], line 4\u001b[0m\n\u001b[0;32m      1\u001b[0m \u001b[38;5;28;01mfrom\u001b[39;00m \u001b[38;5;21;01mpython\u001b[39;00m\u001b[38;5;21;01m.\u001b[39;00m\u001b[38;5;21;01mpreprocess\u001b[39;00m\u001b[38;5;21;01m.\u001b[39;00m\u001b[38;5;21;01mfilterMeasurements\u001b[39;00m \u001b[38;5;28;01mimport\u001b[39;00m filter_AWSL_and_TimeInterval, combineParts\n\u001b[0;32m      3\u001b[0m filter_AWSL_and_TimeInterval()\n\u001b[1;32m----> 4\u001b[0m \u001b[43mcombineParts\u001b[49m\u001b[43m(\u001b[49m\u001b[43m)\u001b[49m\n",
      "File \u001b[1;32md:\\Skoli\\Mastersverkefni\\lokaverkefni_vel\\env\\Lib\\site-packages\\python\\preprocess\\filterMeasurements.py:82\u001b[0m, in \u001b[0;36mcombineParts\u001b[1;34m(filteredWithMinAveWindSpeed_path)\u001b[0m\n\u001b[0;32m     81\u001b[0m \u001b[38;5;28;01mdef\u001b[39;00m \u001b[38;5;21mcombineParts\u001b[39m(filteredWithMinAveWindSpeed_path \u001b[38;5;241m=\u001b[39m filter_AWSL_and_TimeInterval):\n\u001b[1;32m---> 82\u001b[0m     df, files \u001b[38;5;241m=\u001b[39m pd\u001b[38;5;241m.\u001b[39mDataFrame(), [filteredWithMinAveWindSpeed_path \u001b[38;5;241m+\u001b[39m file \u001b[38;5;28;01mfor\u001b[39;00m file \u001b[38;5;129;01min\u001b[39;00m \u001b[43mos\u001b[49m\u001b[38;5;241;43m.\u001b[39;49m\u001b[43mlistdir\u001b[49m\u001b[43m(\u001b[49m\u001b[43mfilteredWithMinAveWindSpeed_path\u001b[49m\u001b[43m)\u001b[49m \u001b[38;5;28;01mif\u001b[39;00m file\u001b[38;5;241m.\u001b[39mendswith(\u001b[38;5;124m'\u001b[39m\u001b[38;5;124m.feather\u001b[39m\u001b[38;5;124m'\u001b[39m)]\n\u001b[0;32m     84\u001b[0m     \u001b[38;5;28;01mfor\u001b[39;00m file \u001b[38;5;129;01min\u001b[39;00m tqdm(files, total \u001b[38;5;241m=\u001b[39m \u001b[38;5;28mlen\u001b[39m(files), desc \u001b[38;5;241m=\u001b[39m \u001b[38;5;124m\"\u001b[39m\u001b[38;5;124mLooping over parts to combine...\u001b[39m\u001b[38;5;124m\"\u001b[39m):\n\u001b[0;32m     85\u001b[0m         \u001b[38;5;28;01mif\u001b[39;00m df\u001b[38;5;241m.\u001b[39mempty:\n",
      "\u001b[1;31mTypeError\u001b[0m: listdir: path should be string, bytes, os.PathLike or None, not function"
     ]
    }
   ],
   "source": [
    "from python.preprocess.filterMeasurements import filter_AWSL_and_TimeInterval, combineParts\n",
    "\n",
    "filter_AWSL_and_TimeInterval()\n",
    "combineParts()"
   ]
  },
  {
   "cell_type": "code",
   "execution_count": 1,
   "metadata": {},
   "outputs": [
    {
     "data": {
      "application/vnd.jupyter.widget-view+json": {
       "model_id": "6eb50dfe23f94d35ae56359956bfce78",
       "version_major": 2,
       "version_minor": 0
      },
      "text/plain": [
       "Looping over parts to combine...:   0%|          | 0/20 [00:00<?, ?it/s]"
      ]
     },
     "metadata": {},
     "output_type": "display_data"
    }
   ],
   "source": [
    "from python.preprocess.filterMeasurements import filter_AWSL_and_TimeInterval, combineParts\n",
    "\n",
    "combineParts()"
   ]
  },
  {
   "cell_type": "markdown",
   "metadata": {},
   "source": [
    "### Generate the JSON for the CARRA API"
   ]
  },
  {
   "cell_type": "code",
   "execution_count": 1,
   "metadata": {},
   "outputs": [
    {
     "ename": "FileNotFoundError",
     "evalue": "[WinError 2] The system cannot find the file specified: 'D:/Skoli/Mastersverkefni/lokaverkefni_vel/data/Measured/Processedmeasurements_2024-04-18.feather'",
     "output_type": "error",
     "traceback": [
      "\u001b[1;31m---------------------------------------------------------------------------\u001b[0m",
      "\u001b[1;31mFileNotFoundError\u001b[0m                         Traceback (most recent call last)",
      "Cell \u001b[1;32mIn[1], line 1\u001b[0m\n\u001b[1;32m----> 1\u001b[0m \u001b[38;5;28;01mfrom\u001b[39;00m \u001b[38;5;21;01mpython\u001b[39;00m\u001b[38;5;21;01m.\u001b[39;00m\u001b[38;5;21;01mpreprocess\u001b[39;00m\u001b[38;5;21;01m.\u001b[39;00m\u001b[38;5;21;01mgenerateJSONForCARRA\u001b[39;00m \u001b[38;5;28;01mimport\u001b[39;00m generateAllJSON\n\u001b[0;32m      3\u001b[0m generateAllJSON()\n",
      "File \u001b[1;32md:\\Skoli\\Mastersverkefni\\lokaverkefni_vel\\env\\Lib\\site-packages\\python\\preprocess\\generateJSONForCARRA.py:18\u001b[0m\n\u001b[0;32m     16\u001b[0m top_folder \u001b[38;5;241m=\u001b[39m getTopLevelPath() \u001b[38;5;241m+\u001b[39m \u001b[38;5;124m'\u001b[39m\u001b[38;5;124mdata/Measured/\u001b[39m\u001b[38;5;124m'\u001b[39m\n\u001b[0;32m     17\u001b[0m folder \u001b[38;5;241m=\u001b[39m \u001b[38;5;124m'\u001b[39m\u001b[38;5;124mProcessed\u001b[39m\u001b[38;5;124m'\u001b[39m\n\u001b[1;32m---> 18\u001b[0m file_path \u001b[38;5;241m=\u001b[39m \u001b[38;5;28;43mmax\u001b[39;49m\u001b[43m(\u001b[49m\u001b[43m(\u001b[49m\u001b[43mtop_folder\u001b[49m\u001b[43m \u001b[49m\u001b[38;5;241;43m+\u001b[39;49m\u001b[43m \u001b[49m\u001b[43mfolder\u001b[49m\u001b[43m \u001b[49m\u001b[38;5;241;43m+\u001b[39;49m\u001b[43m \u001b[49m\u001b[43mfile\u001b[49m\u001b[43m \u001b[49m\u001b[38;5;28;43;01mfor\u001b[39;49;00m\u001b[43m \u001b[49m\u001b[43mfile\u001b[49m\u001b[43m \u001b[49m\u001b[38;5;129;43;01min\u001b[39;49;00m\u001b[43m \u001b[49m\u001b[43mos\u001b[49m\u001b[38;5;241;43m.\u001b[39;49m\u001b[43mlistdir\u001b[49m\u001b[43m(\u001b[49m\u001b[43mtop_folder\u001b[49m\u001b[43m \u001b[49m\u001b[38;5;241;43m+\u001b[39;49m\u001b[43m \u001b[49m\u001b[43mfolder\u001b[49m\u001b[43m)\u001b[49m\u001b[43m \u001b[49m\u001b[38;5;28;43;01mif\u001b[39;49;00m\u001b[43m \u001b[49m\u001b[43mfile\u001b[49m\u001b[38;5;241;43m.\u001b[39;49m\u001b[43mendswith\u001b[49m\u001b[43m(\u001b[49m\u001b[38;5;124;43m'\u001b[39;49m\u001b[38;5;124;43m.feather\u001b[39;49m\u001b[38;5;124;43m'\u001b[39;49m\u001b[43m)\u001b[49m\u001b[43m)\u001b[49m\u001b[43m,\u001b[49m\u001b[43m \u001b[49m\u001b[43mkey\u001b[49m\u001b[38;5;241;43m=\u001b[39;49m\u001b[43mos\u001b[49m\u001b[38;5;241;43m.\u001b[39;49m\u001b[43mpath\u001b[49m\u001b[38;5;241;43m.\u001b[39;49m\u001b[43mgetmtime\u001b[49m\u001b[43m,\u001b[49m\u001b[43m \u001b[49m\u001b[43mdefault\u001b[49m\u001b[38;5;241;43m=\u001b[39;49m\u001b[38;5;28;43;01mNone\u001b[39;49;00m\u001b[43m)\u001b[49m \n\u001b[0;32m     19\u001b[0m stationsLonLatXY_path \u001b[38;5;241m=\u001b[39m top_folder \u001b[38;5;241m+\u001b[39m \u001b[38;5;124m'\u001b[39m\u001b[38;5;124mstationsLonLatXY.pkl\u001b[39m\u001b[38;5;124m'\u001b[39m\n\u001b[0;32m     22\u001b[0m \u001b[38;5;66;03m# In[3]:\u001b[39;00m\n",
      "File \u001b[1;32m~\\AppData\\Local\\Programs\\Python\\Python312\\Lib\\genericpath.py:67\u001b[0m, in \u001b[0;36mgetmtime\u001b[1;34m(filename)\u001b[0m\n\u001b[0;32m     65\u001b[0m \u001b[38;5;28;01mdef\u001b[39;00m \u001b[38;5;21mgetmtime\u001b[39m(filename):\n\u001b[0;32m     66\u001b[0m \u001b[38;5;250m    \u001b[39m\u001b[38;5;124;03m\"\"\"Return the last modification time of a file, reported by os.stat().\"\"\"\u001b[39;00m\n\u001b[1;32m---> 67\u001b[0m     \u001b[38;5;28;01mreturn\u001b[39;00m \u001b[43mos\u001b[49m\u001b[38;5;241;43m.\u001b[39;49m\u001b[43mstat\u001b[49m\u001b[43m(\u001b[49m\u001b[43mfilename\u001b[49m\u001b[43m)\u001b[49m\u001b[38;5;241m.\u001b[39mst_mtime\n",
      "\u001b[1;31mFileNotFoundError\u001b[0m: [WinError 2] The system cannot find the file specified: 'D:/Skoli/Mastersverkefni/lokaverkefni_vel/data/Measured/Processedmeasurements_2024-04-18.feather'"
     ]
    }
   ],
   "source": [
    "from python.preprocess.generateJSONForCARRA import generateAllJSON\n",
    "\n",
    "generateAllJSON()"
   ]
  },
  {
   "cell_type": "markdown",
   "metadata": {},
   "source": [
    "### Here there is a python script that is run that calls the CARRA API and returns a feather file with interpolated values, this is done on a remote computer (pluto) and as such is not shown here"
   ]
  },
  {
   "cell_type": "markdown",
   "metadata": {},
   "source": [
    "### Merge the reanalysis file that came from CARRA script (PLUTO) with the preprocessed 10 minute file and elevation"
   ]
  },
  {
   "cell_type": "code",
   "execution_count": null,
   "metadata": {},
   "outputs": [],
   "source": [
    "from python.preprocess.mergeMeasuredReanalysis import merge\n",
    "\n",
    "merge()"
   ]
  },
  {
   "cell_type": "markdown",
   "metadata": {},
   "source": [
    "### Add elevation data to the merged measurement and reanalysis data"
   ]
  }
 ],
 "metadata": {
  "kernelspec": {
   "display_name": ".venv",
   "language": "python",
   "name": ".venv"
  },
  "language_info": {
   "codemirror_mode": {
    "name": "ipython",
    "version": 3
   },
   "file_extension": ".py",
   "mimetype": "text/x-python",
   "name": "python",
   "nbconvert_exporter": "python",
   "pygments_lexer": "ipython3",
   "version": "3.12.3"
  }
 },
 "nbformat": 4,
 "nbformat_minor": 2
}
