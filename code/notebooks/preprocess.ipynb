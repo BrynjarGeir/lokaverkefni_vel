{
 "cells": [
  {
   "cell_type": "code",
   "execution_count": null,
   "metadata": {},
   "outputs": [],
   "source": [
    "from python.preprocess.processMeasurements import combine10minChunks, combineKLST\n",
    "\n",
    "combine10minChunks()\n",
    "combineKLST()"
   ]
  },
  {
   "cell_type": "code",
   "execution_count": null,
   "metadata": {},
   "outputs": [],
   "source": [
    "from python.preprocess.nailstripData import nailstripBase10min\n",
    "\n",
    "nailstripBase10min()"
   ]
  },
  {
   "cell_type": "code",
   "execution_count": 1,
   "metadata": {},
   "outputs": [
    {
     "name": "stderr",
     "output_type": "stream",
     "text": [
      "Looping over substations...: 100%|██████████| 16/16 [15:21<00:00, 57.59s/it]\n",
      "Looping over substations...: 100%|██████████| 16/16 [21:59<00:00, 82.45s/it]3.36s/it]\n",
      "Looping over substations...: 100%|██████████| 16/16 [24:24<00:00, 91.52s/it] 7.93s/it]\n",
      "Looping over substations...: 100%|██████████| 16/16 [19:05<00:00, 71.59s/it]1299.29s/it]\n",
      "Looping over substations...: 100%|██████████| 16/16 [26:42<00:00, 100.18s/it]239.63s/it]\n",
      "Looping over substations...: 100%|██████████| 14/14 [16:23<00:00, 70.27s/it]1371.97s/it]\n",
      "Looping over substations...: 100%|██████████| 16/16 [23:38<00:00, 88.68s/it]1240.68s/it]\n",
      "Looping over substations...: 100%|██████████| 16/16 [27:44<00:00, 104.05s/it]300.00s/it]\n",
      "Looping over substations...: 100%|██████████| 16/16 [29:38<00:00, 111.13s/it]417.18s/it]\n",
      "Looping over substations...: 100%|██████████| 16/16 [23:49<00:00, 89.34s/it] 531.19s/it]\n",
      "Looping over substations...: 100%|██████████| 16/16 [27:24<00:00, 102.79s/it]1501.72s/it]\n",
      "Looping over substations...: 100%|██████████| 16/16 [13:50<00:00, 51.88s/it] 1547.13s/it]\n",
      "Looping over substations...: 100%|██████████| 16/16 [21:12<00:00, 79.55s/it] 1329.83s/it]\n",
      "Looping over substations...: 100%|██████████| 16/16 [19:40<00:00, 73.80s/it] 1313.67s/it]\n",
      "Looping over substations...: 100%|██████████| 16/16 [18:50<00:00, 70.66s/it] 1274.37s/it]\n",
      "Looping over substations...: 100%|██████████| 16/16 [19:17<00:00, 72.32s/it] 1231.91s/it]\n",
      "Looping over substations...: 100%|██████████| 16/16 [21:30<00:00, 80.63s/it] 1210.21s/it]\n",
      "Looping over substations...: 100%|██████████| 16/16 [24:23<00:00, 91.49s/it] 1235.07s/it]\n",
      "Looping over substations...: 100%|██████████| 16/16 [22:57<00:00, 86.07s/it]304.76s/it]  \n",
      "Looping over substations...: 100%|██████████| 16/16 [26:22<00:00, 98.91s/it]327.39s/it]\n",
      "Looping over nailstripped files...: 100%|██████████| 20/20 [7:25:23<00:00, 1336.18s/it]\n",
      "Looping over filtere with interval files...: 100%|██████████| 20/20 [00:00<00:00, 38.97it/s]\n"
     ]
    },
    {
     "ename": "UnboundLocalError",
     "evalue": "cannot access local variable 'files' where it is not associated with a value",
     "output_type": "error",
     "traceback": [
      "\u001b[1;31m---------------------------------------------------------------------------\u001b[0m",
      "\u001b[1;31mUnboundLocalError\u001b[0m                         Traceback (most recent call last)",
      "Cell \u001b[1;32mIn[1], line 5\u001b[0m\n\u001b[0;32m      3\u001b[0m filterTopWSInInterval()\n\u001b[0;32m      4\u001b[0m filterMinAveWindSpeed()\n\u001b[1;32m----> 5\u001b[0m \u001b[43mcombineParts\u001b[49m\u001b[43m(\u001b[49m\u001b[43m)\u001b[49m\n",
      "File \u001b[1;32mc:\\Users\\Brynjar Geir\\Documents\\Mastersverkefni\\lokaverkefni_vel\\.venv\\Lib\\site-packages\\python\\preprocess\\filterMeasurements.py:93\u001b[0m, in \u001b[0;36mcombineParts\u001b[1;34m(filteredWithMinAveWindSpeed_path)\u001b[0m\n\u001b[0;32m     92\u001b[0m \u001b[38;5;28;01mdef\u001b[39;00m \u001b[38;5;21mcombineParts\u001b[39m(filteredWithMinAveWindSpeed_path \u001b[38;5;241m=\u001b[39m filteredWithMinAveWindSpeed_path):\n\u001b[1;32m---> 93\u001b[0m     df, files \u001b[38;5;241m=\u001b[39m \u001b[38;5;28;01mNone\u001b[39;00m, [filteredWithMinAveWindSpeed_path \u001b[38;5;241m+\u001b[39m file \u001b[38;5;28;01mfor\u001b[39;00m file \u001b[38;5;129;01min\u001b[39;00m os\u001b[38;5;241m.\u001b[39mlistdir(\u001b[43mfiles\u001b[49m) \u001b[38;5;28;01mif\u001b[39;00m file\u001b[38;5;241m.\u001b[39mendswith(\u001b[38;5;124m'\u001b[39m\u001b[38;5;124m.feather\u001b[39m\u001b[38;5;124m'\u001b[39m)]\n\u001b[0;32m     95\u001b[0m     \u001b[38;5;28;01mfor\u001b[39;00m file \u001b[38;5;129;01min\u001b[39;00m tqdm(files, total \u001b[38;5;241m=\u001b[39m \u001b[38;5;28mlen\u001b[39m(files), desc \u001b[38;5;241m=\u001b[39m \u001b[38;5;124m\"\u001b[39m\u001b[38;5;124mLooping over parts to combine...\u001b[39m\u001b[38;5;124m\"\u001b[39m):\n\u001b[0;32m     96\u001b[0m         \u001b[38;5;28;01mif\u001b[39;00m \u001b[38;5;28;01mNone\u001b[39;00m \u001b[38;5;241m==\u001b[39m df:\n",
      "\u001b[1;31mUnboundLocalError\u001b[0m: cannot access local variable 'files' where it is not associated with a value"
     ]
    }
   ],
   "source": [
    "from python.preprocess.filterMeasurements import filterTopWSInInterval, filterMinAveWindSpeed, combineParts\n",
    "\n",
    "filterTopWSInInterval()\n",
    "filterMinAveWindSpeed()\n",
    "combineParts()"
   ]
  },
  {
   "cell_type": "code",
   "execution_count": null,
   "metadata": {},
   "outputs": [],
   "source": [
    "from python.preprocess.generateJSONForCARRA import generateAllJSON\n",
    "\n",
    "generateAllJSON()"
   ]
  },
  {
   "cell_type": "markdown",
   "metadata": {},
   "source": [
    "# Here there is a python script that is run that calls the CARRA API and returns a feather file with interpolated values, this is done on a remote computer (pluto) and as such is not shown here"
   ]
  },
  {
   "cell_type": "code",
   "execution_count": null,
   "metadata": {},
   "outputs": [],
   "source": [
    "from python.preprocess.mergeMeasuredReanalysis import merge\n",
    "\n",
    "merge()"
   ]
  },
  {
   "cell_type": "code",
   "execution_count": null,
   "metadata": {},
   "outputs": [],
   "source": [
    "from python.preprocess.addElevation import addElevation\n",
    "\n",
    "addElevation()"
   ]
  }
 ],
 "metadata": {
  "kernelspec": {
   "display_name": ".venv",
   "language": "python",
   "name": "python3"
  },
  "language_info": {
   "codemirror_mode": {
    "name": "ipython",
    "version": 3
   },
   "file_extension": ".py",
   "mimetype": "text/x-python",
   "name": "python",
   "nbconvert_exporter": "python",
   "pygments_lexer": "ipython3",
   "version": "3.12.2"
  }
 },
 "nbformat": 4,
 "nbformat_minor": 2
}
