{
 "cells": [
  {
   "cell_type": "markdown",
   "metadata": {},
   "source": [
    "### New data came late (probably will be unused)"
   ]
  },
  {
   "cell_type": "code",
   "execution_count": null,
   "metadata": {},
   "outputs": [],
   "source": [
    "from python.preprocess.downloadMeasurements import downloadMeasurements\n",
    "\n",
    "downloadMeasurements()"
   ]
  },
  {
   "cell_type": "markdown",
   "metadata": {},
   "source": [
    "### Take the 10 min text files and combine them in chunks (because of size) into feather files\n",
    "### Take the hourly data and combine them into one feather file (to be used to nailstrip)"
   ]
  },
  {
   "cell_type": "code",
   "execution_count": null,
   "metadata": {},
   "outputs": [],
   "source": [
    "from python.preprocess.processMeasurements import combine10minChunks, combineKLST\n",
    "\n",
    "combine10minChunks()\n",
    "combineKLST()"
   ]
  },
  {
   "cell_type": "markdown",
   "metadata": {},
   "source": [
    "### Nailstrip 10 minute data using hourly data"
   ]
  },
  {
   "cell_type": "code",
   "execution_count": null,
   "metadata": {},
   "outputs": [],
   "source": [
    "from python.preprocess.nailstripData import nailstripBase10min\n",
    "\n",
    "nailstripBase10min()"
   ]
  },
  {
   "cell_type": "markdown",
   "metadata": {},
   "source": [
    "### Filter the 10 minute measurements, first with the minimum average wind speed limit and then using the time interval\n",
    "Done in this order to speed up (Should be the same end result)"
   ]
  },
  {
   "cell_type": "code",
   "execution_count": null,
   "metadata": {},
   "outputs": [],
   "source": [
    "from python.preprocess.filterMeasurements import filter_AWSL_and_TimeInterval, combineParts\n",
    "\n",
    "filter_AWSL_and_TimeInterval()\n",
    "combineParts()"
   ]
  },
  {
   "cell_type": "markdown",
   "metadata": {},
   "source": [
    "#### This part is done because we are now looking only at measurements that fall exactly on the time CARRA is available"
   ]
  },
  {
   "cell_type": "code",
   "execution_count": null,
   "metadata": {},
   "outputs": [],
   "source": [
    "from python.preprocess.filterMeasurements import filter_AWSL_and_TimeInterval_CARRA_HOURS, combineParts_CARRA_HOURS\n",
    "\n",
    "filter_AWSL_and_TimeInterval_CARRA_HOURS()\n",
    "combineParts_CARRA_HOURS()"
   ]
  },
  {
   "cell_type": "markdown",
   "metadata": {},
   "source": [
    "### Generate the JSON for the CARRA API"
   ]
  },
  {
   "cell_type": "code",
   "execution_count": null,
   "metadata": {},
   "outputs": [],
   "source": [
    "from python.preprocess.generateJSONForCARRA import generateAllJSON\n",
    "\n",
    "generateAllJSON()"
   ]
  },
  {
   "cell_type": "markdown",
   "metadata": {},
   "source": [
    "### Here there is a python script that is run that calls the CARRA API and returns a feather file with interpolated values, this is done on a remote computer (pluto) and as such is not shown here"
   ]
  },
  {
   "cell_type": "markdown",
   "metadata": {},
   "source": [
    "### Merge the reanalysis file that came from CARRA script (PLUTO) with the preprocessed 10 minute file and elevation"
   ]
  },
  {
   "cell_type": "markdown",
   "metadata": {},
   "source": [
    "### The data from station 613 (Selfoss) from the year 2019 is weird. That AWS was setup in 2019 so maybe some early errors. I will completely remove the year 2019 from that station and not just the cased were fg <= f"
   ]
  },
  {
   "cell_type": "code",
   "execution_count": 1,
   "metadata": {},
   "outputs": [],
   "source": [
    "from python.preprocess.mergeData import merge\n",
    "\n",
    "merge()"
   ]
  }
 ],
 "metadata": {
  "kernelspec": {
   "display_name": ".venv",
   "language": "python",
   "name": "python3"
  },
  "language_info": {
   "codemirror_mode": {
    "name": "ipython",
    "version": 3
   },
   "file_extension": ".py",
   "mimetype": "text/x-python",
   "name": "python",
   "nbconvert_exporter": "python",
   "pygments_lexer": "ipython3",
   "version": "3.12.3"
  }
 },
 "nbformat": 4,
 "nbformat_minor": 2
}
