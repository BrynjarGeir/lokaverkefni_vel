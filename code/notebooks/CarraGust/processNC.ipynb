{
 "cells": [
  {
   "cell_type": "code",
   "execution_count": 2,
   "metadata": {},
   "outputs": [
    {
     "name": "stdout",
     "output_type": "stream",
     "text": [
      "Collecting xarray\n",
      "  Downloading xarray-2025.1.1-py3-none-any.whl.metadata (11 kB)\n",
      "Collecting numpy\n",
      "  Downloading numpy-2.2.2-cp313-cp313-win_amd64.whl.metadata (60 kB)\n",
      "Collecting pandas\n",
      "  Downloading pandas-2.2.3-cp313-cp313-win_amd64.whl.metadata (19 kB)\n",
      "Collecting tqdm\n",
      "  Downloading tqdm-4.67.1-py3-none-any.whl.metadata (57 kB)\n",
      "Requirement already satisfied: packaging>=23.2 in c:\\users\\brynj\\documents\\mastersverkefni\\lokaverkefni_vel\\lokaverkefni_master_vel\\lib\\site-packages (from xarray) (24.2)\n",
      "Requirement already satisfied: python-dateutil>=2.8.2 in c:\\users\\brynj\\documents\\mastersverkefni\\lokaverkefni_vel\\lokaverkefni_master_vel\\lib\\site-packages (from pandas) (2.9.0.post0)\n",
      "Collecting pytz>=2020.1 (from pandas)\n",
      "  Downloading pytz-2024.2-py2.py3-none-any.whl.metadata (22 kB)\n",
      "Collecting tzdata>=2022.7 (from pandas)\n",
      "  Downloading tzdata-2025.1-py2.py3-none-any.whl.metadata (1.4 kB)\n",
      "Requirement already satisfied: colorama in c:\\users\\brynj\\documents\\mastersverkefni\\lokaverkefni_vel\\lokaverkefni_master_vel\\lib\\site-packages (from tqdm) (0.4.6)\n",
      "Requirement already satisfied: six>=1.5 in c:\\users\\brynj\\documents\\mastersverkefni\\lokaverkefni_vel\\lokaverkefni_master_vel\\lib\\site-packages (from python-dateutil>=2.8.2->pandas) (1.17.0)\n",
      "Downloading xarray-2025.1.1-py3-none-any.whl (1.2 MB)\n",
      "   ---------------------------------------- 0.0/1.2 MB ? eta -:--:--\n",
      "   ------------------------- -------------- 0.8/1.2 MB 5.9 MB/s eta 0:00:01\n",
      "   ---------------------------------------- 1.2/1.2 MB 5.5 MB/s eta 0:00:00\n",
      "Downloading numpy-2.2.2-cp313-cp313-win_amd64.whl (12.6 MB)\n",
      "   ---------------------------------------- 0.0/12.6 MB ? eta -:--:--\n",
      "   - -------------------------------------- 0.5/12.6 MB 3.7 MB/s eta 0:00:04\n",
      "   ---- ----------------------------------- 1.6/12.6 MB 4.0 MB/s eta 0:00:03\n",
      "   ------- -------------------------------- 2.4/12.6 MB 4.0 MB/s eta 0:00:03\n",
      "   ----------- ---------------------------- 3.7/12.6 MB 4.3 MB/s eta 0:00:03\n",
      "   -------------- ------------------------- 4.5/12.6 MB 4.3 MB/s eta 0:00:02\n",
      "   ----------------- ---------------------- 5.5/12.6 MB 4.3 MB/s eta 0:00:02\n",
      "   ------------------- -------------------- 6.0/12.6 MB 4.1 MB/s eta 0:00:02\n",
      "   -------------------- ------------------- 6.6/12.6 MB 4.0 MB/s eta 0:00:02\n",
      "   ----------------------- ---------------- 7.3/12.6 MB 3.9 MB/s eta 0:00:02\n",
      "   ------------------------ --------------- 7.9/12.6 MB 3.8 MB/s eta 0:00:02\n",
      "   --------------------------- ------------ 8.7/12.6 MB 3.7 MB/s eta 0:00:02\n",
      "   ----------------------------- ---------- 9.2/12.6 MB 3.7 MB/s eta 0:00:01\n",
      "   ------------------------------- -------- 10.0/12.6 MB 3.7 MB/s eta 0:00:01\n",
      "   ---------------------------------- ----- 10.7/12.6 MB 3.7 MB/s eta 0:00:01\n",
      "   ----------------------------------- ---- 11.3/12.6 MB 3.6 MB/s eta 0:00:01\n",
      "   ---------------------------------------  12.3/12.6 MB 3.7 MB/s eta 0:00:01\n",
      "   ---------------------------------------- 12.6/12.6 MB 3.6 MB/s eta 0:00:00\n",
      "Downloading pandas-2.2.3-cp313-cp313-win_amd64.whl (11.5 MB)\n",
      "   ---------------------------------------- 0.0/11.5 MB ? eta -:--:--\n",
      "   - -------------------------------------- 0.5/11.5 MB 3.0 MB/s eta 0:00:04\n",
      "   ----- ---------------------------------- 1.6/11.5 MB 4.1 MB/s eta 0:00:03\n",
      "   -------- ------------------------------- 2.4/11.5 MB 3.8 MB/s eta 0:00:03\n",
      "   ---------- ----------------------------- 3.1/11.5 MB 3.8 MB/s eta 0:00:03\n",
      "   ------------- -------------------------- 3.9/11.5 MB 3.8 MB/s eta 0:00:02\n",
      "   --------------- ------------------------ 4.5/11.5 MB 3.8 MB/s eta 0:00:02\n",
      "   ------------------ --------------------- 5.2/11.5 MB 3.7 MB/s eta 0:00:02\n",
      "   --------------------- ------------------ 6.0/11.5 MB 3.8 MB/s eta 0:00:02\n",
      "   ------------------------ --------------- 7.1/11.5 MB 3.8 MB/s eta 0:00:02\n",
      "   ------------------------- -------------- 7.3/11.5 MB 3.7 MB/s eta 0:00:02\n",
      "   ----------------------------- ---------- 8.4/11.5 MB 3.7 MB/s eta 0:00:01\n",
      "   ------------------------------- -------- 8.9/11.5 MB 3.6 MB/s eta 0:00:01\n",
      "   --------------------------------- ------ 9.7/11.5 MB 3.6 MB/s eta 0:00:01\n",
      "   ------------------------------------ --- 10.5/11.5 MB 3.6 MB/s eta 0:00:01\n",
      "   -------------------------------------- - 11.0/11.5 MB 3.6 MB/s eta 0:00:01\n",
      "   ---------------------------------------- 11.5/11.5 MB 3.5 MB/s eta 0:00:00\n",
      "Downloading tqdm-4.67.1-py3-none-any.whl (78 kB)\n",
      "Downloading pytz-2024.2-py2.py3-none-any.whl (508 kB)\n",
      "Downloading tzdata-2025.1-py2.py3-none-any.whl (346 kB)\n",
      "Installing collected packages: pytz, tzdata, tqdm, numpy, pandas, xarray\n",
      "Successfully installed numpy-2.2.2 pandas-2.2.3 pytz-2024.2 tqdm-4.67.1 tzdata-2025.1 xarray-2025.1.1\n"
     ]
    },
    {
     "name": "stderr",
     "output_type": "stream",
     "text": [
      "\n",
      "[notice] A new release of pip is available: 24.3.1 -> 25.0\n",
      "[notice] To update, run: python.exe -m pip install --upgrade pip\n"
     ]
    }
   ],
   "source": [
    "!pip install xarray numpy pandas tqdm\n",
    "import xarray as xr, numpy as np, pandas as pd, numpy.linalg as la\n",
    "from tqdm.notebook import tqdm\n",
    "from datetime import timedelta"
   ]
  },
  {
   "cell_type": "code",
   "execution_count": 13,
   "metadata": {},
   "outputs": [
    {
     "name": "stdout",
     "output_type": "stream",
     "text": [
      "Collecting pyarrow\n",
      "  Downloading pyarrow-19.0.0-cp313-cp313-win_amd64.whl.metadata (3.4 kB)\n",
      "Downloading pyarrow-19.0.0-cp313-cp313-win_amd64.whl (25.2 MB)\n",
      "   ---------------------------------------- 0.0/25.2 MB ? eta -:--:--\n",
      "   ---------------------------------------- 0.0/25.2 MB ? eta -:--:--\n",
      "   ---------------------------------------- 0.3/25.2 MB ? eta -:--:--\n",
      "   - -------------------------------------- 0.8/25.2 MB 1.6 MB/s eta 0:00:15\n",
      "   -- ------------------------------------- 1.3/25.2 MB 1.8 MB/s eta 0:00:14\n",
      "   -- ------------------------------------- 1.6/25.2 MB 1.8 MB/s eta 0:00:14\n",
      "   -- ------------------------------------- 1.8/25.2 MB 1.8 MB/s eta 0:00:14\n",
      "   --- ------------------------------------ 2.4/25.2 MB 1.8 MB/s eta 0:00:13\n",
      "   ---- ----------------------------------- 2.6/25.2 MB 1.8 MB/s eta 0:00:13\n",
      "   ---- ----------------------------------- 3.1/25.2 MB 1.8 MB/s eta 0:00:13\n",
      "   ----- ---------------------------------- 3.4/25.2 MB 1.8 MB/s eta 0:00:12\n",
      "   ------ --------------------------------- 3.9/25.2 MB 1.9 MB/s eta 0:00:12\n",
      "   ------ --------------------------------- 4.2/25.2 MB 1.9 MB/s eta 0:00:12\n",
      "   ------- -------------------------------- 4.7/25.2 MB 1.9 MB/s eta 0:00:11\n",
      "   -------- ------------------------------- 5.2/25.2 MB 1.9 MB/s eta 0:00:11\n",
      "   -------- ------------------------------- 5.5/25.2 MB 1.9 MB/s eta 0:00:11\n",
      "   --------- ------------------------------ 6.0/25.2 MB 1.9 MB/s eta 0:00:11\n",
      "   --------- ------------------------------ 6.3/25.2 MB 1.9 MB/s eta 0:00:11\n",
      "   ---------- ----------------------------- 6.8/25.2 MB 1.9 MB/s eta 0:00:10\n",
      "   ----------- ---------------------------- 7.3/25.2 MB 1.9 MB/s eta 0:00:10\n",
      "   ------------ --------------------------- 7.6/25.2 MB 1.9 MB/s eta 0:00:10\n",
      "   ------------ --------------------------- 8.1/25.2 MB 1.9 MB/s eta 0:00:09\n",
      "   ------------- -------------------------- 8.4/25.2 MB 1.9 MB/s eta 0:00:09\n",
      "   -------------- ------------------------- 8.9/25.2 MB 2.0 MB/s eta 0:00:09\n",
      "   -------------- ------------------------- 9.4/25.2 MB 2.0 MB/s eta 0:00:09\n",
      "   --------------- ------------------------ 9.7/25.2 MB 2.0 MB/s eta 0:00:08\n",
      "   --------------- ------------------------ 10.0/25.2 MB 1.9 MB/s eta 0:00:08\n",
      "   ---------------- ----------------------- 10.5/25.2 MB 1.9 MB/s eta 0:00:08\n",
      "   ----------------- ---------------------- 10.7/25.2 MB 1.9 MB/s eta 0:00:08\n",
      "   ----------------- ---------------------- 11.3/25.2 MB 1.9 MB/s eta 0:00:08\n",
      "   ------------------ --------------------- 11.5/25.2 MB 1.9 MB/s eta 0:00:08\n",
      "   ------------------- -------------------- 12.1/25.2 MB 1.9 MB/s eta 0:00:07\n",
      "   ------------------- -------------------- 12.3/25.2 MB 1.9 MB/s eta 0:00:07\n",
      "   ------------------- -------------------- 12.6/25.2 MB 1.9 MB/s eta 0:00:07\n",
      "   -------------------- ------------------- 12.8/25.2 MB 1.9 MB/s eta 0:00:07\n",
      "   --------------------- ------------------ 13.4/25.2 MB 1.9 MB/s eta 0:00:07\n",
      "   --------------------- ------------------ 13.6/25.2 MB 1.9 MB/s eta 0:00:07\n",
      "   ---------------------- ----------------- 13.9/25.2 MB 1.9 MB/s eta 0:00:07\n",
      "   ---------------------- ----------------- 14.2/25.2 MB 1.8 MB/s eta 0:00:07\n",
      "   ----------------------- ---------------- 14.7/25.2 MB 1.8 MB/s eta 0:00:06\n",
      "   ----------------------- ---------------- 14.9/25.2 MB 1.8 MB/s eta 0:00:06\n",
      "   ------------------------ --------------- 15.2/25.2 MB 1.8 MB/s eta 0:00:06\n",
      "   ------------------------ --------------- 15.7/25.2 MB 1.8 MB/s eta 0:00:06\n",
      "   ------------------------- -------------- 16.0/25.2 MB 1.8 MB/s eta 0:00:06\n",
      "   -------------------------- ------------- 16.5/25.2 MB 1.8 MB/s eta 0:00:05\n",
      "   -------------------------- ------------- 16.8/25.2 MB 1.8 MB/s eta 0:00:05\n",
      "   --------------------------- ------------ 17.3/25.2 MB 1.8 MB/s eta 0:00:05\n",
      "   ---------------------------- ----------- 17.8/25.2 MB 1.9 MB/s eta 0:00:05\n",
      "   ---------------------------- ----------- 18.1/25.2 MB 1.8 MB/s eta 0:00:04\n",
      "   ----------------------------- ---------- 18.4/25.2 MB 1.8 MB/s eta 0:00:04\n",
      "   ----------------------------- ---------- 18.6/25.2 MB 1.8 MB/s eta 0:00:04\n",
      "   ----------------------------- ---------- 18.9/25.2 MB 1.8 MB/s eta 0:00:04\n",
      "   ------------------------------ --------- 19.1/25.2 MB 1.8 MB/s eta 0:00:04\n",
      "   ------------------------------ --------- 19.4/25.2 MB 1.8 MB/s eta 0:00:04\n",
      "   ------------------------------- -------- 19.7/25.2 MB 1.8 MB/s eta 0:00:04\n",
      "   ------------------------------- -------- 19.9/25.2 MB 1.8 MB/s eta 0:00:03\n",
      "   ------------------------------- -------- 20.2/25.2 MB 1.8 MB/s eta 0:00:03\n",
      "   -------------------------------- ------- 20.4/25.2 MB 1.7 MB/s eta 0:00:03\n",
      "   -------------------------------- ------- 20.7/25.2 MB 1.7 MB/s eta 0:00:03\n",
      "   -------------------------------- ------- 20.7/25.2 MB 1.7 MB/s eta 0:00:03\n",
      "   --------------------------------- ------ 21.0/25.2 MB 1.7 MB/s eta 0:00:03\n",
      "   --------------------------------- ------ 21.2/25.2 MB 1.7 MB/s eta 0:00:03\n",
      "   ---------------------------------- ----- 21.5/25.2 MB 1.7 MB/s eta 0:00:03\n",
      "   ---------------------------------- ----- 21.8/25.2 MB 1.7 MB/s eta 0:00:03\n",
      "   ---------------------------------- ----- 22.0/25.2 MB 1.7 MB/s eta 0:00:02\n",
      "   ----------------------------------- ---- 22.3/25.2 MB 1.7 MB/s eta 0:00:02\n",
      "   ----------------------------------- ---- 22.5/25.2 MB 1.7 MB/s eta 0:00:02\n",
      "   ------------------------------------ --- 22.8/25.2 MB 1.7 MB/s eta 0:00:02\n",
      "   ------------------------------------ --- 23.1/25.2 MB 1.6 MB/s eta 0:00:02\n",
      "   ------------------------------------ --- 23.3/25.2 MB 1.6 MB/s eta 0:00:02\n",
      "   ------------------------------------- -- 23.6/25.2 MB 1.6 MB/s eta 0:00:02\n",
      "   ------------------------------------- -- 23.9/25.2 MB 1.6 MB/s eta 0:00:01\n",
      "   -------------------------------------- - 24.1/25.2 MB 1.6 MB/s eta 0:00:01\n",
      "   ---------------------------------------  24.6/25.2 MB 1.6 MB/s eta 0:00:01\n",
      "   ---------------------------------------  24.6/25.2 MB 1.6 MB/s eta 0:00:01\n",
      "   ---------------------------------------  24.9/25.2 MB 1.6 MB/s eta 0:00:01\n",
      "   ---------------------------------------  25.2/25.2 MB 1.6 MB/s eta 0:00:01\n",
      "   ---------------------------------------- 25.2/25.2 MB 1.6 MB/s eta 0:00:00\n",
      "Installing collected packages: pyarrow\n",
      "Successfully installed pyarrow-19.0.0\n"
     ]
    },
    {
     "name": "stderr",
     "output_type": "stream",
     "text": [
      "\n",
      "[notice] A new release of pip is available: 24.3.1 -> 25.0\n",
      "[notice] To update, run: python.exe -m pip install --upgrade pip\n"
     ]
    }
   ],
   "source": [
    "!pip install pyarrow"
   ]
  },
  {
   "cell_type": "code",
   "execution_count": 3,
   "metadata": {},
   "outputs": [],
   "source": [
    "def interpolate_station(lat, lon, lats, lons, values):\n",
    "    lon = -lon\n",
    "    N = np.flatnonzero(lat >= lats)[0]\n",
    "    n0, n1 = N-1, N\n",
    "    E = np.flatnonzero(lon <= lons)[0]\n",
    "    e0, e1 = E-1, E\n",
    "    assert(0 < N < len(lats))\n",
    "    assert(0 < E < len(lons))\n",
    "    neargrid = np.array([\n",
    "        [lats[n0], lats[n1], lats[n0], lats[n1]],\n",
    "        [lons[e0], lons[e0], lons[e1], lons[e1]]])\n",
    "    nearvec = neargrid - np.array([[lat],[lon]])\n",
    "    nearvec[1] = nearvec[1]*np.cos(np.radians(65)) # correct for unequal lat and lon\n",
    "    dist = la.norm(nearvec, axis=0)\n",
    "    weights = 1/np.maximum(dist,0.000001)\n",
    "    weights /= sum(weights)\n",
    "    values_near = values[:, N-1:N+1, E-1:E+1].reshape(len(values), 4)\n",
    "    result = values_near @ weights\n",
    "    return result"
   ]
  },
  {
   "cell_type": "code",
   "execution_count": null,
   "metadata": {},
   "outputs": [
    {
     "ename": "KeyError",
     "evalue": "\"None of [Index(['stod', 'time'], dtype='object')] are in the [columns]\"",
     "output_type": "error",
     "traceback": [
      "\u001b[1;31m---------------------------------------------------------------------------\u001b[0m",
      "\u001b[1;31mKeyError\u001b[0m                                  Traceback (most recent call last)",
      "Cell \u001b[1;32mIn[14], line 5\u001b[0m\n\u001b[0;32m      3\u001b[0m station_data \u001b[38;5;241m=\u001b[39m station_data[[\u001b[38;5;124m'\u001b[39m\u001b[38;5;124mstod\u001b[39m\u001b[38;5;124m'\u001b[39m, \u001b[38;5;124m'\u001b[39m\u001b[38;5;124mbreidd\u001b[39m\u001b[38;5;124m'\u001b[39m, \u001b[38;5;124m'\u001b[39m\u001b[38;5;124mlengd\u001b[39m\u001b[38;5;124m'\u001b[39m]]\n\u001b[0;32m      4\u001b[0m data \u001b[38;5;241m=\u001b[39m pd\u001b[38;5;241m.\u001b[39mread_feather(\u001b[38;5;124m\"\u001b[39m\u001b[38;5;124m../../../data/combined/data.feather\u001b[39m\u001b[38;5;124m\"\u001b[39m)\n\u001b[1;32m----> 5\u001b[0m data \u001b[38;5;241m=\u001b[39m \u001b[43mdata\u001b[49m\u001b[43m[\u001b[49m\u001b[43m[\u001b[49m\u001b[38;5;124;43m\"\u001b[39;49m\u001b[38;5;124;43mstod\u001b[39;49m\u001b[38;5;124;43m\"\u001b[39;49m\u001b[43m,\u001b[49m\u001b[43m \u001b[49m\u001b[38;5;124;43m\"\u001b[39;49m\u001b[38;5;124;43mtime\u001b[39;49m\u001b[38;5;124;43m\"\u001b[39;49m\u001b[43m]\u001b[49m\u001b[43m]\u001b[49m\n\u001b[0;32m      6\u001b[0m data \u001b[38;5;241m=\u001b[39m pd\u001b[38;5;241m.\u001b[39mmerge(data, station_data, on \u001b[38;5;241m=\u001b[39m \u001b[38;5;124m\"\u001b[39m\u001b[38;5;124mstod\u001b[39m\u001b[38;5;124m\"\u001b[39m)\n",
      "File \u001b[1;32mc:\\Users\\brynj\\Documents\\Mastersverkefni\\lokaverkefni_vel\\lokaverkefni_master_vel\\Lib\\site-packages\\pandas\\core\\frame.py:4108\u001b[0m, in \u001b[0;36mDataFrame.__getitem__\u001b[1;34m(self, key)\u001b[0m\n\u001b[0;32m   4106\u001b[0m     \u001b[38;5;28;01mif\u001b[39;00m is_iterator(key):\n\u001b[0;32m   4107\u001b[0m         key \u001b[38;5;241m=\u001b[39m \u001b[38;5;28mlist\u001b[39m(key)\n\u001b[1;32m-> 4108\u001b[0m     indexer \u001b[38;5;241m=\u001b[39m \u001b[38;5;28;43mself\u001b[39;49m\u001b[38;5;241;43m.\u001b[39;49m\u001b[43mcolumns\u001b[49m\u001b[38;5;241;43m.\u001b[39;49m\u001b[43m_get_indexer_strict\u001b[49m\u001b[43m(\u001b[49m\u001b[43mkey\u001b[49m\u001b[43m,\u001b[49m\u001b[43m \u001b[49m\u001b[38;5;124;43m\"\u001b[39;49m\u001b[38;5;124;43mcolumns\u001b[39;49m\u001b[38;5;124;43m\"\u001b[39;49m\u001b[43m)\u001b[49m[\u001b[38;5;241m1\u001b[39m]\n\u001b[0;32m   4110\u001b[0m \u001b[38;5;66;03m# take() does not accept boolean indexers\u001b[39;00m\n\u001b[0;32m   4111\u001b[0m \u001b[38;5;28;01mif\u001b[39;00m \u001b[38;5;28mgetattr\u001b[39m(indexer, \u001b[38;5;124m\"\u001b[39m\u001b[38;5;124mdtype\u001b[39m\u001b[38;5;124m\"\u001b[39m, \u001b[38;5;28;01mNone\u001b[39;00m) \u001b[38;5;241m==\u001b[39m \u001b[38;5;28mbool\u001b[39m:\n",
      "File \u001b[1;32mc:\\Users\\brynj\\Documents\\Mastersverkefni\\lokaverkefni_vel\\lokaverkefni_master_vel\\Lib\\site-packages\\pandas\\core\\indexes\\base.py:6200\u001b[0m, in \u001b[0;36mIndex._get_indexer_strict\u001b[1;34m(self, key, axis_name)\u001b[0m\n\u001b[0;32m   6197\u001b[0m \u001b[38;5;28;01melse\u001b[39;00m:\n\u001b[0;32m   6198\u001b[0m     keyarr, indexer, new_indexer \u001b[38;5;241m=\u001b[39m \u001b[38;5;28mself\u001b[39m\u001b[38;5;241m.\u001b[39m_reindex_non_unique(keyarr)\n\u001b[1;32m-> 6200\u001b[0m \u001b[38;5;28;43mself\u001b[39;49m\u001b[38;5;241;43m.\u001b[39;49m\u001b[43m_raise_if_missing\u001b[49m\u001b[43m(\u001b[49m\u001b[43mkeyarr\u001b[49m\u001b[43m,\u001b[49m\u001b[43m \u001b[49m\u001b[43mindexer\u001b[49m\u001b[43m,\u001b[49m\u001b[43m \u001b[49m\u001b[43maxis_name\u001b[49m\u001b[43m)\u001b[49m\n\u001b[0;32m   6202\u001b[0m keyarr \u001b[38;5;241m=\u001b[39m \u001b[38;5;28mself\u001b[39m\u001b[38;5;241m.\u001b[39mtake(indexer)\n\u001b[0;32m   6203\u001b[0m \u001b[38;5;28;01mif\u001b[39;00m \u001b[38;5;28misinstance\u001b[39m(key, Index):\n\u001b[0;32m   6204\u001b[0m     \u001b[38;5;66;03m# GH 42790 - Preserve name from an Index\u001b[39;00m\n",
      "File \u001b[1;32mc:\\Users\\brynj\\Documents\\Mastersverkefni\\lokaverkefni_vel\\lokaverkefni_master_vel\\Lib\\site-packages\\pandas\\core\\indexes\\base.py:6249\u001b[0m, in \u001b[0;36mIndex._raise_if_missing\u001b[1;34m(self, key, indexer, axis_name)\u001b[0m\n\u001b[0;32m   6247\u001b[0m \u001b[38;5;28;01mif\u001b[39;00m nmissing:\n\u001b[0;32m   6248\u001b[0m     \u001b[38;5;28;01mif\u001b[39;00m nmissing \u001b[38;5;241m==\u001b[39m \u001b[38;5;28mlen\u001b[39m(indexer):\n\u001b[1;32m-> 6249\u001b[0m         \u001b[38;5;28;01mraise\u001b[39;00m \u001b[38;5;167;01mKeyError\u001b[39;00m(\u001b[38;5;124mf\u001b[39m\u001b[38;5;124m\"\u001b[39m\u001b[38;5;124mNone of [\u001b[39m\u001b[38;5;132;01m{\u001b[39;00mkey\u001b[38;5;132;01m}\u001b[39;00m\u001b[38;5;124m] are in the [\u001b[39m\u001b[38;5;132;01m{\u001b[39;00maxis_name\u001b[38;5;132;01m}\u001b[39;00m\u001b[38;5;124m]\u001b[39m\u001b[38;5;124m\"\u001b[39m)\n\u001b[0;32m   6251\u001b[0m     not_found \u001b[38;5;241m=\u001b[39m \u001b[38;5;28mlist\u001b[39m(ensure_index(key)[missing_mask\u001b[38;5;241m.\u001b[39mnonzero()[\u001b[38;5;241m0\u001b[39m]]\u001b[38;5;241m.\u001b[39munique())\n\u001b[0;32m   6252\u001b[0m     \u001b[38;5;28;01mraise\u001b[39;00m \u001b[38;5;167;01mKeyError\u001b[39;00m(\u001b[38;5;124mf\u001b[39m\u001b[38;5;124m\"\u001b[39m\u001b[38;5;132;01m{\u001b[39;00mnot_found\u001b[38;5;132;01m}\u001b[39;00m\u001b[38;5;124m not in index\u001b[39m\u001b[38;5;124m\"\u001b[39m)\n",
      "\u001b[1;31mKeyError\u001b[0m: \"None of [Index(['stod', 'time'], dtype='object')] are in the [columns]\""
     ]
    }
   ],
   "source": [
    "# Read stations and data-file\n",
    "station_data = pd.read_csv('../../../data/Vedur/stod.txt')\n",
    "station_data = station_data[['stod', 'breidd', 'lengd']]\n",
    "data = pd.read_feather(\"../../../data/combined/data.feather\")\n",
    "data[\"lat\"]\n",
    "data = data[[\"stod\", \"time\"]]\n",
    "data = pd.merge(data, station_data, on = \"stod\")"
   ]
  },
  {
   "cell_type": "code",
   "execution_count": 19,
   "metadata": {},
   "outputs": [
    {
     "data": {
      "text/plain": [
       "Index(['gust_factor', 'ws_15', 'wd_15', 't_15', 'p_15', 'Ri', 'N_squared',\n",
       "       'station_elevation', 'X', 'Y', 'twd', 'elevation_0', 'elevation_1',\n",
       "       'elevation_2', 'elevation_3'],\n",
       "      dtype='object')"
      ]
     },
     "execution_count": 19,
     "metadata": {},
     "output_type": "execute_result"
    }
   ],
   "source": [
    "data.columns[:15]"
   ]
  }
 ],
 "metadata": {
  "kernelspec": {
   "display_name": "lokaverkefni_master_vel",
   "language": "python",
   "name": "python3"
  },
  "language_info": {
   "codemirror_mode": {
    "name": "ipython",
    "version": 3
   },
   "file_extension": ".py",
   "mimetype": "text/x-python",
   "name": "python",
   "nbconvert_exporter": "python",
   "pygments_lexer": "ipython3",
   "version": "3.13.1"
  }
 },
 "nbformat": 4,
 "nbformat_minor": 2
}
