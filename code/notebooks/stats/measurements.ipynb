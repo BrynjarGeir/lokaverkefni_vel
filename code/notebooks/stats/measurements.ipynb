{
 "cells": [
  {
   "cell_type": "code",
   "execution_count": null,
   "metadata": {},
   "outputs": [],
   "source": [
    "windspeeds = {'[0-5[':0, '[5, 10[':0, '[10, 15[':0, '[15, 20[':0, '[20, 25[':0, '[25, 30[':0, '[30, 35[':0, '[35, 40[':0, '[40, [':0, 'missing': 0}\n",
    "gustspeeds = {'[0-5[':0, '[5, 10[':0, '[10, 15[':0, '[15, 20[':0, '[20, 25[':0, '[25, 30[':0, '[30, 35[':0, '[35, 40[':0, '[40, 45[':0, '[45, 50[': 0, '[45, 50[':0, '[50, [':0, 'missing': 0}\n",
    "years = {}\n",
    "winddirections = {d: 0 for d in range(0, 360, 15)}\n",
    "\n",
    "with open('D:/Skoli/Mastersverkefni/lokaverkefni_vel/data/Measured/combined_10min/combined_10min.txt', 'r') as f:\n",
    "    n_line = 0\n",
    "    chunk_size = int(1e7)\n",
    "    for line in tqdm(f, total = int(2.7 * 1e8)):\n",
    "        line = line.split(',')\n",
    "        windspeed = safe_float_conversion(line[2])\n",
    "        year = line[0][:4]\n",
    "        winddirection = safe_float_conversion(line[5])\n",
    "        gustspeed = safe_float_conversion(line[3])\n",
    "        if winddirection == np.nan:\n",
    "                winddirections['missing'] += 1\n",
    "        else:\n",
    "            for wd in range(15, 375, 15):\n",
    "                if winddirection <= wd:\n",
    "                    winddirections[wd-15] += 1\n",
    "                    break\n",
    "        if windspeed == np.nan:\n",
    "            windspeeds['missing'] += 1\n",
    "        elif windspeed >= 40:\n",
    "            windspeeds['[40, ['] += 1\n",
    "        else:\n",
    "            lower = (windspeed // 5) * 5\n",
    "            interval = f'[{lower}, {lower+5}['\n",
    "            windspeeds[interval] += 1\n",
    "        \n",
    "        if gustspeed == np.nan:\n",
    "            gustspeeds['missing'] += 1\n",
    "        elif gustspeed >= 50:\n",
    "            gustspeeds['[50, ['] += 1\n",
    "        else:\n",
    "            lower = (gustspeed // 5) * 5\n",
    "            interval = f'[{lower}, {lower+5}['\n",
    "            gustspeeds[interval] += 1\n",
    "        if year not in years:\n",
    "            years[year] = 1\n",
    "        else:\n",
    "            years[year] += 1\n",
    "\n",
    "    \n",
    "with open('D:/Skoli/Mastersverkefni/lokaverkefni_vel/data/Measured/combined_10min/windspeeds_stats.pkl', 'wb') as f:\n",
    "    pickle.dump(windspeeds, f)\n",
    "with open('D:/Skoli/Mastersverkefni/lokaverkefni_vel/data/Measured/combined_10min/years_stats.pkl', 'wb') as f:\n",
    "    pickle.dump(years, f)\n",
    "with open('D:/Skoli/Mastersverkefni/lokaverkefni_vel/data/Measured/combined_10min/gustspeeds_stats.pkl', 'wb') as f:\n",
    "    pickle.dump(gustspeeds, f)\n",
    "with open('D:/Skoli/Mastersverkefni/lokaverkefni_vel/data/Measured/combined_10min/winddirections_stats.pkl', 'wb') as f:\n",
    "    pickle.dump(winddirections, f)"
   ]
  },
  {
   "cell_type": "code",
   "execution_count": null,
   "metadata": {},
   "outputs": [],
   "source": [
    "months = {}\n",
    "\n",
    "with open('D:/Skoli/Mastersverkefni/lokaverkefni_vel/data/Measured/combined_10min/combined_10min.txt', 'r') as f:\n",
    "    for line in tqdm(f, total = int(2.8 * 1e8)):\n",
    "        line = line.split(',')\n",
    "        month = safe_int_conversion(line[0][5:7])\n",
    "        if month not in months:\n",
    "            months[month] = 1\n",
    "        else:\n",
    "            months[month] += 1\n",
    "\n",
    "with open('D:/Skoli/Mastersverkefni/lokaverkefni_vel/data/Measured/combined_10min/months_stats.pkl', 'wb') as f:\n",
    "    pickle.dump(months, f)"
   ]
  },
  {
   "cell_type": "code",
   "execution_count": null,
   "metadata": {},
   "outputs": [],
   "source": [
    "with open('D:/Skoli/Mastersverkefni/lokaverkefni_vel/data/Measured/combined_10min/windspeeds_stats.pkl', 'rb') as f:\n",
    "    windspeeds = pickle.load(f)\n",
    "with open('D:/Skoli/Mastersverkefni/lokaverkefni_vel/data/Measured/combined_10min/years_stats.pkl', 'rb') as f:\n",
    "    years = pickle.load(f)\n",
    "with open('D:/Skoli/Mastersverkefni/lokaverkefni_vel/data/Measured/combined_10min/gustspeeds_stats.pkl', 'rb') as f:\n",
    "    gusts = pickle.load(f)\n",
    "with open('D:/Skoli/Mastersverkefni/lokaverkefni_vel/data/Measured/combined_10min/winddirections_stats.pkl', 'rb') as f:\n",
    "    directions = pickle.load(f)\n"
   ]
  },
  {
   "cell_type": "code",
   "execution_count": null,
   "metadata": {},
   "outputs": [],
   "source": [
    "with open('D:/Skoli/Mastersverkefni/lokaverkefni_vel/data/Measured/combined_10min/months_stats.pkl', 'rb') as f:\n",
    "    months = pickle.load(f)"
   ]
  },
  {
   "cell_type": "code",
   "execution_count": null,
   "metadata": {},
   "outputs": [],
   "source": [
    "with open('D:/Skoli/Mastersverkefni/lokaverkefni_vel/data/Measured/combined_10min/months_stats.pkl', 'wb') as f:\n",
    "    pickle.dump(months, f)"
   ]
  }
 ],
 "metadata": {
  "language_info": {
   "name": "python"
  }
 },
 "nbformat": 4,
 "nbformat_minor": 2
}
