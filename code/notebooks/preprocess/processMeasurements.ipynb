{
 "cells": [
  {
   "cell_type": "code",
   "execution_count": 3,
   "metadata": {},
   "outputs": [],
   "source": [
    "from utils.util import getTopLevelPath\n",
    "from datetime import date\n",
    "from tqdm.notebook import tqdm, trange\n",
    "import os, csv, pandas as pd"
   ]
  },
  {
   "cell_type": "code",
   "execution_count": 4,
   "metadata": {},
   "outputs": [],
   "source": [
    "top_folder = getTopLevelPath() + 'data/Measured/'\n",
    "hourly_paths = [top_folder + 'klst/', top_folder + 'vg/'] # just 'klst' I think with new download\n",
    "ten_min_path = top_folder + '10min/'\n",
    "\n",
    "today = date.today().strftime('%Y-%m-%d')\n"
   ]
  },
  {
   "cell_type": "code",
   "execution_count": null,
   "metadata": {},
   "outputs": [],
   "source": [
    "def combineKLST(hourly_path: str = hourly_paths):\n",
    "    outputpath: str = top_folder + f'/combined_klst/combined_klst_{today}.feather'\n",
    "    files = [folder + file for folder in hourly_paths for file in os.listdir(folder)]\n",
    "    columns = ['timi','stod','f','fx','fg','d']\n",
    "    data = []\n",
    "    for file in tqdm(files, total = len(files)):\n",
    "        with open(file, 'r') as f:\n",
    "            lines = [line for line in csv.reader(f)]\n",
    "        if 'dsdev' in lines[0]:\n",
    "            lines = [line[:-1] for line in lines]\n",
    "        lines = lines[1:]\n",
    "        data.extend(lines)\n",
    "\n",
    "    df = pd.DataFrame(data, columns = columns)\n",
    "    df.stod = pd.to_numeric(df.stod, errors = 'coerce')\n",
    "    df.timi = pd.to_datetime(df.timi, errors = 'coerce')\n",
    "    df.fx = pd.to_numeric(df.fx, errors = 'coerce')\n",
    "    df.f = pd.to_numeric(df.f, errors = 'coerce')\n",
    "    df.fg = pd.to_numeric(df.fg, errors = 'coerce')\n",
    "    df.d = pd.to_numeric(df.d, errors = 'coerce')\n",
    "    df.to_feather(outputpath)"
   ]
  },
  {
   "cell_type": "code",
   "execution_count": 7,
   "metadata": {},
   "outputs": [],
   "source": [
    "def combine10minChunks(ten_min_path: str = ten_min_path): \n",
    "    outputpath = top_folder +   '/10min/Chunks/'\n",
    "    files = [ten_min_path + file for file in os.listdir(ten_min_path) if file.endswith('.txt')]\n",
    "    columns = None\n",
    "    chunks, n = 20, len(files)\n",
    "    m = n // chunks\n",
    "    for chunk in trange(chunks):\n",
    "        if chunk == n-1:\n",
    "            cfiles = files[chunk*m:]\n",
    "        else:\n",
    "            cfiles = files[chunk*m:(chunk+1)*m]\n",
    "        data = []\n",
    "        for file in tqdm(cfiles, total = len(cfiles)):\n",
    "            with open(file, 'r') as f:\n",
    "                reader = list(csv.reader(f))\n",
    "                \n",
    "            if not columns:\n",
    "                columns = reader[0]\n",
    "            \n",
    "            lines = reader[1:]\n",
    "\n",
    "            data.extend(lines)\n",
    "        df = pd.DataFrame(data, columns = columns)\n",
    "        df.timi = pd.to_datetime(df.timi, errors = 'coerce')\n",
    "        df.stod = df.stod.astype(int)\n",
    "        df.f = pd.to_numeric(df.f, errors = 'coerce')\n",
    "        df.fg = pd.to_numeric(df.fg, errors = 'coerce')\n",
    "        df.fsdev = pd.to_numeric(df.fsdev, errors = 'coerce')\n",
    "        df.d = pd.to_numeric(df.d, errors = 'coerce')\n",
    "        df.dsdev = pd.to_numeric(df.dsdev, errors = 'coerce')\n",
    "\n",
    "        df.to_feather(outputpath + 'chunk_' + str(chunk) + '.feather')"
   ]
  },
  {
   "cell_type": "code",
   "execution_count": 8,
   "metadata": {},
   "outputs": [
    {
     "name": "stdout",
     "output_type": "stream",
     "text": [
      "['D:/Skoli/Mastersverkefni/lokaverkefni_vel/data/Measured/10min/f_10min_1350.txt', 'D:/Skoli/Mastersverkefni/lokaverkefni_vel/data/Measured/10min/f_10min_1361.txt', 'D:/Skoli/Mastersverkefni/lokaverkefni_vel/data/Measured/10min/f_10min_1362.txt', 'D:/Skoli/Mastersverkefni/lokaverkefni_vel/data/Measured/10min/f_10min_1368.txt', 'D:/Skoli/Mastersverkefni/lokaverkefni_vel/data/Measured/10min/f_10min_1370.txt', 'D:/Skoli/Mastersverkefni/lokaverkefni_vel/data/Measured/10min/f_10min_1391.txt', 'D:/Skoli/Mastersverkefni/lokaverkefni_vel/data/Measured/10min/f_10min_1395.txt', 'D:/Skoli/Mastersverkefni/lokaverkefni_vel/data/Measured/10min/f_10min_1453.txt', 'D:/Skoli/Mastersverkefni/lokaverkefni_vel/data/Measured/10min/f_10min_1469.txt', 'D:/Skoli/Mastersverkefni/lokaverkefni_vel/data/Measured/10min/f_10min_1470.txt']\n"
     ]
    },
    {
     "name": "stderr",
     "output_type": "stream",
     "text": [
      "100%|██████████| 16/16 [00:20<00:00,  1.26s/it]\n",
      "100%|██████████| 16/16 [00:29<00:00,  1.83s/it]\n",
      "  5%|▌         | 1/20 [01:43<32:48, 103.60s/it]\n"
     ]
    },
    {
     "ename": "KeyboardInterrupt",
     "evalue": "",
     "output_type": "error",
     "traceback": [
      "\u001b[1;31m---------------------------------------------------------------------------\u001b[0m",
      "\u001b[1;31mKeyboardInterrupt\u001b[0m                         Traceback (most recent call last)",
      "Cell \u001b[1;32mIn[8], line 1\u001b[0m\n\u001b[1;32m----> 1\u001b[0m \u001b[43mcombine10minChunks\u001b[49m\u001b[43m(\u001b[49m\u001b[43m)\u001b[49m\n",
      "Cell \u001b[1;32mIn[7], line 29\u001b[0m, in \u001b[0;36mcombine10minChunks\u001b[1;34m(ten_min_path)\u001b[0m\n\u001b[0;32m     27\u001b[0m df\u001b[38;5;241m.\u001b[39mf \u001b[38;5;241m=\u001b[39m pd\u001b[38;5;241m.\u001b[39mto_numeric(df\u001b[38;5;241m.\u001b[39mf, errors \u001b[38;5;241m=\u001b[39m \u001b[38;5;124m'\u001b[39m\u001b[38;5;124mcoerce\u001b[39m\u001b[38;5;124m'\u001b[39m)\n\u001b[0;32m     28\u001b[0m df\u001b[38;5;241m.\u001b[39mfg \u001b[38;5;241m=\u001b[39m pd\u001b[38;5;241m.\u001b[39mto_numeric(df\u001b[38;5;241m.\u001b[39mfg, errors \u001b[38;5;241m=\u001b[39m \u001b[38;5;124m'\u001b[39m\u001b[38;5;124mcoerce\u001b[39m\u001b[38;5;124m'\u001b[39m)\n\u001b[1;32m---> 29\u001b[0m df\u001b[38;5;241m.\u001b[39mfsdev \u001b[38;5;241m=\u001b[39m \u001b[43mpd\u001b[49m\u001b[38;5;241;43m.\u001b[39;49m\u001b[43mto_numeric\u001b[49m\u001b[43m(\u001b[49m\u001b[43mdf\u001b[49m\u001b[38;5;241;43m.\u001b[39;49m\u001b[43mfsdev\u001b[49m\u001b[43m,\u001b[49m\u001b[43m \u001b[49m\u001b[43merrors\u001b[49m\u001b[43m \u001b[49m\u001b[38;5;241;43m=\u001b[39;49m\u001b[43m \u001b[49m\u001b[38;5;124;43m'\u001b[39;49m\u001b[38;5;124;43mcoerce\u001b[39;49m\u001b[38;5;124;43m'\u001b[39;49m\u001b[43m)\u001b[49m\n\u001b[0;32m     30\u001b[0m df\u001b[38;5;241m.\u001b[39md \u001b[38;5;241m=\u001b[39m pd\u001b[38;5;241m.\u001b[39mto_numeric(df\u001b[38;5;241m.\u001b[39md, errors \u001b[38;5;241m=\u001b[39m \u001b[38;5;124m'\u001b[39m\u001b[38;5;124mcoerce\u001b[39m\u001b[38;5;124m'\u001b[39m)\n\u001b[0;32m     31\u001b[0m df\u001b[38;5;241m.\u001b[39mdsdev \u001b[38;5;241m=\u001b[39m pd\u001b[38;5;241m.\u001b[39mto_numeric(df\u001b[38;5;241m.\u001b[39mdsdev, errors \u001b[38;5;241m=\u001b[39m \u001b[38;5;124m'\u001b[39m\u001b[38;5;124mcoerce\u001b[39m\u001b[38;5;124m'\u001b[39m)\n",
      "File \u001b[1;32md:\\Skoli\\Mastersverkefni\\lokaverkefni_vel\\env\\Lib\\site-packages\\pandas\\core\\tools\\numeric.py:319\u001b[0m, in \u001b[0;36mto_numeric\u001b[1;34m(arg, errors, downcast, dtype_backend)\u001b[0m\n\u001b[0;32m    316\u001b[0m         values \u001b[38;5;241m=\u001b[39m ArrowExtensionArray(values\u001b[38;5;241m.\u001b[39m__arrow_array__())\n\u001b[0;32m    318\u001b[0m \u001b[38;5;28;01mif\u001b[39;00m is_series:\n\u001b[1;32m--> 319\u001b[0m     \u001b[38;5;28;01mreturn\u001b[39;00m \u001b[43marg\u001b[49m\u001b[38;5;241;43m.\u001b[39;49m\u001b[43m_constructor\u001b[49m(values, index\u001b[38;5;241m=\u001b[39marg\u001b[38;5;241m.\u001b[39mindex, name\u001b[38;5;241m=\u001b[39marg\u001b[38;5;241m.\u001b[39mname)\n\u001b[0;32m    320\u001b[0m \u001b[38;5;28;01melif\u001b[39;00m is_index:\n\u001b[0;32m    321\u001b[0m     \u001b[38;5;66;03m# because we want to coerce to numeric if possible,\u001b[39;00m\n\u001b[0;32m    322\u001b[0m     \u001b[38;5;66;03m# do not use _shallow_copy\u001b[39;00m\n\u001b[0;32m    323\u001b[0m     \u001b[38;5;28;01mfrom\u001b[39;00m \u001b[38;5;21;01mpandas\u001b[39;00m \u001b[38;5;28;01mimport\u001b[39;00m Index\n",
      "File \u001b[1;32md:\\Skoli\\Mastersverkefni\\lokaverkefni_vel\\env\\Lib\\site-packages\\pandas\\core\\series.py:660\u001b[0m, in \u001b[0;36mSeries._constructor\u001b[1;34m(self)\u001b[0m\n\u001b[0;32m    656\u001b[0m     \u001b[38;5;28;01mreturn\u001b[39;00m s\u001b[38;5;241m.\u001b[39m_mgr, s\u001b[38;5;241m.\u001b[39mindex\n\u001b[0;32m    658\u001b[0m \u001b[38;5;66;03m# ----------------------------------------------------------------------\u001b[39;00m\n\u001b[1;32m--> 660\u001b[0m \u001b[38;5;129m@property\u001b[39m\n\u001b[0;32m    661\u001b[0m \u001b[38;5;28;01mdef\u001b[39;00m \u001b[38;5;21m_constructor\u001b[39m(\u001b[38;5;28mself\u001b[39m) \u001b[38;5;241m-\u001b[39m\u001b[38;5;241m>\u001b[39m Callable[\u001b[38;5;241m.\u001b[39m\u001b[38;5;241m.\u001b[39m\u001b[38;5;241m.\u001b[39m, Series]:\n\u001b[0;32m    662\u001b[0m     \u001b[38;5;28;01mreturn\u001b[39;00m Series\n\u001b[0;32m    664\u001b[0m \u001b[38;5;28;01mdef\u001b[39;00m \u001b[38;5;21m_constructor_from_mgr\u001b[39m(\u001b[38;5;28mself\u001b[39m, mgr, axes):\n",
      "\u001b[1;31mKeyboardInterrupt\u001b[0m: "
     ]
    }
   ],
   "source": [
    "combine10minChunks()"
   ]
  }
 ],
 "metadata": {
  "kernelspec": {
   "display_name": ".venv",
   "language": "python",
   "name": ".venv"
  },
  "language_info": {
   "codemirror_mode": {
    "name": "ipython",
    "version": 3
   },
   "file_extension": ".py",
   "mimetype": "text/x-python",
   "name": "python",
   "nbconvert_exporter": "python",
   "pygments_lexer": "ipython3",
   "version": "3.12.3"
  }
 },
 "nbformat": 4,
 "nbformat_minor": 2
}
