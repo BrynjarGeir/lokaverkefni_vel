{
 "cells": [
  {
   "cell_type": "code",
   "execution_count": null,
   "metadata": {},
   "outputs": [],
   "source": [
    "from utils.util import getTopLevelPath\n",
    "from datetime import date\n",
    "from tqdm.notebook import tqdm, trange\n",
    "import os, csv, pandas as pd"
   ]
  },
  {
   "cell_type": "code",
   "execution_count": null,
   "metadata": {},
   "outputs": [],
   "source": [
    "top_folder = getTopLevelPath() + 'data/Measured/'\n",
    "hourly_paths = [top_folder + 'klst/', top_folder + 'vg/'] # just 'klst' I think with new download\n",
    "ten_min_path = top_folder + '10min/'\n",
    "today = date.today().strftime('%Y-%m-%d')"
   ]
  },
  {
   "cell_type": "code",
   "execution_count": null,
   "metadata": {},
   "outputs": [],
   "source": [
    "def combineKLST(hourly_path: str = hourly_paths):\n",
    "    outputpath: str = top_folder + f'/combined_klst/combined_klst_{today}.feather'\n",
    "    files = [folder + file for folder in hourly_paths for file in os.listdir(folder)]\n",
    "    columns = ['timi','stod','f','fx','fg','d']\n",
    "    data = []\n",
    "    for file in tqdm(files, total = len(files)):\n",
    "        with open(file, 'r') as f:\n",
    "            lines = [line for line in csv.reader(f)]\n",
    "        if 'dsdev' in lines[0]:\n",
    "            lines = [line[:-1] for line in lines]\n",
    "        lines = lines[1:]\n",
    "        data.extend(lines)\n",
    "\n",
    "    df = pd.DataFrame(data, columns = columns)\n",
    "    df.stod = pd.to_numeric(df.stod, errors = 'coerce')\n",
    "    df.timi = pd.to_datetime(df.timi, errors = 'coerce')\n",
    "    df.fx = pd.to_numeric(df.fx, errors = 'coerce')\n",
    "    df.f = pd.to_numeric(df.f, errors = 'coerce')\n",
    "    df.fg = pd.to_numeric(df.fg, errors = 'coerce')\n",
    "    df.d = pd.to_numeric(df.d, errors = 'coerce')\n",
    "    df.to_feather(outputpath)"
   ]
  },
  {
   "cell_type": "code",
   "execution_count": null,
   "metadata": {},
   "outputs": [],
   "source": [
    "def combine10minChunks(ten_min_path: str = ten_min_path): \n",
    "    outputpath = top_folder +   '/10min/Chunks/'\n",
    "    files = [ten_min_path + file for file in os.listdir(ten_min_path) if file.endswith('.txt')]\n",
    "    columns = None\n",
    "    chunks, n = 20, len(files)\n",
    "    m = n // chunks\n",
    "    for chunk in trange(chunks):\n",
    "        if chunk == n-1:\n",
    "            cfiles = files[chunk*m:]\n",
    "        else:\n",
    "            cfiles = files[chunk*m:(chunk+1)*m]\n",
    "        data = []\n",
    "        for file in tqdm(cfiles, total = len(cfiles)):\n",
    "            with open(file, 'r') as f:\n",
    "                reader = list(csv.reader(f))\n",
    "                \n",
    "            if not columns:\n",
    "                columns = reader[0]\n",
    "            \n",
    "            lines = reader[1:]\n",
    "\n",
    "            data.extend(lines)\n",
    "        df = pd.DataFrame(data, columns = columns)\n",
    "        df.timi = pd.to_datetime(df.timi, errors = 'coerce')\n",
    "        df.stod = df.stod.astype(int)\n",
    "        df.f = pd.to_numeric(df.f, errors = 'coerce')\n",
    "        df.fg = pd.to_numeric(df.fg, errors = 'coerce')\n",
    "        df.fsdev = pd.to_numeric(df.fsdev, errors = 'coerce')\n",
    "        df.d = pd.to_numeric(df.d, errors = 'coerce')\n",
    "        df.dsdev = pd.to_numeric(df.dsdev, errors = 'coerce')\n",
    "\n",
    "        df.to_feather(outputpath + 'chunk_' + str(chunk) + '.feather')"
   ]
  }
 ],
 "metadata": {
  "kernelspec": {
   "display_name": ".venv",
   "language": "python",
   "name": ".venv"
  },
  "language_info": {
   "codemirror_mode": {
    "name": "ipython",
    "version": 3
   },
   "file_extension": ".py",
   "mimetype": "text/x-python",
   "name": "python",
   "nbconvert_exporter": "python",
   "pygments_lexer": "ipython3",
   "version": "3.12.3"
  }
 },
 "nbformat": 4,
 "nbformat_minor": 2
}
