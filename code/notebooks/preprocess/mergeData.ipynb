{
 "cells": [
  {
   "cell_type": "code",
   "execution_count": 1,
   "metadata": {},
   "outputs": [],
   "source": [
    "import pandas as pd, dill as pickle, os\n",
    "from utils.calculateConstants import *\n",
    "from utils.util import getTopLevelPath\n",
    "from utils.elevation import getStationElevations, getStationElevationCircles\n",
    "from datetime import date\n",
    "from tqdm.notebook import tqdm\n",
    "\n",
    "import pandas as pd, os"
   ]
  },
  {
   "cell_type": "code",
   "execution_count": 2,
   "metadata": {},
   "outputs": [],
   "source": [
    "folder_path =  getTopLevelPath() + 'data/'\n",
    "stationsLonLatXY_path = folder_path + 'Measured/stationsLonLatXY.pkl'\n",
    "measured_path = folder_path + 'Measured/Processed/' + max(os.listdir(folder_path + 'Measured/Processed/'), key = lambda f: os.path.getmtime(folder_path + 'Measured/Processed/' + f))\n",
    "reanalysis_path = folder_path + 'Reanalysis/' + max([file for file in os.listdir(folder_path + 'Reanalysis/') if file.endswith('.feather')], key = lambda f: os.path.getmtime(folder_path + 'Reanalysis/' + f))\n",
    "elevation_path = folder_path + \"Elevation/IslandsDEMv1.0_20x20m_isn93_zmasl.tif\"\n",
    "\n",
    "se = getStationElevations()\n",
    "ec = getStationElevationCircles()\n",
    "\n",
    "today = date.today().strftime(\"%Y-%m-%d\")\n",
    "outputpath = folder_path + f'Model/data_{today}.feather'\n",
    "outputpath_for_errors = folder_path + f'Model/Errors/error_{today}.feather'"
   ]
  },
  {
   "cell_type": "code",
   "execution_count": 3,
   "metadata": {},
   "outputs": [],
   "source": [
    "def addLonLatXYtoMeasured(df, stationsLonLatXY_path = stationsLonLatXY_path):\n",
    "    with open(stationsLonLatXY_path, 'rb') as f:\n",
    "        stationsLonLatXY = pickle.load(f)\n",
    "    def get_lon_lat_X_Y(stod):\n",
    "        return stationsLonLatXY.get(stod, (np.nan, np.nan, np.nan, np.nan))\n",
    "\n",
    "    lon, lat, X, Y = zip(*df.stod.map(get_lon_lat_X_Y))\n",
    "    df['lon'], df['lat'], df['X'], df['Y'] = lon, lat, X, Y\n",
    "    return df"
   ]
  },
  {
   "cell_type": "code",
   "execution_count": 4,
   "metadata": {},
   "outputs": [],
   "source": [
    "def addElevationCircles(stod):\n",
    "    return ec[stod]"
   ]
  },
  {
   "cell_type": "code",
   "execution_count": 5,
   "metadata": {},
   "outputs": [],
   "source": [
    "def addStationElevations(stod):\n",
    "    return se[stod]"
   ]
  },
  {
   "cell_type": "code",
   "execution_count": 6,
   "metadata": {},
   "outputs": [],
   "source": [
    "def addElevation(df):\n",
    "    df['XYd'] = list(zip(df.X, df.Y, df.wd_15))\n",
    "    tqdm.pandas(desc = 'Adding station elevations...')\n",
    "    df['station_elevation'] = df.stod.progress_map(addStationElevations)\n",
    "    tqdm.pandas(desc = 'Adding landscape elevation...')\n",
    "    ec = getStationElevationCircles()\n",
    "    df['elevations']  = df.stod.progress_map(addElevationCircles)\n",
    "\n",
    "    return df"
   ]
  },
  {
   "cell_type": "code",
   "execution_count": 7,
   "metadata": {},
   "outputs": [],
   "source": [
    "def prepareMeasurements(df, stationsLonLatXY_path, decimal_places = 4):\n",
    "    # The df drop with fsdev is if the df is from 10 minute files but now using hour files, not needed\n",
    "    #df = df.drop(['fsdev', 'dsdev'], axis = 1)\n",
    "    df = df.drop(['dsdev'], axis = 1)\n",
    "    df = df.rename(columns = {'timi':'time'})\n",
    "    df = addLonLatXYtoMeasured(df)\n",
    "    df = df.round(decimal_places)\n",
    "    return df"
   ]
  },
  {
   "cell_type": "code",
   "execution_count": 8,
   "metadata": {},
   "outputs": [],
   "source": [
    "def prepareRenalysis(df, decimal_places = 4):\n",
    "    df = df.rename(columns = {'Wind speed':'ws', 'Wind direction': 'wd', 'Pressure':'p', 'Temperature':'t'})\n",
    "    df = df.drop_duplicates(subset=['lon', 'lat', 'time', 'height_level'])\n",
    "    df = df.pivot(index = ['lon', 'lat', 'time'], columns = 'height_level')\n",
    "    df = df.drop(columns='yr_month')\n",
    "    df.columns = [f'{col[0]}_{col[1]}' for col in df.columns]\n",
    "    df = df.reset_index()\n",
    "    df.time = pd.to_datetime(df.time)\n",
    "    df = df.round(decimal_places)\n",
    "    df[['Ri_01', 'Ri_12', 'Ri_02']] = df.apply(rowRichardson, axis = 1).to_list()\n",
    "    df[['N_01', 'N_12', 'N_02']] = df.apply(rowBruntVaisala, axis = 1).to_list()\n",
    "    df[['N_01_squared', 'N_12_squared', 'N_02_squared']] = df.apply(rowBruntVaisalaSquared, axis = 1).to_list()\n",
    "    df[['N_01', 'N_12', 'N_02']] = df[['N_01', 'N_12', 'N_02']].map(lambda x: (x.real, x.imag))\n",
    "    return df"
   ]
  },
  {
   "cell_type": "code",
   "execution_count": 9,
   "metadata": {},
   "outputs": [],
   "source": [
    "def merge(measured_path = measured_path, reanalysis_path = reanalysis_path):\n",
    "    measured_df = pd.read_feather(measured_path)\n",
    "    reanalysis_df = pd.read_feather(reanalysis_path)\n",
    "    measured_df = prepareMeasurements(measured_df, stationsLonLatXY_path)\n",
    "    reanalysis_df = prepareRenalysis(reanalysis_df)\n",
    "    merged_df = pd.merge(measured_df, reanalysis_df, on = ['time', 'lon', 'lat'], how = 'inner')\n",
    "    merged_df = addElevation(merged_df)\n",
    "    errors = merged_df[merged_df.fg <= merged_df.f]\n",
    "    merged_df = merged_df[merged_df.fg > merged_df.f]\n",
    "    merged_df.to_feather(outputpath)\n",
    "    errors.to_feather(outputpath_for_errors)"
   ]
  },
  {
   "cell_type": "code",
   "execution_count": null,
   "metadata": {},
   "outputs": [],
   "source": [
    "measured_df = pd.read_feather(measured_path)\n",
    "reanalysis_df = pd.read_feather(reanalysis_path)"
   ]
  },
  {
   "cell_type": "code",
   "execution_count": null,
   "metadata": {},
   "outputs": [],
   "source": [
    "measured_df = prepareMeasurements(measured_df, stationsLonLatXY_path)"
   ]
  },
  {
   "cell_type": "code",
   "execution_count": null,
   "metadata": {},
   "outputs": [],
   "source": [
    "reanalysis_df = prepareRenalysis(reanalysis_df)"
   ]
  },
  {
   "cell_type": "code",
   "execution_count": null,
   "metadata": {},
   "outputs": [],
   "source": [
    "merged_df = pd.merge(measured_df, reanalysis_df, on = ['time', 'lon', 'lat'], how = 'inner')"
   ]
  },
  {
   "cell_type": "code",
   "execution_count": null,
   "metadata": {},
   "outputs": [],
   "source": [
    "merged_df = addElevation(merged_df)"
   ]
  },
  {
   "cell_type": "code",
   "execution_count": null,
   "metadata": {},
   "outputs": [],
   "source": [
    "errors = merged_df[merged_df.fg <= merged_df.f]\n",
    "merged_df = merged_df[merged_df.fg > merged_df.f]"
   ]
  },
  {
   "cell_type": "code",
   "execution_count": null,
   "metadata": {},
   "outputs": [],
   "source": [
    "merged_df.to_feather(outputpath)\n",
    "errors.to_feather(outputpath_for_errors)"
   ]
  }
 ],
 "metadata": {
  "kernelspec": {
   "display_name": ".venv",
   "language": "python",
   "name": "python3"
  },
  "language_info": {
   "codemirror_mode": {
    "name": "ipython",
    "version": 3
   },
   "file_extension": ".py",
   "mimetype": "text/x-python",
   "name": "python",
   "nbconvert_exporter": "python",
   "pygments_lexer": "ipython3",
   "version": "3.12.2"
  }
 },
 "nbformat": 4,
 "nbformat_minor": 2
}
