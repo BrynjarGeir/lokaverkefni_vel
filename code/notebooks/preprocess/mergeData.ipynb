{
 "cells": [
  {
   "cell_type": "code",
   "execution_count": null,
   "metadata": {},
   "outputs": [],
   "source": [
    "import pandas as pd, dill as pickle, os\n",
    "from utils.calculateConstants import *\n",
    "from utils.util import getTopLevelPath\n",
    "from utils.elevation import getStationElevations, getStationElevationCircles\n",
    "from datetime import date\n",
    "from tqdm.notebook import tqdm, trange\n",
    "from pyarrow import feather"
   ]
  },
  {
   "cell_type": "code",
   "execution_count": null,
   "metadata": {},
   "outputs": [],
   "source": [
    "folder_path =  getTopLevelPath() + 'data/'\n",
    "stationsLonLatXY_path = folder_path + 'Measured/stationsLonLatXY.pkl'\n",
    "measured_path = folder_path + 'Measured/Processed/' + max(os.listdir(folder_path + 'Measured/Processed/'), key = lambda f: os.path.getmtime(folder_path + 'Measured/Processed/' + f))\n",
    "reanalysis_path = folder_path + 'Reanalysis/' + max([file for file in os.listdir(folder_path + 'Reanalysis/') if file.endswith('.feather')], key = lambda f: os.path.getmtime(folder_path + 'Reanalysis/' + f))\n",
    "elevation_path = folder_path + \"Elevation/IslandsDEMv1.0_20x20m_isn93_zmasl.tif\"\n",
    "\n",
    "se = getStationElevations()\n",
    "ec = getStationElevationCircles()\n",
    "\n",
    "today = date.today().strftime(\"%Y-%m-%d\")\n",
    "measured_outputpath = folder_path + f'Model/measured_{today}.feather'\n",
    "reanalysis_outputpath = folder_path + f'Model/reanalysis_{today}.feather'\n",
    "outputpath = folder_path + f'Model/data_{today}.feather'\n",
    "outputpath_for_errors = folder_path + f'Model/Errors/error_{today}.feather'"
   ]
  },
  {
   "cell_type": "code",
   "execution_count": null,
   "metadata": {},
   "outputs": [],
   "source": [
    "def addLonLatXYtoMeasured(df, stationsLonLatXY_path = stationsLonLatXY_path):\n",
    "    with open(stationsLonLatXY_path, 'rb') as f:\n",
    "        stationsLonLatXY = pickle.load(f)\n",
    "    def get_lon_lat_X_Y(stod):\n",
    "        return stationsLonLatXY.get(stod, (np.nan, np.nan, np.nan, np.nan))\n",
    "\n",
    "    lon, lat, X, Y = zip(*df.stod.map(get_lon_lat_X_Y))\n",
    "    df['lon'], df['lat'], df['X'], df['Y'] = lon, lat, X, Y\n",
    "    return df"
   ]
  },
  {
   "cell_type": "code",
   "execution_count": null,
   "metadata": {},
   "outputs": [],
   "source": [
    "def addStationToReanalysis(df, stationnsLonLatXY_path = stationsLonLatXY_path):\n",
    "    df['LonLat'] = list(zip(df.lon, df.lat))\n",
    "    with open(stationsLonLatXY_path, 'rb') as f:\n",
    "        stationsLonLatXY = pickle.load(f)\n",
    "    inv = {v[:2]: k for k, v in stationsLonLatXY.items()}\n",
    "    def getStation(lonlat):\n",
    "        return inv.get(lonlat, (np.nan))\n",
    "    tqdm.pandas(desc = \"Adding stations to reanalysis...\")\n",
    "    df['stod'] = df.LonLat.progress_map(getStation)\n",
    "\n",
    "    return df"
   ]
  },
  {
   "cell_type": "code",
   "execution_count": null,
   "metadata": {},
   "outputs": [],
   "source": [
    "def addElevationCircles(stod):\n",
    "    return ec[stod]"
   ]
  },
  {
   "cell_type": "code",
   "execution_count": null,
   "metadata": {},
   "outputs": [],
   "source": [
    "def addStationElevations(stod):\n",
    "    return se[stod]"
   ]
  },
  {
   "cell_type": "code",
   "execution_count": null,
   "metadata": {},
   "outputs": [],
   "source": [
    "def addElevation(df):\n",
    "    df['XYd'] = list(zip(df.X, df.Y, df.d))\n",
    "    tqdm.pandas(desc = 'Adding station elevations...')\n",
    "    df['station_elevation'] = df.stod.progress_map(addStationElevations)\n",
    "    tqdm.pandas(desc = 'Adding landscape elevation...')\n",
    "    ec = getStationElevationCircles()\n",
    "    df['elevations']  = df.stod.progress_map(addElevationCircles)\n",
    "    df = df.drop(['XYd'], axis = 1)\n",
    "\n",
    "    return df"
   ]
  },
  {
   "cell_type": "code",
   "execution_count": null,
   "metadata": {},
   "outputs": [],
   "source": [
    "def prepareMeasurements(df, stationsLonLatXY_path, decimal_places = 4):\n",
    "    df = df.drop(['dsdev'], axis = 1)\n",
    "    df = df.rename(columns = {'timi':'time'})\n",
    "    df = addLonLatXYtoMeasured(df)\n",
    "    df = addElevation(df)\n",
    "    df = df.round(decimal_places)\n",
    "    return df"
   ]
  },
  {
   "cell_type": "code",
   "execution_count": null,
   "metadata": {},
   "outputs": [],
   "source": [
    "def prepareRenalysis(df, decimal_places = 4):\n",
    "    df = df.rename(columns = {'Wind speed':'ws', 'Wind direction': 'wd', 'Pressure':'p', 'Temperature':'t'})\n",
    "    df = df.drop_duplicates(subset=['lon', 'lat', 'time', 'height_level'])\n",
    "    df = df.pivot(index = ['lon', 'lat', 'time'], columns = 'height_level')\n",
    "    df = df.drop(columns='yr_month')\n",
    "    df.columns = [f'{col[0]}_{col[1]}' for col in df.columns]\n",
    "    df = df.reset_index()\n",
    "    df = addStationToReanalysis(df)\n",
    "    df.time = pd.to_datetime(df.time)\n",
    "    df = df.round(decimal_places)\n",
    "    tqdm.pandas(desc='Creating new column to calculate constants')\n",
    "    df['cc'] = list(zip(df.t_15, df.t_500, df.p_15, df.p_500, df.ws_15, df.ws_500))\n",
    "    tqdm.pandas(desc='Calculating Richardson number...')\n",
    "    df['Ri'] = df.cc.progress_map(rowRichardson).to_list()\n",
    "    tqdm.pandas(desc='Calculating Brunt Vaisala Squared...')\n",
    "    df['N_squared'] = df.cc.progress_map(rowBruntVaisalaSquared).to_list()\n",
    "    df = df.drop(['cc'], axis = 1)\n",
    "    return df"
   ]
  },
  {
   "cell_type": "code",
   "execution_count": null,
   "metadata": {},
   "outputs": [],
   "source": [
    "def write_in_chunks(df, file_path = outputpath, chunk_size = int(1e6)):\n",
    "    num_chunks = len(df)//chunk_size + (1 if len(df) % chunk_size > 0 else 0)\n",
    "    for i in trange(num_chunks, desc = 'Writing to feather...'):\n",
    "        start = i * chunk_size\n",
    "        end = start + chunk_size\n",
    "        chunk = df.iloc[start:end]\n",
    "        chunk_filepath = file_path.split('.')[0] + f'_{str(i)}.feather'\n",
    "        print(f\"About to write to {chunk_filepath}!\")\n",
    "        feather.write_feather(chunk, chunk_filepath)"
   ]
  },
  {
   "cell_type": "code",
   "execution_count": null,
   "metadata": {},
   "outputs": [],
   "source": [
    "def merge(measured_path = measured_path, reanalysis_path = reanalysis_path):\n",
    "    measured_df = pd.read_feather(measured_path)\n",
    "    reanalysis_df = pd.read_feather(reanalysis_path)\n",
    "    measured_df = prepareMeasurements(measured_df, stationsLonLatXY_path)\n",
    "    reanalysis_df = prepareRenalysis(reanalysis_df)\n",
    "    print(\"Sorting dataframes...\")\n",
    "    measured_df = measured_df.sort_values(['stod', 'time'])\n",
    "    reanalysis_df = reanalysis_df.sort_values(['stod', 'time'])\n",
    "    print(\"About to merge dataframes...\")\n",
    "    merged_df = pd.merge(measured_df, reanalysis_df, on = ['stod', 'time'], how = 'inner')\n",
    "    print(\"Finished merging...\")\n",
    "    print(\"Splitting by if error (fg <= f) (should not happen)\")\n",
    "    errors_df = merged_df[merged_df.fg <= merged_df.f]\n",
    "    merged_df = merged_df[merged_df.fg > merged_df.f]\n",
    "    print(\"About to start writing out dataframes...\")\n",
    "    write_in_chunks(merged_df, outputpath)\n",
    "    print(\"Finished writing data. About to write errors...\")\n",
    "    write_in_chunks(errors_df, outputpath_for_errors)\n",
    "    print(\"Finished writing errors.\")\n",
    "    return merged_df"
   ]
  }
 ],
 "metadata": {
  "kernelspec": {
   "display_name": ".venv",
   "language": "python",
   "name": "python3"
  },
  "language_info": {
   "codemirror_mode": {
    "name": "ipython",
    "version": 3
   },
   "file_extension": ".py",
   "mimetype": "text/x-python",
   "name": "python",
   "nbconvert_exporter": "python",
   "pygments_lexer": "ipython3",
   "version": "3.12.3"
  }
 },
 "nbformat": 4,
 "nbformat_minor": 2
}
