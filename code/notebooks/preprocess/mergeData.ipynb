{
 "cells": [
  {
   "cell_type": "code",
   "execution_count": 14,
   "metadata": {},
   "outputs": [],
   "source": [
    "import pandas as pd, dill as pickle, os\n",
    "from utils.calculateConstants import *\n",
    "from utils.util import getTopLevelPath\n",
    "from utils.elevation import getStationElevations, getStationElevationCircles\n",
    "from datetime import date\n",
    "from tqdm.notebook import tqdm, trange"
   ]
  },
  {
   "cell_type": "code",
   "execution_count": 2,
   "metadata": {},
   "outputs": [],
   "source": [
    "folder_path =  getTopLevelPath() + 'data/'\n",
    "stationsLonLatXY_path = folder_path + 'Measured/stationsLonLatXY.pkl'\n",
    "measured_path = folder_path + 'Measured/Processed/' + max(os.listdir(folder_path + 'Measured/Processed/'), key = lambda f: os.path.getmtime(folder_path + 'Measured/Processed/' + f))\n",
    "reanalysis_path = folder_path + 'Reanalysis/' + max([file for file in os.listdir(folder_path + 'Reanalysis/') if file.endswith('.feather')], key = lambda f: os.path.getmtime(folder_path + 'Reanalysis/' + f))\n",
    "elevation_path = folder_path + \"Elevation/IslandsDEMv1.0_20x20m_isn93_zmasl.tif\"\n",
    "\n",
    "se = getStationElevations()\n",
    "ec = getStationElevationCircles()\n",
    "\n",
    "today = date.today().strftime(\"%Y-%m-%d\")\n",
    "outputpath = folder_path + f'Model/data_{today}.feather'\n",
    "outputpath_for_errors = folder_path + f'Model/Errors/error_{today}.feather'"
   ]
  },
  {
   "cell_type": "code",
   "execution_count": 3,
   "metadata": {},
   "outputs": [],
   "source": [
    "def addLonLatXYtoMeasured(df, stationsLonLatXY_path = stationsLonLatXY_path):\n",
    "    with open(stationsLonLatXY_path, 'rb') as f:\n",
    "        stationsLonLatXY = pickle.load(f)\n",
    "    def get_lon_lat_X_Y(stod):\n",
    "        return stationsLonLatXY.get(stod, (np.nan, np.nan, np.nan, np.nan))\n",
    "\n",
    "    lon, lat, X, Y = zip(*df.stod.map(get_lon_lat_X_Y))\n",
    "    df['lon'], df['lat'], df['X'], df['Y'] = lon, lat, X, Y\n",
    "    return df"
   ]
  },
  {
   "cell_type": "code",
   "execution_count": 4,
   "metadata": {},
   "outputs": [],
   "source": [
    "def addStationToReanalysis(df, stationnsLonLatXY_path = stationsLonLatXY_path):\n",
    "    df['LonLat'] = list(zip(df.lon, df.lat))\n",
    "    with open(stationsLonLatXY_path, 'rb') as f:\n",
    "        stationsLonLatXY = pickle.load(f)\n",
    "    inv = {v[:2]: k for k, v in stationsLonLatXY.items()}\n",
    "    def getStation(lonlat):\n",
    "        return inv.get(lonlat, (np.nan))\n",
    "    tqdm.pandas(desc = \"Adding stations to reanalysis...\")\n",
    "    df['stod'] = df.LonLat.progress_map(getStation)\n",
    "\n",
    "    return df"
   ]
  },
  {
   "cell_type": "code",
   "execution_count": 5,
   "metadata": {},
   "outputs": [],
   "source": [
    "def addElevationCircles(stod):\n",
    "    return ec[stod]"
   ]
  },
  {
   "cell_type": "code",
   "execution_count": 6,
   "metadata": {},
   "outputs": [],
   "source": [
    "def addStationElevations(stod):\n",
    "    return se[stod]"
   ]
  },
  {
   "cell_type": "code",
   "execution_count": 7,
   "metadata": {},
   "outputs": [],
   "source": [
    "def addElevation(df):\n",
    "    df['XYd'] = list(zip(df.X, df.Y, df.d))\n",
    "    tqdm.pandas(desc = 'Adding station elevations...')\n",
    "    df['station_elevation'] = df.stod.progress_map(addStationElevations)\n",
    "    tqdm.pandas(desc = 'Adding landscape elevation...')\n",
    "    ec = getStationElevationCircles()\n",
    "    df['elevations']  = df.stod.progress_map(addElevationCircles)\n",
    "    df = df.drop(['XYd'], axis = 1)\n",
    "\n",
    "    return df"
   ]
  },
  {
   "cell_type": "code",
   "execution_count": 8,
   "metadata": {},
   "outputs": [],
   "source": [
    "def prepareMeasurements(df, stationsLonLatXY_path, decimal_places = 4):\n",
    "    df = df.drop(['dsdev'], axis = 1)\n",
    "    df = df.rename(columns = {'timi':'time'})\n",
    "    df = addLonLatXYtoMeasured(df)\n",
    "    df = addElevation(df)\n",
    "    df = df.round(decimal_places)\n",
    "    return df"
   ]
  },
  {
   "cell_type": "code",
   "execution_count": 9,
   "metadata": {},
   "outputs": [],
   "source": [
    "def prepareRenalysis(df, decimal_places = 4):\n",
    "    df = df.rename(columns = {'Wind speed':'ws', 'Wind direction': 'wd', 'Pressure':'p', 'Temperature':'t'})\n",
    "    df = df.drop_duplicates(subset=['lon', 'lat', 'time', 'height_level'])\n",
    "    df = df.pivot(index = ['lon', 'lat', 'time'], columns = 'height_level')\n",
    "    df = df.drop(columns='yr_month')\n",
    "    df.columns = [f'{col[0]}_{col[1]}' for col in df.columns]\n",
    "    df = df.reset_index()\n",
    "    df = addStationToReanalysis(df)\n",
    "    df.time = pd.to_datetime(df.time)\n",
    "    df = df.round(decimal_places)\n",
    "    tqdm.pandas(desc='Creating new column to calculate constants')\n",
    "    df['cc'] = list(zip(df.t_15, df.t_250, df.t_500, df.p_15, df.p_250, df.p_500, df.ws_15, df.ws_250, df.ws_500))\n",
    "    tqdm.pandas(desc='Calculating Richardson number...')\n",
    "    df[['Ri_01', 'Ri_12', 'Ri_02']] = df.cc.progress_map(rowRichardson).to_list()    \n",
    "    tqdm.pandas(desc='Calculating Brunt Vaisala Squared...')\n",
    "    df[['N_01_squared', 'N_12_squared', 'N_02_squared']] = df.cc.progress_map(rowBruntVaisalaSquared).to_list()\n",
    "    return df"
   ]
  },
  {
   "cell_type": "code",
   "execution_count": null,
   "metadata": {},
   "outputs": [],
   "source": [
    "def merge_large_dataframes(df1, df2, chunk_size=int(5e5)):\n",
    "    # Determine the total number of chunks based on the chunk size\n",
    "    num_chunks = (len(df1) // chunk_size) + 1\n",
    "\n",
    "    # Initialize an empty list to store merged chunks\n",
    "    merged_chunks = []\n",
    "\n",
    "    # Iterate over chunks of the first DataFrame\n",
    "    for i in trange(num_chunks):\n",
    "        start_idx = i * chunk_size\n",
    "        end_idx = min((i + 1) * chunk_size, len(df1))\n",
    "        chunk_df1 = df1.iloc[start_idx:end_idx]\n",
    "\n",
    "        # Merge the chunk of the first DataFrame with the second DataFrame\n",
    "        merged_chunk = pd.merge(chunk_df1, df2, on=['stod', 'time'], how='inner', desc = 'Merging large dataframes...')\n",
    "\n",
    "        # Append the merged chunk to the list\n",
    "        merged_chunks.append(merged_chunk)\n",
    "\n",
    "    # Concatenate all merged chunks into a single DataFrame\n",
    "    merged_df = pd.DataFrame()\n",
    "    for c_df in tqdm(merged_chunks, total = len(num_chunks), desc = 'Concating merged dataframe chunks...'):\n",
    "        merged_df = pd.concat(merged_df, c_df, ignore_index=True)\n",
    "\n",
    "    return merged_df"
   ]
  },
  {
   "cell_type": "code",
   "execution_count": 10,
   "metadata": {},
   "outputs": [],
   "source": [
    "def merge(measured_path = measured_path, reanalysis_path = reanalysis_path):\n",
    "    measured_df = pd.read_feather(measured_path)\n",
    "    reanalysis_df = pd.read_feather(reanalysis_path)\n",
    "    measured_df = prepareMeasurements(measured_df, stationsLonLatXY_path)\n",
    "    reanalysis_df = prepareRenalysis(reanalysis_df)\n",
    "    print(\"Sorting dataframes...\")\n",
    "    measured_df = measured_df.sort_values(['stod', 'time'])\n",
    "    reanalysis_df = reanalysis_df.sort_values(['stod', 'time'])\n",
    "    merged_df = merge_large_dataframes(measured_df, reanalysis_df)\n",
    "    print(\"Finished merging...\")\n",
    "    print(\"Splitting by if error (fg <= f) (should not happen)\")\n",
    "    errors = merged_df[merged_df.fg <= merged_df.f]\n",
    "    merged_df = merged_df[merged_df.fg > merged_df.f]\n",
    "    merged_df.to_feather(outputpath)\n",
    "    errors.to_feather(outputpath_for_errors)\n",
    "\n",
    "    return merged_df"
   ]
  },
  {
   "cell_type": "code",
   "execution_count": 11,
   "metadata": {},
   "outputs": [
    {
     "data": {
      "application/vnd.jupyter.widget-view+json": {
       "model_id": "eec916b3dd6a4b60bd9ad0904bb5b549",
       "version_major": 2,
       "version_minor": 0
      },
      "text/plain": [
       "Adding station elevations...:   0%|          | 0/15494125 [00:01<?, ?it/s]"
      ]
     },
     "metadata": {},
     "output_type": "display_data"
    },
    {
     "data": {
      "application/vnd.jupyter.widget-view+json": {
       "model_id": "46389dbce18b430c980233f85c7c28cb",
       "version_major": 2,
       "version_minor": 0
      },
      "text/plain": [
       "Adding landscape elevation...:   0%|          | 0/15494125 [00:00<?, ?it/s]"
      ]
     },
     "metadata": {},
     "output_type": "display_data"
    },
    {
     "data": {
      "application/vnd.jupyter.widget-view+json": {
       "model_id": "f37433b0290f4a1989ebb39687fd59f3",
       "version_major": 2,
       "version_minor": 0
      },
      "text/plain": [
       "Adding stations to reanalysis...:   0%|          | 0/12385016 [00:00<?, ?it/s]"
      ]
     },
     "metadata": {},
     "output_type": "display_data"
    },
    {
     "data": {
      "application/vnd.jupyter.widget-view+json": {
       "model_id": "7155d4ffaf2a4b8592d16c737084ee61",
       "version_major": 2,
       "version_minor": 0
      },
      "text/plain": [
       "Calculating Richardson number...:   0%|          | 0/12385016 [00:00<?, ?it/s]"
      ]
     },
     "metadata": {},
     "output_type": "display_data"
    },
    {
     "data": {
      "application/vnd.jupyter.widget-view+json": {
       "model_id": "6811e6502dba461eb339a21019d7c4af",
       "version_major": 2,
       "version_minor": 0
      },
      "text/plain": [
       "Calculating Brunt Vaisala Squared...:   0%|          | 0/12385016 [00:00<?, ?it/s]"
      ]
     },
     "metadata": {},
     "output_type": "display_data"
    }
   ],
   "source": [
    "measured_df = pd.read_feather(measured_path)\n",
    "reanalysis_df = pd.read_feather(reanalysis_path)\n",
    "measured_df = prepareMeasurements(measured_df, stationsLonLatXY_path)\n",
    "reanalysis_df = prepareRenalysis(reanalysis_df)"
   ]
  },
  {
   "cell_type": "code",
   "execution_count": 12,
   "metadata": {},
   "outputs": [],
   "source": [
    "measured_df = measured_df.sort_values(['stod', 'time'])\n",
    "reanalysis_df = reanalysis_df.sort_values(['stod', 'time'])"
   ]
  },
  {
   "cell_type": "code",
   "execution_count": 22,
   "metadata": {},
   "outputs": [],
   "source": [
    "def merge_large_dataframes(df1, df2, chunk_size=int(5e5)):\n",
    "    # Determine the total number of chunks based on the chunk size\n",
    "    num_chunks = (len(df1) // chunk_size) + 1\n",
    "\n",
    "    # Initialize an empty list to store merged chunks\n",
    "    merged_chunks = []\n",
    "\n",
    "    # Iterate over chunks of the first DataFrame\n",
    "    for i in trange(num_chunks):\n",
    "        start_idx = i * chunk_size\n",
    "        end_idx = min((i + 1) * chunk_size, len(df1))\n",
    "        chunk_df1 = df1.iloc[start_idx:end_idx]\n",
    "\n",
    "        # Merge the chunk of the first DataFrame with the second DataFrame\n",
    "        merged_chunk = pd.merge(chunk_df1, df2, on=['stod', 'time'], how='inner', desc = 'Merging large dataframes...')\n",
    "\n",
    "        # Append the merged chunk to the list\n",
    "        merged_chunks.append(merged_chunk)\n",
    "\n",
    "    # Concatenate all merged chunks into a single DataFrame\n",
    "    merged_df = pd.DataFrame()\n",
    "    for c_df in tqdm(merged_chunks, total = len(num_chunks), desc = 'Concating merged dataframe chunks...'):\n",
    "        merged_df = pd.concat(merged_df, c_df, ignore_index=True)\n",
    "\n",
    "    return merged_df\n"
   ]
  },
  {
   "cell_type": "code",
   "execution_count": 23,
   "metadata": {},
   "outputs": [
    {
     "data": {
      "application/vnd.jupyter.widget-view+json": {
       "model_id": "5dec5be2b60c412faf61e08e6c3b2609",
       "version_major": 2,
       "version_minor": 0
      },
      "text/plain": [
       "  0%|          | 0/31 [00:00<?, ?it/s]"
      ]
     },
     "metadata": {},
     "output_type": "display_data"
    }
   ],
   "source": [
    "merged_df = merge_large_dataframes(measured_df, reanalysis_df)"
   ]
  }
 ],
 "metadata": {
  "kernelspec": {
   "display_name": ".venv",
   "language": "python",
   "name": "python3"
  },
  "language_info": {
   "codemirror_mode": {
    "name": "ipython",
    "version": 3
   },
   "file_extension": ".py",
   "mimetype": "text/x-python",
   "name": "python",
   "nbconvert_exporter": "python",
   "pygments_lexer": "ipython3",
   "version": "3.12.3"
  }
 },
 "nbformat": 4,
 "nbformat_minor": 2
}
