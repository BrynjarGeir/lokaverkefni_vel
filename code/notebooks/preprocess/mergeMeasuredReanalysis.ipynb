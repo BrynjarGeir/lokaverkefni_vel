{
 "cells": [
  {
   "cell_type": "code",
   "execution_count": 1,
   "metadata": {},
   "outputs": [],
   "source": [
    "import pandas as pd, dill as pickle, os\n",
    "from utils.calculateConstants import *\n",
    "from utils.util import getTopLevelPath\n",
    "from datetime import date"
   ]
  },
  {
   "cell_type": "code",
   "execution_count": null,
   "metadata": {},
   "outputs": [],
   "source": [
    "folder_path =  getTopLevelPath() + 'data/'\n",
    "stationsLonLatXY_path = folder_path + 'Measured/stationsLonLatXY.pkl'\n",
    "measured_path = folder_path + 'Measured/combined_10min/' + max(os.listdir(folder_path + 'Measured/combined_10min/'), key = lambda f: os.path.getmtime(folder_path + 'Measured/combined_10min/' + f))\n",
    "reanalysis_path = folder_path + 'Reanalysis/' + max([file for file in os.listdir(folder_path + 'Reanalysis/') if file.endswith('.feather')], key = lambda f: os.path.getmtime(folder_path + 'Reanalysis/' + f))\n",
    "\n",
    "today = date.today().strftime(\"%Y-%m-%d\")"
   ]
  },
  {
   "cell_type": "code",
   "execution_count": 3,
   "metadata": {},
   "outputs": [],
   "source": [
    "def addXYtoMeasured(row, stationsLonLatXY_path):\n",
    "    with open(stationsLonLatXY_path, 'rb') as f:\n",
    "        stationsLonLatXY = pickle.load(f)\n",
    "    station = row.stod\n",
    "    values = stationsLonLatXY.get(station, [None, None, None, None])\n",
    "    return pd.Series(values[2:])"
   ]
  },
  {
   "cell_type": "code",
   "execution_count": null,
   "metadata": {},
   "outputs": [],
   "source": [
    "def prepareMeasurements(df, stationsLonLatXY_path, decimal_places = 4):\n",
    "    df = df.rename(columns = {'timi':'time'})\n",
    "    df[['X', 'Y']] = df.apply(addXYtoMeasured, args=[stationsLonLatXY_path], axis = 1)\n",
    "    df = df.round(decimal_places)\n",
    "    return df"
   ]
  },
  {
   "cell_type": "code",
   "execution_count": null,
   "metadata": {},
   "outputs": [],
   "source": [
    "def prepareRenalysis(df, decimal_places = 4):\n",
    "    df = df.rename(columns = {'lat':'Y', 'lon':'X', 'Wind speed':'ws', 'Wind direction': 'wd', 'Pressure':'p', 'Temperature':'t'})\n",
    "    df = df.drop_duplicates(subset=['X', 'Y', 'time', 'height_level'])\n",
    "    df = df.pivot(index = ['X', 'Y', 'time'], columns = 'height_level')\n",
    "    df = df.drop(columns='yr_month')\n",
    "    df.columns = [f'{col[0]}_{col[1]}' for col in df.columns]\n",
    "    df = df.reset_index()\n",
    "    df.time = pd.to_datetime(df.time)\n",
    "    df = df.round(decimal_places)\n",
    "    df[['Ri_01', 'Ri_12', 'Ri_02']] = df.apply(rowRichardson, axis = 1).apply(pd.Series)\n",
    "    df[['N_01', 'N_12', 'N_02']] = df.apply(rowBruntVaisala, axis = 1).apply(pd.Series)\n",
    "    df[['N_01_squared', 'N_12_squared', 'N_02_squared']] = df.apply(rowBruntVaisalaSquared, axis = 1).apply(pd.Series)\n",
    "    return df"
   ]
  },
  {
   "cell_type": "code",
   "execution_count": null,
   "metadata": {},
   "outputs": [],
   "source": [
    "def merge(measured_path = measured_path, reanalysis_path = reanalysis_path):\n",
    "    measured_df = pd.read_feather(measured_path)\n",
    "    reanalysis_df = pd.read_feather(reanalysis_path)\n",
    "    measured_df = prepareMeasurements(measured_df, stationsLonLatXY_path)\n",
    "    reanalysis_df = prepareRenalysis(reanalysis_df)\n",
    "    merged_df = pd.merge(measured_df, reanalysis_df, on = ['time', 'X', 'Y'], how = 'inner')\n",
    "    merged_df[['N_01', 'N_12', 'N_02']] = merged_df[['N_01', 'N_12', 'N_02']].map(lambda x: (x.real, x.imag))\n",
    "    merged_df = merged_df.drop(['fsdev', 'dsdev'], axis = 1)\n",
    "\n",
    "    outputpath = folder_path + f'MergedMeasuredReanalysis/merged_{today}.feather'\n",
    "    merged_df.to_feather(outputpath)"
   ]
  }
 ],
 "metadata": {
  "kernelspec": {
   "display_name": ".venv",
   "language": "python",
   "name": "python3"
  },
  "language_info": {
   "codemirror_mode": {
    "name": "ipython",
    "version": 3
   },
   "file_extension": ".py",
   "mimetype": "text/x-python",
   "name": "python",
   "nbconvert_exporter": "python",
   "pygments_lexer": "ipython3",
   "version": "3.12.2"
  }
 },
 "nbformat": 4,
 "nbformat_minor": 2
}
