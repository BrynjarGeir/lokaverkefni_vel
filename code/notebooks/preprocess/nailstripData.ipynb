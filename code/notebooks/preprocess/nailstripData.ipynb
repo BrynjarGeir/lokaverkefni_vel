{
 "cells": [
  {
   "cell_type": "code",
   "execution_count": 2,
   "metadata": {},
   "outputs": [],
   "source": [
    "from utils.util import getTopLevelPath, next_hour\n",
    "from tqdm.notebook import tqdm\n",
    "import os, pandas as pd"
   ]
  },
  {
   "cell_type": "code",
   "execution_count": 3,
   "metadata": {},
   "outputs": [],
   "source": [
    "folder_path = getTopLevelPath() + 'data/Measured/'\n",
    "hourly_path = folder_path + 'combined_klst/' + max(os.listdir(folder_path + 'combined_klst/'), key = lambda f: os.path.getmtime(folder_path + 'combined_klst/' + f))\n",
    "base10min_path = folder_path + '10min/Chunks/' "
   ]
  },
  {
   "cell_type": "code",
   "execution_count": 4,
   "metadata": {},
   "outputs": [],
   "source": [
    "def getHourlyDf(hourly_path = hourly_path):\n",
    "    hourly_df = pd.read_feather(hourly_path)\n",
    "    hourly_df.stod = pd.to_numeric(hourly_df.stod, errors = 'coerce')\n",
    "    hourly_df.timi = pd.to_datetime(hourly_df.timi, errors = 'coerce')\n",
    "    hourly_df.fx = pd.to_numeric(hourly_df.fx, errors = 'coerce')\n",
    "    hourly_df.fg = pd.to_numeric(hourly_df.fg, errors = 'coerce')\n",
    "    hourly_df.f = pd.to_numeric(hourly_df.f, errors = 'coerce')\n",
    "    return hourly_df"
   ]
  },
  {
   "cell_type": "code",
   "execution_count": 7,
   "metadata": {},
   "outputs": [],
   "source": [
    "def nailstripBase10min(hourly_path = hourly_path, base10min_path = base10min_path, threshold = int(1e-2)):\n",
    "    hourly_df = getHourlyDf(hourly_path)\n",
    "    files = [base10min_path + file for file in os.listdir(base10min_path)]\n",
    "    files = [file for file in files if file.endswith('.feather')]\n",
    "\n",
    "    for i, file in enumerate(tqdm(files, total = len(files))):\n",
    "        df = pd.read_feather(file)\n",
    "        df['next_hour'] = df.timi.apply(next_hour)\n",
    "        hourly_df = hourly_df.rename(columns = {'timi': 'next_hour'})\n",
    "        df = pd.merge(df, hourly_df, on = ['stod', 'next_hour'], how = 'inner', suffixes=('_current', '_hourly'))\n",
    "        df = df[(df.f_current <= df.fx + threshold) & (abs(df.fg_current - df.fg_hourly) <= threshold)]\n",
    "        df = df.drop(['f_hourly', 'fg_hourly', 'fx', 'd_hourly', 'next_hour'], axis = 1)\n",
    "        df = df.rename(columns = {'f_current': 'f', 'fg_current': 'fg', 'd_current': 'd'})\n",
    "        df.to_feather(base10min_path + 'Nailstripped/part_' + str(i) + '.feather')"
   ]
  }
 ],
 "metadata": {
  "kernelspec": {
   "display_name": ".venv",
   "language": "python",
   "name": "python3"
  },
  "language_info": {
   "codemirror_mode": {
    "name": "ipython",
    "version": 3
   },
   "file_extension": ".py",
   "mimetype": "text/x-python",
   "name": "python",
   "nbconvert_exporter": "python",
   "pygments_lexer": "ipython3",
   "version": "3.12.3"
  }
 },
 "nbformat": 4,
 "nbformat_minor": 2
}
