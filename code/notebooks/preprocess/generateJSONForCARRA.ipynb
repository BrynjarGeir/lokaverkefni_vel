{
 "cells": [
  {
   "cell_type": "code",
   "execution_count": 2,
   "metadata": {},
   "outputs": [],
   "source": [
    "from utils.transform import transformISN93ToWGS84\n",
    "from utils.util import getTopLevelPath\n",
    "from datetime import date\n",
    "import pandas as pd, dill as pickle, json, os"
   ]
  },
  {
   "cell_type": "code",
   "execution_count": null,
   "metadata": {},
   "outputs": [],
   "source": [
    "top_folder = getTopLevelPath() + 'Measured/'\n",
    "folder = 'combined_10min/Ready/'\n",
    "file_path = folder + max((os.path.join(folder, file) for file in os.listdir(folder) if file.endswith('.feather')), key=os.path.getmtime, default=None) \n",
    "stationsLonLatXY_path = top_folder + 'stationsLonLatXY.pkl'"
   ]
  },
  {
   "cell_type": "code",
   "execution_count": 3,
   "metadata": {},
   "outputs": [],
   "source": [
    "def getDTXYD(row):\n",
    "    return row.timi, row.X, row.Y, row.d"
   ]
  },
  {
   "cell_type": "code",
   "execution_count": 4,
   "metadata": {},
   "outputs": [],
   "source": [
    "def getLonLatFromXY(pointsXY):\n",
    "    X, Y = [p[0] for p in pointsXY], [p[1] for p in pointsXY]\n",
    "    lon, lat = transformISN93ToWGS84(X, Y)\n",
    "    return lon, lat"
   ]
  },
  {
   "cell_type": "code",
   "execution_count": 5,
   "metadata": {},
   "outputs": [],
   "source": [
    "def generateJSON(coordinates, datetime):\n",
    "    res = {\n",
    "        datetime:\n",
    "            coordinates\n",
    "    }\n",
    "    return res"
   ]
  },
  {
   "cell_type": "code",
   "execution_count": 6,
   "metadata": {},
   "outputs": [],
   "source": [
    "def getXY(stod, stationsLonLatXY):\n",
    "    return stationsLonLatXY[stod][2:]"
   ]
  },
  {
   "cell_type": "code",
   "execution_count": 7,
   "metadata": {},
   "outputs": [],
   "source": [
    "def generateListOfDatetimesCoordinates(file_path = file_path, stations_LonLatXY_path = stationsLonLatXY_path):\n",
    "    vedurDF = pd.read_feather(file_path)\n",
    "    with open(stations_LonLatXY_path, 'rb') as f:\n",
    "        stationsLonLatXY = pickle.load(f)\n",
    "\n",
    "    vedurDF['X'], vedurDF['Y'] = zip(*vedurDF.stod.map(getXY))\n",
    "    vedurDF = vedurDF.dropna(subset = ['timi', 'f', 'fg', 'stod', 'd', 'X', 'Y'])\n",
    "    vedurDF['pointsYX'] = list(zip(vedurDF.Y, vedurDF.X))\n",
    "    \n",
    "    grouped_df = vedurDF.groupby('timi').agg({'pointsYX':list}).reset_index()\n",
    "    grouped_df.timi = pd.to_datetime(grouped_df.timi)\n",
    "    grouped_df.timi = grouped_df.timi.dt.strftime('%Y-%m-%dT%H:%M:%S')\n",
    "\n",
    "    return grouped_df"
   ]
  },
  {
   "cell_type": "code",
   "execution_count": 8,
   "metadata": {},
   "outputs": [],
   "source": [
    "def generateAllJSON():\n",
    "    today = date.today.strftime(\"%Y-%m-%d\")\n",
    "    output_path = top_folder + f'JSON/CARRA_{today}.json'\n",
    "    grouped_df = generateListOfDatetimesCoordinates()\n",
    "    grouped_df['JSON'] = grouped_df.apply(lambda row: generateJSON(row.pointsYX, row.timi), axis = 1)\n",
    "    coords_dict = {key: value for d in grouped_df.JSON for key, value in d.items()}\n",
    "\n",
    "    res = {\"param\": {\"product_type\": \"analysis\",\n",
    "                     \"variable\": [\"Wind speed\", \"Wind direction\", \"Pressure\", \"Temperature\"],\n",
    "                     \"height_levels\": [15,150,250,500],\n",
    "                     \"feather_file\": \"interpolatedCarra.feather\"},\n",
    "            \"timestamp_location\": coords_dict}\n",
    "    \n",
    "    with open(output_path, 'w') as f:\n",
    "        json.dump(res, f, indent = 4)"
   ]
  }
 ],
 "metadata": {
  "kernelspec": {
   "display_name": ".venv",
   "language": "python",
   "name": "python3"
  },
  "language_info": {
   "codemirror_mode": {
    "name": "ipython",
    "version": 3
   },
   "file_extension": ".py",
   "mimetype": "text/x-python",
   "name": "python",
   "nbconvert_exporter": "python",
   "pygments_lexer": "ipython3",
   "version": "3.12.2"
  }
 },
 "nbformat": 4,
 "nbformat_minor": 2
}
