{
 "cells": [
  {
   "cell_type": "code",
   "execution_count": 2,
   "id": "a9b5be49",
   "metadata": {
    "lines_to_next_cell": 1
   },
   "outputs": [],
   "source": [
    "import pandas as pd, os, dill as pickle\n",
    "from tqdm.notebook import tqdm\n",
    "from datetime import date\n",
    "from utils.transform import getVedurLonLatInISN93\n",
    "from utils.util import getTopLevelPath"
   ]
  },
  {
   "cell_type": "code",
   "execution_count": 3,
   "id": "528a2beb",
   "metadata": {},
   "outputs": [],
   "source": [
    "top_folder = getTopLevelPath() + 'data/Measured/'\n",
    "stationsLonLatXY_path = top_folder + 'stationsLonLatXY.pkl'\n",
    "stod_path = top_folder + 'stod.txt'\n",
    "nailstripped_path = top_folder + '10min/Chunks/Nailstripped/'\n",
    "filtered_path = nailstripped_path + 'Filtered_AWSL_TimeInterval/'\n",
    "filtered_path_CARRA_HOURS = nailstripped_path + 'Filtered_AWSL_TimeInterval_CARRA_HOURS/'\n",
    "filtered_path_Only_CARRA_HOURS = nailstripped_path + 'Filtered_ONLY_CARRA_HOURS/'\n",
    "klst_path = top_folder + 'klst/'\n",
    "vg_path = top_folder + 'vg/'\n",
    "outputfolder = top_folder + 'Processed/'\n",
    "\n",
    "today = date.today().strftime('%Y-%m-%d')"
   ]
  },
  {
   "cell_type": "code",
   "execution_count": null,
   "id": "62d37dd7",
   "metadata": {
    "lines_to_next_cell": 1
   },
   "outputs": [],
   "source": [
    "def createStationsLonLatXY(stod_path = stod_path, outputpath = stationsLonLatXY_path, encoding: str = 'ISO-8859-1'):\n",
    "    stationsDict = {}\n",
    "    with open(stod_path, 'r', encoding = encoding) as f:\n",
    "        stations = [a.strip().split(',') for a in f.readlines()][1:]\n",
    "        stations = [[int(a[0]), a[1], float(a[2]), float(a[3]), float(a[4]) if a[4].isnumeric() else a[4], a[5]] for a in stations]\n",
    "    for station in stations:\n",
    "        latitude, longitude = station[2], station[3]\n",
    "        x, y = getVedurLonLatInISN93(longitude, latitude)\n",
    "        stationsDict[station[0]] = (-longitude, latitude, x, y)\n",
    "\n",
    "    with open(outputpath, 'wb') as f:\n",
    "        pickle.dump(stationsDict, f)"
   ]
  },
  {
   "cell_type": "code",
   "execution_count": 7,
   "id": "c692812e",
   "metadata": {
    "lines_to_next_cell": 2
   },
   "outputs": [],
   "source": [
    "def filter_AWSL_and_TimeInterval(nailstripped_path = nailstripped_path, threshold: str = '1 day', AWSL: int = 20):\n",
    "    files = [nailstripped_path + file for file in os.listdir(nailstripped_path) if file.endswith('.feather')]\n",
    "    for file in tqdm(files, total = len(files), desc = \"Looping over nailstripped files...\"):\n",
    "        measurement_df = pd.read_feather(file)\n",
    "        measurement_df = measurement_df[measurement_df.f > 20]\n",
    "        filtered_data, columns, stations = [], measurement_df.columns, measurement_df.stod.unique()\n",
    "        for station in tqdm(stations, total = len(stations), desc = \"Looping over substations...\"):\n",
    "            subset_df = measurement_df[station == measurement_df.stod]\n",
    "            subset_df = subset_df.reset_index(drop = True)\n",
    "\n",
    "            while not subset_df.empty:\n",
    "                idx = subset_df.f.idxmax()\n",
    "                time_of_max = subset_df.iloc[idx].timi\n",
    "\n",
    "                filtered_data.append(subset_df.iloc[idx])\n",
    "\n",
    "                subset_df = subset_df[abs(subset_df.timi - time_of_max) >= pd.Timedelta(threshold)]\n",
    "\n",
    "                subset_df = subset_df.reset_index(drop = True)\n",
    "\n",
    "        filtered_df = pd.DataFrame(filtered_data, columns=columns)\n",
    "\n",
    "        filtered_df = filtered_df.sort_values(by=['stod', 'timi'])\n",
    "\n",
    "        filtered_df = filtered_df.reset_index(drop=True)\n",
    "\n",
    "        outputpath = nailstripped_path + 'Filtered_AWSL_TimeInterval/' + file.split('/')[-1]\n",
    "\n",
    "        filtered_df.to_feather(outputpath)"
   ]
  },
  {
   "cell_type": "code",
   "execution_count": 14,
   "id": "f2d55f9a",
   "metadata": {},
   "outputs": [],
   "source": [
    "# This looks only at measurements that fall on the CARRA output times. Like the 3 hour intervals given.\n",
    "# This might give fewer results so maybe we need to lower the limit\n",
    "def filter_AWSL_and_TimeInterval_CARRA_HOURS(nailstripped_path = nailstripped_path, threshold: str = '1 day', AWSL: int = 20):\n",
    "    files = [nailstripped_path + file for file in os.listdir(nailstripped_path) if file.endswith('.feather')]\n",
    "    for file in tqdm(files, total = len(files), desc = \"Looping over nailstripped files...\"):\n",
    "        measurement_df = pd.read_feather(file)\n",
    "        measurement_df = measurement_df[measurement_df.f > AWSL]\n",
    "        measurement_df = measurement_df[(measurement_df.timi.dt.hour.isin([i * 3 for i in range(8)])) & (0 == measurement_df.timi.dt.minute)]\n",
    "        filtered_data, columns, stations = [], measurement_df.columns, measurement_df.stod.unique()\n",
    "        for station in tqdm(stations, total = len(stations), desc = \"Looping over substations...\"):\n",
    "            subset_df = measurement_df[station == measurement_df.stod]\n",
    "            subset_df = subset_df.reset_index(drop = True)\n",
    "\n",
    "            while not subset_df.empty:\n",
    "                idx = subset_df.f.idxmax()\n",
    "                time_of_max = subset_df.iloc[idx].timi\n",
    "\n",
    "                filtered_data.append(subset_df.iloc[idx])\n",
    "\n",
    "                subset_df = subset_df[abs(subset_df.timi - time_of_max) >= pd.Timedelta(threshold)]\n",
    "\n",
    "                subset_df = subset_df.reset_index(drop = True)\n",
    "\n",
    "        filtered_df = pd.DataFrame(filtered_data, columns=columns)\n",
    "\n",
    "        filtered_df = filtered_df.sort_values(by=['stod', 'timi'])\n",
    "\n",
    "        filtered_df = filtered_df.reset_index(drop=True)\n",
    "\n",
    "        outputpath = nailstripped_path + 'Filtered_AWSL_TimeInterval_CARRA_HOURS/' + file.split('/')[-1]\n",
    "\n",
    "        filtered_df.to_feather(outputpath)"
   ]
  },
  {
   "cell_type": "code",
   "execution_count": null,
   "id": "fa3f93dc",
   "metadata": {},
   "outputs": [],
   "source": [
    "def filter_CARRA_HOURS(nailstripped_path = nailstripped_path):\n",
    "    files = [nailstripped_path + file for file in os.listdir(nailstripped_path) if file.endswith('.feather')]\n",
    "    for file in tqdm(files, total = len(files), desc = \"Looping over nailstripped files...\"):\n",
    "        measurement_df = pd.read_feather(file)\n",
    "        measurement_df = measurement_df[(measurement_df.timi.dt.hour.isin([i * 3 for i in range(8)])) & (0 == measurement_df.timi.dt.minute)]\n",
    "        outputpath = nailstripped_path + 'Filtered_ONLY_CARRA_HOURS/' + file.split('/')[-1]\n",
    "        measurement_df.to_feather(outputpath)"
   ]
  },
  {
   "cell_type": "code",
   "execution_count": null,
   "id": "3b0e6ee5",
   "metadata": {},
   "outputs": [],
   "source": [
    "def combineParts(filteredWithMinAveWindSpeed_path = filtered_path):\n",
    "    df, files = pd.DataFrame(), [filteredWithMinAveWindSpeed_path + file for file in os.listdir(filteredWithMinAveWindSpeed_path) if file.endswith('.feather')]\n",
    "\n",
    "    for file in tqdm(files, total = len(files), desc = \"Looping over parts to combine...\"):\n",
    "        if df.empty:\n",
    "            df = pd.read_feather(file)\n",
    "        else:\n",
    "            tmp_df = pd.read_feather(file)\n",
    "            df = pd.concat([df, tmp_df])\n",
    "    outputpath = outputfolder + f'/measurements_{today}.feather'\n",
    "    df.to_feather(outputpath)"
   ]
  },
  {
   "cell_type": "code",
   "execution_count": 5,
   "id": "69855b00",
   "metadata": {},
   "outputs": [],
   "source": [
    "def combineParts_CARRA_HOURS(filteredWithMinAveWindSpeed_path = filtered_path_CARRA_HOURS):\n",
    "    df, files = pd.DataFrame(), [filteredWithMinAveWindSpeed_path + file for file in os.listdir(filteredWithMinAveWindSpeed_path) if file.endswith('.feather')]\n",
    "\n",
    "    for file in tqdm(files, total = len(files), desc = \"Looping over parts to combine...\"):\n",
    "        if df.empty:\n",
    "            df = pd.read_feather(file)\n",
    "        else:\n",
    "            tmp_df = pd.read_feather(file)\n",
    "            df = pd.concat([df, tmp_df])\n",
    "    outputpath = outputfolder + f'/measurements_CARRA_HOURS_{today}.feather'\n",
    "    df.to_feather(outputpath)"
   ]
  },
  {
   "cell_type": "code",
   "execution_count": null,
   "id": "1f80d5c8",
   "metadata": {},
   "outputs": [],
   "source": [
    "def combineParts_ONLY_CARRA_HOURS(filteredByCARRAHOURS_path = filtered_path_Only_CARRA_HOURS):\n",
    "    df, files = pd.DataFrame(), [filteredByCARRAHOURS_path + file for file in os.listdir(filteredByCARRAHOURS_path) if file.endswith('.feather')]\n",
    "\n",
    "    for file in tqdm(files, total = len(files), desc = \"Looping over parts to combine...\"):\n",
    "        if df.empty:\n",
    "            df = pd.read_feather(file)\n",
    "        else:\n",
    "            tmp_df = pd.read_feather(file)\n",
    "            df = pd.concat([df, tmp_df])\n",
    "    outputpath = outputfolder + f'/measurements_ONLY_CARRA_HOURS_{today}.feather'\n",
    "    df.to_feather(outputpath)"
   ]
  },
  {
   "cell_type": "code",
   "execution_count": 15,
   "id": "c382139c",
   "metadata": {},
   "outputs": [],
   "source": [
    "def combine_klst_ONLY_CARRA_HOURS(kslt_path = klst_path, vg_path = vg_path):\n",
    "    klst_files = [klst_path + file for file in os.listdir(klst_path) if file.endswith('.txt') and file.startswith('f_klst')]\n",
    "    vg_files = [vg_path + file for file in os.listdir(vg_path) if file.endswith('.txt') and file.startswith('f_vg')]\n",
    "\n",
    "    df = pd.DataFrame()\n",
    "\n",
    "    for klst_file in tqdm(klst_files, desc =  'IMO files...'):\n",
    "        c_df = pd.read_csv(klst_file)\n",
    "        c_df.timi = pd.to_datetime(c_df.timi)\n",
    "        c_df = c_df[c_df.timi.dt.hour.isin([i * 3 for i in range(8)])]\n",
    "        df = pd.concat([df, c_df])\n",
    "    \n",
    "    for vg_file in tqdm(vg_files, desc='IRCA files...'):\n",
    "        c_df = pd.read_csv(vg_file)\n",
    "        c_df.timi = pd.to_datetime(c_df.timi)\n",
    "        c_df = c_df[c_df.timi.dt.hour.isin([i * 3 for i in range(8)])]\n",
    "        c_df['dsdev'] = None\n",
    "        df = pd.concat([df, c_df])\n",
    "\n",
    "    outputpath = outputfolder + f'/measurements_klst_ONLY_CARRA_HOURS_{today}.feather'\n",
    "    df.to_feather(outputpath)\n",
    "    print(df)"
   ]
  }
 ],
 "metadata": {
  "jupytext": {
   "cell_metadata_filter": "-all",
   "main_language": "python",
   "notebook_metadata_filter": "-all"
  },
  "kernelspec": {
   "display_name": ".venv",
   "language": "python",
   "name": "python3"
  },
  "language_info": {
   "codemirror_mode": {
    "name": "ipython",
    "version": 3
   },
   "file_extension": ".py",
   "mimetype": "text/x-python",
   "name": "python",
   "nbconvert_exporter": "python",
   "pygments_lexer": "ipython3",
   "version": "3.12.3"
  }
 },
 "nbformat": 4,
 "nbformat_minor": 5
}
