{
 "cells": [
  {
   "cell_type": "code",
   "execution_count": 2,
   "id": "a9b5be49",
   "metadata": {
    "lines_to_next_cell": 1
   },
   "outputs": [],
   "source": [
    "import pandas as pd, os, dill as pickle\n",
    "from tqdm import tqdm\n",
    "from datetime import date\n",
    "from utils.transform import getVedurLonLatInISN93\n",
    "from utils.util import getTopLevelPath"
   ]
  },
  {
   "cell_type": "code",
   "execution_count": null,
   "id": "528a2beb",
   "metadata": {},
   "outputs": [],
   "source": [
    "top_folder = getTopLevelPath() + 'data/Measured/'\n",
    "stationsLonLatXY_path = top_folder + 'stationsLonLatXY.pkl'\n",
    "stod_path = top_folder + 'stod.txt'\n",
    "nailstripped_path = top_folder + 'combined_10min/Parts/Nailstripped/'\n",
    "filteredWithInterval_path = nailstripped_path + 'filteredWithInterval/'\n",
    "filteredWithMinAveWindSpeed_path = filteredWithInterval_path + 'filteredWithMinAverageWS/'\n",
    "\n",
    "today = date.today().strftime('%Y-%m-%d')"
   ]
  },
  {
   "cell_type": "code",
   "execution_count": null,
   "id": "62d37dd7",
   "metadata": {
    "lines_to_next_cell": 1
   },
   "outputs": [],
   "source": [
    "def createStationsLonLatXY(stod_path = stod_path, outputpath = stationsLonLatXY_path, encoding: str = 'ISO-8859-1'):\n",
    "    stationsDict = {}\n",
    "    with open(stod_path, 'r', encoding = encoding) as f:\n",
    "        stations = [a.strip().split(',') for a in f.readlines()][1:]\n",
    "        stations = [[int(a[0]), a[1], float(a[2]), float(a[3]), float(a[4]) if a[4].isnumeric() else a[4], a[5]] for a in stations]\n",
    "    for station in stations:\n",
    "        latitude, longitude = station[2], station[3]\n",
    "        x, y = getVedurLonLatInISN93(longitude, latitude)\n",
    "        stationsDict[station[0]] = (-longitude, latitude, x, y)\n",
    "\n",
    "    with open(outputpath, 'wb') as f:\n",
    "        pickle.dump(stationsDict, f)"
   ]
  },
  {
   "cell_type": "code",
   "execution_count": null,
   "id": "c692812e",
   "metadata": {
    "lines_to_next_cell": 2
   },
   "outputs": [],
   "source": [
    "def filterTopWSInInterval(nailstripped_path = nailstripped_path, threshold: str = '1 day'):\n",
    "    files = [nailstripped_path + file for file in os.listdir(nailstripped_path) if file.endswith('.feather')]\n",
    "    for file in tqdm(files, total = len(files), desc = \"Looping over nailstripped files...\"):\n",
    "        measurement_df = pd.read_feather(file)\n",
    "        filtered_data, columns, stations = [], measurement_df.columns, measurement_df.stod.unique()\n",
    "        for station in tqdm(stations, total = len(stations), desc = \"Looping over substations...\"):\n",
    "            subset_df = measurement_df[station == measurement_df.stod]\n",
    "            subset_df = subset_df.reset_index(drop = True)\n",
    "\n",
    "            while not subset_df.empty:\n",
    "                idx = subset_df.f.idxmax()\n",
    "                time_of_max = subset_df.iloc[idx].timi\n",
    "\n",
    "                filtered_data.append(subset_df.iloc[idx])\n",
    "\n",
    "                subset_df = subset_df[abs(subset_df.timi - time_of_max) >= pd.Timedelta(threshold)]\n",
    "\n",
    "                subset_df = subset_df.reset_index(drop = True)\n",
    "\n",
    "        filtered_df = pd.DataFrame(filtered_data, columns=columns)\n",
    "\n",
    "        filtered_df = filtered_df.sort_values(by=['stod', 'timi'])\n",
    "\n",
    "        filtered_df = filtered_df.reset_index(drop=True)\n",
    "\n",
    "        outputpath = nailstripped_path + 'filteredWithInterval/' + file.split('/')[-1]\n",
    "\n",
    "        filtered_df.to_feather(outputpath)"
   ]
  },
  {
   "cell_type": "code",
   "execution_count": null,
   "id": "59fa6631",
   "metadata": {},
   "outputs": [],
   "source": [
    "def filterMinAveWindSpeed(filteredWithInterval_path = filteredWithInterval_path, limit = 20):\n",
    "    files = [filteredWithInterval_path + file for file in os.listdir(filteredWithInterval_path) if file.endswith('.feather')]\n",
    "    for file in tqdm(files, total = len(files), desc = \"Looping over filtere with interval files...\"):\n",
    "        df = pd.read_feather(file)\n",
    "        df = df[df.f >= limit]\n",
    "        outputpath = filteredWithInterval_path + 'filteredWithMinAverageWS/' + file.split('/')[-1]\n",
    "        df.to_feather(outputpath)"
   ]
  },
  {
   "cell_type": "code",
   "execution_count": null,
   "id": "3b0e6ee5",
   "metadata": {},
   "outputs": [],
   "source": [
    "def combineParts(filteredWithMinAveWindSpeed_path = filteredWithMinAveWindSpeed_path):\n",
    "    df, files = None, [filteredWithMinAveWindSpeed_path + file for file in os.listdir(files) if file.endswith('.feather')]\n",
    "\n",
    "    for file in tqdm(files, total = len(files), desc = \"Looping over parts to combine...\"):\n",
    "        if None == df:\n",
    "            df = pd.read_feather(file)\n",
    "        else:\n",
    "            tmp_df = pd.read_feather(file)\n",
    "            df = pd.concat(df, tmp_df)\n",
    "    outputpath = top_folder + f'combined_10min/Ready/combined_10min_{today}.feather'\n",
    "    df.to_feather(outputpath)"
   ]
  }
 ],
 "metadata": {
  "jupytext": {
   "cell_metadata_filter": "-all",
   "main_language": "python",
   "notebook_metadata_filter": "-all"
  },
  "kernelspec": {
   "display_name": ".venv",
   "language": "python",
   "name": "python3"
  },
  "language_info": {
   "codemirror_mode": {
    "name": "ipython",
    "version": 3
   },
   "file_extension": ".py",
   "mimetype": "text/x-python",
   "name": "python",
   "nbconvert_exporter": "python",
   "pygments_lexer": "ipython3",
   "version": "3.12.2"
  }
 },
 "nbformat": 4,
 "nbformat_minor": 5
}
