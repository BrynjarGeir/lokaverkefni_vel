{
 "cells": [
  {
   "cell_type": "code",
   "execution_count": 5,
   "metadata": {},
   "outputs": [],
   "source": [
    "import requests, os\n",
    "from bs4 import BeautifulSoup\n",
    "from utils.util import getTopLevelPath\n",
    "from tqdm import tqdm"
   ]
  },
  {
   "cell_type": "code",
   "execution_count": 8,
   "metadata": {},
   "outputs": [
    {
     "name": "stderr",
     "output_type": "stream",
     "text": [
      "100%|██████████| 828/828 [19:08<00:00,  1.39s/it] \n"
     ]
    }
   ],
   "source": [
    "def downloadMeasurements():\n",
    "    # URL of the website containing the text files\n",
    "    url = 'http://brunnur.vedur.is/pub/arason/brynjar/'\n",
    "    outputpath = getTopLevelPath() + 'data/Measured/NewDownload-16-4-24/'\n",
    "    # Send a GET request to the URL\n",
    "    response = requests.get(url)\n",
    "\n",
    "    # Parse the HTML content\n",
    "    soup = BeautifulSoup(response.text, 'html.parser')\n",
    "\n",
    "    # Find all links (a tags) on the webpage\n",
    "    links = soup.find_all('a')\n",
    "\n",
    "    # Iterate over the links\n",
    "    for link in tqdm(links, total = len(links)):\n",
    "        href = link.get('href')\n",
    "        # Check if the link ends with '.txt'\n",
    "        if href.endswith('.txt'):\n",
    "            # Download the text file\n",
    "            file_url = url + '/' + href\n",
    "            if '_10min_' in href or '_sj_' in href:\n",
    "                file_name = outputpath + '10min/' + href\n",
    "            elif '_klst_' in href or '_vg_' in href:\n",
    "                file_name = outputpath + 'klst/' + href\n",
    "            else:\n",
    "                file_name = outputpath + href\n",
    "            with open(file_name, 'wb') as file:\n",
    "                file.write(requests.get(file_url).content)"
   ]
  }
 ],
 "metadata": {
  "kernelspec": {
   "display_name": ".venv",
   "language": "python",
   "name": "python3"
  },
  "language_info": {
   "codemirror_mode": {
    "name": "ipython",
    "version": 3
   },
   "file_extension": ".py",
   "mimetype": "text/x-python",
   "name": "python",
   "nbconvert_exporter": "python",
   "pygments_lexer": "ipython3",
   "version": "3.11.2"
  }
 },
 "nbformat": 4,
 "nbformat_minor": 2
}
