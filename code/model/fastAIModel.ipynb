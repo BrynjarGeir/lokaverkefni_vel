{
 "cells": [
  {
   "cell_type": "code",
   "execution_count": null,
   "id": "03288770",
   "metadata": {},
   "outputs": [],
   "source": [
    "from fastai.tabular.all import *"
   ]
  },
  {
   "cell_type": "code",
   "execution_count": null,
   "id": "127569ac",
   "metadata": {
    "lines_to_next_cell": 1
   },
   "outputs": [],
   "source": [
    "import tensorflow as tf, pandas as pd, numpy as np, torch\n",
    "from sklearn.model_selection import train_test_split\n",
    "from sklearn.preprocessing import StandardScaler"
   ]
  },
  {
   "cell_type": "code",
   "execution_count": null,
   "id": "4b46bda2",
   "metadata": {
    "lines_to_next_cell": 1
   },
   "outputs": [],
   "source": [
    "def mean_absolute_percentage_error(y_true, y_pred):\n",
    "    return torch.mean(torch.abs((y_true-y_pred) / y_true)) * 100.0"
   ]
  },
  {
   "cell_type": "code",
   "execution_count": null,
   "id": "629e9c42",
   "metadata": {},
   "outputs": [],
   "source": [
    "#df = pd.read_feather('D:/Skóli/lokaverkefni_vel/data/merged-test1month-26-2-24.feather')\n",
    "df = pd.read_feather('D:/Skóli/lokaverkefni_vel/data/combined-4-1-24.feather')\n",
    "df = df[df.f < df.fg]\n",
    "df = df.dropna()"
   ]
  },
  {
   "cell_type": "code",
   "execution_count": null,
   "id": "cca06bf9",
   "metadata": {},
   "outputs": [],
   "source": [
    "y = df['fg']/df['f']\n",
    "X = df.drop(['_merge', 'gust_factor', 'f', 'fg', 'd', 'stod'] + [f'Landscape_{i}' for i in range(70)], axis = 1)"
   ]
  },
  {
   "cell_type": "code",
   "execution_count": null,
   "id": "923529f2",
   "metadata": {},
   "outputs": [],
   "source": [
    "df = df.drop(['_merge', 'f', 'fg', 'd', 'stod'] + [f'Landscape_{i}' for i in range(70)], axis = 1)"
   ]
  },
  {
   "cell_type": "markdown",
   "id": "a9e5dda6",
   "metadata": {},
   "source": [
    "Changing the type of X,y so as to work with Tensorflow\n",
    "X, y = X.values.astype(np.float32), y.values.astype(np.float32)"
   ]
  },
  {
   "cell_type": "markdown",
   "id": "3790a4d7",
   "metadata": {},
   "source": [
    "scaler = StandardScaler()"
   ]
  },
  {
   "cell_type": "markdown",
   "id": "8b14dc17",
   "metadata": {},
   "source": [
    "Assuming 'X' is your feature matrix and 'y' is your target variable\n",
    "Replace 'X' and 'y' with your actual data"
   ]
  },
  {
   "cell_type": "markdown",
   "id": "e0842a98",
   "metadata": {
    "lines_to_next_cell": 2
   },
   "source": [
    "Split the data into training and testing sets\n",
    "X_train, X_test, y_train, y_test = train_test_split(X, y, test_size=0.2, random_state=42)"
   ]
  },
  {
   "cell_type": "markdown",
   "id": "74d07699",
   "metadata": {},
   "source": [
    "X_train_scaled = scaler.fit_transform(X_train)\n",
    "X_test_scaled = scaler.fit_transform(X_test)"
   ]
  },
  {
   "cell_type": "markdown",
   "id": "6b5ba9d3",
   "metadata": {},
   "source": [
    "X_train[X_train.columns] = X_train_scaled\n",
    "X_test[X_test.columns] = X_test_scaled"
   ]
  },
  {
   "cell_type": "code",
   "execution_count": null,
   "id": "88a42138",
   "metadata": {},
   "outputs": [],
   "source": [
    "y_names = 'gust_factor'\n",
    "cont_names = df.columns[df.columns != y_names].tolist()"
   ]
  },
  {
   "cell_type": "code",
   "execution_count": null,
   "id": "627eb999",
   "metadata": {},
   "outputs": [],
   "source": [
    "splits = RandomSplitter(valid_pct=0.2)(range_of(df))"
   ]
  },
  {
   "cell_type": "code",
   "execution_count": null,
   "id": "ebe2cacd",
   "metadata": {},
   "outputs": [],
   "source": [
    "dls = TabularPandas(df, procs = [FillMissing, Normalize], cont_names = cont_names, y_names = y_names, splits = splits)"
   ]
  },
  {
   "cell_type": "code",
   "execution_count": null,
   "id": "6515ce97",
   "metadata": {},
   "outputs": [],
   "source": [
    "dls = dls.dataloaders()"
   ]
  },
  {
   "cell_type": "code",
   "execution_count": null,
   "id": "854a6a26",
   "metadata": {},
   "outputs": [],
   "source": [
    "learn = tabular_learner(dls, metrics = mean_absolute_percentage_error) #loss_func = mean_absolute_percentage_error,"
   ]
  },
  {
   "cell_type": "code",
   "execution_count": null,
   "id": "48a77437",
   "metadata": {},
   "outputs": [],
   "source": [
    "lr = learn.lr.find()"
   ]
  },
  {
   "cell_type": "code",
   "execution_count": null,
   "id": "ff8ccf79",
   "metadata": {},
   "outputs": [],
   "source": [
    "print(lr)"
   ]
  },
  {
   "cell_type": "code",
   "execution_count": null,
   "id": "754a1587",
   "metadata": {},
   "outputs": [],
   "source": [
    "learn.fit_one_cycle(5)"
   ]
  },
  {
   "cell_type": "code",
   "execution_count": null,
   "id": "db91c4a7",
   "metadata": {},
   "outputs": [],
   "source": [
    "preds, targs = learn.get_preds()"
   ]
  },
  {
   "cell_type": "code",
   "execution_count": null,
   "id": "235b4dac",
   "metadata": {},
   "outputs": [],
   "source": [
    "mape = mean_absolute_percentage_error(targs, preds)"
   ]
  },
  {
   "cell_type": "code",
   "execution_count": null,
   "id": "165aa539",
   "metadata": {},
   "outputs": [],
   "source": [
    "print(f'The MAPE is {mape} %')"
   ]
  },
  {
   "cell_type": "code",
   "execution_count": null,
   "id": "c2e7957a",
   "metadata": {},
   "outputs": [],
   "source": [
    "print(learn.recorder.values)"
   ]
  },
  {
   "cell_type": "code",
   "execution_count": null,
   "id": "8e082e22",
   "metadata": {},
   "outputs": [],
   "source": [
    "train_losses = learn.recorder.losses\n",
    "val_losses = learn.recorder.val_losses"
   ]
  },
  {
   "cell_type": "code",
   "execution_count": null,
   "id": "18813cf0",
   "metadata": {},
   "outputs": [],
   "source": []
  },
  {
   "cell_type": "code",
   "execution_count": null,
   "id": "8f4cbf66",
   "metadata": {},
   "outputs": [],
   "source": [
    "df_history = pd.DataFrame([train_losses, val_losses], columns=['train_loss', 'valid_loss'])\n",
    "df_history.to_csv('D:/Skóli/lokaverkefni_vel/code/model/saved_models/fastai_training_history.csv', index = False)"
   ]
  },
  {
   "cell_type": "code",
   "execution_count": null,
   "id": "6139226a",
   "metadata": {
    "lines_to_next_cell": 2
   },
   "outputs": [],
   "source": [
    "learn.save('D:/Skóli/lokaverkefni_vel/code/model/saved_models/fastai_model')\n",
    "learn.export('D:/Skóli/lokaverkefni_vel/code/model/saved_models/export_fastai.pkl')"
   ]
  }
 ],
 "metadata": {
  "jupytext": {
   "cell_metadata_filter": "-all",
   "main_language": "python",
   "notebook_metadata_filter": "-all"
  }
 },
 "nbformat": 4,
 "nbformat_minor": 5
}
