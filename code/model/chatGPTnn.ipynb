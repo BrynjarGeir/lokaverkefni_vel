{
 "cells": [
  {
   "cell_type": "code",
   "execution_count": null,
   "id": "5c2c79dd",
   "metadata": {},
   "outputs": [],
   "source": [
    "from sklearn.model_selection import train_test_split\n",
    "from sklearn.model_selection import train_test_split\n",
    "from sklearn.preprocessing import StandardScaler\n",
    "\n",
    "import pandas as pd, numpy as np, tensorflow as tf\n",
    "\n",
    "from tensorflow.keras.layers import Input, Dense, concatenate\n",
    "from tensorflow.keras.models import Model"
   ]
  },
  {
   "cell_type": "code",
   "execution_count": null,
   "id": "01928cd9",
   "metadata": {
    "lines_to_next_cell": 1
   },
   "outputs": [],
   "source": [
    "def mean_absolute_percentage_error(y_true, y_pred):\n",
    "    return tf.reduce_mean(tf.abs((y_true-y_pred) / y_true)) * 100.0"
   ]
  },
  {
   "cell_type": "code",
   "execution_count": null,
   "id": "380ea9e2",
   "metadata": {},
   "outputs": [],
   "source": [
    "df = pd.read_feather('E:/Skóli/HÍ/Vélaverkfræði Master HÍ/Lokaverkefni/Data/merged-full-25ms-24hr-28-2-24.feather')\n",
    "df = df[df.f < df.fg]\n",
    "df['gust_factor'] = df.fg / df.f\n",
    "df = df.dropna()\n",
    "df = df.drop(['f', 'fg', 'fsdev', 'd', 'dsdev', 'longitude', 'latitude', 'X', 'Y', 'time', 'stod'], axis = 1)# + [f'Landscape_{i}' for i in range(70)], axis = 1)"
   ]
  },
  {
   "cell_type": "code",
   "execution_count": null,
   "id": "cc24b0bd",
   "metadata": {},
   "outputs": [],
   "source": [
    "y = df.gust_factor\n",
    "X = df.drop(['gust_factor'], axis = 1)\n",
    "\n",
    "# Changing the type of X,y so as to work with Tensorflow\n",
    "X, y = X.values.astype(np.float32), y.values.astype(np.float32)\n",
    "scaler = StandardScaler()\n",
    "\n",
    "# Split the data into training and testing sets\n",
    "X_train, X_test, y_train, y_test = train_test_split(X, y, test_size=0.2, random_state=42)\n",
    "X_train, X_val, y_train, y_val = train_test_split(X_train, y_train, test_size=0.25, random_state=42)\n",
    "\n",
    "X_train = scaler.fit_transform(X_train)\n",
    "X_val = scaler.fit_transform(X_val)\n",
    "X_test = scaler.fit_transform(X_test)"
   ]
  },
  {
   "cell_type": "code",
   "execution_count": null,
   "id": "af314c55",
   "metadata": {
    "lines_to_next_cell": 1
   },
   "outputs": [],
   "source": [
    "batch_size = 256\n",
    "num_epochs = 50\n",
    "input_size = X_train.shape[1]\n",
    "output_size = 1"
   ]
  },
  {
   "cell_type": "code",
   "execution_count": null,
   "id": "e2e04ee9",
   "metadata": {
    "lines_to_next_cell": 1
   },
   "outputs": [],
   "source": [
    "def build_autoencoder(input_size):\n",
    "    # Encoder\n",
    "    inputs = Input(shape=(input_size,))\n",
    "    encoded = Dense(64, activation='relu')(inputs)\n",
    "    encoded = Dense(32, activation='relu')(encoded)\n",
    "\n",
    "    # Decoder\n",
    "    decoded = Dense(64, activation='relu')(encoded)\n",
    "    decoded = Dense(input_size, activation='linear')(decoded)\n",
    "\n",
    "    # Autoencoder model\n",
    "    autoencoder = Model(inputs, decoded)\n",
    "    autoencoder.compile(optimizer='adam', loss=mean_absolute_percentage_error)\n",
    "\n",
    "    return autoencoder"
   ]
  },
  {
   "cell_type": "code",
   "execution_count": null,
   "id": "823dc8bd",
   "metadata": {},
   "outputs": [],
   "source": [
    "autoencoder = build_autoencoder(input_size)\n",
    "autoencoder.fit(X_train, X_train, epochs = 20, batch_size = 32, validation_data = (X_test, X_test))"
   ]
  },
  {
   "cell_type": "code",
   "execution_count": null,
   "id": "519ec3ee",
   "metadata": {},
   "outputs": [],
   "source": [
    "encoder = Model(autoencoder.input, autoencoder.layers[2].output)"
   ]
  },
  {
   "cell_type": "code",
   "execution_count": null,
   "id": "78ba0a54",
   "metadata": {},
   "outputs": [],
   "source": [
    "X_train = encoder.predict(X_train)\n",
    "X_val = encoder.predict(X_val)\n",
    "X_test = encoder.predict(X_test)"
   ]
  },
  {
   "cell_type": "code",
   "execution_count": null,
   "id": "28ff9b15",
   "metadata": {},
   "outputs": [],
   "source": [
    "input_size = X_train.shape[1]"
   ]
  },
  {
   "cell_type": "code",
   "execution_count": null,
   "id": "4f520447",
   "metadata": {},
   "outputs": [],
   "source": [
    "# Define input layers\n",
    "input1 = Input(shape=(input_size,))\n",
    "input2 = Input(shape=(input_size,))\n",
    "# Define input layer\n",
    "input_layer = Input(shape=(input_size,))\n",
    "# Shared hidden layers\n",
    "shared_layer = Dense(64, activation='relu')\n",
    "# Hidden layers for input\n",
    "hidden1 = shared_layer(input_layer)\n",
    "hidden2 = Dense(32, activation='relu')(hidden1)\n",
    "# Additional hidden layers\n",
    "hidden3 = Dense(128, activation='relu')(hidden2)\n",
    "# Output layer\n",
    "outputs = Dense(output_size, activation='linear')(hidden3)"
   ]
  },
  {
   "cell_type": "code",
   "execution_count": null,
   "id": "0a347568",
   "metadata": {},
   "outputs": [],
   "source": [
    "# Create model\n",
    "model = tf.keras.Model(inputs=input_layer, outputs=outputs)\n",
    "# Compile the model\n",
    "model.compile(optimizer='adam', loss=mean_absolute_percentage_error)\n",
    "# Display model summary\n",
    "model.summary()"
   ]
  },
  {
   "cell_type": "code",
   "execution_count": null,
   "id": "4ee403d4",
   "metadata": {},
   "outputs": [],
   "source": [
    "model.fit(X_train, y_train, validation_data = (X_val, y_val))"
   ]
  },
  {
   "cell_type": "code",
   "execution_count": null,
   "id": "1c5c8d4d",
   "metadata": {
    "lines_to_next_cell": 2
   },
   "outputs": [],
   "source": [
    "y_pred = model.predict(X_test)\n",
    "mape = mean_absolute_percentage_error(y_test, y_pred)\n",
    "print(f\"MAPE: {mape}\")"
   ]
  },
  {
   "cell_type": "code",
   "execution_count": null,
   "id": "e6413174",
   "metadata": {},
   "outputs": [],
   "source": [
    "model.save('C:/Users/Brynjar Geir/Documents/lokaverkefni_vel/lokaverkefni_vel/code/model/saved_models/mergedNN.keras')"
   ]
  }
 ],
 "metadata": {
  "jupytext": {
   "cell_metadata_filter": "-all",
   "main_language": "python",
   "notebook_metadata_filter": "-all"
  },
  "language_info": {
   "name": "python"
  }
 },
 "nbformat": 4,
 "nbformat_minor": 5
}
