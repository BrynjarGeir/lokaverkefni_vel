{
 "cells": [
  {
   "cell_type": "code",
   "execution_count": 1,
   "metadata": {},
   "outputs": [],
   "source": [
    "from sklearn.preprocessing import StandardScaler\n",
    "from sklearn.model_selection import train_test_split\n",
    "\n",
    "import pandas as pd, numpy as np, tensorflow as tf"
   ]
  },
  {
   "cell_type": "code",
   "execution_count": 2,
   "metadata": {},
   "outputs": [],
   "source": [
    "def mean_absolute_percentage_error(y_true, y_pred):\n",
    "    return tf.reduce_mean(tf.abs((y_true-y_pred) / y_true)) * 100.0"
   ]
  },
  {
   "cell_type": "code",
   "execution_count": 3,
   "metadata": {},
   "outputs": [],
   "source": [
    "def weighted_average(predictions, weights):\n",
    "    return sum(pred * weight for pred, weight in zip(predictions, weights))"
   ]
  },
  {
   "cell_type": "code",
   "execution_count": 4,
   "metadata": {},
   "outputs": [],
   "source": [
    "nn128 = tf.keras.models.load_model('./saved_models/nn-128-units.keras')\n",
    "nn256 = tf.keras.models.load_model('./saved_models/nn-256-units.keras')"
   ]
  },
  {
   "cell_type": "code",
   "execution_count": 5,
   "metadata": {},
   "outputs": [],
   "source": [
    "#df = pd.read_feather('E:/Skóli/HÍ/Vélaverkfræði Master HÍ/Lokaverkefni/Data/merged-full-25ms-24hr-28-2-24.feather')\n",
    "#df = pd.read_feather('E:/Skóli/HÍ/Vélaverkfræði Master HÍ/Lokaverkefni/Data/merged-full-W-Landscape-And-Station-Elevations-25ms-24hr-11-3-24.feather')\n",
    "#df = pd.read_feather('D:\\Skóli\\lokaverkefni_vel\\data\\merged-full-W-Landscape-And-Station-Elevations-25ms-24hr-11-3-24.feather')\n",
    "df = pd.read_feather('E:/Skóli/HÍ/Vélaverkfræði Master HÍ/Lokaverkefni/Data/merged-full-W-Landscape-And-Station-Elevations-25ms-24hr-13-3-24-stripped-with-klst.feather')\n",
    "\n",
    "df = df[df.f < df.fg]\n",
    "df['gust_factor'] = df.fg / df.f\n",
    "\n",
    "df_unfolded = df.elevations.apply(pd.Series)\n",
    "\n",
    "df = pd.concat([df, df_unfolded], axis = 1)\n",
    "\n",
    "df = df.dropna()\n",
    "df = df.reset_index(drop = True)"
   ]
  },
  {
   "cell_type": "code",
   "execution_count": 6,
   "metadata": {},
   "outputs": [],
   "source": [
    "df.iloc[:, -70:] = df.iloc[:, -70:].sub(df.station_elevation, axis = 0)"
   ]
  },
  {
   "cell_type": "code",
   "execution_count": 7,
   "metadata": {},
   "outputs": [],
   "source": [
    "from sklearn.decomposition import PCA\n",
    "\n",
    "df_landscape_elevation = df.iloc[:, -70:]\n",
    "\n",
    "df_landscape_elevation = (df_landscape_elevation - df_landscape_elevation.mean()) / df_landscape_elevation.std()\n",
    "\n",
    "n_components = 5\n",
    "\n",
    "pca = PCA(n_components=n_components)\n",
    "compressed_features = pca.fit_transform(df_landscape_elevation)\n",
    "\n",
    "compressed_df = pd.DataFrame(data = compressed_features, columns = ['PC' + str(i) for i in range(n_components)])\n",
    "\n",
    "df  = pd.concat([df, compressed_df], axis = 1)"
   ]
  },
  {
   "cell_type": "code",
   "execution_count": 8,
   "metadata": {},
   "outputs": [],
   "source": [
    "from math import sqrt, sin, cos, acos, pi\n",
    "\n",
    "def cornerFromCenterLand(row):\n",
    "    X, Y, d = row.X, row.Y, row.d\n",
    "    inlandX, inlandY = 520000, 485000\n",
    "\n",
    "    len_v1 = sqrt((X-inlandX)**2 + (Y-inlandY)**2)\n",
    "\n",
    "    v1 = ((X - inlandX)/len_v1, (Y - inlandY)/ len_v1)\n",
    "\n",
    "    outX, outY = X + cos(d * pi / 180), Y + sin(d * pi / 180)\n",
    "\n",
    "    len_v2 = sqrt(outX**2 + outY**2)\n",
    "\n",
    "    v2 = (outX / len_v2, outY / len_v2)\n",
    "\n",
    "    return acos(np.dot(v1, v2))\n",
    "    "
   ]
  },
  {
   "cell_type": "code",
   "execution_count": 9,
   "metadata": {},
   "outputs": [],
   "source": [
    "df['relativeCorner'] = df.apply(cornerFromCenterLand, axis = 1)"
   ]
  },
  {
   "cell_type": "code",
   "execution_count": 10,
   "metadata": {},
   "outputs": [],
   "source": [
    "y = df.gust_factor\n",
    "X = df[['Ri_01', 'Ri_12', 'X', 'Y', 'station_elevation', 'relativeCorner'] + ['PC' + str(i) for i in range(n_components)]]\n",
    "\n",
    "# Changing the type of X,y so as to work with Tensorflow\n",
    "X, y = X.values.astype(np.float32), y.values.astype(np.float32)\n",
    "scaler = StandardScaler()\n",
    "\n",
    "# Split the data into training and testing sets\n",
    "X_train, X_test, y_train, y_test = train_test_split(X, y, test_size=0.2, random_state=42)\n",
    "X_train, X_val, y_train, y_val = train_test_split(X_train, y_train, test_size=0.1, random_state=42)\n",
    "X_train = scaler.fit_transform(X_train)\n",
    "X_val = scaler.fit_transform(X_val)\n",
    "X_test = scaler.fit_transform(X_test)"
   ]
  },
  {
   "cell_type": "code",
   "execution_count": 11,
   "metadata": {},
   "outputs": [
    {
     "name": "stdout",
     "output_type": "stream",
     "text": [
      "\u001b[1m233/233\u001b[0m \u001b[32m━━━━━━━━━━━━━━━━━━━━\u001b[0m\u001b[37m\u001b[0m \u001b[1m0s\u001b[0m 1ms/step\n",
      "\u001b[1m233/233\u001b[0m \u001b[32m━━━━━━━━━━━━━━━━━━━━\u001b[0m\u001b[37m\u001b[0m \u001b[1m1s\u001b[0m 2ms/step\n"
     ]
    }
   ],
   "source": [
    "y_pred_nn_128 = nn128.predict(X_train)\n",
    "y_pred_nn_256 = nn256.predict(X_train)"
   ]
  },
  {
   "cell_type": "code",
   "execution_count": 12,
   "metadata": {},
   "outputs": [],
   "source": [
    "best_weights, best_metric = None, float('inf')\n",
    "\n",
    "weight_combs = [(100 -i, i) for i in range(101)]\n",
    "for weights in weight_combs:\n",
    "    ensemble_predictions = weighted_average([y_pred_nn_128, y_pred_nn_256], weights) / 100\n",
    "    current_metric = mean_absolute_percentage_error(y_test, ensemble_predictions)\n",
    "\n",
    "    if current_metric < best_metric:\n",
    "        best_weights = weights\n",
    "        best_metric = current_metric"
   ]
  },
  {
   "cell_type": "code",
   "execution_count": 13,
   "metadata": {},
   "outputs": [
    {
     "name": "stdout",
     "output_type": "stream",
     "text": [
      "Best Weights: (97, 3)\n",
      "Best Metric: 7.168061256408691%\n"
     ]
    }
   ],
   "source": [
    "print(f\"Best Weights: {best_weights}\")\n",
    "print(f\"Best Metric: {best_metric}%\")"
   ]
  },
  {
   "cell_type": "code",
   "execution_count": 14,
   "metadata": {},
   "outputs": [
    {
     "name": "stdout",
     "output_type": "stream",
     "text": [
      "\u001b[1m65/65\u001b[0m \u001b[32m━━━━━━━━━━━━━━━━━━━━\u001b[0m\u001b[37m\u001b[0m \u001b[1m0s\u001b[0m 3ms/step\n",
      "\u001b[1m65/65\u001b[0m \u001b[32m━━━━━━━━━━━━━━━━━━━━\u001b[0m\u001b[37m\u001b[0m \u001b[1m0s\u001b[0m 4ms/step\n"
     ]
    }
   ],
   "source": [
    "y_pred_nn128_test, y_pred_nn256_test = nn128.predict(X_test), nn256.predict(X_test)"
   ]
  },
  {
   "cell_type": "code",
   "execution_count": 15,
   "metadata": {},
   "outputs": [
    {
     "name": "stdout",
     "output_type": "stream",
     "text": [
      "[[1.17263716]\n",
      " [1.23484459]\n",
      " [1.18888811]\n",
      " ...\n",
      " [1.19409433]\n",
      " [1.18729933]\n",
      " [1.28128415]]\n",
      "The MAPE is 7.138090743994361 %\n"
     ]
    }
   ],
   "source": [
    "weights, input_data = np.expand_dims(np.array(best_weights), axis = (1,2)), np.array((y_pred_nn128_test, y_pred_nn256_test))\n",
    "\n",
    "final_predictions = (weights[0] * np.array(y_pred_nn128_test) + weights[1] * np.array(y_pred_nn256_test))/100\n",
    "\n",
    "print(final_predictions)\n",
    "mape = mean_absolute_percentage_error(y_test, final_predictions)\n",
    "print(f'The MAPE is {mape} %')"
   ]
  }
 ],
 "metadata": {
  "kernelspec": {
   "display_name": ".venv",
   "language": "python",
   "name": "python3"
  },
  "language_info": {
   "codemirror_mode": {
    "name": "ipython",
    "version": 3
   },
   "file_extension": ".py",
   "mimetype": "text/x-python",
   "name": "python",
   "nbconvert_exporter": "python",
   "pygments_lexer": "ipython3",
   "version": "3.12.2"
  }
 },
 "nbformat": 4,
 "nbformat_minor": 2
}
