{
 "cells": [
  {
   "cell_type": "code",
   "execution_count": 1,
   "id": "ea8aff13",
   "metadata": {
    "lines_to_next_cell": 1
   },
   "outputs": [
    {
     "name": "stdout",
     "output_type": "stream",
     "text": [
      "WARNING:tensorflow:From d:\\Skoli\\Mastersverkefni\\lokaverkefni_vel\\code\\.venv\\Lib\\site-packages\\keras\\src\\losses.py:2976: The name tf.losses.sparse_softmax_cross_entropy is deprecated. Please use tf.compat.v1.losses.sparse_softmax_cross_entropy instead.\n",
      "\n"
     ]
    }
   ],
   "source": [
    "from tensorflow.keras.regularizers import l2\n",
    "from keras_tuner import HyperModel, HyperParameters, RandomSearch\n",
    "\n",
    "from utils.util import is_laptop\n",
    "from utils.model import mean_absolute_percentage_error\n",
    "from utils.data import get_normalized_data\n",
    "\n",
    "import pandas as pd, numpy as np, tensorflow as tf"
   ]
  },
  {
   "cell_type": "code",
   "execution_count": 2,
   "id": "81564d8f",
   "metadata": {},
   "outputs": [],
   "source": [
    "train, val, test = get_normalized_data()\n",
    "\n",
    "X_train, y_train = train\n",
    "X_val, y_val = val\n",
    "X_test, y_test = test"
   ]
  },
  {
   "cell_type": "code",
   "execution_count": 3,
   "id": "30b6902e",
   "metadata": {},
   "outputs": [
    {
     "data": {
      "text/plain": [
       "'adam'"
      ]
     },
     "execution_count": 3,
     "metadata": {},
     "output_type": "execute_result"
    }
   ],
   "source": [
    "hp = HyperParameters()\n",
    "hp.Int('n_layers', min_value = 4, max_value = 15)\n",
    "hp.Int('n_units', min_value = 32, max_value = 512, step = 32)\n",
    "hp.Int('epochs', min_value = 50, max_value = 1000, step = 50)\n",
    "\n",
    "hp.Float('penalty', min_value = 1e-4, max_value = 1, sampling = 'log')\n",
    "\n",
    "hp.Choice('activation', ['relu', 'elu', 'softmax'])\n",
    "hp.Choice('optimizer', ['adam', 'rmsprop', 'adamax'])\n"
   ]
  },
  {
   "cell_type": "code",
   "execution_count": 4,
   "id": "b33d4597",
   "metadata": {},
   "outputs": [],
   "source": [
    "def build_model_tuner(hp):\n",
    "    n_units = hp.get('n_units')\n",
    "    n_layers = hp.get('n_layers')\n",
    "    activation = hp.get('activation')\n",
    "    penalty = hp.get('penalty')\n",
    "    optimizer = hp.get('optimizer')\n",
    "\n",
    "    model = tf.keras.Sequential()\n",
    "    model.add(tf.keras.layers.Dense(units = n_units, activation = activation, kernel_regularizer=l2(penalty), input_shape = (X_train.shape[1], )))\n",
    "    model.add(tf.keras.layers.BatchNormalization())\n",
    "\n",
    "    for _ in range(n_layers):\n",
    "        model.add(tf.keras.layers.Dense(units = n_units, activation = activation, kernel_regularizer=l2(penalty)))\n",
    "        model.add(tf.keras.layers.BatchNormalization())\n",
    "\n",
    "    model.add(tf.keras.layers.Dense(units = n_units, activation = activation, kernel_regularizer=l2(penalty)))\n",
    "    model.add(tf.keras.layers.Dropout(0.5))\n",
    "\n",
    "    model.add(tf.keras.layers.Dense(units = 1, activation = 'linear'))\n",
    "\n",
    "    model.compile(optimizer = optimizer, loss = mean_absolute_percentage_error)\n",
    "\n",
    "    return model\n",
    "\n"
   ]
  },
  {
   "cell_type": "code",
   "execution_count": 5,
   "id": "df5d2a9f",
   "metadata": {},
   "outputs": [
    {
     "name": "stdout",
     "output_type": "stream",
     "text": [
      "Trial 10 Complete [00h 06m 07s]\n",
      "val_loss: 5.034312725067139\n",
      "\n",
      "Best val_loss So Far: 5.0051984786987305\n",
      "Total elapsed time: 02h 27m 08s\n"
     ]
    }
   ],
   "source": [
    "tuner = RandomSearch(build_model_tuner, hyperparameters = hp, objective = 'val_loss', max_trials = 10)\n",
    "tuner.search(X_train, y_train, epochs = hp.get('epochs'), validation_data = (X_val, y_val))"
   ]
  },
  {
   "cell_type": "code",
   "execution_count": 6,
   "id": "c9d610d9",
   "metadata": {
    "lines_to_next_cell": 2
   },
   "outputs": [],
   "source": [
    "from datetime import date\n",
    "best_model = tuner.get_best_models()[0]\n",
    "best_model.save(f'./saved_models/nn-{date.today()}.keras')"
   ]
  }
 ],
 "metadata": {
  "jupytext": {
   "cell_metadata_filter": "-all",
   "main_language": "python",
   "notebook_metadata_filter": "-all"
  },
  "kernelspec": {
   "display_name": ".venv",
   "language": "python",
   "name": "python3"
  },
  "language_info": {
   "codemirror_mode": {
    "name": "ipython",
    "version": 3
   },
   "file_extension": ".py",
   "mimetype": "text/x-python",
   "name": "python",
   "nbconvert_exporter": "python",
   "pygments_lexer": "ipython3",
   "version": "3.11.2"
  }
 },
 "nbformat": 4,
 "nbformat_minor": 5
}
