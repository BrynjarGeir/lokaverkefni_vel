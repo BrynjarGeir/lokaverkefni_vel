{
 "cells": [
  {
   "cell_type": "code",
   "execution_count": 2,
   "id": "6ecc11b7",
   "metadata": {},
   "outputs": [],
   "source": [
    "# Asked ChatGPT for a baseline and this is it\n",
    "# The parameters are the below along with 70 landscape parameters with \n",
    "    #Index(['DateTime', 'lat', 'lon', 'wdir15', 't15', 'ws15', 'pres15', 'wdir150',\n",
    "    #       't150', 'ws150', 'pres150', 'wdir250', 't250', 'ws250', 'pres250',\n",
    "    #       'wdir500', 't500', 'ws500', 'pres500', 'f', 'fg', 'gust_factor'],\n",
    "    #      dtype='object')"
   ]
  },
  {
   "cell_type": "code",
   "execution_count": 3,
   "id": "ea8aff13",
   "metadata": {
    "lines_to_next_cell": 1
   },
   "outputs": [
    {
     "name": "stdout",
     "output_type": "stream",
     "text": [
      "WARNING:tensorflow:From d:\\Skóli\\lokaverkefni_vel\\code\\.venv\\Lib\\site-packages\\keras\\src\\losses.py:2976: The name tf.losses.sparse_softmax_cross_entropy is deprecated. Please use tf.compat.v1.losses.sparse_softmax_cross_entropy instead.\n",
      "\n"
     ]
    }
   ],
   "source": [
    "from sklearn.model_selection import train_test_split\n",
    "from sklearn.preprocessing import StandardScaler\n",
    "import pandas as pd, numpy as np, tensorflow as tf"
   ]
  },
  {
   "cell_type": "code",
   "execution_count": 4,
   "id": "86c76266",
   "metadata": {
    "lines_to_next_cell": 1
   },
   "outputs": [],
   "source": [
    "def mean_absolute_percentage_error(y_true, y_pred):\n",
    "    return tf.reduce_mean(tf.abs((y_true-y_pred) / y_true)) * 100.0"
   ]
  },
  {
   "cell_type": "code",
   "execution_count": 98,
   "id": "eb2141e4",
   "metadata": {
    "lines_to_next_cell": 2
   },
   "outputs": [],
   "source": [
    "#df = pd.read_feather('E:/Skóli/HÍ/Vélaverkfræði Master HÍ/Lokaverkefni/Data/merged-full-25ms-24hr-28-2-24.feather')\n",
    "#df = pd.read_feather('E:/Skóli/HÍ/Vélaverkfræði Master HÍ/Lokaverkefni/Data/merged-full-W-Landscape-And-Station-Elevations-25ms-24hr-11-3-24.feather')\n",
    "df = pd.read_feather('D:\\Skóli\\lokaverkefni_vel\\data\\merged-full-W-Landscape-And-Station-Elevations-25ms-24hr-11-3-24.feather')\n",
    "df = df[df.f < df.fg]\n",
    "df['gust_factor'] = df.fg / df.f\n",
    "\n",
    "df_unfolded = df.elevations.apply(pd.Series)\n",
    "\n",
    "df = pd.concat([df, df_unfolded], axis = 1)\n",
    "\n",
    "df = df.dropna()\n",
    "df = df.reset_index(drop = True)"
   ]
  },
  {
   "cell_type": "code",
   "execution_count": 99,
   "id": "a79532fc",
   "metadata": {},
   "outputs": [],
   "source": [
    "df.iloc[:, -70:] = df.iloc[:, -70:].sub(df.station_elevation, axis = 0)"
   ]
  },
  {
   "cell_type": "code",
   "execution_count": 100,
   "id": "6f03c6cb",
   "metadata": {},
   "outputs": [],
   "source": [
    "from sklearn.decomposition import PCA\n",
    "\n",
    "df_landscape_elevation = df.iloc[:, -70:]\n",
    "\n",
    "df_landscape_elevation = (df_landscape_elevation - df_landscape_elevation.mean()) / df_landscape_elevation.std()\n",
    "\n",
    "n_components = 5\n",
    "\n",
    "pca = PCA(n_components=n_components)\n",
    "compressed_features = pca.fit_transform(df_landscape_elevation)\n",
    "\n",
    "compressed_df = pd.DataFrame(data = compressed_features, columns = ['PC' + str(i) for i in range(n_components)])\n",
    "\n",
    "df  = pd.concat([df, compressed_df], axis = 1)"
   ]
  },
  {
   "cell_type": "code",
   "execution_count": 117,
   "id": "3281887a",
   "metadata": {},
   "outputs": [],
   "source": [
    "from math import sqrt, sin, cos, acos, pi\n",
    "\n",
    "def cornerFromCenterLand(row):\n",
    "    X, Y, d = row.X, row.Y, row.d\n",
    "    inlandX, inlandY = 520000, 485000\n",
    "\n",
    "    len_v1 = sqrt((X-inlandX)**2 + (Y-inlandY)**2)\n",
    "\n",
    "    v1 = ((X - inlandX)/len_v1, (Y - inlandY)/ len_v1)\n",
    "\n",
    "    outX, outY = X + cos(d * pi / 180), Y + sin(d * pi / 180)\n",
    "\n",
    "    len_v2 = sqrt(outX**2 + outY**2)\n",
    "\n",
    "    v2 = (outX / len_v2, outY / len_v2)\n",
    "\n",
    "    return acos(np.dot(v1, v2))\n",
    "    "
   ]
  },
  {
   "cell_type": "code",
   "execution_count": 118,
   "id": "2cbc3f50",
   "metadata": {},
   "outputs": [],
   "source": [
    "df['relativeCorner'] = df.apply(cornerFromCenterLand, axis = 1)"
   ]
  },
  {
   "cell_type": "code",
   "execution_count": 124,
   "id": "c45882aa",
   "metadata": {},
   "outputs": [
    {
     "data": {
      "text/plain": [
       "Index([             'X',              'Y',           'time',          'ws_15',\n",
       "               'ws_250',         'ws_500',          'wd_15',         'wd_250',\n",
       "               'wd_500',           'p_15',\n",
       "       ...\n",
       "                     66,               67,               68,               69,\n",
       "                  'PC0',            'PC1',            'PC2',            'PC3',\n",
       "                  'PC4', 'relativeCorner'],\n",
       "      dtype='object', length=107)"
      ]
     },
     "execution_count": 124,
     "metadata": {},
     "output_type": "execute_result"
    }
   ],
   "source": [
    "df.columns"
   ]
  },
  {
   "cell_type": "code",
   "execution_count": 134,
   "id": "0e64d5b2",
   "metadata": {
    "lines_to_next_cell": 2
   },
   "outputs": [],
   "source": [
    "y = df.gust_factor\n",
    "X = df[['Ri_01', 'Ri_12', 'X', 'Y', 'relativeCorner'] + ['PC' + str(i) for i in range(n_components)]]\n",
    "\n",
    "# Changing the type of X,y so as to work with Tensorflow\n",
    "X, y = X.values.astype(np.float32), y.values.astype(np.float32)\n",
    "scaler = StandardScaler()\n",
    "\n",
    "# Split the data into training and testing sets\n",
    "X_train, X_test, y_train, y_test = train_test_split(X, y, test_size=0.2, random_state=42)\n",
    "X_train, X_val, y_train, y_val = train_test_split(X_train, y_train, test_size=0.1, random_state=42)\n",
    "X_train = scaler.fit_transform(X_train)\n",
    "X_val = scaler.fit_transform(X_val)\n",
    "X_test = scaler.fit_transform(X_test)"
   ]
  },
  {
   "cell_type": "code",
   "execution_count": 135,
   "id": "bc74e247",
   "metadata": {},
   "outputs": [],
   "source": [
    "n_units = 128\n",
    "\n",
    "model = tf.keras.Sequential([\n",
    "    tf.keras.layers.Dense(units=n_units, activation='relu', input_shape=(X_train.shape[1],)),\n",
    "    tf.keras.layers.BatchNormalization(),\n",
    "\n",
    "    tf.keras.layers.Dense(units=n_units, activation='relu'),\n",
    "    tf.keras.layers.BatchNormalization(),\n",
    "\n",
    "    tf.keras.layers.Dense(units=n_units, activation='relu'),\n",
    "    tf.keras.layers.BatchNormalization(),\n",
    "\n",
    "    tf.keras.layers.Dense(units=n_units, activation='relu'),\n",
    "    tf.keras.layers.BatchNormalization(),\n",
    "\n",
    "    tf.keras.layers.Dense(units=n_units, activation='relu'),\n",
    "    tf.keras.layers.BatchNormalization(),\n",
    "    tf.keras.layers.Dropout(0.5),\n",
    "\n",
    "    tf.keras.layers.Dense(units=1, activation='linear')\n",
    "])"
   ]
  },
  {
   "cell_type": "code",
   "execution_count": 136,
   "id": "c19613c6",
   "metadata": {
    "lines_to_next_cell": 2
   },
   "outputs": [
    {
     "name": "stdout",
     "output_type": "stream",
     "text": [
      "Epoch 1/100\n",
      "64/64 [==============================] - 3s 9ms/step - loss: 101.4279 - val_loss: 32.8905\n",
      "Epoch 2/100\n",
      "64/64 [==============================] - 0s 5ms/step - loss: 62.7946 - val_loss: 17.9528\n",
      "Epoch 3/100\n",
      "64/64 [==============================] - 0s 5ms/step - loss: 41.8477 - val_loss: 13.5544\n",
      "Epoch 4/100\n",
      "64/64 [==============================] - 0s 5ms/step - loss: 30.4570 - val_loss: 9.7677\n",
      "Epoch 5/100\n",
      "64/64 [==============================] - 0s 5ms/step - loss: 23.7170 - val_loss: 8.6741\n",
      "Epoch 6/100\n",
      "64/64 [==============================] - 0s 5ms/step - loss: 19.6844 - val_loss: 8.0658\n",
      "Epoch 7/100\n",
      "64/64 [==============================] - 0s 5ms/step - loss: 16.7616 - val_loss: 7.6930\n",
      "Epoch 8/100\n",
      "64/64 [==============================] - 0s 6ms/step - loss: 16.0242 - val_loss: 7.6208\n",
      "Epoch 9/100\n",
      "64/64 [==============================] - 0s 5ms/step - loss: 14.0640 - val_loss: 7.3512\n",
      "Epoch 10/100\n",
      "64/64 [==============================] - 0s 5ms/step - loss: 13.8805 - val_loss: 8.7516\n",
      "Epoch 11/100\n",
      "64/64 [==============================] - 0s 5ms/step - loss: 13.1284 - val_loss: 7.2751\n",
      "Epoch 12/100\n",
      "64/64 [==============================] - 0s 5ms/step - loss: 12.4983 - val_loss: 7.5706\n",
      "Epoch 13/100\n",
      "64/64 [==============================] - 0s 5ms/step - loss: 12.1173 - val_loss: 7.7729\n",
      "Epoch 14/100\n",
      "64/64 [==============================] - 0s 6ms/step - loss: 11.5663 - val_loss: 7.0305\n",
      "Epoch 15/100\n",
      "64/64 [==============================] - 0s 6ms/step - loss: 11.5041 - val_loss: 7.0134\n",
      "Epoch 16/100\n",
      "64/64 [==============================] - 0s 5ms/step - loss: 11.3673 - val_loss: 7.2540\n",
      "Epoch 17/100\n",
      "64/64 [==============================] - 0s 6ms/step - loss: 10.6508 - val_loss: 7.1467\n",
      "Epoch 18/100\n",
      "64/64 [==============================] - 0s 6ms/step - loss: 10.3981 - val_loss: 6.9408\n",
      "Epoch 19/100\n",
      "64/64 [==============================] - 0s 5ms/step - loss: 9.9869 - val_loss: 7.6722\n",
      "Epoch 20/100\n",
      "64/64 [==============================] - 0s 5ms/step - loss: 9.9276 - val_loss: 7.1440\n",
      "Epoch 21/100\n",
      "64/64 [==============================] - 0s 5ms/step - loss: 9.7068 - val_loss: 7.6026\n",
      "Epoch 22/100\n",
      "64/64 [==============================] - 0s 5ms/step - loss: 9.5253 - val_loss: 6.7746\n",
      "Epoch 23/100\n",
      "64/64 [==============================] - 0s 5ms/step - loss: 9.3660 - val_loss: 6.9898\n",
      "Epoch 24/100\n",
      "64/64 [==============================] - 0s 5ms/step - loss: 9.4005 - val_loss: 7.2792\n",
      "Epoch 25/100\n",
      "64/64 [==============================] - 0s 6ms/step - loss: 8.9041 - val_loss: 7.2111\n",
      "Epoch 26/100\n",
      "64/64 [==============================] - 0s 5ms/step - loss: 8.6786 - val_loss: 6.9697\n",
      "Epoch 27/100\n",
      "64/64 [==============================] - 0s 5ms/step - loss: 8.8024 - val_loss: 7.7450\n",
      "Epoch 28/100\n",
      "64/64 [==============================] - 0s 5ms/step - loss: 8.5939 - val_loss: 6.9528\n",
      "Epoch 29/100\n",
      "64/64 [==============================] - 0s 5ms/step - loss: 8.2425 - val_loss: 6.9775\n",
      "Epoch 30/100\n",
      "64/64 [==============================] - 0s 5ms/step - loss: 8.1305 - val_loss: 6.8869\n",
      "Epoch 31/100\n",
      "64/64 [==============================] - 0s 5ms/step - loss: 8.1997 - val_loss: 6.7878\n",
      "Epoch 32/100\n",
      "64/64 [==============================] - 0s 5ms/step - loss: 7.7054 - val_loss: 6.6780\n",
      "Epoch 33/100\n",
      "64/64 [==============================] - 0s 6ms/step - loss: 7.7050 - val_loss: 6.7696\n",
      "Epoch 34/100\n",
      "64/64 [==============================] - 0s 5ms/step - loss: 7.7208 - val_loss: 6.7376\n",
      "Epoch 35/100\n",
      "64/64 [==============================] - 0s 5ms/step - loss: 7.4381 - val_loss: 6.6394\n",
      "Epoch 36/100\n",
      "64/64 [==============================] - 0s 5ms/step - loss: 7.4968 - val_loss: 6.6883\n",
      "Epoch 37/100\n",
      "64/64 [==============================] - 0s 5ms/step - loss: 7.4499 - val_loss: 6.6540\n",
      "Epoch 38/100\n",
      "64/64 [==============================] - 0s 5ms/step - loss: 7.3207 - val_loss: 6.6672\n",
      "Epoch 39/100\n",
      "64/64 [==============================] - 0s 5ms/step - loss: 7.2122 - val_loss: 6.8168\n",
      "Epoch 40/100\n",
      "64/64 [==============================] - 0s 5ms/step - loss: 7.2778 - val_loss: 6.9655\n",
      "Epoch 41/100\n",
      "64/64 [==============================] - 0s 6ms/step - loss: 7.1984 - val_loss: 6.7331\n",
      "Epoch 42/100\n",
      "64/64 [==============================] - 0s 5ms/step - loss: 7.1427 - val_loss: 6.6514\n",
      "Epoch 43/100\n",
      "64/64 [==============================] - 0s 5ms/step - loss: 7.1633 - val_loss: 6.8561\n",
      "Epoch 44/100\n",
      "64/64 [==============================] - 0s 6ms/step - loss: 7.0627 - val_loss: 6.6239\n",
      "Epoch 45/100\n",
      "64/64 [==============================] - 0s 5ms/step - loss: 6.9656 - val_loss: 6.6565\n",
      "Epoch 46/100\n",
      "64/64 [==============================] - 0s 5ms/step - loss: 6.9170 - val_loss: 6.7388\n",
      "Epoch 47/100\n",
      "64/64 [==============================] - 0s 5ms/step - loss: 6.8421 - val_loss: 6.6290\n",
      "Epoch 48/100\n",
      "64/64 [==============================] - 0s 5ms/step - loss: 6.9974 - val_loss: 6.7524\n",
      "Epoch 49/100\n",
      "64/64 [==============================] - 0s 6ms/step - loss: 6.8495 - val_loss: 6.6788\n",
      "Epoch 50/100\n",
      "64/64 [==============================] - 0s 5ms/step - loss: 6.7586 - val_loss: 6.6785\n",
      "Epoch 51/100\n",
      "64/64 [==============================] - 0s 5ms/step - loss: 6.8060 - val_loss: 6.6567\n",
      "Epoch 52/100\n",
      "64/64 [==============================] - 0s 5ms/step - loss: 6.6826 - val_loss: 6.7594\n",
      "Epoch 53/100\n",
      "64/64 [==============================] - 0s 5ms/step - loss: 6.7130 - val_loss: 6.6697\n",
      "Epoch 54/100\n",
      "64/64 [==============================] - 0s 5ms/step - loss: 6.8361 - val_loss: 6.9524\n",
      "Epoch 55/100\n",
      "64/64 [==============================] - 0s 5ms/step - loss: 6.8076 - val_loss: 6.9065\n",
      "Epoch 56/100\n",
      "64/64 [==============================] - 0s 5ms/step - loss: 6.7649 - val_loss: 6.7241\n",
      "Epoch 57/100\n",
      "64/64 [==============================] - 0s 6ms/step - loss: 6.6736 - val_loss: 6.7042\n",
      "Epoch 58/100\n",
      "64/64 [==============================] - 0s 5ms/step - loss: 6.7461 - val_loss: 6.6310\n",
      "Epoch 59/100\n",
      "64/64 [==============================] - 0s 5ms/step - loss: 6.5944 - val_loss: 6.6454\n",
      "Epoch 60/100\n",
      "64/64 [==============================] - 0s 5ms/step - loss: 6.6342 - val_loss: 6.8577\n",
      "Epoch 61/100\n",
      "64/64 [==============================] - 0s 5ms/step - loss: 6.7165 - val_loss: 6.6643\n",
      "Epoch 62/100\n",
      "64/64 [==============================] - 0s 5ms/step - loss: 6.6639 - val_loss: 6.8532\n",
      "Epoch 63/100\n",
      "64/64 [==============================] - 0s 6ms/step - loss: 6.6973 - val_loss: 6.6503\n",
      "Epoch 64/100\n",
      "64/64 [==============================] - 0s 5ms/step - loss: 6.6646 - val_loss: 6.6972\n",
      "Epoch 65/100\n",
      "64/64 [==============================] - 0s 6ms/step - loss: 6.6549 - val_loss: 6.6600\n",
      "Epoch 66/100\n",
      "64/64 [==============================] - 0s 5ms/step - loss: 6.6529 - val_loss: 6.7762\n",
      "Epoch 67/100\n",
      "64/64 [==============================] - 0s 5ms/step - loss: 6.5103 - val_loss: 6.7689\n",
      "Epoch 68/100\n",
      "64/64 [==============================] - 0s 5ms/step - loss: 6.6809 - val_loss: 6.6644\n",
      "Epoch 69/100\n",
      "64/64 [==============================] - 0s 5ms/step - loss: 6.6132 - val_loss: 6.7061\n",
      "Epoch 70/100\n",
      "64/64 [==============================] - 0s 5ms/step - loss: 6.5958 - val_loss: 6.8662\n",
      "Epoch 71/100\n",
      "64/64 [==============================] - 0s 5ms/step - loss: 6.5758 - val_loss: 6.8455\n",
      "Epoch 72/100\n",
      "64/64 [==============================] - 0s 5ms/step - loss: 6.5757 - val_loss: 6.7993\n",
      "Epoch 73/100\n",
      "64/64 [==============================] - 0s 6ms/step - loss: 6.6152 - val_loss: 6.6537\n",
      "Epoch 74/100\n",
      "64/64 [==============================] - 0s 5ms/step - loss: 6.5522 - val_loss: 6.6947\n",
      "Epoch 75/100\n",
      "64/64 [==============================] - 0s 5ms/step - loss: 6.6384 - val_loss: 6.6062\n",
      "Epoch 76/100\n",
      "64/64 [==============================] - 0s 5ms/step - loss: 6.5739 - val_loss: 6.6515\n",
      "Epoch 77/100\n",
      "64/64 [==============================] - 0s 5ms/step - loss: 6.6820 - val_loss: 6.7012\n",
      "Epoch 78/100\n",
      "64/64 [==============================] - 0s 5ms/step - loss: 6.5384 - val_loss: 6.6236\n",
      "Epoch 79/100\n",
      "64/64 [==============================] - 0s 5ms/step - loss: 6.5603 - val_loss: 6.7711\n",
      "Epoch 80/100\n",
      "64/64 [==============================] - 0s 6ms/step - loss: 6.6047 - val_loss: 6.8067\n",
      "Epoch 81/100\n",
      "64/64 [==============================] - 0s 5ms/step - loss: 6.5482 - val_loss: 6.7197\n",
      "Epoch 82/100\n",
      "64/64 [==============================] - 0s 6ms/step - loss: 6.5227 - val_loss: 6.6945\n",
      "Epoch 83/100\n",
      "64/64 [==============================] - 0s 5ms/step - loss: 6.5783 - val_loss: 6.7104\n",
      "Epoch 84/100\n",
      "64/64 [==============================] - 0s 5ms/step - loss: 6.5772 - val_loss: 6.8160\n",
      "Epoch 85/100\n",
      "64/64 [==============================] - 0s 5ms/step - loss: 6.5575 - val_loss: 6.9493\n",
      "Epoch 86/100\n",
      "64/64 [==============================] - 0s 5ms/step - loss: 6.5221 - val_loss: 6.7565\n",
      "Epoch 87/100\n",
      "64/64 [==============================] - 0s 5ms/step - loss: 6.4742 - val_loss: 6.8807\n",
      "Epoch 88/100\n",
      "64/64 [==============================] - 0s 6ms/step - loss: 6.5374 - val_loss: 6.7149\n",
      "Epoch 89/100\n",
      "64/64 [==============================] - 0s 6ms/step - loss: 6.4940 - val_loss: 6.9491\n",
      "Epoch 90/100\n",
      "64/64 [==============================] - 0s 5ms/step - loss: 6.4780 - val_loss: 6.7197\n",
      "Epoch 91/100\n",
      "64/64 [==============================] - 0s 6ms/step - loss: 6.4929 - val_loss: 6.8806\n",
      "Epoch 92/100\n",
      "64/64 [==============================] - 0s 6ms/step - loss: 6.5445 - val_loss: 6.6682\n",
      "Epoch 93/100\n",
      "64/64 [==============================] - 0s 6ms/step - loss: 6.4151 - val_loss: 6.6983\n",
      "Epoch 94/100\n",
      "64/64 [==============================] - 0s 6ms/step - loss: 6.4929 - val_loss: 6.8341\n",
      "Epoch 95/100\n",
      "64/64 [==============================] - 0s 6ms/step - loss: 6.5285 - val_loss: 6.6214\n",
      "Epoch 96/100\n",
      "64/64 [==============================] - 0s 6ms/step - loss: 6.4569 - val_loss: 6.8003\n",
      "Epoch 97/100\n",
      "64/64 [==============================] - 0s 5ms/step - loss: 6.4562 - val_loss: 6.7437\n",
      "Epoch 98/100\n",
      "64/64 [==============================] - 0s 5ms/step - loss: 6.4844 - val_loss: 6.7230\n",
      "Epoch 99/100\n",
      "64/64 [==============================] - 0s 5ms/step - loss: 6.5206 - val_loss: 6.8044\n",
      "Epoch 100/100\n",
      "64/64 [==============================] - 0s 5ms/step - loss: 6.4819 - val_loss: 6.7389\n"
     ]
    },
    {
     "data": {
      "text/plain": [
       "<keras.src.callbacks.History at 0x1c020d2c2d0>"
      ]
     },
     "execution_count": 136,
     "metadata": {},
     "output_type": "execute_result"
    }
   ],
   "source": [
    "model.compile(optimizer='adam', loss=mean_absolute_percentage_error)\n",
    "# Train the model\n",
    "model.fit(X_train, y_train, epochs = 100, batch_size = 128, validation_data = (X_val, y_val))"
   ]
  },
  {
   "cell_type": "code",
   "execution_count": 137,
   "id": "b8f03a43",
   "metadata": {},
   "outputs": [
    {
     "name": "stdout",
     "output_type": "stream",
     "text": [
      "71/71 [==============================] - 0s 2ms/step - loss: 6.3607\n",
      "Model evaluates to: 6.360672473907471%\n"
     ]
    }
   ],
   "source": [
    "# Evaluate the model\n",
    "mape = model.evaluate(X_test, y_test)\n",
    "print(f'Model evaluates to: {mape}%')"
   ]
  },
  {
   "cell_type": "code",
   "execution_count": 46,
   "id": "c9d610d9",
   "metadata": {
    "lines_to_next_cell": 2
   },
   "outputs": [],
   "source": [
    "model.save('./saved_models/nn-12-3-24-15-00.keras')"
   ]
  }
 ],
 "metadata": {
  "jupytext": {
   "cell_metadata_filter": "-all",
   "main_language": "python",
   "notebook_metadata_filter": "-all"
  },
  "kernelspec": {
   "display_name": ".venv",
   "language": "python",
   "name": "python3"
  },
  "language_info": {
   "codemirror_mode": {
    "name": "ipython",
    "version": 3
   },
   "file_extension": ".py",
   "mimetype": "text/x-python",
   "name": "python",
   "nbconvert_exporter": "python",
   "pygments_lexer": "ipython3",
   "version": "3.11.2"
  }
 },
 "nbformat": 4,
 "nbformat_minor": 5
}
